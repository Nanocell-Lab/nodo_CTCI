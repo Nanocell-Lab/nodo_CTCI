{
 "cells": [
  {
   "cell_type": "code",
   "execution_count": 55,
   "metadata": {},
   "outputs": [],
   "source": [
    "# Read Original Database"
   ]
  },
  {
   "cell_type": "markdown",
   "metadata": {},
   "source": [
    "# ID: CTCI_031\n",
    "* Nombre: Base de datos para cruce ENI - I+D - ELE - TIC\n",
    "* Descripción: Datos para la construcción de una muestra de empresas que respondieron la Encuesta de Innovación en empresas (ENI) año de referencia 2017-2018, Encuesta anual sobre gasto y personal en Investigación y Desarrollo (I+D) año de referencia 2018, Encuesta Longitudinal de Empresas (ELE) año de referencia 2016-2017 y Encuesta de Acceso y Uso de Tecnología de Información y Comunicación (TIC) en Empresas año de referencia 2018. Este archivo se adjunta con una nota técnica que explica los alcances y limitaciones de los datos. Descubre sobre la I+D, innovación y otros en Chile y usa los datos para lo que necesites.\n",
    "* Última Actualización: 2021\n",
    "* Publicador: Ministerio de Ciencia, Tecnología, Conocimiento e Innovación\n",
    "* Categorías: Investigación y Desarrollo (I+D);Innovación y desarrollo de negocios;Formación y capital humano\n",
    "* Etiquetas: ENI 2017 - 2018"
   ]
  },
  {
   "cell_type": "code",
   "execution_count": 56,
   "metadata": {},
   "outputs": [],
   "source": [
    "import pandas as pd"
   ]
  },
  {
   "cell_type": "code",
   "execution_count": 57,
   "metadata": {},
   "outputs": [
    {
     "data": {
      "text/plain": [
       "dict_keys(['Resumen', 'Directorio_I+D', 'Directorio_ENI', 'Directorio_ELE', 'Directorio_TIC'])"
      ]
     },
     "execution_count": 57,
     "metadata": {},
     "output_type": "execute_result"
    }
   ],
   "source": [
    "df = pd.read_excel('../CTCI/original/2017-2018-ENI-2018-I-mas-D-2016-2017-ELE-base-de-datos-cruce-encuesta.xlsx', sheet_name=None)\n",
    "df.keys()"
   ]
  },
  {
   "cell_type": "code",
   "execution_count": 58,
   "metadata": {},
   "outputs": [
    {
     "name": "stdout",
     "output_type": "stream",
     "text": [
      "sheet: Resumen\n",
      "columns: ['Unnamed: 0', 'Unnamed: 1', 'Unnamed: 2', 'Unnamed: 3', 'Unnamed: 4']\n",
      "shape: (28, 5)\n",
      "sheet: Directorio_I+D\n",
      "columns: ['ID_B', 'ID_CRUCE']\n",
      "shape: (3448, 2)\n",
      "sheet: Directorio_ENI\n",
      "columns: ['ID_B', 'ID_CRUCE']\n",
      "shape: (5961, 2)\n",
      "sheet: Directorio_ELE\n",
      "columns: ['ID_Ficticio', 'ID_CRUCE']\n",
      "shape: (6480, 2)\n",
      "sheet: Directorio_TIC\n",
      "columns: ['ID_Ficticio', 'ID_CRUCE']\n",
      "shape: (3344, 2)\n"
     ]
    }
   ],
   "source": [
    "for key in df.keys():\n",
    "    print('sheet:', key)\n",
    "    print('columns:', list(df[key].columns))\n",
    "    print('shape:', df[key].shape)\n",
    "    "
   ]
  },
  {
   "cell_type": "code",
   "execution_count": 59,
   "metadata": {},
   "outputs": [
    {
     "name": "stdout",
     "output_type": "stream",
     "text": [
      "Directorio_I+D\n"
     ]
    },
    {
     "data": {
      "text/html": [
       "<div>\n",
       "<style scoped>\n",
       "    .dataframe tbody tr th:only-of-type {\n",
       "        vertical-align: middle;\n",
       "    }\n",
       "\n",
       "    .dataframe tbody tr th {\n",
       "        vertical-align: top;\n",
       "    }\n",
       "\n",
       "    .dataframe thead th {\n",
       "        text-align: right;\n",
       "    }\n",
       "</style>\n",
       "<table border=\"1\" class=\"dataframe\">\n",
       "  <thead>\n",
       "    <tr style=\"text-align: right;\">\n",
       "      <th></th>\n",
       "      <th>ID_B</th>\n",
       "      <th>ID_CRUCE</th>\n",
       "    </tr>\n",
       "  </thead>\n",
       "  <tbody>\n",
       "    <tr>\n",
       "      <th>count</th>\n",
       "      <td>3448.000000</td>\n",
       "      <td>3.448000e+03</td>\n",
       "    </tr>\n",
       "    <tr>\n",
       "      <th>mean</th>\n",
       "      <td>23490.497100</td>\n",
       "      <td>1.643730e+06</td>\n",
       "    </tr>\n",
       "    <tr>\n",
       "      <th>std</th>\n",
       "      <td>995.827678</td>\n",
       "      <td>9.078991e+05</td>\n",
       "    </tr>\n",
       "    <tr>\n",
       "      <th>min</th>\n",
       "      <td>21433.000000</td>\n",
       "      <td>1.000001e+06</td>\n",
       "    </tr>\n",
       "    <tr>\n",
       "      <th>25%</th>\n",
       "      <td>22628.750000</td>\n",
       "      <td>1.000863e+06</td>\n",
       "    </tr>\n",
       "    <tr>\n",
       "      <th>50%</th>\n",
       "      <td>23490.500000</td>\n",
       "      <td>1.001724e+06</td>\n",
       "    </tr>\n",
       "    <tr>\n",
       "      <th>75%</th>\n",
       "      <td>24352.250000</td>\n",
       "      <td>2.000483e+06</td>\n",
       "    </tr>\n",
       "    <tr>\n",
       "      <th>max</th>\n",
       "      <td>25215.000000</td>\n",
       "      <td>4.000154e+06</td>\n",
       "    </tr>\n",
       "  </tbody>\n",
       "</table>\n",
       "</div>"
      ],
      "text/plain": [
       "               ID_B      ID_CRUCE\n",
       "count   3448.000000  3.448000e+03\n",
       "mean   23490.497100  1.643730e+06\n",
       "std      995.827678  9.078991e+05\n",
       "min    21433.000000  1.000001e+06\n",
       "25%    22628.750000  1.000863e+06\n",
       "50%    23490.500000  1.001724e+06\n",
       "75%    24352.250000  2.000483e+06\n",
       "max    25215.000000  4.000154e+06"
      ]
     },
     "execution_count": 59,
     "metadata": {},
     "output_type": "execute_result"
    }
   ],
   "source": [
    "print(list(df.keys())[1])\n",
    "df[list(df.keys())[1]].describe()"
   ]
  },
  {
   "cell_type": "markdown",
   "metadata": {},
   "source": [
    "# ID: CTCI_030\n",
    "* Nombre: Mapeo de Instrumentos del Sistema CTCI vigentes (2020)\n",
    "* Descripción: Datos de los Instrumentos de apoyo público a la ciencia, tecnología, conocimiento e innovación, vigentes al año 2020, implementados por Anid, Corfo, FIA y la Subsecretaría CTCI.\n",
    "* Última Actualización: 2021\n",
    "* Publicador: Ministerio de Ciencia, Tecnología, Conocimiento e Innovación\n",
    "* Categorías: Programas públicos"
   ]
  },
  {
   "cell_type": "code",
   "execution_count": 60,
   "metadata": {},
   "outputs": [
    {
     "name": "stdout",
     "output_type": "stream",
     "text": [
      "columns: ['Instrumentos ', 'Agencia', 'Subdirección  o Gerencia', 'Pilar de Política Pública', 'Descripción', 'Año inicio', 'Duración máxima (meses)', 'Persona Natural', 'Persona Jurídica', 'IES', 'IPSFL', 'Empresa', 'Servicios Públicos', 'Regional', 'Género', 'Medioambiental', 'Nombre del Programa o Iniciativa ', 'Componente(s) ']\n",
      "shape: (83, 18)\n"
     ]
    }
   ],
   "source": [
    "df = pd.read_excel('../CTCI/original/2020-Mapeo-de-Instrumentos-mapa.xlsx', sheet_name='Mapa', skiprows=1)\n",
    "print('columns:', list(df.columns))\n",
    "print('shape:',df.shape)"
   ]
  },
  {
   "cell_type": "code",
   "execution_count": 61,
   "metadata": {},
   "outputs": [
    {
     "data": {
      "text/html": [
       "<div>\n",
       "<style scoped>\n",
       "    .dataframe tbody tr th:only-of-type {\n",
       "        vertical-align: middle;\n",
       "    }\n",
       "\n",
       "    .dataframe tbody tr th {\n",
       "        vertical-align: top;\n",
       "    }\n",
       "\n",
       "    .dataframe thead th {\n",
       "        text-align: right;\n",
       "    }\n",
       "</style>\n",
       "<table border=\"1\" class=\"dataframe\">\n",
       "  <thead>\n",
       "    <tr style=\"text-align: right;\">\n",
       "      <th></th>\n",
       "      <th>Instrumentos</th>\n",
       "      <th>Subdirección  o Gerencia</th>\n",
       "      <th>Pilar de Política Pública</th>\n",
       "      <th>Descripción</th>\n",
       "      <th>Año inicio</th>\n",
       "      <th>Duración máxima (meses)</th>\n",
       "      <th>Persona Natural</th>\n",
       "      <th>Persona Jurídica</th>\n",
       "      <th>IES</th>\n",
       "      <th>IPSFL</th>\n",
       "      <th>Empresa</th>\n",
       "      <th>Servicios Públicos</th>\n",
       "      <th>Regional</th>\n",
       "      <th>Género</th>\n",
       "      <th>Medioambiental</th>\n",
       "      <th>Nombre del Programa o Iniciativa</th>\n",
       "      <th>Componente(s)</th>\n",
       "    </tr>\n",
       "    <tr>\n",
       "      <th>Agencia</th>\n",
       "      <th></th>\n",
       "      <th></th>\n",
       "      <th></th>\n",
       "      <th></th>\n",
       "      <th></th>\n",
       "      <th></th>\n",
       "      <th></th>\n",
       "      <th></th>\n",
       "      <th></th>\n",
       "      <th></th>\n",
       "      <th></th>\n",
       "      <th></th>\n",
       "      <th></th>\n",
       "      <th></th>\n",
       "      <th></th>\n",
       "      <th></th>\n",
       "      <th></th>\n",
       "    </tr>\n",
       "  </thead>\n",
       "  <tbody>\n",
       "    <tr>\n",
       "      <th>ANID</th>\n",
       "      <td>45</td>\n",
       "      <td>45</td>\n",
       "      <td>45</td>\n",
       "      <td>45</td>\n",
       "      <td>45</td>\n",
       "      <td>45</td>\n",
       "      <td>23</td>\n",
       "      <td>26</td>\n",
       "      <td>23</td>\n",
       "      <td>20</td>\n",
       "      <td>5</td>\n",
       "      <td>6</td>\n",
       "      <td>19</td>\n",
       "      <td>29</td>\n",
       "      <td>13</td>\n",
       "      <td>44</td>\n",
       "      <td>38</td>\n",
       "    </tr>\n",
       "    <tr>\n",
       "      <th>CORFO</th>\n",
       "      <td>21</td>\n",
       "      <td>21</td>\n",
       "      <td>21</td>\n",
       "      <td>21</td>\n",
       "      <td>21</td>\n",
       "      <td>21</td>\n",
       "      <td>1</td>\n",
       "      <td>20</td>\n",
       "      <td>9</td>\n",
       "      <td>6</td>\n",
       "      <td>13</td>\n",
       "      <td>2</td>\n",
       "      <td>7</td>\n",
       "      <td>10</td>\n",
       "      <td>4</td>\n",
       "      <td>20</td>\n",
       "      <td>21</td>\n",
       "    </tr>\n",
       "    <tr>\n",
       "      <th>FIA</th>\n",
       "      <td>8</td>\n",
       "      <td>8</td>\n",
       "      <td>8</td>\n",
       "      <td>8</td>\n",
       "      <td>8</td>\n",
       "      <td>8</td>\n",
       "      <td>2</td>\n",
       "      <td>6</td>\n",
       "      <td>5</td>\n",
       "      <td>5</td>\n",
       "      <td>6</td>\n",
       "      <td>0</td>\n",
       "      <td>1</td>\n",
       "      <td>0</td>\n",
       "      <td>4</td>\n",
       "      <td>8</td>\n",
       "      <td>8</td>\n",
       "    </tr>\n",
       "    <tr>\n",
       "      <th>Subsecretaría CTCI</th>\n",
       "      <td>9</td>\n",
       "      <td>9</td>\n",
       "      <td>9</td>\n",
       "      <td>9</td>\n",
       "      <td>9</td>\n",
       "      <td>9</td>\n",
       "      <td>8</td>\n",
       "      <td>2</td>\n",
       "      <td>2</td>\n",
       "      <td>1</td>\n",
       "      <td>1</td>\n",
       "      <td>0</td>\n",
       "      <td>9</td>\n",
       "      <td>2</td>\n",
       "      <td>0</td>\n",
       "      <td>9</td>\n",
       "      <td>9</td>\n",
       "    </tr>\n",
       "  </tbody>\n",
       "</table>\n",
       "</div>"
      ],
      "text/plain": [
       "                    Instrumentos   Subdirección  o Gerencia  \\\n",
       "Agencia                                                       \n",
       "ANID                           45                        45   \n",
       "CORFO                          21                        21   \n",
       "FIA                             8                         8   \n",
       "Subsecretaría CTCI              9                         9   \n",
       "\n",
       "                    Pilar de Política Pública  Descripción  Año inicio  \\\n",
       "Agencia                                                                  \n",
       "ANID                                       45           45          45   \n",
       "CORFO                                      21           21          21   \n",
       "FIA                                         8            8           8   \n",
       "Subsecretaría CTCI                          9            9           9   \n",
       "\n",
       "                    Duración máxima (meses)  Persona Natural  \\\n",
       "Agencia                                                        \n",
       "ANID                                     45               23   \n",
       "CORFO                                    21                1   \n",
       "FIA                                       8                2   \n",
       "Subsecretaría CTCI                        9                8   \n",
       "\n",
       "                    Persona Jurídica  IES  IPSFL  Empresa  Servicios Públicos  \\\n",
       "Agencia                                                                         \n",
       "ANID                              26   23     20        5                   6   \n",
       "CORFO                             20    9      6       13                   2   \n",
       "FIA                                6    5      5        6                   0   \n",
       "Subsecretaría CTCI                 2    2      1        1                   0   \n",
       "\n",
       "                    Regional  Género  Medioambiental  \\\n",
       "Agencia                                                \n",
       "ANID                      19      29              13   \n",
       "CORFO                      7      10               4   \n",
       "FIA                        1       0               4   \n",
       "Subsecretaría CTCI         9       2               0   \n",
       "\n",
       "                    Nombre del Programa o Iniciativa   Componente(s)   \n",
       "Agencia                                                                \n",
       "ANID                                               44              38  \n",
       "CORFO                                              20              21  \n",
       "FIA                                                 8               8  \n",
       "Subsecretaría CTCI                                  9               9  "
      ]
     },
     "execution_count": 61,
     "metadata": {},
     "output_type": "execute_result"
    }
   ],
   "source": [
    "df.groupby('Agencia').count()"
   ]
  },
  {
   "cell_type": "code",
   "execution_count": 62,
   "metadata": {},
   "outputs": [
    {
     "data": {
      "text/html": [
       "<div>\n",
       "<style scoped>\n",
       "    .dataframe tbody tr th:only-of-type {\n",
       "        vertical-align: middle;\n",
       "    }\n",
       "\n",
       "    .dataframe tbody tr th {\n",
       "        vertical-align: top;\n",
       "    }\n",
       "\n",
       "    .dataframe thead th {\n",
       "        text-align: right;\n",
       "    }\n",
       "</style>\n",
       "<table border=\"1\" class=\"dataframe\">\n",
       "  <thead>\n",
       "    <tr style=\"text-align: right;\">\n",
       "      <th></th>\n",
       "      <th>Instrumentos</th>\n",
       "      <th>Agencia</th>\n",
       "      <th>Pilar de Política Pública</th>\n",
       "      <th>Descripción</th>\n",
       "      <th>Año inicio</th>\n",
       "      <th>Duración máxima (meses)</th>\n",
       "      <th>Persona Natural</th>\n",
       "      <th>Persona Jurídica</th>\n",
       "      <th>IES</th>\n",
       "      <th>IPSFL</th>\n",
       "      <th>Empresa</th>\n",
       "      <th>Servicios Públicos</th>\n",
       "      <th>Regional</th>\n",
       "      <th>Género</th>\n",
       "      <th>Medioambiental</th>\n",
       "      <th>Nombre del Programa o Iniciativa</th>\n",
       "      <th>Componente(s)</th>\n",
       "    </tr>\n",
       "    <tr>\n",
       "      <th>Subdirección  o Gerencia</th>\n",
       "      <th></th>\n",
       "      <th></th>\n",
       "      <th></th>\n",
       "      <th></th>\n",
       "      <th></th>\n",
       "      <th></th>\n",
       "      <th></th>\n",
       "      <th></th>\n",
       "      <th></th>\n",
       "      <th></th>\n",
       "      <th></th>\n",
       "      <th></th>\n",
       "      <th></th>\n",
       "      <th></th>\n",
       "      <th></th>\n",
       "      <th></th>\n",
       "      <th></th>\n",
       "    </tr>\n",
       "  </thead>\n",
       "  <tbody>\n",
       "    <tr>\n",
       "      <th>Capacidades Tecnológicas</th>\n",
       "      <td>12</td>\n",
       "      <td>12</td>\n",
       "      <td>12</td>\n",
       "      <td>12</td>\n",
       "      <td>12</td>\n",
       "      <td>12</td>\n",
       "      <td>1</td>\n",
       "      <td>11</td>\n",
       "      <td>9</td>\n",
       "      <td>5</td>\n",
       "      <td>4</td>\n",
       "      <td>2</td>\n",
       "      <td>5</td>\n",
       "      <td>1</td>\n",
       "      <td>0</td>\n",
       "      <td>11</td>\n",
       "      <td>12</td>\n",
       "    </tr>\n",
       "    <tr>\n",
       "      <th>Capital Humano</th>\n",
       "      <td>10</td>\n",
       "      <td>10</td>\n",
       "      <td>10</td>\n",
       "      <td>10</td>\n",
       "      <td>10</td>\n",
       "      <td>10</td>\n",
       "      <td>10</td>\n",
       "      <td>0</td>\n",
       "      <td>0</td>\n",
       "      <td>0</td>\n",
       "      <td>0</td>\n",
       "      <td>0</td>\n",
       "      <td>8</td>\n",
       "      <td>8</td>\n",
       "      <td>1</td>\n",
       "      <td>10</td>\n",
       "      <td>9</td>\n",
       "    </tr>\n",
       "    <tr>\n",
       "      <th>Centros</th>\n",
       "      <td>10</td>\n",
       "      <td>10</td>\n",
       "      <td>10</td>\n",
       "      <td>10</td>\n",
       "      <td>10</td>\n",
       "      <td>10</td>\n",
       "      <td>1</td>\n",
       "      <td>9</td>\n",
       "      <td>8</td>\n",
       "      <td>7</td>\n",
       "      <td>1</td>\n",
       "      <td>2</td>\n",
       "      <td>7</td>\n",
       "      <td>8</td>\n",
       "      <td>5</td>\n",
       "      <td>10</td>\n",
       "      <td>10</td>\n",
       "    </tr>\n",
       "    <tr>\n",
       "      <th>División de Ciencia y Sociedad</th>\n",
       "      <td>8</td>\n",
       "      <td>8</td>\n",
       "      <td>8</td>\n",
       "      <td>8</td>\n",
       "      <td>8</td>\n",
       "      <td>8</td>\n",
       "      <td>8</td>\n",
       "      <td>1</td>\n",
       "      <td>1</td>\n",
       "      <td>1</td>\n",
       "      <td>1</td>\n",
       "      <td>0</td>\n",
       "      <td>8</td>\n",
       "      <td>1</td>\n",
       "      <td>0</td>\n",
       "      <td>8</td>\n",
       "      <td>8</td>\n",
       "    </tr>\n",
       "    <tr>\n",
       "      <th>División de Política y Articulación</th>\n",
       "      <td>1</td>\n",
       "      <td>1</td>\n",
       "      <td>1</td>\n",
       "      <td>1</td>\n",
       "      <td>1</td>\n",
       "      <td>1</td>\n",
       "      <td>0</td>\n",
       "      <td>1</td>\n",
       "      <td>1</td>\n",
       "      <td>0</td>\n",
       "      <td>0</td>\n",
       "      <td>0</td>\n",
       "      <td>1</td>\n",
       "      <td>1</td>\n",
       "      <td>0</td>\n",
       "      <td>1</td>\n",
       "      <td>1</td>\n",
       "    </tr>\n",
       "    <tr>\n",
       "      <th>FIA</th>\n",
       "      <td>8</td>\n",
       "      <td>8</td>\n",
       "      <td>8</td>\n",
       "      <td>8</td>\n",
       "      <td>8</td>\n",
       "      <td>8</td>\n",
       "      <td>2</td>\n",
       "      <td>6</td>\n",
       "      <td>5</td>\n",
       "      <td>5</td>\n",
       "      <td>6</td>\n",
       "      <td>0</td>\n",
       "      <td>1</td>\n",
       "      <td>0</td>\n",
       "      <td>4</td>\n",
       "      <td>8</td>\n",
       "      <td>8</td>\n",
       "    </tr>\n",
       "    <tr>\n",
       "      <th>Innova</th>\n",
       "      <td>9</td>\n",
       "      <td>9</td>\n",
       "      <td>9</td>\n",
       "      <td>9</td>\n",
       "      <td>9</td>\n",
       "      <td>9</td>\n",
       "      <td>0</td>\n",
       "      <td>9</td>\n",
       "      <td>0</td>\n",
       "      <td>1</td>\n",
       "      <td>9</td>\n",
       "      <td>0</td>\n",
       "      <td>2</td>\n",
       "      <td>9</td>\n",
       "      <td>4</td>\n",
       "      <td>9</td>\n",
       "      <td>9</td>\n",
       "    </tr>\n",
       "    <tr>\n",
       "      <th>Investigación Aplicada</th>\n",
       "      <td>6</td>\n",
       "      <td>6</td>\n",
       "      <td>6</td>\n",
       "      <td>6</td>\n",
       "      <td>6</td>\n",
       "      <td>6</td>\n",
       "      <td>1</td>\n",
       "      <td>5</td>\n",
       "      <td>5</td>\n",
       "      <td>5</td>\n",
       "      <td>0</td>\n",
       "      <td>1</td>\n",
       "      <td>1</td>\n",
       "      <td>0</td>\n",
       "      <td>5</td>\n",
       "      <td>6</td>\n",
       "      <td>6</td>\n",
       "    </tr>\n",
       "    <tr>\n",
       "      <th>Proyectos de Investigación</th>\n",
       "      <td>3</td>\n",
       "      <td>3</td>\n",
       "      <td>3</td>\n",
       "      <td>3</td>\n",
       "      <td>3</td>\n",
       "      <td>3</td>\n",
       "      <td>3</td>\n",
       "      <td>0</td>\n",
       "      <td>0</td>\n",
       "      <td>0</td>\n",
       "      <td>0</td>\n",
       "      <td>0</td>\n",
       "      <td>0</td>\n",
       "      <td>3</td>\n",
       "      <td>0</td>\n",
       "      <td>3</td>\n",
       "      <td>3</td>\n",
       "    </tr>\n",
       "    <tr>\n",
       "      <th>REC</th>\n",
       "      <td>16</td>\n",
       "      <td>16</td>\n",
       "      <td>16</td>\n",
       "      <td>16</td>\n",
       "      <td>16</td>\n",
       "      <td>16</td>\n",
       "      <td>8</td>\n",
       "      <td>12</td>\n",
       "      <td>10</td>\n",
       "      <td>8</td>\n",
       "      <td>4</td>\n",
       "      <td>3</td>\n",
       "      <td>3</td>\n",
       "      <td>10</td>\n",
       "      <td>2</td>\n",
       "      <td>15</td>\n",
       "      <td>10</td>\n",
       "    </tr>\n",
       "  </tbody>\n",
       "</table>\n",
       "</div>"
      ],
      "text/plain": [
       "                                     Instrumentos   Agencia  \\\n",
       "Subdirección  o Gerencia                                      \n",
       "Capacidades Tecnológicas                        12       12   \n",
       "Capital Humano                                  10       10   \n",
       "Centros                                         10       10   \n",
       "División de Ciencia y Sociedad                   8        8   \n",
       "División de Política y Articulación              1        1   \n",
       "FIA                                              8        8   \n",
       "Innova                                           9        9   \n",
       "Investigación Aplicada                           6        6   \n",
       "Proyectos de Investigación                       3        3   \n",
       "REC                                             16       16   \n",
       "\n",
       "                                     Pilar de Política Pública  Descripción  \\\n",
       "Subdirección  o Gerencia                                                      \n",
       "Capacidades Tecnológicas                                    12           12   \n",
       "Capital Humano                                              10           10   \n",
       "Centros                                                     10           10   \n",
       "División de Ciencia y Sociedad                               8            8   \n",
       "División de Política y Articulación                          1            1   \n",
       "FIA                                                          8            8   \n",
       "Innova                                                       9            9   \n",
       "Investigación Aplicada                                       6            6   \n",
       "Proyectos de Investigación                                   3            3   \n",
       "REC                                                         16           16   \n",
       "\n",
       "                                     Año inicio  Duración máxima (meses)  \\\n",
       "Subdirección  o Gerencia                                                   \n",
       "Capacidades Tecnológicas                     12                       12   \n",
       "Capital Humano                               10                       10   \n",
       "Centros                                      10                       10   \n",
       "División de Ciencia y Sociedad                8                        8   \n",
       "División de Política y Articulación           1                        1   \n",
       "FIA                                           8                        8   \n",
       "Innova                                        9                        9   \n",
       "Investigación Aplicada                        6                        6   \n",
       "Proyectos de Investigación                    3                        3   \n",
       "REC                                          16                       16   \n",
       "\n",
       "                                     Persona Natural  Persona Jurídica  IES  \\\n",
       "Subdirección  o Gerencia                                                      \n",
       "Capacidades Tecnológicas                           1                11    9   \n",
       "Capital Humano                                    10                 0    0   \n",
       "Centros                                            1                 9    8   \n",
       "División de Ciencia y Sociedad                     8                 1    1   \n",
       "División de Política y Articulación                0                 1    1   \n",
       "FIA                                                2                 6    5   \n",
       "Innova                                             0                 9    0   \n",
       "Investigación Aplicada                             1                 5    5   \n",
       "Proyectos de Investigación                         3                 0    0   \n",
       "REC                                                8                12   10   \n",
       "\n",
       "                                     IPSFL  Empresa  Servicios Públicos  \\\n",
       "Subdirección  o Gerencia                                                  \n",
       "Capacidades Tecnológicas                 5        4                   2   \n",
       "Capital Humano                           0        0                   0   \n",
       "Centros                                  7        1                   2   \n",
       "División de Ciencia y Sociedad           1        1                   0   \n",
       "División de Política y Articulación      0        0                   0   \n",
       "FIA                                      5        6                   0   \n",
       "Innova                                   1        9                   0   \n",
       "Investigación Aplicada                   5        0                   1   \n",
       "Proyectos de Investigación               0        0                   0   \n",
       "REC                                      8        4                   3   \n",
       "\n",
       "                                     Regional  Género  Medioambiental  \\\n",
       "Subdirección  o Gerencia                                                \n",
       "Capacidades Tecnológicas                    5       1               0   \n",
       "Capital Humano                              8       8               1   \n",
       "Centros                                     7       8               5   \n",
       "División de Ciencia y Sociedad              8       1               0   \n",
       "División de Política y Articulación         1       1               0   \n",
       "FIA                                         1       0               4   \n",
       "Innova                                      2       9               4   \n",
       "Investigación Aplicada                      1       0               5   \n",
       "Proyectos de Investigación                  0       3               0   \n",
       "REC                                         3      10               2   \n",
       "\n",
       "                                     Nombre del Programa o Iniciativa   \\\n",
       "Subdirección  o Gerencia                                                 \n",
       "Capacidades Tecnológicas                                            11   \n",
       "Capital Humano                                                      10   \n",
       "Centros                                                             10   \n",
       "División de Ciencia y Sociedad                                       8   \n",
       "División de Política y Articulación                                  1   \n",
       "FIA                                                                  8   \n",
       "Innova                                                               9   \n",
       "Investigación Aplicada                                               6   \n",
       "Proyectos de Investigación                                           3   \n",
       "REC                                                                 15   \n",
       "\n",
       "                                     Componente(s)   \n",
       "Subdirección  o Gerencia                             \n",
       "Capacidades Tecnológicas                         12  \n",
       "Capital Humano                                    9  \n",
       "Centros                                          10  \n",
       "División de Ciencia y Sociedad                    8  \n",
       "División de Política y Articulación               1  \n",
       "FIA                                               8  \n",
       "Innova                                            9  \n",
       "Investigación Aplicada                            6  \n",
       "Proyectos de Investigación                        3  \n",
       "REC                                              10  "
      ]
     },
     "execution_count": 62,
     "metadata": {},
     "output_type": "execute_result"
    }
   ],
   "source": [
    "df.groupby('Subdirección  o Gerencia').count()"
   ]
  },
  {
   "cell_type": "code",
   "execution_count": 63,
   "metadata": {},
   "outputs": [],
   "source": [
    "import altair as alt"
   ]
  },
  {
   "cell_type": "code",
   "execution_count": 64,
   "metadata": {},
   "outputs": [
    {
     "data": {
      "text/html": [
       "\n",
       "<div id=\"altair-viz-2bd10b9fafa849e68ca4afdf90609ff9\"></div>\n",
       "<script type=\"text/javascript\">\n",
       "  (function(spec, embedOpt){\n",
       "    let outputDiv = document.currentScript.previousElementSibling;\n",
       "    if (outputDiv.id !== \"altair-viz-2bd10b9fafa849e68ca4afdf90609ff9\") {\n",
       "      outputDiv = document.getElementById(\"altair-viz-2bd10b9fafa849e68ca4afdf90609ff9\");\n",
       "    }\n",
       "    const paths = {\n",
       "      \"vega\": \"https://cdn.jsdelivr.net/npm//vega@5?noext\",\n",
       "      \"vega-lib\": \"https://cdn.jsdelivr.net/npm//vega-lib?noext\",\n",
       "      \"vega-lite\": \"https://cdn.jsdelivr.net/npm//vega-lite@4.8.1?noext\",\n",
       "      \"vega-embed\": \"https://cdn.jsdelivr.net/npm//vega-embed@6?noext\",\n",
       "    };\n",
       "\n",
       "    function loadScript(lib) {\n",
       "      return new Promise(function(resolve, reject) {\n",
       "        var s = document.createElement('script');\n",
       "        s.src = paths[lib];\n",
       "        s.async = true;\n",
       "        s.onload = () => resolve(paths[lib]);\n",
       "        s.onerror = () => reject(`Error loading script: ${paths[lib]}`);\n",
       "        document.getElementsByTagName(\"head\")[0].appendChild(s);\n",
       "      });\n",
       "    }\n",
       "\n",
       "    function showError(err) {\n",
       "      outputDiv.innerHTML = `<div class=\"error\" style=\"color:red;\">${err}</div>`;\n",
       "      throw err;\n",
       "    }\n",
       "\n",
       "    function displayChart(vegaEmbed) {\n",
       "      vegaEmbed(outputDiv, spec, embedOpt)\n",
       "        .catch(err => showError(`Javascript Error: ${err.message}<br>This usually means there's a typo in your chart specification. See the javascript console for the full traceback.`));\n",
       "    }\n",
       "\n",
       "    if(typeof define === \"function\" && define.amd) {\n",
       "      requirejs.config({paths});\n",
       "      require([\"vega-embed\"], displayChart, err => showError(`Error loading script: ${err.message}`));\n",
       "    } else if (typeof vegaEmbed === \"function\") {\n",
       "      displayChart(vegaEmbed);\n",
       "    } else {\n",
       "      loadScript(\"vega\")\n",
       "        .then(() => loadScript(\"vega-lite\"))\n",
       "        .then(() => loadScript(\"vega-embed\"))\n",
       "        .catch(showError)\n",
       "        .then(() => displayChart(vegaEmbed));\n",
       "    }\n",
       "  })({\"config\": {\"view\": {\"continuousWidth\": 400, \"continuousHeight\": 300}}, \"data\": {\"name\": \"data-1ddf01e2f4f403cff435a4b41af5824b\"}, \"mark\": {\"type\": \"bar\", \"color\": \"seagreen\", \"opacity\": 0.6}, \"encoding\": {\"x\": {\"type\": \"nominal\", \"field\": \"Subdirecci\\u00f3n  o Gerencia\"}, \"y\": {\"type\": \"quantitative\", \"aggregate\": \"count\", \"field\": \"Subdirecci\\u00f3n  o Gerencia\", \"scale\": {\"type\": \"linear\"}}}, \"height\": 600, \"title\": \"Peptides Organisms Sources\", \"width\": 600, \"$schema\": \"https://vega.github.io/schema/vega-lite/v4.8.1.json\", \"datasets\": {\"data-1ddf01e2f4f403cff435a4b41af5824b\": [{\"Instrumentos \": \"FONDECYT Iniciaci\\u00f3n en Investigaci\\u00f3n\", \"Agencia\": \"ANID\", \"Subdirecci\\u00f3n  o Gerencia\": \"Proyectos de Investigaci\\u00f3n\", \"Pilar de Pol\\u00edtica P\\u00fablica\": \"Proyectos de Investigaci\\u00f3n\", \"Descripci\\u00f3n\": \"Financiamiento de proyectos de investigaci\\u00f3n a investigadores(as) j\\u00f3venes con el apoyo de una instituci\\u00f3n patrocinante, buscando incrementar la cantidad y calidad de la investigaci\\u00f3n b\\u00e1sica en Ciencia y Tecnolog\\u00eda en todas las \\u00e1reas de conocimiento realizada en Chile.\", \"A\\u00f1o inicio\": 2006, \"Duraci\\u00f3n m\\u00e1xima (meses)\": \"24-36\", \"Persona Natural\": \"\\u2713\", \"Persona Jur\\u00eddica\": null, \"IES\": null, \"IPSFL\": null, \"Empresa\": null, \"Servicios P\\u00fablicos\": null, \"Regional\": null, \"G\\u00e9nero\": \"Consideraciones por maternidad tales como pre natal, post natal y adopci\\u00f3n o tuici\\u00f3n de menores, per\\u00edodo adicional para evaluaci\\u00f3n de producci\\u00f3n cient\\u00edfica y obtenci\\u00f3nn de grado, extensi\\u00f3n de per\\u00edodo de t\\u00e9rmino de proyecto. Criterio de desempate favorable a g\\u00e9nero menos representado.\", \"Medioambiental\": null, \"Nombre del Programa o Iniciativa \": \"Fondo Nacional de Desarrollo Cient\\u00edfico y Tecnol\\u00f3gico (FONDECYT)\", \"Componente(s) \": \"Proyectos individuales de investigaci\\u00f3n financiados para impulsar la participaci\\u00f3n de nuevos investigadores en la generaci\\u00f3n de conocimiento cient\\u00edfico y tecnol\\u00f3gico.\"}, {\"Instrumentos \": \"FONDECYT Postdoctorado\", \"Agencia\": \"ANID\", \"Subdirecci\\u00f3n  o Gerencia\": \"Proyectos de Investigaci\\u00f3n\", \"Pilar de Pol\\u00edtica P\\u00fablica\": \"Proyectos de Investigaci\\u00f3n\", \"Descripci\\u00f3n\": \"Financiamiento de proyectos de investigaci\\u00f3n a investigadores(as) con grado acad\\u00e9mico de doctor(a) y con el apoyo de una instituci\\u00f3n patrocinante, buscando incrementar la cantidad y calidad de la investigaci\\u00f3n b\\u00e1sica en Ciencia y Tecnolog\\u00eda en todas las \\u00e1reas de conocimiento realizada en Chile.\", \"A\\u00f1o inicio\": 1991, \"Duraci\\u00f3n m\\u00e1xima (meses)\": \"24-36\", \"Persona Natural\": \"\\u2713\", \"Persona Jur\\u00eddica\": null, \"IES\": null, \"IPSFL\": null, \"Empresa\": null, \"Servicios P\\u00fablicos\": null, \"Regional\": null, \"G\\u00e9nero\": \"Consideraciones por maternidad tales como pre natal, post natal y adopci\\u00f3n o tuici\\u00f3n de menores, per\\u00edodo adicional para evaluaci\\u00f3n de producci\\u00f3n cient\\u00edfica y obtenci\\u00f3nn de grado, extensi\\u00f3n de per\\u00edodo de t\\u00e9rmino de proyecto. Criterio de desempate favorable a g\\u00e9nero menos representado.\", \"Medioambiental\": null, \"Nombre del Programa o Iniciativa \": \"Fondo Nacional de Desarrollo Cient\\u00edfico y Tecnol\\u00f3gico (FONDECYT)\", \"Componente(s) \": \"Proyectos individuales de investigaci\\u00f3n financiados para impulsar la participaci\\u00f3n de nuevos investigadores en la generaci\\u00f3n de conocimiento cient\\u00edfico y tecnol\\u00f3gico.\"}, {\"Instrumentos \": \"FONDECYT Regular\", \"Agencia\": \"ANID\", \"Subdirecci\\u00f3n  o Gerencia\": \"Proyectos de Investigaci\\u00f3n\", \"Pilar de Pol\\u00edtica P\\u00fablica\": \"Proyectos de Investigaci\\u00f3n\", \"Descripci\\u00f3n\": \"Financiamiento de proyectos de investigaci\\u00f3n a investigadores(as) de trayectoria con el apoyo de una instituci\\u00f3n patrocinante, buscando incrementar la cantidad y calidad de la investigaci\\u00f3n b\\u00e1sica en Ciencia y Tecnolog\\u00eda en todas las \\u00e1reas de conocimiento realizada en Chile.\", \"A\\u00f1o inicio\": 1982, \"Duraci\\u00f3n m\\u00e1xima (meses)\": \"24-48\", \"Persona Natural\": \"\\u2713\", \"Persona Jur\\u00eddica\": null, \"IES\": null, \"IPSFL\": null, \"Empresa\": null, \"Servicios P\\u00fablicos\": null, \"Regional\": null, \"G\\u00e9nero\": \"Consideraciones por maternidad tales como pre natal, post natal y adopci\\u00f3n o tuici\\u00f3n de menores, per\\u00edodo adicional para evaluaci\\u00f3n de producci\\u00f3n cient\\u00edfica, extensi\\u00f3n de per\\u00edodo de t\\u00e9rmino de proyecto. Criterio de desempate favorable a g\\u00e9nero menos representado.\", \"Medioambiental\": null, \"Nombre del Programa o Iniciativa \": \"Fondo Nacional de Desarrollo Cient\\u00edfico y Tecnol\\u00f3gico (FONDECYT)\", \"Componente(s) \": \"Proyectos individuales de investigaci\\u00f3n b\\u00e1sica de calidad, realizada por investigadores de mayor m\\u00e9rito y trayectoria\"}, {\"Instrumentos \": \"Becas Nacionales - Doctorado\", \"Agencia\": \"ANID\", \"Subdirecci\\u00f3n  o Gerencia\": \"Capital Humano\", \"Pilar de Pol\\u00edtica P\\u00fablica\": \"Capital Humano\", \"Descripci\\u00f3n\": \"Beca para estudios de doctorado en Chile, dirigido a estudiantes de excelencia, chilenos/as o extranjeros, con o sin permanencia definitiva en Chile, en todas las \\u00e1reas del conocimiento, para iniciar o continuar en programas acreditados e impartidos por universidades chilenas, por un plazo m\\u00e1ximo de cuatro a\\u00f1os; considera tambi\\u00e9n aprobaci\\u00f3n de beneficios complementarios tales como, pasant\\u00eda y cotutela doctoral, gastos operacionales, extensi\\u00f3n del per\\u00edodo.\", \"A\\u00f1o inicio\": 2000, \"Duraci\\u00f3n m\\u00e1xima (meses)\": 48, \"Persona Natural\": \"\\u2713\", \"Persona Jur\\u00eddica\": null, \"IES\": null, \"IPSFL\": null, \"Empresa\": null, \"Servicios P\\u00fablicos\": null, \"Regional\": \"Aumento en puntaje de evaluaci\\u00f3n si la regi\\u00f3n de residencia del postulante es distinta a la Metropolitana en: escolaridad (educaci\\u00f3n b\\u00e1sica o media), universidad de origen y/o universidad de destino.\", \"G\\u00e9nero\": \"Consideraciones por maternidad tales como asignaci\\u00f3n para menores de 18 a\\u00f1os, pre y post natal\", \"Medioambiental\": null, \"Nombre del Programa o Iniciativa \": \"Becas Nacionales de Postgrado\", \"Componente(s) \": \"Becas para Estudio de Doctorado en Chile\"}, {\"Instrumentos \": \"Becas Nacionales - Magister\", \"Agencia\": \"ANID\", \"Subdirecci\\u00f3n  o Gerencia\": \"Capital Humano\", \"Pilar de Pol\\u00edtica P\\u00fablica\": \"Capital Humano\", \"Descripci\\u00f3n\": \"Beca para estudios de mag\\u00edster en Chile, dirigido a estudiantes de excelencia, chilenos/as o extranjeros con permanencia definitiva en Chile, para iniciar o continuar en programas acreditados e impartidos por universidades chilenas, por un plazo m\\u00e1ximo de dos a\\u00f1os.\", \"A\\u00f1o inicio\": 2000, \"Duraci\\u00f3n m\\u00e1xima (meses)\": 24, \"Persona Natural\": \"\\u2713\", \"Persona Jur\\u00eddica\": null, \"IES\": null, \"IPSFL\": null, \"Empresa\": null, \"Servicios P\\u00fablicos\": null, \"Regional\": \"Aumento en puntaje de evaluaci\\u00f3n si la regi\\u00f3n de residencia del postulante es distinta a la Metropolitana en: escolaridad (educaci\\u00f3n b\\u00e1sica o media), universidad de origen y/o universidad de destino.\", \"G\\u00e9nero\": \"Consideraciones por maternidad tales como asignaci\\u00f3n para menores de 18 a\\u00f1os, pre y post natal\", \"Medioambiental\": null, \"Nombre del Programa o Iniciativa \": \"Becas Nacionales de Postgrado\", \"Componente(s) \": \"Becas para Estudios de Mag\\u00edster en Chile\"}, {\"Instrumentos \": \"Becas Nacionales - Magister Funcionarios P\\u00fablicos\", \"Agencia\": \"ANID\", \"Subdirecci\\u00f3n  o Gerencia\": \"Capital Humano\", \"Pilar de Pol\\u00edtica P\\u00fablica\": \"Capital Humano\", \"Descripci\\u00f3n\": \"Beca para estudios de mag\\u00edster en Chile, dirigido a funcionarios(as) de la Administraci\\u00f3n del Estado, que posean excelencia acad\\u00e9mica, para iniciar o continuar en programas acreditados e impartidos por universidades chilenas, por un plazo m\\u00e1ximo de dos a\\u00f1os.\", \"A\\u00f1o inicio\": 2000, \"Duraci\\u00f3n m\\u00e1xima (meses)\": 24, \"Persona Natural\": \"\\u2713\", \"Persona Jur\\u00eddica\": null, \"IES\": null, \"IPSFL\": null, \"Empresa\": null, \"Servicios P\\u00fablicos\": null, \"Regional\": null, \"G\\u00e9nero\": null, \"Medioambiental\": null, \"Nombre del Programa o Iniciativa \": \"Becas Nacionales de Postgrado\", \"Componente(s) \": \"Otros Concursos de Becas Postgrado Nacional (Mg.FFPP; Mg.Prof.Educ; etc.)\"}, {\"Instrumentos \": \"Becas Nacionales - Magister Profesionales de la Educaci\\u00f3n\", \"Agencia\": \"ANID\", \"Subdirecci\\u00f3n  o Gerencia\": \"Capital Humano\", \"Pilar de Pol\\u00edtica P\\u00fablica\": \"Capital Humano\", \"Descripci\\u00f3n\": \"Beca para estudios de mag\\u00edster en Chile, dirigido a Profesionales de la Educaci\\u00f3n, que posean excelencia acad\\u00e9mica, para iniciar o continuar en programas acreditados e impartidos por universidades chilenas, por un plazo m\\u00e1ximo de dos a\\u00f1os.\", \"A\\u00f1o inicio\": 2000, \"Duraci\\u00f3n m\\u00e1xima (meses)\": 24, \"Persona Natural\": \"\\u2713\", \"Persona Jur\\u00eddica\": null, \"IES\": null, \"IPSFL\": null, \"Empresa\": null, \"Servicios P\\u00fablicos\": null, \"Regional\": \"Aumento en puntaje de evaluaci\\u00f3n si se acredita la obtenci\\u00f3n de licenciatura o t\\u00edtulo profesional en una regi\\u00f3n distinta a la RM.\", \"G\\u00e9nero\": \"Consideraciones por maternidad tales como asignaci\\u00f3n para menores de 18 a\\u00f1os, pre y post natal\", \"Medioambiental\": null, \"Nombre del Programa o Iniciativa \": \"Becas Nacionales de Postgrado\", \"Componente(s) \": \"Otros Concursos de Becas Postgrado Nacional (Mg.FFPP; Mg.Prof.Educ; etc.)\"}, {\"Instrumentos \": \"Becas Chile - Magister\", \"Agencia\": \"ANID\", \"Subdirecci\\u00f3n  o Gerencia\": \"Capital Humano\", \"Pilar de Pol\\u00edtica P\\u00fablica\": \"Capital Humano\", \"Descripci\\u00f3n\": \"Beca para estudios de mag\\u00edster en el extranjero, dirigido a estudiantes de excelencia con permanencia definitiva en Chile, para iniciar o continuar estudios en instituciones de excelencia en el exterior por un plazo m\\u00e1ximo de dos a\\u00f1os, en todas las \\u00e1reas del conocimiento, o bien a trav\\u00e9s de concursos en \\u00e1reas establecidas como prioritarias para el pa\\u00eds, tales como Recursos H\\u00eddricos, Transformaci\\u00f3n Digital y Resilencia ante Desastres Naturales. Cuenta con conconcurso destinado a personas en situaci\\u00f3n de discapacidad.\", \"A\\u00f1o inicio\": 2002, \"Duraci\\u00f3n m\\u00e1xima (meses)\": 24, \"Persona Natural\": \"\\u2713\", \"Persona Jur\\u00eddica\": null, \"IES\": null, \"IPSFL\": null, \"Empresa\": null, \"Servicios P\\u00fablicos\": null, \"Regional\": \"Aumento en puntaje de evaluaci\\u00f3n si se acredita la obtenci\\u00f3n de licenciatura o t\\u00edtulo profesional en una regi\\u00f3n distinta a la RM. Retribuci\\u00f3n: residentes de regiones deben acreditar su permanencia en Chile por mitad de tiempo respecto a residentes de la RM.\", \"G\\u00e9nero\": \"Consideraciones por maternidad tales como asignaci\\u00f3n para menores de 18 a\\u00f1os, pre y post natal\", \"Medioambiental\": \"Considera en una de sus versiones como \\u00e1rea prioritaria Recursos H\\u00eddricos.\", \"Nombre del Programa o Iniciativa \": \"Becas Chile\", \"Componente(s) \": \"Concurso Mag\\u00edster en el Extranjero, Becas Chile\"}, {\"Instrumentos \": \"Becas Chile - Doctorado\", \"Agencia\": \"ANID\", \"Subdirecci\\u00f3n  o Gerencia\": \"Capital Humano\", \"Pilar de Pol\\u00edtica P\\u00fablica\": \"Capital Humano\", \"Descripci\\u00f3n\": \"Beca para estudios de doctorado en el extranjero, dirigido a estudiantes de excelencia, chilenos/as o extranjeros con permanencia definitiva en Chile, para iniciar o continuar estudios en instituciones de excelencia en el exterior por un plazo m\\u00e1ximo de cuatro a\\u00f1os, en todas las \\u00e1reas del conocimiento, o bien a trav\\u00e9s de concursos en \\u00e1reas establecidas como prioritarias para el pa\\u00eds, tales como Transformaci\\u00f3n Digital y Revoluci\\u00f3n Tecnol\\u00f3gica.\", \"A\\u00f1o inicio\": 2002, \"Duraci\\u00f3n m\\u00e1xima (meses)\": 48, \"Persona Natural\": \"\\u2713\", \"Persona Jur\\u00eddica\": null, \"IES\": null, \"IPSFL\": null, \"Empresa\": null, \"Servicios P\\u00fablicos\": null, \"Regional\": \"Aumento en puntaje de evaluaci\\u00f3n si se acredita la obtenci\\u00f3n de licenciatura o t\\u00edtulo profesional en una regi\\u00f3n distinta a la RM. Retribuci\\u00f3n: residentes de regiones deben acreditar su permanencia en Chile por mitad de tiempo respecto a residentes de la RM.\", \"G\\u00e9nero\": \"Consideraciones por maternidad tales como asignaci\\u00f3n para menores de 18 a\\u00f1os, pre y post natal\", \"Medioambiental\": null, \"Nombre del Programa o Iniciativa \": \"Becas Chile\", \"Componente(s) \": \"Concurso Doctorado en el Extranjero, Becas Chile\"}, {\"Instrumentos \": \"Becas Chile - Posdoctorado\", \"Agencia\": \"ANID\", \"Subdirecci\\u00f3n  o Gerencia\": \"Capital Humano\", \"Pilar de Pol\\u00edtica P\\u00fablica\": \"Capital Humano\", \"Descripci\\u00f3n\": \"Beca para realizar postdoctorado en el extranjero, dirigido a chilenos/as o extranjeros con permanencia definitiva en Chile, que posean el grado de Doctor para iniciar o continuar la realizaci\\u00f3n de investigaci\\u00f3n postdoctoral en instituciones de excelencia en el exterior por un plazo m\\u00ednimo de seis meses y m\\u00e1ximo de 2 a\\u00f1os.\", \"A\\u00f1o inicio\": 2002, \"Duraci\\u00f3n m\\u00e1xima (meses)\": 24, \"Persona Natural\": \"\\u2713\", \"Persona Jur\\u00eddica\": null, \"IES\": null, \"IPSFL\": null, \"Empresa\": null, \"Servicios P\\u00fablicos\": null, \"Regional\": \"Aumento en puntaje de evaluaci\\u00f3n si se acredita la obtenci\\u00f3n del grado de Doctor(a) en una regi\\u00f3n de Chile distinta a la RM. Retribuci\\u00f3n: residentes de regiones deben acreditar su permanencia en Chile por mitad de tiempo respecto a residentes de la RM.\", \"G\\u00e9nero\": \"Consideraciones por maternidad tales como asignaci\\u00f3n para menores de 18 a\\u00f1os, pre y post natal\", \"Medioambiental\": null, \"Nombre del Programa o Iniciativa \": \"Becas Chile\", \"Componente(s) \": null}, {\"Instrumentos \": \"Becas Chile - Subespecialidades M\\u00e9dicas\", \"Agencia\": \"ANID\", \"Subdirecci\\u00f3n  o Gerencia\": \"Capital Humano\", \"Pilar de Pol\\u00edtica P\\u00fablica\": \"Capital Humano\", \"Descripci\\u00f3n\": \"Beca para estudios de subespecialidad del \\u00e1rea de la medicina humana en el extranjero, dirigido a M\\u00e9dicos Cirujanos que posean Especialidad M\\u00e9dica, estudiantes chilenos/as o extranjeros con permanencia definitiva en Chile, para iniciar o continuar estudios en instituciones de excelencia en el exterior por un plazo m\\u00e1ximo de 3 a\\u00f1os.\", \"A\\u00f1o inicio\": 2002, \"Duraci\\u00f3n m\\u00e1xima (meses)\": 36, \"Persona Natural\": \"\\u2713\", \"Persona Jur\\u00eddica\": null, \"IES\": null, \"IPSFL\": null, \"Empresa\": null, \"Servicios P\\u00fablicos\": null, \"Regional\": \"Aumento en puntaje de evaluaci\\u00f3n si se acredita la obtenci\\u00f3n del t\\u00edtulo de m\\u00e9dico cirujano en una regi\\u00f3n distinta a la RM. Retribuci\\u00f3n: residentes de regiones deben acreditar su permanencia en Chile por mitad de tiempo respecto a residentes de la RM.\", \"G\\u00e9nero\": \"Consideraciones por maternidad tales como asignaci\\u00f3n para menores de 18 a\\u00f1os, pre y post natal\", \"Medioambiental\": null, \"Nombre del Programa o Iniciativa \": \"Becas Chile\", \"Componente(s) \": \"Concurso Becas de Subespecialidades M\\u00e9dicas en el Extranjero Becas Chile\"}, {\"Instrumentos \": \"Becas Chile - Magister Profesionales de la Educaci\\u00f3n\", \"Agencia\": \"ANID\", \"Subdirecci\\u00f3n  o Gerencia\": \"Capital Humano\", \"Pilar de Pol\\u00edtica P\\u00fablica\": \"Capital Humano\", \"Descripci\\u00f3n\": \"Beca para estudios de mag\\u00edster en el extranjero, dirigido a Profesionales de la Educaci\\u00f3n que se desempe\\u00f1en en Establecimientos de Educaci\\u00f3n subvencionados por el Estado que posean excelencia, chilenos/as o extranjeros con permanencia definitiva en Chile, para iniciar estudios en instituciones de excelencia en el exterior por un plazo m\\u00e1ximo de 2 a\\u00f1os\", \"A\\u00f1o inicio\": 2002, \"Duraci\\u00f3n m\\u00e1xima (meses)\": 24, \"Persona Natural\": \"\\u2713\", \"Persona Jur\\u00eddica\": null, \"IES\": null, \"IPSFL\": null, \"Empresa\": null, \"Servicios P\\u00fablicos\": null, \"Regional\": \"Aumento en puntaje de evaluaci\\u00f3n si se acredita la obtenci\\u00f3n de licenciatura o t\\u00edtulo profesional en una regi\\u00f3n distinta a la RM. Retribuci\\u00f3n: residentes de regiones deben acreditar su permanencia en Chile por mitad de tiempo respecto a residentes de la RM.\", \"G\\u00e9nero\": \"Consideraciones por maternidad tales como asignaci\\u00f3n para menores de 18 a\\u00f1os, pre y post natal\", \"Medioambiental\": null, \"Nombre del Programa o Iniciativa \": \"Becas Chile\", \"Componente(s) \": \"Concurso Becas de Mag\\u00edster para Profesionales de la Educaci\\u00f3n Becas Chile\"}, {\"Instrumentos \": \"Apoyo Complementario para Estudiantes de Postgrado\", \"Agencia\": \"ANID\", \"Subdirecci\\u00f3n  o Gerencia\": \"Capital Humano\", \"Pilar de Pol\\u00edtica P\\u00fablica\": \"Capital Humano\", \"Descripci\\u00f3n\": \"Apoyo financiero complementario a becarios vigentes, para la presentaci\\u00f3n de un trabajo de investigaci\\u00f3n en eventos a realizarse en Chile o el extranjero, buscando con ello contribuir a la formaci\\u00f3n de estudiantes de postgrado y mejorar las posibilidades de inserci\\u00f3n en Chile a becarios vigentes en el extranjero.\", \"A\\u00f1o inicio\": 2004, \"Duraci\\u00f3n m\\u00e1xima (meses)\": 1, \"Persona Natural\": \"\\u2713\", \"Persona Jur\\u00eddica\": null, \"IES\": null, \"IPSFL\": null, \"Empresa\": null, \"Servicios P\\u00fablicos\": null, \"Regional\": null, \"G\\u00e9nero\": null, \"Medioambiental\": null, \"Nombre del Programa o Iniciativa \": \"Apoyo Complementario para Estudiantes de Postgrado\", \"Componente(s) \": \"Beca Congresos y Cursos Cortos\"}, {\"Instrumentos \": \"Centros Cient\\u00edficos y Tecnol\\u00f3gicos de Excelencia con financiamiento Basal\", \"Agencia\": \"ANID\", \"Subdirecci\\u00f3n  o Gerencia\": \"Centros\", \"Pilar de Pol\\u00edtica P\\u00fablica\": \"Investigaci\\u00f3n Asociativa\", \"Descripci\\u00f3n\": \"Apoyo a propuestas de Planes de Desarrollo para grupos nacionales de investigaci\\u00f3n que pueden estar -o no- organizados como Centros de I+D al alero de otros financiamientos de similar magnitud; o en la forma de Planes de Continuidad a trav\\u00e9s del apoyo a grupos nacionales de investigaci\\u00f3n constituidos en Centros Basales. Los Planes deben incluir actividades de I+D que busquen la generaci\\u00f3n de conocimiento aplicable y transferible a sectores no acad\\u00e9micos que contribuyan tanto a la competitividad de la econom\\u00eda chilena como a su bienestar social.\", \"A\\u00f1o inicio\": 2007, \"Duraci\\u00f3n m\\u00e1xima (meses)\": 120, \"Persona Natural\": null, \"Persona Jur\\u00eddica\": \"\\u2713\", \"IES\": \"\\u2713\", \"IPSFL\": \"\\u2713\", \"Empresa\": null, \"Servicios P\\u00fablicos\": null, \"Regional\": null, \"G\\u00e9nero\": \"Consideraciones por maternidad tales como pre y post natal, per\\u00edodo adicional para evaluaci\\u00f3n de producci\\u00f3n cient\\u00edfica\", \"Medioambiental\": null, \"Nombre del Programa o Iniciativa \": \"Programa de Investigaci\\u00f3n Asociativa\", \"Componente(s) \": \"Centros de Investigaci\\u00f3n y Desarrollo\"}, {\"Instrumentos \": \"Centros de Investigaci\\u00f3n Avanzada en Educaci\\u00f3n\", \"Agencia\": \"ANID\", \"Subdirecci\\u00f3n  o Gerencia\": \"Centros\", \"Pilar de Pol\\u00edtica P\\u00fablica\": \"Investigaci\\u00f3n Asociativa\", \"Descripci\\u00f3n\": \"Financiamiento para Centros de Investigaci\\u00f3n Avanzada en Educaci\\u00f3n que desarrollen investigaci\\u00f3n multidisciplinaria en la frontera del conocimiento en el \\u00e1rea, formar capital humano avanzado, generar conocimiento cient\\u00edfico e innovaci\\u00f3n en el \\u00e1mbito educativo y apoyar el desarrollo de iniciativas de pol\\u00edticas publicas para el mejoramiento de aspectos tales como la calidad, inclusi\\u00f3n y/o equidad en la educaci\\u00f3n del pa\\u00eds. Asimismo, se busca trasferir conocimientos generados al medio, para los Centros deben establecer mecanismos de interacciones y colaboraci\\u00f3n con instituciones relacionadas con el quehacer educativo chileno y establecer redes de cooperaci\\u00f3n con instituciones nacionales e internacionales de excelencia en investigaci\\u00f3n avanzada, en ciencias y/o en educaci\\u00f3n, logrando con ello un claro impacto en la sociedad chilena.\", \"A\\u00f1o inicio\": 2007, \"Duraci\\u00f3n m\\u00e1xima (meses)\": 120, \"Persona Natural\": null, \"Persona Jur\\u00eddica\": \"\\u2713\", \"IES\": \"\\u2713\", \"IPSFL\": null, \"Empresa\": null, \"Servicios P\\u00fablicos\": null, \"Regional\": \"Convocatoria a un Centro STEM de ejecuci\\u00f3n regional\", \"G\\u00e9nero\": null, \"Medioambiental\": null, \"Nombre del Programa o Iniciativa \": \"Programa de Investigaci\\u00f3n Asociativa\", \"Componente(s) \": \"Centros de Investigaci\\u00f3n y Desarrollo\"}, {\"Instrumentos \": \"Anillos de Investigaci\\u00f3n\", \"Agencia\": \"ANID\", \"Subdirecci\\u00f3n  o Gerencia\": \"Centros\", \"Pilar de Pol\\u00edtica P\\u00fablica\": \"Investigaci\\u00f3n Asociativa\", \"Descripci\\u00f3n\": \"Financiamiento a proyectos de I+D colaborativos, amplios y multidisciplinarios, mediante la conformaci\\u00f3n de grupos de investigaci\\u00f3n bajo el alero de instituciones, con el fin de fortalecer la generaci\\u00f3n de conocimiento y el desarrollo cient\\u00edfico-tecnol\\u00f3gico en el pa\\u00eds. Los Anillos buscan generar masa cr\\u00edtica en disciplinas de Cs. y Tecnolog\\u00eda, Cs. Ant\\u00e1rtica, Cs. Sociales, Humanidades y Tem\\u00e1ticos, respondiendo a problemas u oportunidades locales que requieran altos est\\u00e1ndares o aproximaciones inter-multidisciplinarias para su resoluci\\u00f3n.\", \"A\\u00f1o inicio\": 2004, \"Duraci\\u00f3n m\\u00e1xima (meses)\": 36, \"Persona Natural\": null, \"Persona Jur\\u00eddica\": \"\\u2713\", \"IES\": \"\\u2713\", \"IPSFL\": \"\\u2713\", \"Empresa\": null, \"Servicios P\\u00fablicos\": null, \"Regional\": \"En etapa de postulaci\\u00f3n al concurso se considera: criterio de desempate, concursos con foco regional (evaluando pertinencia local), lista de espera.\", \"G\\u00e9nero\": \"En etapa de postulaci\\u00f3n al concurso se considera: criterio de desempate,\\nconsideraciones por maternidad tales como pre y post natal y enfermedad de un(a) hijo(a) menor de un a\\u00f1o, per\\u00edodo adicional para evaluaci\\u00f3n de producci\\u00f3n cient\\u00edfica, lista de espera.\", \"Medioambiental\": \"Abordaje de temas relativos a medio ambiente, especialmente en los concursos tem\\u00e1ticos, como por ejemplo: cambio clim\\u00e1tico y ciencia ant\\u00e1rtica y sus requerimientos de normativa medioambiental, seg\\u00fan corresponda.\", \"Nombre del Programa o Iniciativa \": \"Programa de Investigaci\\u00f3n Asociativa\", \"Componente(s) \": \"Anillos de Investigaci\\u00f3n\"}, {\"Instrumentos \": \"Buque Oceanogr\\u00e1fico\", \"Agencia\": \"ANID\", \"Subdirecci\\u00f3n  o Gerencia\": \"Centros\", \"Pilar de Pol\\u00edtica P\\u00fablica\": \"Investigaci\\u00f3n Asociativa\", \"Descripci\\u00f3n\": \"Asignaci\\u00f3n de tiempos y financiamiento para uso del Buque Cabo de Hornos -en el marco del Convenio de ejecuci\\u00f3n de Cruceros de Investigaci\\u00f3n cient\\u00edfica entre la Armada de Chile y ANID- buscando apoyar el desarrollo de proyectos de investigaci\\u00f3n en cualquier disciplina, en que este uso sea requerido para el cumplimiento de objetivos cient\\u00edficos.\", \"A\\u00f1o inicio\": 2015, \"Duraci\\u00f3n m\\u00e1xima (meses)\": 1, \"Persona Natural\": null, \"Persona Jur\\u00eddica\": \"\\u2713\", \"IES\": \"\\u2713\", \"IPSFL\": \"\\u2713\", \"Empresa\": \"\\u2713\", \"Servicios P\\u00fablicos\": \"\\u2713\", \"Regional\": null, \"G\\u00e9nero\": null, \"Medioambiental\": null, \"Nombre del Programa o Iniciativa \": \"Programa de Investigaci\\u00f3n Asociativa\", \"Componente(s) \": \"Mantenci\\u00f3n de Equipamiento Cient\\u00edfico y Tecnol\\u00f3gico\"}, {\"Instrumentos \": \"Centros de Equipamiento Cient\\u00edfico y Tecnol\\u00f3gico\", \"Agencia\": \"ANID\", \"Subdirecci\\u00f3n  o Gerencia\": \"Centros\", \"Pilar de Pol\\u00edtica P\\u00fablica\": \"Investigaci\\u00f3n Asociativa\", \"Descripci\\u00f3n\": \"Busca instalar capacidad cient\\u00edfica, cubriendo la necesidad pa\\u00eds de contar con una infraestructura de mayor envergadura y alcance, que albergue equipamiento cient\\u00edfico sofisticado e innovador que fomente y facilite el desarrollo de la investigaci\\u00f3n de excelencia en el territorio nacional. Se busca tambi\\u00e9n que Chile pueda posicionarse en la  vanguardia de la investigaci\\u00f3n de excelencia y de frontera a nivel internacional.\", \"A\\u00f1o inicio\": 2010, \"Duraci\\u00f3n m\\u00e1xima (meses)\": 120, \"Persona Natural\": null, \"Persona Jur\\u00eddica\": \"\\u2713\", \"IES\": \"\\u2713\", \"IPSFL\": \"\\u2713\", \"Empresa\": null, \"Servicios P\\u00fablicos\": null, \"Regional\": \"Criterio de desempate y lista de espera.\", \"G\\u00e9nero\": \"Criterio de desempate y lista de espera, Beneficio de Extensi\\u00f3n del Proyecto.\", \"Medioambiental\": \"Requisito para bonificaci\\u00f3n: estudio del cambio clim\\u00e1tico en oc\\u00e9anos, costas y altas latitudes (incluyendo Ant\\u00e1rtica) y energ\\u00edas renovables.\", \"Nombre del Programa o Iniciativa \": \"Programa de Investigaci\\u00f3n Asociativa\", \"Componente(s) \": \"Mantenci\\u00f3n de Equipamiento Cient\\u00edfico y Tecnol\\u00f3gico\"}, {\"Instrumentos \": \"Fondo de Equipamiento Cient\\u00edfico y Tecnol\\u00f3gico - FONDEQUIP\", \"Agencia\": \"ANID\", \"Subdirecci\\u00f3n  o Gerencia\": \"Centros\", \"Pilar de Pol\\u00edtica P\\u00fablica\": \"Investigaci\\u00f3n Asociativa\", \"Descripci\\u00f3n\": \"Financiamiento a universidades o instituciones que realicen investigaci\\u00f3n para la adquisici\\u00f3n, actualizaci\\u00f3n y/o acceso a equipamiento cient\\u00edfico y tecnol\\u00f3gico mediano y/o mayor, buscando promover su uso compartido y la cooperaci\\u00f3n intra e inter-institucional entre grupos de investigaci\\u00f3n, y as\\u00ed potenciar y fomentar el desarrollo cient\\u00edfico del pa\\u00eds.\", \"A\\u00f1o inicio\": 2012, \"Duraci\\u00f3n m\\u00e1xima (meses)\": 18, \"Persona Natural\": null, \"Persona Jur\\u00eddica\": \"\\u2713\", \"IES\": \"\\u2713\", \"IPSFL\": \"\\u2713\", \"Empresa\": null, \"Servicios P\\u00fablicos\": \"\\u2713\", \"Regional\": \"7% de los recursos disponibles para la adjudicaci\\u00f3n a proyectos de cada una de las 5 macrozonas establecidas en el Decreto N\\u00b07 del a\\u00f1o 2020 del Ministerio de Ciencia, que obtengan un puntaje mayor o igual a 3,5, para el consurso 2021. \", \"G\\u00e9nero\": \"Criterio de desempate y lista de espera, Beneficio de Extensi\\u00f3n del Proyecto\", \"Medioambiental\": \"Requisito para bonificaci\\u00f3n: estudio del cambio clim\\u00e1tico en oc\\u00e9anos, costas y altas latitudes (incluyendo Ant\\u00e1rtica) y energ\\u00edas renovables.\", \"Nombre del Programa o Iniciativa \": \"Fondo de Equipamiento Cient\\u00edfico y Tecnol\\u00f3gico - FONDEQUIP\", \"Componente(s) \": \"Fondo para Equipamiento Cient\\u00edfico y Tecnol\\u00f3gico Mediano (FONDEQUIP Mediano)\"}, {\"Instrumentos \": \"Centros de Investigaci\\u00f3n en \\u00c1reas Prioritarias - FONDAP\", \"Agencia\": \"ANID\", \"Subdirecci\\u00f3n  o Gerencia\": \"Centros\", \"Pilar de Pol\\u00edtica P\\u00fablica\": \"Investigaci\\u00f3n Asociativa\", \"Descripci\\u00f3n\": \"Financiamiento a Centros de investigaci\\u00f3n en \\u00e1reas prioritarias, que busca fomentar la I+D de excelencia y alto impacto enmarcado en \\u00e1reas que respondan a un problema de gran relevancia para el pa\\u00eds, basada en la articulaci\\u00f3n de grupos multidisciplinarios de investigadores. Los Fondap adem\\u00e1s est\\u00e1n orientados a la formaci\\u00f3n de capital humano avanzado, al establecimiento de redes de colaboraci\\u00f3n -nacionales e internacionales-, a la difusi\\u00f3n de resultados de investigaci\\u00f3n, contribuyendo con conocimiento cient\\u00edfico al desarrollo de pol\\u00edticas p\\u00fablicas.\", \"A\\u00f1o inicio\": 1996, \"Duraci\\u00f3n m\\u00e1xima (meses)\": 120, \"Persona Natural\": null, \"Persona Jur\\u00eddica\": \"\\u2713\", \"IES\": \"\\u2713\", \"IPSFL\": null, \"Empresa\": null, \"Servicios P\\u00fablicos\": null, \"Regional\": null, \"G\\u00e9nero\": \"Consideraciones por maternidad como pre y post natal para investigadoras contratadas y postdoctorales\", \"Medioambiental\": \"Aborda temas medioambientales si el \\u00e1rea prioritaria as\\u00ed lo considera y sus requerimientos de normativa medioambiental, seg\\u00fan corresponda.\", \"Nombre del Programa o Iniciativa \": \"Fondo de Centros de Investigaci\\u00f3n de Excelencia en \\u00c1reas Prioritarias\", \"Componente(s) \": \"Centros de Excelencia en Investigaci\\u00f3n Fondap\"}, {\"Instrumentos \": \"Institutos de investigaci\\u00f3n Milenio\", \"Agencia\": \"ANID\", \"Subdirecci\\u00f3n  o Gerencia\": \"Centros\", \"Pilar de Pol\\u00edtica P\\u00fablica\": \"Investigaci\\u00f3n Asociativa\", \"Descripci\\u00f3n\": \"Financia y apoya a centros de investigaci\\u00f3n de excelencia, en las \\u00e1reas de Ciencias Sociales y Ciencias Naturales para incrementar y contribuir a la calidad y cantidad del conocimiento de frontera desarrollando investigaci\\u00f3n colaborativa a trav\\u00e9s de proyectos de largo plazo, contando cada Instituto con al menos 8 investigadores asociados.\", \"A\\u00f1o inicio\": 1999, \"Duraci\\u00f3n m\\u00e1xima (meses)\": 128, \"Persona Natural\": null, \"Persona Jur\\u00eddica\": \"\\u2713\", \"IES\": null, \"IPSFL\": \"\\u2713\", \"Empresa\": null, \"Servicios P\\u00fablicos\": null, \"Regional\": \"Participaci\\u00f3n de investigadores asociados que residan en regiones fuera de la RM como requisito de postulaci\\u00f3n y adem\\u00e1s, como criterio de evaluaci\\u00f3n y desempate.\", \"G\\u00e9nero\": \"Propuesta debe considerar plan de equidad de g\\u00e9nero. Participaci\\u00f3n de mujeres en grupo de investigadores asociados como criterio de evaluaci\\u00f3n y desempate. Propuestas cuyo(a) Director(a), Director(a) Alterno(a) sea un investigador de g\\u00e9nero femenino como criterio de desempate. \", \"Medioambiental\": null, \"Nombre del Programa o Iniciativa \": \"Programa Iniciativa Cient\\u00edfica Milenio (ICM)\", \"Componente(s) \": \"Institutos Milenio de investigaci\\u00f3n asociativa de frontera, con financiamiento p\\u00fablico\"}, {\"Instrumentos \": \"N\\u00facleos de investigaci\\u00f3n Milenio\", \"Agencia\": \"ANID\", \"Subdirecci\\u00f3n  o Gerencia\": \"Centros\", \"Pilar de Pol\\u00edtica P\\u00fablica\": \"Investigaci\\u00f3n Asociativa\", \"Descripci\\u00f3n\": \"Financia y apoya a centros de investigaci\\u00f3n de excelencia, en las \\u00e1reas de Ciencias Sociales y Ciencias Naturales para incrementar y contribuir a la calidad y cantidad del conocimiento de frontera desarrollando investigaci\\u00f3n colaborativa a trav\\u00e9s de proyectos de mediano plazo, contando cada N\\u00facleo con al menos 3 investigadores asociados.\", \"A\\u00f1o inicio\": 1999, \"Duraci\\u00f3n m\\u00e1xima (meses)\": 44, \"Persona Natural\": \"\\u2713\", \"Persona Jur\\u00eddica\": null, \"IES\": null, \"IPSFL\": null, \"Empresa\": null, \"Servicios P\\u00fablicos\": null, \"Regional\": \"Participaci\\u00f3n de investigadores asociados que residan en regiones fuera de la RM como criterio de evaluaci\\u00f3n y desempate.\", \"G\\u00e9nero\": \"Participaci\\u00f3n de mujeres en grupo de investigadores asociados como criterio de evaluaci\\u00f3n y desempate.\", \"Medioambiental\": null, \"Nombre del Programa o Iniciativa \": \"Programa Iniciativa Cient\\u00edfica Milenio (ICM)\", \"Componente(s) \": \"N\\u00facleos Milenio de investigaci\\u00f3n asociativa de frontera\"}, {\"Instrumentos \": \"Creaci\\u00f3n y Fortalecimiento de Centros Regionales\", \"Agencia\": \"ANID\", \"Subdirecci\\u00f3n  o Gerencia\": \"Centros\", \"Pilar de Pol\\u00edtica P\\u00fablica\": \"Investigaci\\u00f3n Asociativa\", \"Descripci\\u00f3n\": \"Financiamiento para la creaci\\u00f3n y fortalecimiento de Centros Regionales de Investigaci\\u00f3n y Desarrollo Tecnol\\u00f3gico, los que al alero de instituciones de investigaci\\u00f3n, en forma asociativa, buscan aumentar, expandir y descentralizar las capacidades y recursos para el desarrollo de la investigaci\\u00f3n en Chile, de manera de convertirse en referentes nacionales en el \\u00e1rea tem\\u00e1tica de su competencia y lograr la inserci\\u00f3n de recursos humanos capaces de protagonizar la actividad de investigaci\\u00f3n y desarrollo en la regi\\u00f3n.\", \"A\\u00f1o inicio\": 2001, \"Duraci\\u00f3n m\\u00e1xima (meses)\": 120, \"Persona Natural\": null, \"Persona Jur\\u00eddica\": \"\\u2713\", \"IES\": \"\\u2713\", \"IPSFL\": \"\\u2713\", \"Empresa\": null, \"Servicios P\\u00fablicos\": null, \"Regional\": \"Foco del instrumento es regional.\", \"G\\u00e9nero\": \"Criterio de desempate\", \"Medioambiental\": \"Dependiendo de los objetivos del centro podr\\u00edan abordar temas medioambientales, cumpliendo con la normativa medioambiental correspondiente.\", \"Nombre del Programa o Iniciativa \": \"Programa Regional de Desarrollo de la Investigaci\\u00f3n Cient\\u00edfica y Tecnol\\u00f3gica\", \"Componente(s) \": \"Creaci\\u00f3n y fortalecimiento de Centros Regionales de Investigaci\\u00f3n Cient\\u00edfica y Tecnol\\u00f3gica\"}, {\"Instrumentos \": \"IDeA I+D\", \"Agencia\": \"ANID\", \"Subdirecci\\u00f3n  o Gerencia\": \"Investigaci\\u00f3n Aplicada\", \"Pilar de Pol\\u00edtica P\\u00fablica\": \"Investigaci\\u00f3n Aplicada y Transferencia\", \"Descripci\\u00f3n\": \"Financiamiento a instituciones de educaci\\u00f3n superior asociadas a empresas u otras entidades para la ejecuci\\u00f3n de proyectos de investigaci\\u00f3n cient\\u00edfica y tecnol\\u00f3gica en todas las \\u00e1reas, que cuenten con resultados previos que sustenten una hip\\u00f3tesis de aplicaci\\u00f3n de una tecnolog\\u00eda, producto o servicio y que, con el desarrollo de la investigaci\\u00f3n en un plazo breve, logren su validaci\\u00f3n a trav\\u00e9s de un prototipo a peque\\u00f1a escala.\", \"A\\u00f1o inicio\": 2018, \"Duraci\\u00f3n m\\u00e1xima (meses)\": 24, \"Persona Natural\": null, \"Persona Jur\\u00eddica\": \"\\u2713\", \"IES\": \"\\u2713\", \"IPSFL\": \"\\u2713\", \"Empresa\": null, \"Servicios P\\u00fablicos\": null, \"Regional\": null, \"G\\u00e9nero\": null, \"Medioambiental\": \"Las actividades del proyecto y sus resultados deber\\u00e1n tener un impacto ambiental positivo o neutro, adem\\u00e1s de deber cumplir la normativa ambiental vigente.\", \"Nombre del Programa o Iniciativa \": \"Fondo de Fomento al Desarrollo Cient\\u00edfico y Tecnol\\u00f3gico (FONDEF)\", \"Componente(s) \": \"Concurso IDeA I+D\"}, {\"Instrumentos \": \"IDeA Ciencia Aplicada\", \"Agencia\": \"ANID\", \"Subdirecci\\u00f3n  o Gerencia\": \"Investigaci\\u00f3n Aplicada\", \"Pilar de Pol\\u00edtica P\\u00fablica\": \"Investigaci\\u00f3n Aplicada y Transferencia\", \"Descripci\\u00f3n\": \"Financiamiento a instituciones de educaci\\u00f3n superior asociadas a empresas u otras entidades para la ejecuci\\u00f3n de proyectos de investigaci\\u00f3n cient\\u00edfica y tecnol\\u00f3gica, que ya cuente con prueba de concepto, modelo o prototipo validado a peque\\u00f1a escala, para incrementar y mejorar la calidad de la investigaci\\u00f3n precompetitiva y/o de inter\\u00e9s p\\u00fablico, orientada a la innovaci\\u00f3n.\", \"A\\u00f1o inicio\": 2014, \"Duraci\\u00f3n m\\u00e1xima (meses)\": 24, \"Persona Natural\": null, \"Persona Jur\\u00eddica\": \"\\u2713\", \"IES\": \"\\u2713\", \"IPSFL\": \"\\u2713\", \"Empresa\": null, \"Servicios P\\u00fablicos\": null, \"Regional\": null, \"G\\u00e9nero\": null, \"Medioambiental\": \"Las actividades del proyecto y sus resultados deber\\u00e1n tener un impacto ambiental positivo o neutro, adem\\u00e1s de deber cumplir la normativa ambiental vigente.\", \"Nombre del Programa o Iniciativa \": \"Fondo de Fomento al Desarrollo Cient\\u00edfico y Tecnol\\u00f3gico (FONDEF)\", \"Componente(s) \": \"Concurso IDeA I+D\"}, {\"Instrumentos \": \"IDeA Tem\\u00e1tico\", \"Agencia\": \"ANID\", \"Subdirecci\\u00f3n  o Gerencia\": \"Investigaci\\u00f3n Aplicada\", \"Pilar de Pol\\u00edtica P\\u00fablica\": \"Investigaci\\u00f3n Aplicada y Transferencia\", \"Descripci\\u00f3n\": \"Financiamiento a instituciones de educaci\\u00f3n superior asociadas a empresas u otras entidades para la ejecuci\\u00f3n de proyectos de investigaci\\u00f3n cient\\u00edfica y tecnol\\u00f3gica que buscan resolver desaf\\u00edos en sectores tem\\u00e1ticos determinados de inter\\u00e9s nacional, para incrementar y mejorar la calidad de la investigaci\\u00f3n precompetitiva y/o de inter\\u00e9s p\\u00fablico, orientada a la innovaci\\u00f3n.\", \"A\\u00f1o inicio\": 2016, \"Duraci\\u00f3n m\\u00e1xima (meses)\": 24, \"Persona Natural\": null, \"Persona Jur\\u00eddica\": \"\\u2713\", \"IES\": \"\\u2713\", \"IPSFL\": \"\\u2713\", \"Empresa\": null, \"Servicios P\\u00fablicos\": null, \"Regional\": null, \"G\\u00e9nero\": null, \"Medioambiental\": \"Las actividades del proyecto y sus resultados deber\\u00e1n tener un impacto ambiental positivo o neutro, adem\\u00e1s de deber cumplir la normativa ambiental vigente.\", \"Nombre del Programa o Iniciativa \": \"Fondo de Fomento al Desarrollo Cient\\u00edfico y Tecnol\\u00f3gico (FONDEF)\", \"Componente(s) \": \"Subcomponente \\u00e1reas (programas) tem\\u00e1ticas/os\"}, {\"Instrumentos \": \"IDeA de Investigaci\\u00f3n Tecnol\\u00f3gica\", \"Agencia\": \"ANID\", \"Subdirecci\\u00f3n  o Gerencia\": \"Investigaci\\u00f3n Aplicada\", \"Pilar de Pol\\u00edtica P\\u00fablica\": \"Investigaci\\u00f3n Aplicada y Transferencia\", \"Descripci\\u00f3n\": \"Financiamiento a instituciones de educaci\\u00f3n superior asociadas a empresas u otras entidades para la ejecuci\\u00f3n de proyectos de investigaci\\u00f3n cient\\u00edfica y tecnol\\u00f3gica que ya cuente con prueba de concepto con alto potencial de impacto econ\\u00f3mico o social, para incrementar y mejorar la calidad de la investigaci\\u00f3n precompetitiva y/o de inter\\u00e9s p\\u00fablico, orientada a la innovaci\\u00f3n.\", \"A\\u00f1o inicio\": 2013, \"Duraci\\u00f3n m\\u00e1xima (meses)\": 24, \"Persona Natural\": null, \"Persona Jur\\u00eddica\": \"\\u2713\", \"IES\": \"\\u2713\", \"IPSFL\": \"\\u2713\", \"Empresa\": null, \"Servicios P\\u00fablicos\": null, \"Regional\": null, \"G\\u00e9nero\": null, \"Medioambiental\": \"Las actividades del proyecto y sus resultados deber\\u00e1n tener un impacto ambiental positivo o neutro, adem\\u00e1s de deber cumplir la normativa ambiental vigente.\", \"Nombre del Programa o Iniciativa \": \"Fondo de Fomento al Desarrollo Cient\\u00edfico y Tecnol\\u00f3gico (FONDEF)\", \"Componente(s) \": \"Concurso de Investigaci\\u00f3n Tecnol\\u00f3gica\"}, {\"Instrumentos \": \"Valorizaci\\u00f3n de la Investigaci\\u00f3n Universitaria - VIU\", \"Agencia\": \"ANID\", \"Subdirecci\\u00f3n  o Gerencia\": \"Investigaci\\u00f3n Aplicada\", \"Pilar de Pol\\u00edtica P\\u00fablica\": \"Investigaci\\u00f3n Aplicada y Transferencia\", \"Descripci\\u00f3n\": \"Subsidio al desarrollo de plan de negocios y tesis de estudiantes de pre y posgrado para el impulsar el emprendimiento desde la etapa universitaria basada en investigaci\\u00f3n aplicada y experimental.\", \"A\\u00f1o inicio\": 2011, \"Duraci\\u00f3n m\\u00e1xima (meses)\": 15, \"Persona Natural\": \"\\u2713\", \"Persona Jur\\u00eddica\": null, \"IES\": null, \"IPSFL\": null, \"Empresa\": null, \"Servicios P\\u00fablicos\": null, \"Regional\": null, \"G\\u00e9nero\": null, \"Medioambiental\": null, \"Nombre del Programa o Iniciativa \": \"Fondo de Fomento al Desarrollo Cient\\u00edfico y Tecnol\\u00f3gico (FONDEF)\", \"Componente(s) \": \"Programa de Valorizaci\\u00f3n de Investigaci\\u00f3n en la Universidad - Programa VIU\"}, {\"Instrumentos \": \"Fondo Nacional de Investigaci\\u00f3n y Desarrollo en Salud - FONIS\", \"Agencia\": \"ANID\", \"Subdirecci\\u00f3n  o Gerencia\": \"Investigaci\\u00f3n Aplicada\", \"Pilar de Pol\\u00edtica P\\u00fablica\": \"Investigaci\\u00f3n Aplicada y Transferencia\", \"Descripci\\u00f3n\": \"Financiamiento a instituciones p\\u00fablicas o privadas para proyectos de investigaci\\u00f3n y desarrollo en \\u00e1reas relevantes para la salud p\\u00fablica nacional, buscando fortalecer y generar capacidades, informaci\\u00f3n y evidencia que oriente pol\\u00edticas p\\u00fablicas y decisiones de salud.\", \"A\\u00f1o inicio\": 2004, \"Duraci\\u00f3n m\\u00e1xima (meses)\": 30, \"Persona Natural\": null, \"Persona Jur\\u00eddica\": \"\\u2713\", \"IES\": \"\\u2713\", \"IPSFL\": \"\\u2713\", \"Empresa\": null, \"Servicios P\\u00fablicos\": \"\\u2713\", \"Regional\": \"Proyectos que buscan resolver problemas sanitarios prioritarios, establecidos en el Plan Nacional de Salud y temas de relevancia para la salud p\\u00fablica local o regional.\", \"G\\u00e9nero\": null, \"Medioambiental\": \"Obliga al estricto cumplimiento de normativa ambiental vigente.\", \"Nombre del Programa o Iniciativa \": \"Fondo de Fomento al Desarrollo Cient\\u00edfico y Tecnol\\u00f3gico (FONDEF)\", \"Componente(s) \": \"Fondo Nacional de Investigaci\\u00f3n y Desarrollo en Salud\"}, {\"Instrumentos \": \"Fondo Alma\", \"Agencia\": \"ANID\", \"Subdirecci\\u00f3n  o Gerencia\": \"REC\", \"Pilar de Pol\\u00edtica P\\u00fablica\": \"Capacidades Institucionales\", \"Descripci\\u00f3n\": \"Fondo para financiar proyectos de desarrollo en astronom\\u00eda, posiciones postdoctorales, cargos de astr\\u00f3nomos, proyectos de difusi\\u00f3n y divulgaci\\u00f3n, sin exclusi\\u00f3n de otras iniciativas para las cuales sea dif\\u00edcil encontrar fuentes alternativas de financiamiento, para desarrollar la Astronom\\u00eda nacional.\", \"A\\u00f1o inicio\": 2003, \"Duraci\\u00f3n m\\u00e1xima (meses)\": 24, \"Persona Natural\": \"\\u2713\", \"Persona Jur\\u00eddica\": \"\\u2713\", \"IES\": \"\\u2713\", \"IPSFL\": \"\\u2713\", \"Empresa\": null, \"Servicios P\\u00fablicos\": null, \"Regional\": null, \"G\\u00e9nero\": \"Consideraciones por maternidad, como aplazar la fecha de t\\u00e9rmino del proyecto.\", \"Medioambiental\": null, \"Nombre del Programa o Iniciativa \": \"Programa de Astronom\\u00eda\", \"Componente(s) \": null}, {\"Instrumentos \": \"Fondo Gemini\", \"Agencia\": \"ANID\", \"Subdirecci\\u00f3n  o Gerencia\": \"REC\", \"Pilar de Pol\\u00edtica P\\u00fablica\": \"Capacidades Institucionales\", \"Descripci\\u00f3n\": \"Fondo para financiamiento de proyectos de investigaci\\u00f3n y desarrollo en astronom\\u00eda, proyectos de difusi\\u00f3n y divulgaci\\u00f3n, docencia y formaci\\u00f3n de capital humano en Astronom\\u00eda -tanto observacional como te\\u00f3rica, y ciencias y tecnolog\\u00edas afines- en instituciones a lo largo de Chile, sin exclusi\\u00f3n de otras iniciativas de desarrollo de la Astronom\\u00eda nacional para las que sea dif\\u00edcil encontrar fuentes alternativas de financiamiento, en pos de contribuir al desarrollo de la Astronom\\u00eda nacional.\", \"A\\u00f1o inicio\": 2002, \"Duraci\\u00f3n m\\u00e1xima (meses)\": 24, \"Persona Natural\": \"\\u2713\", \"Persona Jur\\u00eddica\": \"\\u2713\", \"IES\": \"\\u2713\", \"IPSFL\": \"\\u2713\", \"Empresa\": null, \"Servicios P\\u00fablicos\": null, \"Regional\": null, \"G\\u00e9nero\": \"Consideraciones por maternidad, como aplazar la fecha de t\\u00e9rmino del proyecto.\", \"Medioambiental\": null, \"Nombre del Programa o Iniciativa \": \"Programa de Astronom\\u00eda\", \"Componente(s) \": null}, {\"Instrumentos \": \"Fondo CAS\", \"Agencia\": \"ANID\", \"Subdirecci\\u00f3n  o Gerencia\": \"REC\", \"Pilar de Pol\\u00edtica P\\u00fablica\": \"Capacidades Institucionales\", \"Descripci\\u00f3n\": \"Fondo para financiar la realizaci\\u00f3n de propuestas de investigaci\\u00f3n de posiciones postdoctorales, a trav\\u00e9s de la inserci\\u00f3n de j\\u00f3venes investigadores(as) en investigaci\\u00f3n en instituciones chilenas, en colaboraci\\u00f3n con investigadores en China, buscando fortalecer la participaci\\u00f3n de ambos pa\\u00edses en astronom\\u00eda, para de esta manera contribuir al desarrollo cient\\u00edfico.\", \"A\\u00f1o inicio\": 2016, \"Duraci\\u00f3n m\\u00e1xima (meses)\": 24, \"Persona Natural\": \"\\u2713\", \"Persona Jur\\u00eddica\": null, \"IES\": null, \"IPSFL\": null, \"Empresa\": null, \"Servicios P\\u00fablicos\": null, \"Regional\": null, \"G\\u00e9nero\": \"Consideraciones por maternidad, como apalzar la fecha de t\\u00e9rmino del proyecto, manteniendo el monto del subsidio mensual.\", \"Medioambiental\": null, \"Nombre del Programa o Iniciativa \": \"Programa de Astronom\\u00eda\", \"Componente(s) \": null}, {\"Instrumentos \": \"Tiempo de Observaci\\u00f3n Telescopio\", \"Agencia\": \"ANID\", \"Subdirecci\\u00f3n  o Gerencia\": \"REC\", \"Pilar de Pol\\u00edtica P\\u00fablica\": \"Capacidades Institucionales\", \"Descripci\\u00f3n\": \"Asignaci\\u00f3n de tiempos para uso de Telescopios APEX y Gemini Sur a investigadores de las ciencias astron\\u00f3micas, en el marco de convenios que garantizan el 10% del tiempo de observaci\\u00f3n en dichos telescopios para Chile, buscando promover la investigaci\\u00f3n en Astronom\\u00eda de la comunidad cient\\u00edfica nacional.\", \"A\\u00f1o inicio\": 2008, \"Duraci\\u00f3n m\\u00e1xima (meses)\": 24, \"Persona Natural\": \"\\u2713\", \"Persona Jur\\u00eddica\": null, \"IES\": null, \"IPSFL\": null, \"Empresa\": null, \"Servicios P\\u00fablicos\": null, \"Regional\": null, \"G\\u00e9nero\": \"Consideraciones por maternidad, como aplazar la fecha de t\\u00e9rmino del proyecto.\", \"Medioambiental\": null, \"Nombre del Programa o Iniciativa \": \"Programa de Astronom\\u00eda\", \"Componente(s) \": null}, {\"Instrumentos \": \"Fondo de Publicaciones Cient\\u00edficas\", \"Agencia\": \"ANID\", \"Subdirecci\\u00f3n  o Gerencia\": \"REC\", \"Pilar de Pol\\u00edtica P\\u00fablica\": \"Capacidades Institucionales\", \"Descripci\\u00f3n\": \"Entrega respaldo financiero a revistas cient\\u00edficas nacionales de alta calidad y circulaci\\u00f3n internacional para el mejoramiento de los contenidos y t\\u00e9cnicas de apoyo a la edici\\u00f3n y visibilidad de las revistas.\", \"A\\u00f1o inicio\": 2005, \"Duraci\\u00f3n m\\u00e1xima (meses)\": \"18- 24\", \"Persona Natural\": null, \"Persona Jur\\u00eddica\": \"\\u2713\", \"IES\": \"\\u2713\", \"IPSFL\": \"\\u2713\", \"Empresa\": \"\\u2713\", \"Servicios P\\u00fablicos\": \"\\u2713\", \"Regional\": null, \"G\\u00e9nero\": null, \"Medioambiental\": null, \"Nombre del Programa o Iniciativa \": \"Fondo de Publicaciones Cient\\u00edficas\", \"Componente(s) \": \"Fondo de Publicaciones Cient\\u00edficas\"}, {\"Instrumentos \": \"Pluralismo\", \"Agencia\": \"ANID\", \"Subdirecci\\u00f3n  o Gerencia\": \"REC\", \"Pilar de Pol\\u00edtica P\\u00fablica\": \"Capacidades Institucionales\", \"Descripci\\u00f3n\": \"Financia la realizaci\\u00f3n de estudios acad\\u00e9micos sobre libertades de opini\\u00f3n e informaci\\u00f3n y ejercicio del periodismo, en referencia a lo estipulado en la Ley n\\u00b019.733, que permitan consolidar el pluralismo en el Sistema Informativo Nacional.\", \"A\\u00f1o inicio\": 2009, \"Duraci\\u00f3n m\\u00e1xima (meses)\": 12, \"Persona Natural\": null, \"Persona Jur\\u00eddica\": \"\\u2713\", \"IES\": \"\\u2713\", \"IPSFL\": null, \"Empresa\": null, \"Servicios P\\u00fablicos\": null, \"Regional\": null, \"G\\u00e9nero\": null, \"Medioambiental\": null, \"Nombre del Programa o Iniciativa \": null, \"Componente(s) \": null}, {\"Instrumentos \": \"Consorcio para la Informaci\\u00f3n Cient\\u00edfica Electr\\u00f3nica (CINCEL)\", \"Agencia\": \"ANID\", \"Subdirecci\\u00f3n  o Gerencia\": \"REC\", \"Pilar de Pol\\u00edtica P\\u00fablica\": \"Capacidades Institucionales\", \"Descripci\\u00f3n\": \"Consorcio formado por Universidades del Consejo de Rectores que, mediante la creaci\\u00f3n de una biblioteca de revistas cient\\u00edficas internacionales (BEIC) y de otros recursos de informaci\\u00f3n para las instituciones de educaci\\u00f3n superior e instituciones que desarrollen investigaci\\u00f3n cient\\u00edfica y tecnol\\u00f3gica, busca facilitar el acceso a la informaci\\u00f3n cient\\u00edfica a nivel nacional.\", \"A\\u00f1o inicio\": 2002, \"Duraci\\u00f3n m\\u00e1xima (meses)\": 12, \"Persona Natural\": null, \"Persona Jur\\u00eddica\": \"\\u2713\", \"IES\": null, \"IPSFL\": null, \"Empresa\": null, \"Servicios P\\u00fablicos\": \"\\u2713\", \"Regional\": null, \"G\\u00e9nero\": null, \"Medioambiental\": null, \"Nombre del Programa o Iniciativa \": \"Acceso a Informaci\\u00f3n Electr\\u00f3nica para Ciencia y Tecnolog\\u00eda\", \"Componente(s) \": \"Consorcio para la Informaci\\u00f3n Cient\\u00edfica Electr\\u00f3nica (CINCEL)\"}, {\"Instrumentos \": \"Inserci\\u00f3n de Capital Humano Avanzado en el Sector Productivo\", \"Agencia\": \"ANID\", \"Subdirecci\\u00f3n  o Gerencia\": \"REC\", \"Pilar de Pol\\u00edtica P\\u00fablica\": \"Capacidades Institucionales\", \"Descripci\\u00f3n\": \"Subsidio a empresas, centros o institutos cient\\u00edficos tecnol\\u00f3gicos para la inserci\\u00f3n de un(a) doctor(a) para el desarrollo funciones tales como investigaci\\u00f3n, desarrollo y gesti\\u00f3n tecnol\\u00f3gica, buscando potenciar la productividad de la empresa o la capacidad de transferencia tecnol\\u00f3gica de los centros.\", \"A\\u00f1o inicio\": 2004, \"Duraci\\u00f3n m\\u00e1xima (meses)\": 24, \"Persona Natural\": null, \"Persona Jur\\u00eddica\": \"\\u2713\", \"IES\": null, \"IPSFL\": \"\\u2713\", \"Empresa\": \"\\u2713\", \"Servicios P\\u00fablicos\": null, \"Regional\": null, \"G\\u00e9nero\": \"Consideraciones por maternidad tales como pre y post natal, extensi\\u00f3n del proyecto.\", \"Medioambiental\": null, \"Nombre del Programa o Iniciativa \": \"Programa de Inserci\\u00f3n de Investigadores\", \"Componente(s) \": \"Inserci\\u00f3n de Capital Humano Avanzado en el Sector Productivo\"}, {\"Instrumentos \": \"Tesis de Doctorado en el Sector Productivo\", \"Agencia\": \"ANID\", \"Subdirecci\\u00f3n  o Gerencia\": \"REC\", \"Pilar de Pol\\u00edtica P\\u00fablica\": \"Capacidades Institucionales\", \"Descripci\\u00f3n\": \"Financiamiento a universidades para que, a trav\\u00e9s de la realizaci\\u00f3n de tesis de I+D+i que respondan a problem\\u00e1ticas de empresas, los programas de doctorado fortalezcan sus v\\u00ednculos con el sector productivo.\", \"A\\u00f1o inicio\": 2009, \"Duraci\\u00f3n m\\u00e1xima (meses)\": 24, \"Persona Natural\": null, \"Persona Jur\\u00eddica\": \"\\u2713\", \"IES\": \"\\u2713\", \"IPSFL\": null, \"Empresa\": null, \"Servicios P\\u00fablicos\": null, \"Regional\": null, \"G\\u00e9nero\": \"Consideraciones por maternidad tales como asignaci\\u00f3n para hijos(as) menores de 18 a\\u00f1os, pre y post natal, extensi\\u00f3n del proyecto.\", \"Medioambiental\": null, \"Nombre del Programa o Iniciativa \": \"Programa de Inserci\\u00f3n de Investigadores\", \"Componente(s) \": \"Tesis de Doctorado en el Sector Productivo\"}, {\"Instrumentos \": \"Subvenci\\u00f3n a la Instalaci\\u00f3n en la Academia\", \"Agencia\": \"ANID\", \"Subdirecci\\u00f3n  o Gerencia\": \"REC\", \"Pilar de Pol\\u00edtica P\\u00fablica\": \"Capacidades Institucionales\", \"Descripci\\u00f3n\": \"Subvenci\\u00f3n a las universidades chilenas para financiar la instalaci\\u00f3n de investigadores que inician su carrera independiente, buscando contribuir a su fortalecimiento institucional.\", \"A\\u00f1o inicio\": 2017, \"Duraci\\u00f3n m\\u00e1xima (meses)\": 36, \"Persona Natural\": null, \"Persona Jur\\u00eddica\": \"\\u2713\", \"IES\": \"\\u2713\", \"IPSFL\": null, \"Empresa\": null, \"Servicios P\\u00fablicos\": null, \"Regional\": \"A aquellas propuestas que se desarrollen en algunas de las regiones con menor n\\u00famero hist\\u00f3rico de postulaciones/adjudicaciones, se les asignar\\u00e1 una bonificaci\\u00f3n de 0,2 puntos (en la escala de 1 a 5), tomando como referencia la data hist\\u00f3rica presentada en el Anexo 1 de las bases.\", \"G\\u00e9nero\": \"Consideraciones por maternidad tales como pre y post natal, extensi\\u00f3n del proyecto, evaluaci\\u00f3n de productividad cient\\u00edfica.\", \"Medioambiental\": null, \"Nombre del Programa o Iniciativa \": \"Programa de Inserci\\u00f3n de Investigadores\", \"Componente(s) \": \"Subvenci\\u00f3n a la Instalaci\\u00f3n en la Academia\"}, {\"Instrumentos \": \"Fondo Quimal\", \"Agencia\": \"ANID\", \"Subdirecci\\u00f3n  o Gerencia\": \"REC\", \"Pilar de Pol\\u00edtica P\\u00fablica\": \"Capacidades Institucionales\", \"Descripci\\u00f3n\": \"Fondo para financiamiento de proyectos de desarrollo de tecnolog\\u00edas con especial \\u00e9nfasis en el dise\\u00f1o y construcci\\u00f3n de instrumentaci\\u00f3n astron\\u00f3mica, afines al quehacer astron\\u00f3mico para realizar investigaci\\u00f3n de frontera, y procesos de transferencia tecnol\\u00f3gica de punta, buscando principalmente apoyar, potenciar y fomentar el desarrollo de la investigaci\\u00f3n cient\\u00edfica astron\\u00f3mica nacional y sus ciencias afines.\", \"A\\u00f1o inicio\": 2012, \"Duraci\\u00f3n m\\u00e1xima (meses)\": 36, \"Persona Natural\": \"\\u2713\", \"Persona Jur\\u00eddica\": \"\\u2713\", \"IES\": \"\\u2713\", \"IPSFL\": \"\\u2713\", \"Empresa\": null, \"Servicios P\\u00fablicos\": null, \"Regional\": null, \"G\\u00e9nero\": \"Consideraciones por maternidad, como aplazar la fecha de t\\u00e9rmino del proyecto.\", \"Medioambiental\": null, \"Nombre del Programa o Iniciativa \": \"Cooperaci\\u00f3n Internacional\", \"Componente(s) \": \"QUIMAL\"}, {\"Instrumentos \": \"Investigaci\\u00f3n Conjunta\", \"Agencia\": \"ANID\", \"Subdirecci\\u00f3n  o Gerencia\": \"REC\", \"Pilar de Pol\\u00edtica P\\u00fablica\": \"Capacidades Institucionales\", \"Descripci\\u00f3n\": \"Financia proyectos de investigaci\\u00f3n de mayor proyecci\\u00f3n en el \\u00e1mbito de Ciencia y Tecnolog\\u00eda a nivel mundial en base a acuerdo de cooperaci\\u00f3n entre Chile y organismos internacionales, con el prop\\u00f3sito de incentivar la vinculaci\\u00f3n y fortalecimiento de redes mundiales para fortalecer la investigaci\\u00f3n nacional.\", \"A\\u00f1o inicio\": 2009, \"Duraci\\u00f3n m\\u00e1xima (meses)\": \"24 - 48\", \"Persona Natural\": null, \"Persona Jur\\u00eddica\": \"\\u2713\", \"IES\": \"\\u2713\", \"IPSFL\": \"\\u2713\", \"Empresa\": null, \"Servicios P\\u00fablicos\": \"\\u2713\", \"Regional\": null, \"G\\u00e9nero\": null, \"Medioambiental\": null, \"Nombre del Programa o Iniciativa \": \"Cooperaci\\u00f3n Internacional\", \"Componente(s) \": \"Investigaci\\u00f3n Conjunta\"}, {\"Instrumentos \": \"Redes Internacionales\", \"Agencia\": \"ANID\", \"Subdirecci\\u00f3n  o Gerencia\": \"REC\", \"Pilar de Pol\\u00edtica P\\u00fablica\": \"Capacidades Institucionales\", \"Descripci\\u00f3n\": \"Financia proyectos de investigaci\\u00f3n b\\u00e1sica y aplicada que contengan una dimensi\\u00f3n potencial de transferencia y de innovaci\\u00f3n tecnol\\u00f3gica, entre Francia y al menos dos pa\\u00edses sudamericanos asociados, a trav\\u00e9s del intercambio de investigadores y doctorantes y de informaci\\u00f3n entre los pa\\u00edses, para promover y fortalecer la colaboraci\\u00f3n y la creaci\\u00f3n de redes de investigaci\\u00f3n-desarrollo en el \\u00e1mbito de las Ciencias y Tecnolog\\u00edas de la Informaci\\u00f3n y Comunicaci\\u00f3n.\", \"A\\u00f1o inicio\": 2005, \"Duraci\\u00f3n m\\u00e1xima (meses)\": 24, \"Persona Natural\": \"\\u2713\", \"Persona Jur\\u00eddica\": null, \"IES\": null, \"IPSFL\": null, \"Empresa\": null, \"Servicios P\\u00fablicos\": null, \"Regional\": null, \"G\\u00e9nero\": null, \"Medioambiental\": \"Programa Regional CLIMAT-AmSud es una iniciativa orientada a promover y fortalecer la colaboraci\\u00f3n y la creaci\\u00f3n de redes de investigaci\\u00f3n-desarrollo en el \\u00e1mbito de la variabilidad clim\\u00e1tica y al cambio clim\\u00e1tico.\", \"Nombre del Programa o Iniciativa \": \"Cooperaci\\u00f3n Internacional\", \"Componente(s) \": \"Redes Internacionales\"}, {\"Instrumentos \": \"Movilidad\", \"Agencia\": \"ANID\", \"Subdirecci\\u00f3n  o Gerencia\": \"REC\", \"Pilar de Pol\\u00edtica P\\u00fablica\": \"Capacidades Institucionales\", \"Descripci\\u00f3n\": \"Financia la movilidad internacional de investigadores(as) y estudiantes, incluyendo estad\\u00eda, remuneraciones, pasajes, gastos de operaci\\u00f3n y seguros, en el marco de proyectos de investigaci\\u00f3n, con el objetivo de fortalecer capacidades nacionales para el desarrollo de ciencia, tecnolog\\u00eda, conocimento e innovaci\\u00f3n.\", \"A\\u00f1o inicio\": 2004, \"Duraci\\u00f3n m\\u00e1xima (meses)\": \"18 - 36\", \"Persona Natural\": \"\\u2713\", \"Persona Jur\\u00eddica\": null, \"IES\": null, \"IPSFL\": null, \"Empresa\": null, \"Servicios P\\u00fablicos\": null, \"Regional\": null, \"G\\u00e9nero\": null, \"Medioambiental\": null, \"Nombre del Programa o Iniciativa \": \"Cooperaci\\u00f3n Internacional\", \"Componente(s) \": \"Movilidad\"}, {\"Instrumentos \": \"Nodos para la Aceleraci\\u00f3n de Impacto Territorial de la CTCI\", \"Agencia\": \"ANID\", \"Subdirecci\\u00f3n  o Gerencia\": \"REC\", \"Pilar de Pol\\u00edtica P\\u00fablica\": \"Capacidades Institucionales\", \"Descripci\\u00f3n\": \"Financiamiento de proyectos cient\\u00edficos desarrollados por universidades, centros e institutos de investigaci\\u00f3n, que consideren la realidad de las regiones que la conforman, orientados a articular el sistema CTCI local en cada macrozona.\", \"A\\u00f1o inicio\": 2020, \"Duraci\\u00f3n m\\u00e1xima (meses)\": 24, \"Persona Natural\": null, \"Persona Jur\\u00eddica\": \"\\u2713\", \"IES\": \"\\u2713\", \"IPSFL\": \"\\u2713\", \"Empresa\": \"\\u2713\", \"Servicios P\\u00fablicos\": null, \"Regional\": \"Foco del instrumento es regional.\", \"G\\u00e9nero\": \"Promoci\\u00f3n de equidad de g\\u00e9nero en equipo de trabajo como criterio de evaluaci\\u00f3n.\", \"Medioambiental\": null, \"Nombre del Programa o Iniciativa \": \"Programa Regional de Desarrollo de la Investigaci\\u00f3n Cient\\u00edfica y Tecnol\\u00f3gica\", \"Componente(s) \": \"Vinculaci\\u00f3n y Articulaci\\u00f3n Interinstitucional y de Actores Regionales en Ciencia y Tecnolog\\u00eda\"}, {\"Instrumentos \": \"Apoyo a la Innovaci\\u00f3n en Educaci\\u00f3n Superior - INES\", \"Agencia\": \"Subsecretar\\u00eda CTCI\", \"Subdirecci\\u00f3n  o Gerencia\": \"Divisi\\u00f3n de Pol\\u00edtica y Articulaci\\u00f3n\", \"Pilar de Pol\\u00edtica P\\u00fablica\": \"Capacidades Institucionales\", \"Descripci\\u00f3n\": \"Fondo concursable para instituciones de educaci\\u00f3n superior, las que deben identificar brechas en capacidades institucionales para la innovaci\\u00f3n basada en I+D, y elaborar planes de trabajo a implementarse, buscando asegurar la competitividad de las instituciones.\", \"A\\u00f1o inicio\": 2014, \"Duraci\\u00f3n m\\u00e1xima (meses)\": 36, \"Persona Natural\": null, \"Persona Jur\\u00eddica\": \"\\u2713\", \"IES\": \"\\u2713\", \"IPSFL\": null, \"Empresa\": null, \"Servicios P\\u00fablicos\": null, \"Regional\": \"Pertinencia territorial y/o regional como criterio de evaluaci\\u00f3n (5%). Aporte de la contraparte debe ser de un 10% del financiamiento p\\u00fablico al proyecto, el que puede ser valorizado si la universidad es de regiones distintas a la RM.\", \"G\\u00e9nero\": \"Existencia de acciones asociadas a la promoci\\u00f3n de equidad de g\\u00e9nero en los planes de trabajo como criterio de evaluaci\\u00f3n (6%). Se considera la equidad de genero para evaluar el equipo que propone el proyecto.\", \"Medioambiental\": null, \"Nombre del Programa o Iniciativa \": \"Apoyo Innovaci\\u00f3n Educaci\\u00f3n Superior\", \"Componente(s) \": \"Subsidio concursable para que las IES desarrollen un plan para generar capacidades de innovaci\\u00f3n basada en I+D\"}, {\"Instrumentos \": \"Covid-19\", \"Agencia\": \"ANID\", \"Subdirecci\\u00f3n  o Gerencia\": \"REC\", \"Pilar de Pol\\u00edtica P\\u00fablica\": \"Capacidades Institucionales\", \"Descripci\\u00f3n\": \"Financiamiento de proyectos de investigaci\\u00f3n sobre el virus SARS-CoV-2 o la enfermedad COVID-19, vinculados al diagn\\u00f3stico, control, prevenci\\u00f3n, tratamiento, monitoreo y/u otros aspectos relacionados con esta infecci\\u00f3n y sus consecuencias, desde distintos \\u00e1mbitos, buscando impulsar la investigaci\\u00f3n, la transferencia de conocimiento y la vinculaci\\u00f3n entre actores relevantes del sistema CTI, para fortalecer capacidades globales, nacionales y locales que puedan contribuir a la investigaci\\u00f3n de la enfermedad.\", \"A\\u00f1o inicio\": 2020, \"Duraci\\u00f3n m\\u00e1xima (meses)\": 12, \"Persona Natural\": \"\\u2713\", \"Persona Jur\\u00eddica\": \"\\u2713\", \"IES\": \"\\u2713\", \"IPSFL\": \"\\u2713\", \"Empresa\": \"\\u2713\", \"Servicios P\\u00fablicos\": null, \"Regional\": \"Investigaciones pueden abordar el impacto del desarrollo econ\\u00f3mico global, naional y/o regional. Las propuestas deben considerar el impacto de la investigaci\\u00f3n en las regiones.\", \"G\\u00e9nero\": \"Promoci\\u00f3n de equidad de g\\u00e9nero en equipo de trabajo como criterio de evaluaci\\u00f3n.\", \"Medioambiental\": \"Estudios pueden aborar sistemas de respuesta y gesti\\u00f3n de crisis para identificar mecanismos de coordinaci\\u00f3n internacional que puedan optimizar respuesta ante pandemias y/o desastres naturales.\", \"Nombre del Programa o Iniciativa \": \"Programa de Investigaci\\u00f3n Asociativa\", \"Componente(s) \": null}, {\"Instrumentos \": \"Centros de Excelencia Internacional para la Competitividad\", \"Agencia\": \"CORFO\", \"Subdirecci\\u00f3n  o Gerencia\": \"Capacidades Tecnol\\u00f3gicas\", \"Pilar de Pol\\u00edtica P\\u00fablica\": \"Investigaci\\u00f3n Asociativa\", \"Descripci\\u00f3n\": \"Apoya el establecimiento en Chile de Centros de Excelencia Internacionales para realizar actividades de Investigaci\\u00f3n y desarrollo, transferencia tecnol\\u00f3gica y comercializaci\\u00f3n, en conjunto con entidades locales, en \\u00e1reas de frontera tecnol\\u00f3gica, con alto impacto econ\\u00f3mico nacional e internacional, y que fortalezcan las capacidades nacionales de I+D.\", \"A\\u00f1o inicio\": 2009, \"Duraci\\u00f3n m\\u00e1xima (meses)\": 120, \"Persona Natural\": null, \"Persona Jur\\u00eddica\": \"\\u2713\", \"IES\": \"\\u2713\", \"IPSFL\": null, \"Empresa\": null, \"Servicios P\\u00fablicos\": null, \"Regional\": null, \"G\\u00e9nero\": null, \"Medioambiental\": null, \"Nombre del Programa o Iniciativa \": \"Centros de Excelencia Internacional para la Competitividad\", \"Componente(s) \": \"Instalaci\\u00f3n y operaci\\u00f3n en Chile de Centros de Excelencia Internacional Institucionales\"}, {\"Instrumentos \": \"Centros Tecnol\\u00f3gicos para la Innovaci\\u00f3n\", \"Agencia\": \"CORFO\", \"Subdirecci\\u00f3n  o Gerencia\": \"Capacidades Tecnol\\u00f3gicas\", \"Pilar de Pol\\u00edtica P\\u00fablica\": \"Investigaci\\u00f3n Asociativa\", \"Descripci\\u00f3n\": \"Financiamiento a Centros Tecnol\\u00f3gicos para fortalecer y/o desarrollar infraestructura tecnol\\u00f3gica y capital humano avanzado, que permita activar la demanda por innovaci\\u00f3n de las empresas para la creaci\\u00f3n de nuevos productos o servicios de alto valor y potencial de mercado.\", \"A\\u00f1o inicio\": 2015, \"Duraci\\u00f3n m\\u00e1xima (meses)\": 120, \"Persona Natural\": null, \"Persona Jur\\u00eddica\": \"\\u2713\", \"IES\": \"\\u2713\", \"IPSFL\": \"\\u2713\", \"Empresa\": \"\\u2713\", \"Servicios P\\u00fablicos\": null, \"Regional\": \"Proyectos que generen resultados que impacten a nivel nacional (a lo menos, a 7 regiones) o a nivel meso regional (a lo menos a 3 regiones) para lo que se deber\\u00e1 considerar dentro de los participantes, a una o m\\u00e1s entidades, que en su conjunto abarquen las Regiones donde se espera impactar. El monto de subsidio m\\u00e1ximo es mayor seg\\u00fan el alcance de la entidad\", \"G\\u00e9nero\": null, \"Medioambiental\": null, \"Nombre del Programa o Iniciativa \": \"Desarrollo de capacidades tecnol\\u00f3gicas para innovaci\\u00f3n en sectores estrat\\u00e9gicos\", \"Componente(s) \": \"Financiamiento basal para la generaci\\u00f3n de capacidades tecnol\\u00f3gicas para la I+D aplicada e innovaci\\u00f3n tecnol\\u00f3gica\"}, {\"Instrumentos \": \"Ciencia e Innovaci\\u00f3n para el 2030\", \"Agencia\": \"CORFO\", \"Subdirecci\\u00f3n  o Gerencia\": \"Capacidades Tecnol\\u00f3gicas\", \"Pilar de Pol\\u00edtica P\\u00fablica\": \"Capacidades Institucionales\", \"Descripci\\u00f3n\": \"Financiamiento consursable para apoyar a universidades chilenas que imparten programas de pregrado y/o posgrado en \\u00e1rea de las ciencias b\\u00e1sicas, en la implementaci\\u00f3n de un plan estrat\\u00e9gico orientado a la transformaci\\u00f3n en sus facultades de Ciencias, en los \\u00e1mbitos formativos y de investigaci\\u00f3n aplicada, buscando aumentar su vinculaci\\u00f3n con el entorno socioecon\\u00f3mico y as\\u00ed fortalecer la capacidades de transferencia tecnol\\u00f3gica,  innovaci\\u00f3n y el emprendimiento de base cient\\u00edfico-tecnol\\u00f3gica. \", \"A\\u00f1o inicio\": 2018, \"Duraci\\u00f3n m\\u00e1xima (meses)\": 18, \"Persona Natural\": null, \"Persona Jur\\u00eddica\": \"\\u2713\", \"IES\": \"\\u2713\", \"IPSFL\": null, \"Empresa\": null, \"Servicios P\\u00fablicos\": null, \"Regional\": \"Las postulaciones conjuntas deber\\u00e1n incluir la participaci\\u00f3n de, al menos, una universidad con sede principal o Casa Central en una regi\\u00f3n distinta de la RM. Esta modalidad tiene mayor tope de financiamiento que una postulaci\\u00f3n individual.\", \"G\\u00e9nero\": null, \"Medioambiental\": null, \"Nombre del Programa o Iniciativa \": \"Ciencia e Innovaci\\u00f3n para el 2030\", \"Componente(s) \": \"Subsidio para la fase de Dise\\u00f1o del Plan Estrat\\u00e9gico que se dirigir\\u00e1 a aumentar y mejorar la I+D orientada a la industria en las Universidades; Subsidio para la fase de ejecuci\\u00f3n del Plan Estrat\\u00e9gico que se dirigir\\u00e1 a aumentar y mejorar la I+D orientada a la industria en las Universidades\"}, {\"Instrumentos \": \"Ingenier\\u00eda 2030\", \"Agencia\": \"CORFO\", \"Subdirecci\\u00f3n  o Gerencia\": \"Capacidades Tecnol\\u00f3gicas\", \"Pilar de Pol\\u00edtica P\\u00fablica\": \"Capacidades Institucionales\", \"Descripci\\u00f3n\": \"Financiamiento concursable para apoyar a universidades chilenas que imparten carreras de ingenier\\u00eda civil, en el proceso de implementaci\\u00f3n de planes estrat\\u00e9gicos, orientados a la transformaci\\u00f3n en sus escuelas de ingenier\\u00eda, en los \\u00e1mbitos formativos y de investigaci\\u00f3n aplicada, buscando aumentar su vinculaci\\u00f3n con el entorno socioecon\\u00f3mico y as\\u00ed fortalecer las capacidades de transferencia tecnol\\u00f3gica, innovaci\\u00f3n y el emprendimiento de base tecnol\\u00f3gica de egresados y docentes. \", \"A\\u00f1o inicio\": 2014, \"Duraci\\u00f3n m\\u00e1xima (meses)\": 72, \"Persona Natural\": null, \"Persona Jur\\u00eddica\": \"\\u2713\", \"IES\": \"\\u2713\", \"IPSFL\": null, \"Empresa\": null, \"Servicios P\\u00fablicos\": null, \"Regional\": \"Concurso con foco regional.\", \"G\\u00e9nero\": null, \"Medioambiental\": null, \"Nombre del Programa o Iniciativa \": \"Programa Ingenier\\u00eda 2030\", \"Componente(s) \": \"Subsidio para dise\\u00f1o de plan de acci\\u00f3n estrat\\u00e9gico de modernizaci\\u00f3n de las facultades de ingenier\\u00eda beneficiarias orientado a cambiar la educaci\\u00f3n y orientaci\\u00f3n de I+D dirigi\\u00e9ndola hacia la industria; Subsidio para ejecutar las actividades dise\\u00f1adas en el plan estrat\\u00e9gico de la facultad, para aumentar la producci\\u00f3n de I+D con fines productivos y entregar educaci\\u00f3n con vinculaci\\u00f3n con la industria\"}, {\"Instrumentos \": \"Oficinas de Transferencia y Licenciamiento\", \"Agencia\": \"CORFO\", \"Subdirecci\\u00f3n  o Gerencia\": \"Capacidades Tecnol\\u00f3gicas\", \"Pilar de Pol\\u00edtica P\\u00fablica\": \"Capacidades Institucionales\", \"Descripci\\u00f3n\": \"Financiamiento concurable para la consolidaci\\u00f3n de Oficinas de Transferencia y Licenciamiento, buscando incrementar la comercializaci\\u00f3n de hallazgos cient\\u00edficos y tecnol\\u00f3gicos de universidades y centros de investigaci\\u00f3n, y  la creaci\\u00f3n de  negocios de base tecnol\\u00f3gica o innovaciones, con el fin de aumentar la sofisticaci\\u00f3n y diversificaci\\u00f3n del tejido productivo nacional.\", \"A\\u00f1o inicio\": 2015, \"Duraci\\u00f3n m\\u00e1xima (meses)\": 24, \"Persona Natural\": null, \"Persona Jur\\u00eddica\": \"\\u2713\", \"IES\": \"\\u2713\", \"IPSFL\": \"\\u2713\", \"Empresa\": null, \"Servicios P\\u00fablicos\": null, \"Regional\": null, \"G\\u00e9nero\": null, \"Medioambiental\": null, \"Nombre del Programa o Iniciativa \": \"Programa de Transferencia Tecnol\\u00f3gica\", \"Componente(s) \": \"Oficinas de Transferencia y Licenciamiento (OTL) para la comercializaci\\u00f3n de tecnolog\\u00edas en mercado nacional y vinculaci\\u00f3n con la industria nacional\"}, {\"Instrumentos \": \"Hubs de Transferencia Tecnol\\u00f3gica\", \"Agencia\": \"CORFO\", \"Subdirecci\\u00f3n  o Gerencia\": \"Capacidades Tecnol\\u00f3gicas\", \"Pilar de Pol\\u00edtica P\\u00fablica\": \"Investigaci\\u00f3n Aplicada y Transferencia\", \"Descripci\\u00f3n\": \"Financiamiento concursable que apoya la instalaci\\u00f3n de Hubs de transferencia tecnol\\u00f3gica, que  impulsan la transformaci\\u00f3n de resultados de investigaci\\u00f3n cient\\u00edfica en productos, servicios y empresas de base tecnol\\u00f3gica con alcance nacional e internacional, con el fin de aumentar la sofisticaci\\u00f3n y diversificaci\\u00f3n del tejido productivo nacional.\", \"A\\u00f1o inicio\": 2016, \"Duraci\\u00f3n m\\u00e1xima (meses)\": 60, \"Persona Natural\": null, \"Persona Jur\\u00eddica\": \"\\u2713\", \"IES\": \"\\u2713\", \"IPSFL\": null, \"Empresa\": null, \"Servicios P\\u00fablicos\": null, \"Regional\": null, \"G\\u00e9nero\": null, \"Medioambiental\": null, \"Nombre del Programa o Iniciativa \": \"Programa de Transferencia Tecnol\\u00f3gica\", \"Componente(s) \": \"Hubs de Transferencia Tecnol\\u00f3gica para la comercializaci\\u00f3n de tecnolog\\u00edas provenientes de Universidades y Centros de I+D, en mercados internacionales\"}, {\"Instrumentos \": \"Retos de Innovaci\\u00f3n de Inter\\u00e9s P\\u00fablico\", \"Agencia\": \"CORFO\", \"Subdirecci\\u00f3n  o Gerencia\": \"Capacidades Tecnol\\u00f3gicas\", \"Pilar de Pol\\u00edtica P\\u00fablica\": \"Investigaci\\u00f3n Aplicada y Transferencia\", \"Descripci\\u00f3n\": \"Fondos competitivos para financiar etapas de desarrollo de proyectos de retos de innovaci\\u00f3n con base en I+D, que apunten a resolver necesidades de inter\\u00e9s p\\u00fablico, premiando a innovadores que logren crear soluciones listas para ser implementadas, buscnado con ello aumentar la tasa de creaci\\u00f3n de nuevos productos y/o servicios\", \"A\\u00f1o inicio\": 2019, \"Duraci\\u00f3n m\\u00e1xima (meses)\": 36, \"Persona Natural\": null, \"Persona Jur\\u00eddica\": null, \"IES\": null, \"IPSFL\": null, \"Empresa\": null, \"Servicios P\\u00fablicos\": \"\\u2713\", \"Regional\": null, \"G\\u00e9nero\": null, \"Medioambiental\": null, \"Nombre del Programa o Iniciativa \": null, \"Componente(s) \": \"Levantamiento y priorizaci\\u00f3n de problem\\u00e1ticas de inter\\u00e9s p\\u00fablico; Fase Inicial - Retos de Innovaci\\u00f3n; Fase intermedia - Retos de Innovaci\\u00f3n; Fase final - Retos de Innovaci\\u00f3n\"}, {\"Instrumentos \": \"Startup Ciencia\", \"Agencia\": \"CORFO\", \"Subdirecci\\u00f3n  o Gerencia\": \"Capacidades Tecnol\\u00f3gicas\", \"Pilar de Pol\\u00edtica P\\u00fablica\": \"Investigaci\\u00f3n Aplicada y Transferencia\", \"Descripci\\u00f3n\": \"Cofinanciamiento, acceso a redes y acompa\\u00f1amiento en validaci\\u00f3n t\\u00e9cnica y de negocio, a proyectos innovadores y disruptivos basados en tecnolog\\u00edas de alta sofisticaci\\u00f3n, buscando apoyar la creaci\\u00f3n y/o crecimiento de empresas de base cient\\u00edfico-tecnol\\u00f3gica en el pa\\u00eds.\", \"A\\u00f1o inicio\": 2019, \"Duraci\\u00f3n m\\u00e1xima (meses)\": 24, \"Persona Natural\": \"\\u2713\", \"Persona Jur\\u00eddica\": \"\\u2713\", \"IES\": null, \"IPSFL\": null, \"Empresa\": \"\\u2713\", \"Servicios P\\u00fablicos\": null, \"Regional\": null, \"G\\u00e9nero\": \"Hasta un 5% m\\u00e1s de cofinanciamianto a empresas lideradas por mujeres\", \"Medioambiental\": null, \"Nombre del Programa o Iniciativa \": \"Startup Ciencia\", \"Componente(s) \": \"Subsidio Startup Ciencia\"}, {\"Instrumentos \": \"Programas Tecnol\\u00f3gicos Estrat\\u00e9gicos\", \"Agencia\": \"CORFO\", \"Subdirecci\\u00f3n  o Gerencia\": \"Capacidades Tecnol\\u00f3gicas\", \"Pilar de Pol\\u00edtica P\\u00fablica\": \"Investigaci\\u00f3n Aplicada y Transferencia\", \"Descripci\\u00f3n\": \"Financiamiento para el desarrollo de proyectos de investigaci\\u00f3n aplicada y desarrollo tecnol\\u00f3gico con visi\\u00f3n de largo plazo, que permitan cerrar las brechas detectadas, mejorar la productividad del sector y contribuir a diversificar y sofisticar el tejido productivo.\", \"A\\u00f1o inicio\": 2015, \"Duraci\\u00f3n m\\u00e1xima (meses)\": 120, \"Persona Natural\": null, \"Persona Jur\\u00eddica\": \"\\u2713\", \"IES\": \"\\u2713\", \"IPSFL\": \"\\u2713\", \"Empresa\": \"\\u2713\", \"Servicios P\\u00fablicos\": null, \"Regional\": \"Proyectos que aborden el desafio de desarrollar tecnolog\\u00edas o plataformas habilitantes de caracter nacional o bien macrozonal.\", \"G\\u00e9nero\": null, \"Medioambiental\": null, \"Nombre del Programa o Iniciativa \": \"Ejecuci\\u00f3n de Programas Tecnol\\u00f3gicos \", \"Componente(s) \": \"Programas Tecnol\\u00f3gicos Estrat\\u00e9gicos\"}, {\"Instrumentos \": \"Consorcios Tecnol\\u00f3gicos para la Innovaci\\u00f3n\", \"Agencia\": \"CORFO\", \"Subdirecci\\u00f3n  o Gerencia\": \"Capacidades Tecnol\\u00f3gicas\", \"Pilar de Pol\\u00edtica P\\u00fablica\": \"Investigaci\\u00f3n Aplicada y Transferencia\", \"Descripci\\u00f3n\": \"Financiamiento para el desarrollo de proyectos de I+D de largo plazo, de forma dinamica y consorciada, que generen valor a partir del alineamiento de necesidades del mercado con conocimientos tecnologicos, mejorar la productividad del sector y contribuir a diversificar y sofisticar el tejido productivo. \", \"A\\u00f1o inicio\": 2012, \"Duraci\\u00f3n m\\u00e1xima (meses)\": 120, \"Persona Natural\": null, \"Persona Jur\\u00eddica\": \"\\u2713\", \"IES\": \"\\u2713\", \"IPSFL\": \"\\u2713\", \"Empresa\": \"\\u2713\", \"Servicios P\\u00fablicos\": null, \"Regional\": \"Proyectos que aborden el desafio de desarrollar tecnolog\\u00edas o plataformas habilitantes de caracter nacional o bien macrozonal.\", \"G\\u00e9nero\": null, \"Medioambiental\": null, \"Nombre del Programa o Iniciativa \": \"Ejecuci\\u00f3n de Consorcios Tecnol\\u00f3gicos \", \"Componente(s) \": \"Consorcios Tecnologicos parala Innovaci\\u00f3n\"}, {\"Instrumentos \": \"Programa de Fortalecimiento y Creaci\\u00f3n de Capacidades Tecnol\\u00f3gicas Habilitantes para Bienes P\\u00fablicos - ITPs\", \"Agencia\": \"CORFO\", \"Subdirecci\\u00f3n  o Gerencia\": \"Capacidades Tecnol\\u00f3gicas\", \"Pilar de Pol\\u00edtica P\\u00fablica\": \"Investigaci\\u00f3n Aplicada y Transferencia\", \"Descripci\\u00f3n\": \"Apoya la creaci\\u00f3n de Institutos Tecnol\\u00f3gicos y de Investigaci\\u00f3n P\\u00fablicos en etapa perfil y/o su fortalecimiento de capacidades para la implementaci\\u00f3n de plan estrat\\u00e9gico, para la provisi\\u00f3n de bienes y servicios p\\u00fablicos de apoyo a la regulaci\\u00f3n y las pol\\u00edticas p\\u00fablicas, buscando aumentar la competitividad en sectores productivos espec\\u00edficos.\", \"A\\u00f1o inicio\": 2015, \"Duraci\\u00f3n m\\u00e1xima (meses)\": 129, \"Persona Natural\": null, \"Persona Jur\\u00eddica\": \"\\u2713\", \"IES\": null, \"IPSFL\": \"\\u2713\", \"Empresa\": null, \"Servicios P\\u00fablicos\": \"\\u2713\", \"Regional\": null, \"G\\u00e9nero\": null, \"Medioambiental\": null, \"Nombre del Programa o Iniciativa \": \"Fortalecimiento de Institutos Tecnol\\u00f3gicos P\\u00fablicos\", \"Componente(s) \": \"Iniciativa de Programa de Fortalecimiento y Creaci\\u00f3n de Capacidades Tecnol\\u00f3gicas Habilitantes para Bienes P\\u00fablicos - Etapa Perfil; Iniciativa de Programa de Fortalecimiento y Creaci\\u00f3n de Capacidades Tecnol\\u00f3gicas Habilitantes para Bienes P\\u00fablicos\"}, {\"Instrumentos \": \"Innovaci\\u00f3n y Transferencia Tecnol\\u00f3gica para CFT e IP\", \"Agencia\": \"CORFO\", \"Subdirecci\\u00f3n  o Gerencia\": \"Capacidades Tecnol\\u00f3gicas\", \"Pilar de Pol\\u00edtica P\\u00fablica\": \"Investigaci\\u00f3n Aplicada y Transferencia\", \"Descripci\\u00f3n\": \"Apoya a Centros de Formaci\\u00f3n T\\u00e9cnica (CFT) e Institutos Profesionales (IP) para que, por medio de la incorporaci\\u00f3n de herramientas y conocimientos de innovaci\\u00f3n y transferencia tecnol\\u00f3gica en su quehacer estrat\\u00e9gico, puedan mejorar su vinculaci\\u00f3n con los sectores productivos y empresariales del pa\\u00eds, y as\\u00ed contribuir al desarrollo del capital humano necesario para enfrentar los desaf\\u00edos de la econom\\u00eda chilena.\", \"A\\u00f1o inicio\": 2019, \"Duraci\\u00f3n m\\u00e1xima (meses)\": 60, \"Persona Natural\": null, \"Persona Jur\\u00eddica\": \"\\u2713\", \"IES\": \"\\u2713\", \"IPSFL\": null, \"Empresa\": null, \"Servicios P\\u00fablicos\": null, \"Regional\": null, \"G\\u00e9nero\": null, \"Medioambiental\": null, \"Nombre del Programa o Iniciativa \": \"Programa de Innovaci\\u00f3n y Transferencia Tecnol\\u00f3gica para CFT e IP\", \"Componente(s) \": \"Subsidio para el dise\\u00f1o de planes estrat\\u00e9gicos institucionales; Subsidio para implementar las iniciativas dise\\u00f1adas en los planes estrat\\u00e9gicos institucionales\"}, {\"Instrumentos \": \"Innova Alta Tecnolog\\u00eda\", \"Agencia\": \"CORFO\", \"Subdirecci\\u00f3n  o Gerencia\": \"Innova\", \"Pilar de Pol\\u00edtica P\\u00fablica\": \"Innovaci\\u00f3n y Desarrollo de Negocio\", \"Descripci\\u00f3n\": \"Cofinanciamiento a empresas para apoyar proyectos de I+D+i con alto riesgo tecnol\\u00f3gico y comercial, para el desarrollo de nuevos productos, servicios y/o procesos de sofisticaci\\u00f3n tecnol\\u00f3gica, buscando impulsar estratgias de comercializaci\\u00f3n del desarrollo para que escalen a nivel global.\", \"A\\u00f1o inicio\": 2019, \"Duraci\\u00f3n m\\u00e1xima (meses)\": 48, \"Persona Natural\": null, \"Persona Jur\\u00eddica\": \"\\u2713\", \"IES\": null, \"IPSFL\": null, \"Empresa\": \"\\u2713\", \"Servicios P\\u00fablicos\": null, \"Regional\": null, \"G\\u00e9nero\": \"Hasta un 10% m\\u00e1s de financiamiento a empresas lideradas por mujeres.\", \"Medioambiental\": null, \"Nombre del Programa o Iniciativa \": \"Desarrollo de Proyectos de I+D+i Empresarial\", \"Componente(s) \": \"Innovaci\\u00f3n Empresarial de Alta Tecnolog\\u00eda\"}, {\"Instrumentos \": \"Crea y valida I+D+i Colaborativo\", \"Agencia\": \"CORFO\", \"Subdirecci\\u00f3n  o Gerencia\": \"Innova\", \"Pilar de Pol\\u00edtica P\\u00fablica\": \"Innovaci\\u00f3n y Desarrollo de Negocio\", \"Descripci\\u00f3n\": \"Cofinanciamiento para apoyar el desarrollo de proyectos innovadores a partir de prototipos, que requieran de realizar actividades de I+D+i a trav\\u00e9s de la vinculaci\\u00f3n con entidades colaboradoras para alcanzar resultados, resolver problemas y/o desaf\\u00edos del sector productivo o abordar una oportunidad de mercado, buscando apoyar el desarrollo de nuevos o mejorados productos, servicios y/o procesos de base tecnol\\u00f3gica y con alto valor agregado, al menos a nivel nacional.\", \"A\\u00f1o inicio\": 2019, \"Duraci\\u00f3n m\\u00e1xima (meses)\": 36, \"Persona Natural\": null, \"Persona Jur\\u00eddica\": \"\\u2713\", \"IES\": null, \"IPSFL\": null, \"Empresa\": \"\\u2713\", \"Servicios P\\u00fablicos\": null, \"Regional\": null, \"G\\u00e9nero\": \"Hasta un 10% m\\u00e1s de financiamiento a empresas lideradas por mujeres.\", \"Medioambiental\": null, \"Nombre del Programa o Iniciativa \": \"Desarrollo de Proyectos de I+D+i Empresarial\", \"Componente(s) \": \"Crea y Valida I+D+i Colaborativo\"}, {\"Instrumentos \": \"Crea y valida I+D+i Empresarial\", \"Agencia\": \"CORFO\", \"Subdirecci\\u00f3n  o Gerencia\": \"Innova\", \"Pilar de Pol\\u00edtica P\\u00fablica\": \"Innovaci\\u00f3n y Desarrollo de Negocio\", \"Descripci\\u00f3n\": \"Cofinanciamiento para apoyar el desarrollo de proyectos innovadores a partir de prototipos, que requieran de realizar actividades de I+D+i para alcanzar sus resultados, resolver problemas y/o desaf\\u00edos del sector productivo o abordar una oportunidad de mercado, buscando apoyar el desarrollo de nuevos o mejorados productos, servicios y/o procesos de base tecnol\\u00f3gica y con alto valor agregado, al menos a nivel nacional.\", \"A\\u00f1o inicio\": 2019, \"Duraci\\u00f3n m\\u00e1xima (meses)\": 35, \"Persona Natural\": null, \"Persona Jur\\u00eddica\": \"\\u2713\", \"IES\": null, \"IPSFL\": null, \"Empresa\": \"\\u2713\", \"Servicios P\\u00fablicos\": null, \"Regional\": null, \"G\\u00e9nero\": \"Hasta un 10% m\\u00e1s de financiamiento a empresas lideradas por mujeres.\", \"Medioambiental\": null, \"Nombre del Programa o Iniciativa \": \"Desarrollo de Proyectos de I+D+i Empresarial\", \"Componente(s) \": \"Crea y Valida I+D+i Empresarial\"}, {\"Instrumentos \": \"Crea y valida Innovaci\\u00f3n Empresarial\", \"Agencia\": \"CORFO\", \"Subdirecci\\u00f3n  o Gerencia\": \"Innova\", \"Pilar de Pol\\u00edtica P\\u00fablica\": \"Innovaci\\u00f3n y Desarrollo de Negocio\", \"Descripci\\u00f3n\": \"Cofinanciamiento a empresas para el desarrollo de proyectos de innovaci\\u00f3n a partir de prototipos de baja resoluci\\u00f3n, hasta su validaci\\u00f3n a escala industrial y/o comercial, buscando apoyar el desarrollo de nuevos o mejorados productos, servicios y/o procesos de base tecnol\\u00f3gica y con alto valor agregado, al menos a nivel nacional.\", \"A\\u00f1o inicio\": 2019, \"Duraci\\u00f3n m\\u00e1xima (meses)\": 36, \"Persona Natural\": null, \"Persona Jur\\u00eddica\": \"\\u2713\", \"IES\": null, \"IPSFL\": null, \"Empresa\": \"\\u2713\", \"Servicios P\\u00fablicos\": null, \"Regional\": null, \"G\\u00e9nero\": \"Hasta un 10% m\\u00e1s de financiamiento a empresas lideradas por mujeres.\", \"Medioambiental\": null, \"Nombre del Programa o Iniciativa \": \"Desarrollo de Proyectos de Innovaci\\u00f3n Empresarial\", \"Componente(s) \": \"Crea y Valida Innovaci\\u00f3n Empresarial\"}, {\"Instrumentos \": \"Innova Regi\\u00f3n\", \"Agencia\": \"CORFO\", \"Subdirecci\\u00f3n  o Gerencia\": \"Innova\", \"Pilar de Pol\\u00edtica P\\u00fablica\": \"Innovaci\\u00f3n y Desarrollo de Negocio\", \"Descripci\\u00f3n\": \"Cofinanciamiento para realizar proyectos a partir de prototipos de baja resoluci\\u00f3n hasta su validaci\\u00f3n comercial, cuyo objetivo sea el desarrollo de nuevos o mejorados productos, procesos y/o servicios, que generen valor y aporten a la econom\\u00eda regional.\", \"A\\u00f1o inicio\": 2019, \"Duraci\\u00f3n m\\u00e1xima (meses)\": 24, \"Persona Natural\": null, \"Persona Jur\\u00eddica\": \"\\u2713\", \"IES\": null, \"IPSFL\": null, \"Empresa\": \"\\u2713\", \"Servicios P\\u00fablicos\": null, \"Regional\": \"Foco del Instrumento es regional\", \"G\\u00e9nero\": \"Hasta un 10% m\\u00e1s de financiamiento a empresas lideradas por mujeres.\", \"Medioambiental\": \"Hasta un 10% de cofinanciamiento si se comprometen aportes medioambientales y/o sociales\", \"Nombre del Programa o Iniciativa \": \"Desarrollo de Proyectos de Innovaci\\u00f3n Empresarial\", \"Componente(s) \": \"Innova Regi\\u00f3n\"}, {\"Instrumentos \": \"Innova Social\", \"Agencia\": \"CORFO\", \"Subdirecci\\u00f3n  o Gerencia\": \"Innova\", \"Pilar de Pol\\u00edtica P\\u00fablica\": \"Innovaci\\u00f3n y Desarrollo de Negocio\", \"Descripci\\u00f3n\": \"Cofinanciamiento a proyectos para la co-creaci\\u00f3n de innovaciones en productos, procesos, servicios y/o nuevas pr\\u00e1cticas, con impacto social y/o ambiental, adicional al econ\\u00f3mico, desde su ideaci\\u00f3n hasta validaci\\u00f3n, buscando aumentar el porcentaje de empresas que a trav\\u00e9s de la innovaci\\u00f3n, generan valor econ\\u00f3mico e impacto socioambiental en determinados territorios.\", \"A\\u00f1o inicio\": 2019, \"Duraci\\u00f3n m\\u00e1xima (meses)\": 26, \"Persona Natural\": null, \"Persona Jur\\u00eddica\": \"\\u2713\", \"IES\": null, \"IPSFL\": \"\\u2713\", \"Empresa\": \"\\u2713\", \"Servicios P\\u00fablicos\": null, \"Regional\": \"Concursos con foco regional.\\n Financiados con recursos de GORE.\", \"G\\u00e9nero\": \"Hasta un 10% m\\u00e1s de financiamiento a empresas lideradas por mujeres.\", \"Medioambiental\": \"Proyectos que buscan desarrollar impacto social y/o medioambhiental\", \"Nombre del Programa o Iniciativa \": \"Innovaci\\u00f3n Sostenible\", \"Componente(s) \": \"Subsidios para prototipos de innovaci\\u00f3n con impacto social y/o ambiental, adicional al econ\\u00f3mico.\"}, {\"Instrumentos \": \"Instala Innovaci\\u00f3n\", \"Agencia\": \"CORFO\", \"Subdirecci\\u00f3n  o Gerencia\": \"Innova\", \"Pilar de Pol\\u00edtica P\\u00fablica\": \"Innovaci\\u00f3n y Desarrollo de Negocio\", \"Descripci\\u00f3n\": \"Apoya a empresas a trav\\u00e9s de cofinanciamiento para el desarrollar capacidades internas y gestionar portafolio de proyectos de innovaci\\u00f3n, buscando instalar una cultura continua y sistem\\u00e1tica de innovaci\\u00f3n en la empresa para crear valor en ella, facilitando la generaci\\u00f3n de nuevos y/o mejorados productos, servicios y procesos.\", \"A\\u00f1o inicio\": 2019, \"Duraci\\u00f3n m\\u00e1xima (meses)\": 24, \"Persona Natural\": null, \"Persona Jur\\u00eddica\": \"\\u2713\", \"IES\": null, \"IPSFL\": null, \"Empresa\": \"\\u2713\", \"Servicios P\\u00fablicos\": null, \"Regional\": null, \"G\\u00e9nero\": \"Hasta un 10% m\\u00e1s de financiamiento a empresas lideradas por mujeres.\", \"Medioambiental\": null, \"Nombre del Programa o Iniciativa \": \"Instala Innovaci\\u00f3n\", \"Componente(s) \": \"Instala Innovaci\\u00f3n\"}, {\"Instrumentos \": \"S\\u00famate a Innovar\", \"Agencia\": \"CORFO\", \"Subdirecci\\u00f3n  o Gerencia\": \"Innova\", \"Pilar de Pol\\u00edtica P\\u00fablica\": \"Innovaci\\u00f3n y Desarrollo de Negocio\", \"Descripci\\u00f3n\": \"Cofinancia proyectos parar el desarrollo de soluciones innovadoras para resolver problemas y desaf\\u00edos de productividad y/o competitividad de las empresas nacionales, a trav\\u00e9s de la vinculaci\\u00f3n con entidades colaboradoras, buscando apoyar el desarrollo de nuevos o mejorados productos, servicios y/o procesos que generen valor agregado en las empresas.\", \"A\\u00f1o inicio\": 2019, \"Duraci\\u00f3n m\\u00e1xima (meses)\": 6, \"Persona Natural\": null, \"Persona Jur\\u00eddica\": \"\\u2713\", \"IES\": null, \"IPSFL\": null, \"Empresa\": \"\\u2713\", \"Servicios P\\u00fablicos\": null, \"Regional\": null, \"G\\u00e9nero\": \"Hasta un 10% m\\u00e1s de financiamiento a empresas lideradas por mujeres.\", \"Medioambiental\": \"S\\u00famate a la econom\\u00eda circular llamado tem\\u00e1tico con foco en conservar y mejorar el capital neutral, optimizar uso de recursos y minimizar riesgos al gestionar cantidad finita y flujos renovables\", \"Nombre del Programa o Iniciativa \": \"S\\u00famate a Innovar\", \"Componente(s) \": \"S\\u00famate a Innovar\"}, {\"Instrumentos \": \"Consolida y Expande\", \"Agencia\": \"CORFO\", \"Subdirecci\\u00f3n  o Gerencia\": \"Innova\", \"Pilar de Pol\\u00edtica P\\u00fablica\": \"Innovaci\\u00f3n y Desarrollo de Negocio\", \"Descripci\\u00f3n\": \"Cofinanciamiento para consolidar proyectos a partir de un producto tecnol\\u00f3gico comercializable, apoyando su escalamiento a nivel comercial y/o industrial, la validaci\\u00f3n y empaquetamiento en los mercados de destino, buscando introducir nuevos o mejorados prductos, servicios y/o procesos con componente I+D+i de alto valor agregado en mercados nacionales e internacionales.\", \"A\\u00f1o inicio\": 2019, \"Duraci\\u00f3n m\\u00e1xima (meses)\": 12, \"Persona Natural\": null, \"Persona Jur\\u00eddica\": \"\\u2713\", \"IES\": null, \"IPSFL\": null, \"Empresa\": \"\\u2713\", \"Servicios P\\u00fablicos\": null, \"Regional\": null, \"G\\u00e9nero\": \"Hasta un 10% m\\u00e1s de financiamiento a empresas lideradas por mujeres.\", \"Medioambiental\": \"Concurso con foco sociomedioambiental\", \"Nombre del Programa o Iniciativa \": \"Consolida y Expande\", \"Componente(s) \": \"Consolida y Expande\"}, {\"Instrumentos \": \"Consultor\\u00edas de Innovaci\\u00f3n\", \"Agencia\": \"FIA\", \"Subdirecci\\u00f3n  o Gerencia\": \"FIA\", \"Pilar de Pol\\u00edtica P\\u00fablica\": \"Innovaci\\u00f3n y Desarrollo de Negocio\", \"Descripci\\u00f3n\": \"Entrega de incentivo financiero para contribuir a la generaci\\u00f3n de conocimiento y al desarrollo de capacidades de innovaci\\u00f3n, poniendo a disposici\\u00f3n de un grupo de actores vinculadas al sector silvoagropecuario nacional y/o la cadena agroalimentaria asociada, la asesor\\u00eda de expertos nacionales o internacionales con el fin de identificar brechas tecnol\\u00f3gicas y/o productivas, y facilitar la aplicaci\\u00f3n de soluciones innovadoras.\\n \", \"A\\u00f1o inicio\": 2014, \"Duraci\\u00f3n m\\u00e1xima (meses)\": 1, \"Persona Natural\": null, \"Persona Jur\\u00eddica\": \"\\u2713\", \"IES\": \"\\u2713\", \"IPSFL\": \"\\u2713\", \"Empresa\": \"\\u2713\", \"Servicios P\\u00fablicos\": null, \"Regional\": null, \"G\\u00e9nero\": null, \"Medioambiental\": \"La consultor\\u00eda debe resolver un problema o abordar oportunidades en uno de los 3 desaf\\u00edos estrat\\u00e9gicos de FIA, siendo el primero de ellos la adopci\\u00f3n al cambio clim\\u00e1tico y eficiencia h\\u00eddrica. Adem\\u00e1s, debe estar alineado con los ejes transversales de FIA, siendo la sustentabilidad uno de ellos.\", \"Nombre del Programa o Iniciativa \": \"Innovaci\\u00f3n para el Sector Silvoagropecuario. (FIA)\", \"Componente(s) \": \"Generaci\\u00f3n y difusi\\u00f3n de informaci\\u00f3n\"}, {\"Instrumentos \": \"Eventos de Innovaci\\u00f3n\", \"Agencia\": \"FIA\", \"Subdirecci\\u00f3n  o Gerencia\": \"FIA\", \"Pilar de Pol\\u00edtica P\\u00fablica\": \"Innovaci\\u00f3n y Desarrollo de Negocio\", \"Descripci\\u00f3n\": \"Entrega de incentivo financiero para contribuir a la generaci\\u00f3n de conocimiento y al desarrollo de capacidades de innovaci\\u00f3n, a trav\\u00e9s de eventos para difundir informaci\\u00f3n y/o experiencias de innovaci\\u00f3n a distintos actores vinculados al ecosistema de innovaci\\u00f3n del sector silvoagropecuario y/o la cadena agroalimentaria asociada, para habilitar y fortalecer procesos de innovaci\\u00f3n.\", \"A\\u00f1o inicio\": 2014, \"Duraci\\u00f3n m\\u00e1xima (meses)\": \"Variable\", \"Persona Natural\": null, \"Persona Jur\\u00eddica\": \"\\u2713\", \"IES\": \"\\u2713\", \"IPSFL\": \"\\u2713\", \"Empresa\": \"\\u2713\", \"Servicios P\\u00fablicos\": null, \"Regional\": null, \"G\\u00e9nero\": null, \"Medioambiental\": \"El proyecto debe resolver problemas o abordar oportunidades en uno de los 3 desaf\\u00edos estrat\\u00e9gicos de FIA, siendo el primero de ellos la adopci\\u00f3n al cambio clim\\u00e1tico y eficiencia h\\u00eddrica. Adem\\u00e1s, debe estar alineado con los ejes transversales de FIA, siendo la sustentabilidad uno de ellos. \", \"Nombre del Programa o Iniciativa \": \"Innovaci\\u00f3n para el Sector Silvoagropecuario. (FIA)\", \"Componente(s) \": \"Financiamiento para proyectos de innovaci\\u00f3n agraria\"}, {\"Instrumentos \": \"Giras de Innovaci\\u00f3n\", \"Agencia\": \"FIA\", \"Subdirecci\\u00f3n  o Gerencia\": \"FIA\", \"Pilar de Pol\\u00edtica P\\u00fablica\": \"Innovaci\\u00f3n y Desarrollo de Negocio\", \"Descripci\\u00f3n\": \"Entrega de incentivo financiero para contribuir a la generaci\\u00f3n de conocimiento y al desarrollo de capacidades de innovaci\\u00f3n, mediante giras que para conocer soluciones innovadoras que se desarrollen a nivel nacional o internacional, y que puedan ser aplicadas a la realidad del sector silvoagropecuario nacional y/o en la cadena agroalimentaria asociada.\", \"A\\u00f1o inicio\": 2014, \"Duraci\\u00f3n m\\u00e1xima (meses)\": \"12 d\\u00edas\", \"Persona Natural\": null, \"Persona Jur\\u00eddica\": \"\\u2713\", \"IES\": \"\\u2713\", \"IPSFL\": \"\\u2713\", \"Empresa\": \"\\u2713\", \"Servicios P\\u00fablicos\": null, \"Regional\": null, \"G\\u00e9nero\": null, \"Medioambiental\": null, \"Nombre del Programa o Iniciativa \": \"Innovaci\\u00f3n para el Sector Silvoagropecuario. (FIA)\", \"Componente(s) \": \"Financiamiento para proyectos de innovaci\\u00f3n agraria\"}, {\"Instrumentos \": \"Proyectos de Emprendimiento Innovador Rural\", \"Agencia\": \"FIA\", \"Subdirecci\\u00f3n  o Gerencia\": \"FIA\", \"Pilar de Pol\\u00edtica P\\u00fablica\": \"Innovaci\\u00f3n y Desarrollo de Negocio\", \"Descripci\\u00f3n\": \"Apoya a j\\u00f3venes de origen rural para que detecten y capturen oportunidade de innovaci\\u00f3n en su territorio, entreg\\u00e1ndoles cofinanciamiento para ejecutar proyectos de emprendimiento innovador que tengan impacto en el sector agrario, agroalimentario y/o forestal.\", \"A\\u00f1o inicio\": 2017, \"Duraci\\u00f3n m\\u00e1xima (meses)\": 12, \"Persona Natural\": \"\\u2713\", \"Persona Jur\\u00eddica\": null, \"IES\": null, \"IPSFL\": null, \"Empresa\": null, \"Servicios P\\u00fablicos\": null, \"Regional\": \"Instrumento con foco regional.\", \"G\\u00e9nero\": null, \"Medioambiental\": null, \"Nombre del Programa o Iniciativa \": \"Innovaci\\u00f3n para el Sector Silvoagropecuario. (FIA)\", \"Componente(s) \": \"Formaci\\u00f3n para la innovaci\\u00f3n\"}, {\"Instrumentos \": \"Proyectos de Gesti\\u00f3n de Innovaci\\u00f3n en Cooperativas\", \"Agencia\": \"FIA\", \"Subdirecci\\u00f3n  o Gerencia\": \"FIA\", \"Pilar de Pol\\u00edtica P\\u00fablica\": \"Innovaci\\u00f3n y Desarrollo de Negocio\", \"Descripci\\u00f3n\": \"Apoya la realizaci\\u00f3n de proyectos de gesti\\u00f3n para la innovaci\\u00f3n en empresas cooperativas del sector agrario, agroalimentario y/o forestal, que contribuyan a fortalecer su desarrollo y sostenibilidad (econ\\u00f3mica, social y ambiental), promoviendo su modernizaci\\u00f3n para incrementar su competitividad.\", \"A\\u00f1o inicio\": 2014, \"Duraci\\u00f3n m\\u00e1xima (meses)\": 12, \"Persona Natural\": null, \"Persona Jur\\u00eddica\": \"\\u2713\", \"IES\": null, \"IPSFL\": null, \"Empresa\": \"\\u2713\", \"Servicios P\\u00fablicos\": null, \"Regional\": null, \"G\\u00e9nero\": null, \"Medioambiental\": null, \"Nombre del Programa o Iniciativa \": \"Innovaci\\u00f3n para el Sector Silvoagropecuario. (FIA)\", \"Componente(s) \": \"Financiamiento para proyectos de innovaci\\u00f3n agraria\"}, {\"Instrumentos \": \"Proyectos de Innovaci\\u00f3n - Bien Privado\", \"Agencia\": \"FIA\", \"Subdirecci\\u00f3n  o Gerencia\": \"FIA\", \"Pilar de Pol\\u00edtica P\\u00fablica\": \"Innovaci\\u00f3n y Desarrollo de Negocio\", \"Descripci\\u00f3n\": \"Los proyectos de innovaci\\u00f3n entregan incentivos financieros a terceros, para el desarrollo y adopci\\u00f3n de soluciones innovadoras que busquen resolver problemas o tomar oportunidades asociadas a los desaf\\u00edos estrat\\u00e9gicos de FIA, vinculados al sector silvoagropecuario nacional y/o de la cadena agroalimentaria asociada. \", \"A\\u00f1o inicio\": 2000, \"Duraci\\u00f3n m\\u00e1xima (meses)\": \"24 - 48\", \"Persona Natural\": null, \"Persona Jur\\u00eddica\": \"\\u2713\", \"IES\": \"\\u2713\", \"IPSFL\": \"\\u2713\", \"Empresa\": \"\\u2713\", \"Servicios P\\u00fablicos\": null, \"Regional\": null, \"G\\u00e9nero\": null, \"Medioambiental\": \"El proyecto debe resolver problemas o abordar oportunidades en uno de los 3 desaf\\u00edos estrat\\u00e9gicos de FIA, siendo el primero de ellos la adopci\\u00f3n al cambio clim\\u00e1tico y eficiencia h\\u00eddrica. Adem\\u00e1s, debe estar alineado con los ejes transversales de FIA, siendo la sustentabilidad uno de ellos. \", \"Nombre del Programa o Iniciativa \": \"Innovaci\\u00f3n para el Sector Silvoagropecuario. (FIA)\", \"Componente(s) \": \"Financiamiento para proyectos de innovaci\\u00f3n agraria\\n\"}, {\"Instrumentos \": \"Proyectos de Innovaci\\u00f3n - Bien P\\u00fablico\", \"Agencia\": \"FIA\", \"Subdirecci\\u00f3n  o Gerencia\": \"FIA\", \"Pilar de Pol\\u00edtica P\\u00fablica\": \"Innovaci\\u00f3n y Desarrollo de Negocio\", \"Descripci\\u00f3n\": \"Los proyectos para impulsar un sector innovador entregan incentivos financieros a terceros, para el desarrollo e implementaci\\u00f3n de iniciativas y/o soluciones innovadoras que busquen resolver problemas o tomar oportunidades asociadas a los desaf\\u00edos estrat\\u00e9gicos de FIA, vinculados al sector silvoagropecuario nacional y/o de la cadena agroalimentaria asociada. Estos obst\\u00e1culos deben ser comunes y transversales para al menos un subconjunto de empresas y/o productores del sector.\", \"A\\u00f1o inicio\": 2000, \"Duraci\\u00f3n m\\u00e1xima (meses)\": \"25 - 48\", \"Persona Natural\": null, \"Persona Jur\\u00eddica\": \"\\u2713\", \"IES\": \"\\u2713\", \"IPSFL\": \"\\u2713\", \"Empresa\": \"\\u2713\", \"Servicios P\\u00fablicos\": null, \"Regional\": null, \"G\\u00e9nero\": null, \"Medioambiental\": \"El proyecto debe resolver problemas o abordar oportunidades en uno de los 3 desaf\\u00edos estrat\\u00e9gicos de FIA, siendo el primero de ellos la adopci\\u00f3n al cambio clim\\u00e1tico y eficiencia h\\u00eddrica. Adem\\u00e1s, debe estar alineado con los ejes transversales de FIA, siendo la sustentabilidad uno de ellos. \", \"Nombre del Programa o Iniciativa \": \"Innovaci\\u00f3n para el Sector Silvoagropecuario. (FIA)\", \"Componente(s) \": \"Financiamiento para proyectos de innovaci\\u00f3n agraria\"}, {\"Instrumentos \": \"Proyectos de Innovaci\\u00f3n para J\\u00f3venes\", \"Agencia\": \"FIA\", \"Subdirecci\\u00f3n  o Gerencia\": \"FIA\", \"Pilar de Pol\\u00edtica P\\u00fablica\": \"Innovaci\\u00f3n y Desarrollo de Negocio\", \"Descripci\\u00f3n\": \"Capacita en emprendimiento, innovaci\\u00f3n y gesti\\u00f3n de negocios a j\\u00f3venes, entreg\\u00e1ndoles adem\\u00e1s cofinanciamiento para ejecutar proyectos de emprendimiento innovador en el sector silvoagropecuario y/o la cadena agroalimentaria asociada.\", \"A\\u00f1o inicio\": 2015, \"Duraci\\u00f3n m\\u00e1xima (meses)\": 24, \"Persona Natural\": \"\\u2713\", \"Persona Jur\\u00eddica\": null, \"IES\": null, \"IPSFL\": null, \"Empresa\": null, \"Servicios P\\u00fablicos\": null, \"Regional\": null, \"G\\u00e9nero\": null, \"Medioambiental\": null, \"Nombre del Programa o Iniciativa \": \"Innovaci\\u00f3n para el Sector Silvoagropecuario. (FIA)\", \"Componente(s) \": \"Formaci\\u00f3n para la innovaci\\u00f3n\"}, {\"Instrumentos \": \"Investigaci\\u00f3n e Innovaci\\u00f3n Escolar - IIE\", \"Agencia\": \"Subsecretar\\u00eda CTCI\", \"Subdirecci\\u00f3n  o Gerencia\": \"Divisi\\u00f3n de Ciencia y Sociedad\", \"Pilar de Pol\\u00edtica P\\u00fablica\": \"Apropiaci\\u00f3n Social del Conocimiento\", \"Descripci\\u00f3n\": \"Apoyo al desarrollo de proyectos de investigaci\\u00f3n e innovaci\\u00f3n en la comunidad educativa de manera colaborativa, asesorando a equipos con acompa\\u00f1amiento de investigadores/as, haciendo \\u00e9nfasis en las preguntas y necesidades de investigaci\\u00f3n e innovaci\\u00f3n desde su entorno y vida cotidiana, buscando con ello fomentar el desarrollo de competencias y promover apropiaci\\u00f3n social de la investigaci\\u00f3n e innovaci\\u00f3n como pr\\u00e1ctica cultural en la comunidad educativa.\", \"A\\u00f1o inicio\": 1999, \"Duraci\\u00f3n m\\u00e1xima (meses)\": 6, \"Persona Natural\": \"\\u2713\", \"Persona Jur\\u00eddica\": null, \"IES\": null, \"IPSFL\": null, \"Empresa\": null, \"Servicios P\\u00fablicos\": null, \"Regional\": \"Implementado en todas las regiones del pa\\u00eds.\", \"G\\u00e9nero\": null, \"Medioambiental\": null, \"Nombre del Programa o Iniciativa \": \"Programa Explora\", \"Componente(s) \": \"Proyectos Asociativos Regionales (Implementa actividades y entrega contenidos de educaci\\u00f3n de ciencias, tecnolog\\u00eda e innovaci\\u00f3n); Contenidos pedag\\u00f3gicos de educaci\\u00f3n para actividades realizadas por PAR y Explora Central\"}, {\"Instrumentos \": \"Congresos de Investigaci\\u00f3n e Innovaci\\u00f3n Escolar\", \"Agencia\": \"Subsecretar\\u00eda CTCI\", \"Subdirecci\\u00f3n  o Gerencia\": \"Divisi\\u00f3n de Ciencia y Sociedad\", \"Pilar de Pol\\u00edtica P\\u00fablica\": \"Apropiaci\\u00f3n Social del Conocimiento\", \"Descripci\\u00f3n\": \"Espacios que permiten socializar los resultados de los proyectos de Investigaci\\u00f3n e Innovaci\\u00f3n Escolar a trav\\u00e9s de exposiciones, que les permita a ni\\u00f1as, ni\\u00f1os y adolescentes desarrollar habilidades comunicacionales y de argumentaci\\u00f3n en un espacio de socializaci\\u00f3n con distintos/as estudiantes, buscando motivar a estudiantes y docentes a desarrollar m\\u00e1s y mejor investigaci\\u00f3n e innovaci\\u00f3n en la comunidad escolar.\", \"A\\u00f1o inicio\": 1999, \"Duraci\\u00f3n m\\u00e1xima (meses)\": \"10 d\\u00edas\", \"Persona Natural\": \"\\u2713\", \"Persona Jur\\u00eddica\": null, \"IES\": null, \"IPSFL\": null, \"Empresa\": null, \"Servicios P\\u00fablicos\": null, \"Regional\": \"Implementado en todas las regiones del pa\\u00eds.\", \"G\\u00e9nero\": null, \"Medioambiental\": null, \"Nombre del Programa o Iniciativa \": \"Programa Explora\", \"Componente(s) \": \"Proyectos Asociativos Regionales (Implementa actividades y entrega contenidos de educaci\\u00f3n de ciencias, tecnolog\\u00eda e innovaci\\u00f3n); Contenidos pedag\\u00f3gicos de educaci\\u00f3n para actividades realizadas por PAR y Explora Central\"}, {\"Instrumentos \": \"Programas de Ciencia y tecnolog\\u00eda para primeras edades\", \"Agencia\": \"Subsecretar\\u00eda CTCI\", \"Subdirecci\\u00f3n  o Gerencia\": \"Divisi\\u00f3n de Ciencia y Sociedad\", \"Pilar de Pol\\u00edtica P\\u00fablica\": \"Apropiaci\\u00f3n Social del Conocimiento\", \"Descripci\\u00f3n\": \"Entrega de herramientas (secuencias pedag\\u00f3gicas, bater\\u00eda de materiales, capacitaciones, visitas y acompa\\u00f1amiento) a equipos educativos y t\\u00e9cnicos, as\\u00ed como a ni\\u00f1as y ni\\u00f1os de Educaci\\u00f3n Parvularia, para estimular y apoyar el desarrollo del pensamiento cient\\u00edfico en las primeras edades.\", \"A\\u00f1o inicio\": 2019, \"Duraci\\u00f3n m\\u00e1xima (meses)\": 9, \"Persona Natural\": \"\\u2713\", \"Persona Jur\\u00eddica\": null, \"IES\": null, \"IPSFL\": null, \"Empresa\": null, \"Servicios P\\u00fablicos\": null, \"Regional\": \"Implementado en todas las regiones del pa\\u00eds.\", \"G\\u00e9nero\": null, \"Medioambiental\": null, \"Nombre del Programa o Iniciativa \": \"Programa Explora\", \"Componente(s) \": \"Proyectos Asociativos Regionales (Implementa actividades y entrega contenidos de educaci\\u00f3n de ciencias, tecnolog\\u00eda e innovaci\\u00f3n); Contenidos pedag\\u00f3gicos de educaci\\u00f3n para actividades realizadas por PAR y Explora Central\"}, {\"Instrumentos \": \"Campamentos Explora Va!\", \"Agencia\": \"Subsecretar\\u00eda CTCI\", \"Subdirecci\\u00f3n  o Gerencia\": \"Divisi\\u00f3n de Ciencia y Sociedad\", \"Pilar de Pol\\u00edtica P\\u00fablica\": \"Apropiaci\\u00f3n Social del Conocimiento\", \"Descripci\\u00f3n\": \"Realizaci\\u00f3n de Campamentos de 5 d\\u00edas, para que docentes de diferentes niveles y asignaturas participen bajo la modalidad de internado en actividades, reciban y desarrollen herramientas que permitan agregar valor a la comunidad educativa y contribuir a su mejora cont\\u00ednua, buscando fortalecer las competencias de educadores y educadoras de p\\u00e1rvulos, docentes y asistentes de la educaci\\u00f3n, adem\\u00e1s de promover la formaci\\u00f3n de comunidades de aprendizaje y redes de colaboraci\\u00f3n entre los docentes.\", \"A\\u00f1o inicio\": 2014, \"Duraci\\u00f3n m\\u00e1xima (meses)\": 12, \"Persona Natural\": \"\\u2713\", \"Persona Jur\\u00eddica\": null, \"IES\": null, \"IPSFL\": null, \"Empresa\": null, \"Servicios P\\u00fablicos\": null, \"Regional\": \"Implementado en todas las regiones del pa\\u00eds.\", \"G\\u00e9nero\": null, \"Medioambiental\": null, \"Nombre del Programa o Iniciativa \": \"Programa Explora\", \"Componente(s) \": \"Proyectos Asociativos Regionales (Implementa actividades y entrega contenidos de educaci\\u00f3n de ciencias, tecnolog\\u00eda e innovaci\\u00f3n); Contenidos pedag\\u00f3gicos de educaci\\u00f3n para actividades realizadas por PAR y Explora Central\"}, {\"Instrumentos \": \"Cupo Explora UNESCO\", \"Agencia\": \"Subsecretar\\u00eda CTCI\", \"Subdirecci\\u00f3n  o Gerencia\": \"Divisi\\u00f3n de Ciencia y Sociedad\", \"Pilar de Pol\\u00edtica P\\u00fablica\": \"Apropiaci\\u00f3n Social del Conocimiento\", \"Descripci\\u00f3n\": \"V\\u00eda de admisi\\u00f3n especial a la Educaci\\u00f3n Superior, para que j\\u00f3venes que durante su etapa escolar hayan desarrollado una trayectoria cient\\u00edfica en el \\u00e1rea de la ciencia, la tecnolog\\u00eda y la innovaci\\u00f3n, puedan estudiar cualquier carrera, independiente del puntaje de corte de la carrera escogida, buscando incentivar el desarrollo de competencias CTCI.\", \"A\\u00f1o inicio\": 2017, \"Duraci\\u00f3n m\\u00e1xima (meses)\": 4, \"Persona Natural\": \"\\u2713\", \"Persona Jur\\u00eddica\": null, \"IES\": null, \"IPSFL\": null, \"Empresa\": null, \"Servicios P\\u00fablicos\": null, \"Regional\": \"Cupos disponibles en todas la regiones del pa\\u00eds\", \"G\\u00e9nero\": null, \"Medioambiental\": null, \"Nombre del Programa o Iniciativa \": \"Programa Explora\", \"Componente(s) \": \"Proyectos Asociativos Regionales (Implementa actividades y entrega contenidos de educaci\\u00f3n de ciencias, tecnolog\\u00eda e innovaci\\u00f3n); Contenidos pedag\\u00f3gicos de educaci\\u00f3n para actividades realizadas por PAR y Explora Central\"}, {\"Instrumentos \": \"Concursos de Proyectos Ciencia P\\u00fablica de Divulgaci\\u00f3n y Socializaci\\u00f3n del Conocimiento\", \"Agencia\": \"Subsecretar\\u00eda CTCI\", \"Subdirecci\\u00f3n  o Gerencia\": \"Divisi\\u00f3n de Ciencia y Sociedad\", \"Pilar de Pol\\u00edtica P\\u00fablica\": \"Apropiaci\\u00f3n Social del Conocimiento\", \"Descripci\\u00f3n\": \"Financiamiento concursable de proyectos de divulgaci\\u00f3n para promover la socializaci\\u00f3n de la ciencia, tecnolog\\u00eda, conocimiento e innovaci\\u00f3n (CTCI) en las categor\\u00edas de: Exposiciones y Espacios P\\u00fablicos de Divulgaci\\u00f3n, Productos de Divulgaci\\u00f3n, y Desarrollo y Difusi\\u00f3n de Conocimiento Local; buscando promover la participaci\\u00f3n de las personas en actividades p\\u00fablicas de divulgaci\\u00f3n de la CTCI, contribuyendo a la socializaci\\u00f3n del conocimiento y a la apropiaci\\u00f3n social de la ciencia, tecnolog\\u00eda conocimientoe e innovaci\\u00f3n.\", \"A\\u00f1o inicio\": 1996, \"Duraci\\u00f3n m\\u00e1xima (meses)\": 12, \"Persona Natural\": \"\\u2713\", \"Persona Jur\\u00eddica\": \"\\u2713\", \"IES\": \"\\u2713\", \"IPSFL\": \"\\u2713\", \"Empresa\": \"\\u2713\", \"Servicios P\\u00fablicos\": null, \"Regional\": \"Adjudicaciones a nivel regional.\", \"G\\u00e9nero\": \"Los concursos promueven la paridad de g\\u00e9nero a trav\\u00e9s de criterios de evaluaci\\u00f3n y cuotas de participaci\\u00f3n en actividades.\", \"Medioambiental\": null, \"Nombre del Programa o Iniciativa \": \"Programa Ciencia P\\u00fablica\", \"Componente(s) \": \"Intervenciones dise\\u00f1adas e implementadas por divulgadores/as que son seleccionadas y financiadas por el Programa a trav\\u00e9s de concursos p\\u00fablicos o auspicios\"}, {\"Instrumentos \": \"Festival de la Ciencia - FECI\", \"Agencia\": \"Subsecretar\\u00eda CTCI\", \"Subdirecci\\u00f3n  o Gerencia\": \"Divisi\\u00f3n de Ciencia y Sociedad\", \"Pilar de Pol\\u00edtica P\\u00fablica\": \"Apropiaci\\u00f3n Social del Conocimiento\", \"Descripci\\u00f3n\": \"Celebraci\\u00f3n nacional de car\\u00e1cter p\\u00fablico y de libre acceso que invita a todas las personas a acercarse, apropiarse y disfrutar de temas y fen\\u00f3menos relacionados con la ciencia, tecnolog\\u00eda, conocimiento e innovaci\\u00f3n (CTCI), a trav\\u00e9s de una variada oferta de actividades, espect\\u00e1culos y espacios de encuentro, implementados en el territorio por los Proyectos Asociativos Regionales (PAR) e instituciones p\\u00fablicas o privadas interesadas en promover el acercamiento y apropiaci\\u00f3n de los temas y fen\\u00f3menos relacionados a CTCI.\", \"A\\u00f1o inicio\": 2019, \"Duraci\\u00f3n m\\u00e1xima (meses)\": \"5 d\\u00edas\", \"Persona Natural\": \"\\u2713\", \"Persona Jur\\u00eddica\": null, \"IES\": null, \"IPSFL\": null, \"Empresa\": null, \"Servicios P\\u00fablicos\": null, \"Regional\": \"Implementado en todas las regiones del pa\\u00eds.\", \"G\\u00e9nero\": null, \"Medioambiental\": null, \"Nombre del Programa o Iniciativa \": \"Programa Ciencia P\\u00fablica\", \"Componente(s) \": \"Proyectos Asociativos Regionales (Implementa actividades y entrega contenidos de educaci\\u00f3n de ciencias, tecnolog\\u00eda e innovaci\\u00f3n)\"}, {\"Instrumentos \": \"Ciencia Abierta\", \"Agencia\": \"Subsecretar\\u00eda CTCI\", \"Subdirecci\\u00f3n  o Gerencia\": \"Divisi\\u00f3n de Ciencia y Sociedad\", \"Pilar de Pol\\u00edtica P\\u00fablica\": \"Apropiaci\\u00f3n Social del Conocimiento\", \"Descripci\\u00f3n\": \"Encuentros en formatos l\\u00fadicos y participativos entre investigadores/as, divulgadores/as de diversas disciplinas y la comunidad, implementados por los Proyectos Asociativos Regional (PAR) pudiendo ejecutarse ser dentro o  fuera del aula, permitendo compartir conocimientos basado en evidencias, identificar p\\u00fablicos y desarrollar estrategias de participaci\\u00f3n; buscando el fortalecer el v\\u00ednculo entre la comunidad y las comunidades cient\\u00edficas.\", \"A\\u00f1o inicio\": 2020, \"Duraci\\u00f3n m\\u00e1xima (meses)\": 12, \"Persona Natural\": \"\\u2713\", \"Persona Jur\\u00eddica\": null, \"IES\": null, \"IPSFL\": null, \"Empresa\": null, \"Servicios P\\u00fablicos\": null, \"Regional\": \"Implementado en todas las regiones del pa\\u00eds.\", \"G\\u00e9nero\": null, \"Medioambiental\": null, \"Nombre del Programa o Iniciativa \": \"Programa Ciencia P\\u00fablica\", \"Componente(s) \": \"Proyectos Asociativos Regionales (Implementa actividades y entrega contenidos de educaci\\u00f3n de ciencias, tecnolog\\u00eda e innovaci\\u00f3n)\"}]}}, {\"mode\": \"vega-lite\"});\n",
       "</script>"
      ],
      "text/plain": [
       "alt.Chart(...)"
      ]
     },
     "execution_count": 64,
     "metadata": {},
     "output_type": "execute_result"
    }
   ],
   "source": [
    "alt.Chart(df, title=\"Peptides Organisms Sources\").mark_bar(color='seagreen',\n",
    " opacity=0.6\n",
    ").encode(\n",
    "    x=alt.X('Subdirección  o Gerencia'),\n",
    "    y=alt.Y('count(Subdirección  o Gerencia):Q', scale=alt.Scale(type='linear')),\n",
    "    #y2=alt.Y2(\"Duración máxima (meses):Q\"),\n",
    "    #color = alt.Color('Name_SP:N', legend=None),\n",
    "    #column='DataBases:N'\n",
    ").properties(\n",
    "    width=600,\n",
    "    height=600\n",
    ")"
   ]
  },
  {
   "cell_type": "markdown",
   "metadata": {},
   "source": [
    "# ID: CTCI_029\n",
    "* Nombre: Base de datos de seguimiento de la encuesta Nacional de Innovación (2009 - 2018)\n",
    "* Descripción: Datos para construir la base de datos de seguimiento de la encuesta de innovación para los años de referencia 2009-2018. Este archivo se adjunta con una nota técnica que explica los alcances y limitaciones de los datos. Descubre sobre la innovación en Chile y usa los datos para lo que necesites.\n",
    "* Última Actualización: 2021\n",
    "* Publicador: Ministerio de Ciencia, Tecnología, Conocimiento e Innovación\n",
    "* Categorías: Innovación y desarrollo de negocios\n",
    "* Etiquetas: ENI 2017 - 2018, ENI 2015 - 2016, ENI 2013 - 2014, ENI 2011 - 2012, ENI 2009 - 2010"
   ]
  },
  {
   "cell_type": "code",
   "execution_count": 65,
   "metadata": {},
   "outputs": [],
   "source": [
    "import pandas as pd"
   ]
  },
  {
   "cell_type": "code",
   "execution_count": 66,
   "metadata": {},
   "outputs": [
    {
     "data": {
      "text/plain": [
       "dict_keys(['Act.economica y tamaño', 'Region-Macrozona y tamaño'])"
      ]
     },
     "execution_count": 66,
     "metadata": {},
     "output_type": "execute_result"
    }
   ],
   "source": [
    "df = pd.read_excel('../CTCI/original/ID_seguimiento_ENI_envio.xlsx', sheet_name=None)\n",
    "df.keys()"
   ]
  },
  {
   "cell_type": "code",
   "execution_count": 67,
   "metadata": {},
   "outputs": [
    {
     "name": "stdout",
     "output_type": "stream",
     "text": [
      "sheet: Act.economica y tamaño\n",
      "columns: ['ID_Act.economica y tamaño', 'DV_Act.economica y tamaño', 'ID_A_7', 'DV_A_7', 'ID_A_8', 'DV_A_8', 'ID_A_9', 'DV_A_9', 'ID_A_10', 'DV_A_10', 'ID_B_11', 'DV_B_11']\n",
      "shape: (18291, 12)\n",
      "sheet: Region-Macrozona y tamaño\n",
      "columns: ['ID_Region-Macrozona y tamaño', 'DV_Region-Macrozona y tamaño', 'ID_B_7', 'DV_B_7', 'ID_B_8', 'DV_B_8', 'ID_B_9', 'DV_B_9', 'ID_B_10', 'DV_B_10', 'ID_A_11', 'DV_A_11']\n",
      "shape: (18291, 12)\n"
     ]
    }
   ],
   "source": [
    "for key in df.keys():\n",
    "    print('sheet:', key)\n",
    "    print('columns:', list(df[key].columns))\n",
    "    print('shape:', df[key].shape)"
   ]
  },
  {
   "cell_type": "code",
   "execution_count": 68,
   "metadata": {},
   "outputs": [
    {
     "data": {
      "text/html": [
       "<div>\n",
       "<style scoped>\n",
       "    .dataframe tbody tr th:only-of-type {\n",
       "        vertical-align: middle;\n",
       "    }\n",
       "\n",
       "    .dataframe tbody tr th {\n",
       "        vertical-align: top;\n",
       "    }\n",
       "\n",
       "    .dataframe thead th {\n",
       "        text-align: right;\n",
       "    }\n",
       "</style>\n",
       "<table border=\"1\" class=\"dataframe\">\n",
       "  <thead>\n",
       "    <tr style=\"text-align: right;\">\n",
       "      <th></th>\n",
       "      <th>ID_Region-Macrozona y tamaño</th>\n",
       "      <th>DV_Region-Macrozona y tamaño</th>\n",
       "      <th>ID_B_7</th>\n",
       "      <th>DV_B_7</th>\n",
       "      <th>ID_B_8</th>\n",
       "      <th>DV_B_8</th>\n",
       "      <th>ID_B_9</th>\n",
       "      <th>DV_B_9</th>\n",
       "      <th>ID_B_10</th>\n",
       "      <th>DV_B_10</th>\n",
       "      <th>ID_A_11</th>\n",
       "      <th>DV_A_11</th>\n",
       "    </tr>\n",
       "  </thead>\n",
       "  <tbody>\n",
       "    <tr>\n",
       "      <th>0</th>\n",
       "      <td>200000</td>\n",
       "      <td>5</td>\n",
       "      <td>NaN</td>\n",
       "      <td>NaN</td>\n",
       "      <td>NaN</td>\n",
       "      <td>NaN</td>\n",
       "      <td>NaN</td>\n",
       "      <td>NaN</td>\n",
       "      <td>NaN</td>\n",
       "      <td>NaN</td>\n",
       "      <td>NaN</td>\n",
       "      <td>NaN</td>\n",
       "    </tr>\n",
       "    <tr>\n",
       "      <th>1</th>\n",
       "      <td>200001</td>\n",
       "      <td>7</td>\n",
       "      <td>NaN</td>\n",
       "      <td>NaN</td>\n",
       "      <td>203611.0</td>\n",
       "      <td>K</td>\n",
       "      <td>203983.0</td>\n",
       "      <td>8.0</td>\n",
       "      <td>NaN</td>\n",
       "      <td>NaN</td>\n",
       "      <td>NaN</td>\n",
       "      <td>NaN</td>\n",
       "    </tr>\n",
       "    <tr>\n",
       "      <th>2</th>\n",
       "      <td>200002</td>\n",
       "      <td>0</td>\n",
       "      <td>NaN</td>\n",
       "      <td>NaN</td>\n",
       "      <td>201084.0</td>\n",
       "      <td>K</td>\n",
       "      <td>204059.0</td>\n",
       "      <td>2.0</td>\n",
       "      <td>NaN</td>\n",
       "      <td>NaN</td>\n",
       "      <td>NaN</td>\n",
       "      <td>NaN</td>\n",
       "    </tr>\n",
       "    <tr>\n",
       "      <th>3</th>\n",
       "      <td>200003</td>\n",
       "      <td>2</td>\n",
       "      <td>NaN</td>\n",
       "      <td>NaN</td>\n",
       "      <td>203498.0</td>\n",
       "      <td>K</td>\n",
       "      <td>NaN</td>\n",
       "      <td>NaN</td>\n",
       "      <td>20686.0</td>\n",
       "      <td>0.0</td>\n",
       "      <td>NaN</td>\n",
       "      <td>NaN</td>\n",
       "    </tr>\n",
       "    <tr>\n",
       "      <th>4</th>\n",
       "      <td>200004</td>\n",
       "      <td>4</td>\n",
       "      <td>NaN</td>\n",
       "      <td>NaN</td>\n",
       "      <td>203722.0</td>\n",
       "      <td>9</td>\n",
       "      <td>203794.0</td>\n",
       "      <td>1.0</td>\n",
       "      <td>21456.0</td>\n",
       "      <td>6.0</td>\n",
       "      <td>NaN</td>\n",
       "      <td>NaN</td>\n",
       "    </tr>\n",
       "  </tbody>\n",
       "</table>\n",
       "</div>"
      ],
      "text/plain": [
       "   ID_Region-Macrozona y tamaño  DV_Region-Macrozona y tamaño  ID_B_7  DV_B_7  \\\n",
       "0                        200000                             5     NaN     NaN   \n",
       "1                        200001                             7     NaN     NaN   \n",
       "2                        200002                             0     NaN     NaN   \n",
       "3                        200003                             2     NaN     NaN   \n",
       "4                        200004                             4     NaN     NaN   \n",
       "\n",
       "     ID_B_8 DV_B_8    ID_B_9  DV_B_9  ID_B_10  DV_B_10  ID_A_11  DV_A_11  \n",
       "0       NaN    NaN       NaN     NaN      NaN      NaN      NaN      NaN  \n",
       "1  203611.0      K  203983.0     8.0      NaN      NaN      NaN      NaN  \n",
       "2  201084.0      K  204059.0     2.0      NaN      NaN      NaN      NaN  \n",
       "3  203498.0      K       NaN     NaN  20686.0      0.0      NaN      NaN  \n",
       "4  203722.0      9  203794.0     1.0  21456.0      6.0      NaN      NaN  "
      ]
     },
     "execution_count": 68,
     "metadata": {},
     "output_type": "execute_result"
    }
   ],
   "source": [
    "df['Region-Macrozona y tamaño'].head()"
   ]
  },
  {
   "cell_type": "code",
   "execution_count": 69,
   "metadata": {},
   "outputs": [
    {
     "data": {
      "text/html": [
       "<div>\n",
       "<style scoped>\n",
       "    .dataframe tbody tr th:only-of-type {\n",
       "        vertical-align: middle;\n",
       "    }\n",
       "\n",
       "    .dataframe tbody tr th {\n",
       "        vertical-align: top;\n",
       "    }\n",
       "\n",
       "    .dataframe thead th {\n",
       "        text-align: right;\n",
       "    }\n",
       "</style>\n",
       "<table border=\"1\" class=\"dataframe\">\n",
       "  <thead>\n",
       "    <tr style=\"text-align: right;\">\n",
       "      <th></th>\n",
       "      <th>ID_Region-Macrozona y tamaño</th>\n",
       "      <th>ID_B_7</th>\n",
       "      <th>DV_B_7</th>\n",
       "      <th>ID_B_8</th>\n",
       "      <th>ID_B_9</th>\n",
       "      <th>DV_B_9</th>\n",
       "      <th>ID_B_10</th>\n",
       "      <th>DV_B_10</th>\n",
       "      <th>ID_A_11</th>\n",
       "      <th>DV_A_11</th>\n",
       "    </tr>\n",
       "    <tr>\n",
       "      <th>DV_Region-Macrozona y tamaño</th>\n",
       "      <th></th>\n",
       "      <th></th>\n",
       "      <th></th>\n",
       "      <th></th>\n",
       "      <th></th>\n",
       "      <th></th>\n",
       "      <th></th>\n",
       "      <th></th>\n",
       "      <th></th>\n",
       "      <th></th>\n",
       "    </tr>\n",
       "  </thead>\n",
       "  <tbody>\n",
       "    <tr>\n",
       "      <th>0</th>\n",
       "      <td>424356192</td>\n",
       "      <td>0.0</td>\n",
       "      <td>0.0</td>\n",
       "      <td>104222427.0</td>\n",
       "      <td>124334661.0</td>\n",
       "      <td>3051.0</td>\n",
       "      <td>14510421.0</td>\n",
       "      <td>2580.0</td>\n",
       "      <td>15290416.0</td>\n",
       "      <td>2424.0</td>\n",
       "    </tr>\n",
       "    <tr>\n",
       "      <th>1</th>\n",
       "      <td>425209382</td>\n",
       "      <td>0.0</td>\n",
       "      <td>0.0</td>\n",
       "      <td>100950640.0</td>\n",
       "      <td>130835083.0</td>\n",
       "      <td>3275.0</td>\n",
       "      <td>15210805.0</td>\n",
       "      <td>2561.0</td>\n",
       "      <td>15211351.0</td>\n",
       "      <td>2573.0</td>\n",
       "    </tr>\n",
       "    <tr>\n",
       "      <th>2</th>\n",
       "      <td>425594821</td>\n",
       "      <td>0.0</td>\n",
       "      <td>0.0</td>\n",
       "      <td>107203938.0</td>\n",
       "      <td>131432619.0</td>\n",
       "      <td>3101.0</td>\n",
       "      <td>15375520.0</td>\n",
       "      <td>2750.0</td>\n",
       "      <td>15282795.0</td>\n",
       "      <td>2831.0</td>\n",
       "    </tr>\n",
       "    <tr>\n",
       "      <th>3</th>\n",
       "      <td>424350195</td>\n",
       "      <td>0.0</td>\n",
       "      <td>0.0</td>\n",
       "      <td>100556301.0</td>\n",
       "      <td>126154993.0</td>\n",
       "      <td>3109.0</td>\n",
       "      <td>14743730.0</td>\n",
       "      <td>2549.0</td>\n",
       "      <td>15249748.0</td>\n",
       "      <td>2769.0</td>\n",
       "    </tr>\n",
       "    <tr>\n",
       "      <th>4</th>\n",
       "      <td>424993316</td>\n",
       "      <td>0.0</td>\n",
       "      <td>0.0</td>\n",
       "      <td>101148233.0</td>\n",
       "      <td>122901868.0</td>\n",
       "      <td>3006.0</td>\n",
       "      <td>15326569.0</td>\n",
       "      <td>2658.0</td>\n",
       "      <td>15695390.0</td>\n",
       "      <td>3063.0</td>\n",
       "    </tr>\n",
       "    <tr>\n",
       "      <th>5</th>\n",
       "      <td>426025984</td>\n",
       "      <td>0.0</td>\n",
       "      <td>0.0</td>\n",
       "      <td>107831697.0</td>\n",
       "      <td>128803752.0</td>\n",
       "      <td>3205.0</td>\n",
       "      <td>14278407.0</td>\n",
       "      <td>2436.0</td>\n",
       "      <td>14903745.0</td>\n",
       "      <td>2951.0</td>\n",
       "    </tr>\n",
       "    <tr>\n",
       "      <th>6</th>\n",
       "      <td>424353198</td>\n",
       "      <td>0.0</td>\n",
       "      <td>0.0</td>\n",
       "      <td>100616891.0</td>\n",
       "      <td>123837639.0</td>\n",
       "      <td>3015.0</td>\n",
       "      <td>14577874.0</td>\n",
       "      <td>2634.0</td>\n",
       "      <td>14508942.0</td>\n",
       "      <td>2565.0</td>\n",
       "    </tr>\n",
       "    <tr>\n",
       "      <th>7</th>\n",
       "      <td>424987340</td>\n",
       "      <td>0.0</td>\n",
       "      <td>0.0</td>\n",
       "      <td>105176459.0</td>\n",
       "      <td>124105302.0</td>\n",
       "      <td>3194.0</td>\n",
       "      <td>15322618.0</td>\n",
       "      <td>2631.0</td>\n",
       "      <td>15393408.0</td>\n",
       "      <td>2282.0</td>\n",
       "    </tr>\n",
       "    <tr>\n",
       "      <th>8</th>\n",
       "      <td>425600767</td>\n",
       "      <td>0.0</td>\n",
       "      <td>0.0</td>\n",
       "      <td>105776420.0</td>\n",
       "      <td>127388832.0</td>\n",
       "      <td>3150.0</td>\n",
       "      <td>15434806.0</td>\n",
       "      <td>2705.0</td>\n",
       "      <td>15447985.0</td>\n",
       "      <td>2383.0</td>\n",
       "    </tr>\n",
       "  </tbody>\n",
       "</table>\n",
       "</div>"
      ],
      "text/plain": [
       "                              ID_Region-Macrozona y tamaño  ID_B_7  DV_B_7  \\\n",
       "DV_Region-Macrozona y tamaño                                                 \n",
       "0                                                424356192     0.0     0.0   \n",
       "1                                                425209382     0.0     0.0   \n",
       "2                                                425594821     0.0     0.0   \n",
       "3                                                424350195     0.0     0.0   \n",
       "4                                                424993316     0.0     0.0   \n",
       "5                                                426025984     0.0     0.0   \n",
       "6                                                424353198     0.0     0.0   \n",
       "7                                                424987340     0.0     0.0   \n",
       "8                                                425600767     0.0     0.0   \n",
       "\n",
       "                                   ID_B_8       ID_B_9  DV_B_9     ID_B_10  \\\n",
       "DV_Region-Macrozona y tamaño                                                 \n",
       "0                             104222427.0  124334661.0  3051.0  14510421.0   \n",
       "1                             100950640.0  130835083.0  3275.0  15210805.0   \n",
       "2                             107203938.0  131432619.0  3101.0  15375520.0   \n",
       "3                             100556301.0  126154993.0  3109.0  14743730.0   \n",
       "4                             101148233.0  122901868.0  3006.0  15326569.0   \n",
       "5                             107831697.0  128803752.0  3205.0  14278407.0   \n",
       "6                             100616891.0  123837639.0  3015.0  14577874.0   \n",
       "7                             105176459.0  124105302.0  3194.0  15322618.0   \n",
       "8                             105776420.0  127388832.0  3150.0  15434806.0   \n",
       "\n",
       "                              DV_B_10     ID_A_11  DV_A_11  \n",
       "DV_Region-Macrozona y tamaño                                \n",
       "0                              2580.0  15290416.0   2424.0  \n",
       "1                              2561.0  15211351.0   2573.0  \n",
       "2                              2750.0  15282795.0   2831.0  \n",
       "3                              2549.0  15249748.0   2769.0  \n",
       "4                              2658.0  15695390.0   3063.0  \n",
       "5                              2436.0  14903745.0   2951.0  \n",
       "6                              2634.0  14508942.0   2565.0  \n",
       "7                              2631.0  15393408.0   2282.0  \n",
       "8                              2705.0  15447985.0   2383.0  "
      ]
     },
     "execution_count": 69,
     "metadata": {},
     "output_type": "execute_result"
    }
   ],
   "source": [
    "df['Region-Macrozona y tamaño'].groupby('DV_Region-Macrozona y tamaño').sum()"
   ]
  },
  {
   "cell_type": "markdown",
   "metadata": {},
   "source": [
    "# ID: CTCI_28\n",
    "* Nombre: Base de datos para cruce ENI - I+D - ELE - TIC\n",
    "* Descripción: Datos para la construcción de una muestra de empresas que respondieron la Encuesta de Innovación en empresas (ENI) año de referencia 2017-2018, Encuesta anual sobre gasto y personal en Investigación y Desarrollo (I+D) año de referencia 2018, Encuesta Longitudinal de Empresas (ELE) año de referencia 2016-2017 y Encuesta de Acceso y Uso de Tecnología de Información y Comunicación (TIC) en Empresas año de referencia 2018. Este archivo se adjunta con una nota técnica que explica los alcances y limitaciones de los datos. Descubre sobre la I+D, innovación y otros en Chile y usa los datos para lo que necesites.\n",
    "* Última Actualización: 2021\n",
    "* Publicador: Ministerio de Ciencia, Tecnología, Conocimiento e Innovación\n",
    "* Categorías: Investigación y Desarrollo (I+D);Innovación y desarrollo de negocios;Formación y capital humano\n",
    "* Etiquetas: ENI 2017 - 2018"
   ]
  },
  {
   "cell_type": "code",
   "execution_count": 70,
   "metadata": {},
   "outputs": [],
   "source": [
    "import pandas as pd"
   ]
  },
  {
   "cell_type": "code",
   "execution_count": 71,
   "metadata": {},
   "outputs": [
    {
     "data": {
      "text/plain": [
       "dict_keys(['Ref2009-2010', 'Ref2011-2012', 'Ref2013', 'Ref2014', 'Ref2015', 'Ref2016', 'Ref2017', 'Ref2018'])"
      ]
     },
     "execution_count": 71,
     "metadata": {},
     "output_type": "execute_result"
    }
   ],
   "source": [
    "df = pd.read_excel('../CTCI/original/BBDD seguimiento_empresas_Observa.xlsx', sheet_name=None)\n",
    "df.keys()"
   ]
  },
  {
   "cell_type": "code",
   "execution_count": 72,
   "metadata": {},
   "outputs": [
    {
     "name": "stdout",
     "output_type": "stream",
     "text": [
      "sheet: Ref2009-2010\n",
      "columns: ['Nuevo_ID', 'Clasificador A38', 'TAMAÑO', 'P020', 'P021', 'P022', 'P023', 'P024', 'P025', 'P026', 'P027', 'P028', 'P028_OTRA', 'P200', 'P201', 'P202', 'P203', 'P210', 'P211', 'P208', 'P209', 'P4620', 'P4621', 'P4622', 'P4623', 'P4000', 'P4001', 'P4002', 'P4003', 'P4004', 'P4005', 'P4006', 'P4007', 'P4008', 'P4009', 'P4010', 'P4011', 'P4012', 'P4013', 'P4014', 'P4015', 'P4016', 'P4017', 'P4018', 'P4019', 'P4020', 'P4021', 'P4054', 'P4055', 'P4056', 'P4057', 'P4058', 'P4059', 'P4060', 'P4061', 'P4624', 'P4625', 'P4626', 'P4627', 'P4628', 'P4629', 'P4630', 'P4631', 'P4632', 'P4633', 'P4634', 'P4635', 'P4636', 'P4637', 'P4022', 'P4023', 'P4024', 'P4025', 'P4026', 'P4027', 'P4028', 'P4029', 'P4030', 'P4031', 'P4032', 'P4033', 'P4034', 'P4035', 'P4036', 'P4037', 'P4038', 'P4039', 'P4040', 'P4041', 'P4042', 'P4043', 'P4044', 'P4045', 'P4046', 'P4047', 'P4048', 'P4049', 'P4050', 'P4051', 'P4052', 'P4053', 'P4098', 'P4099', 'P4100', 'P4101', 'P4102', 'P4103', 'P4104', 'P4105', 'P4106', 'P4107', 'P4108', 'P4109', 'P4110', 'P4111', 'P4112', 'P4113', 'P4114', 'P4115', 'P4116', 'P4117', 'P4120', 'P4121', 'P4122', 'P4123', 'P4124', 'P4125', 'P4128', 'P4129', 'P4134', 'P4135', 'P4640', 'P4641', 'P4642', 'P4643', 'P4644', 'P4645', 'P4646', 'P4647', 'P4648', 'P4649', 'P4136', 'P4137', 'P4650', 'P4659', 'P4198', 'P4660', 'P4201', 'P4661', 'P4204', 'P4662', 'P4207', 'P4663', 'P4210', 'P4664', 'P4213', 'P4665', 'P4216', 'P4666', 'P4219', 'P4667', 'P4222', 'P4668', 'P4225', 'P4669', 'P4228', 'P4670', 'P4231', 'P4671', 'P4234', 'P4672', 'P4237', 'P4673', 'P4240', 'P4674', 'P4243', 'P4675', 'P4676', 'P4677', 'P4678', 'P4246', 'P4679', 'P4249', 'P4680', 'P4252', 'P4681', 'P4255', 'P4682', 'P4258', 'P4683', 'P4261', 'P4684', 'P4264', 'P4685', 'P4267', 'P4686', 'P4270', 'P4687', 'P4273', 'P4688', 'P4276', 'P4689', 'P4279', 'P4690', 'P4282', 'P4691', 'P4285', 'P4692', 'P4288', 'P4693', 'P4291', 'P4694', 'P4294', 'P4695', 'P4297', 'P4696', 'P4300', 'P4697', 'P4303', 'P4698', 'P4306', 'P4699', 'P4309', 'P4700', 'P4312', 'P4701', 'P4315', 'P4702', 'P4318', 'P4703', 'P4321', 'P4704', 'P4324', 'P4705', 'P4327', 'P4706', 'P4330', 'P4707', 'P4333', 'P4708', 'P4336', 'P4709', 'P4339', 'P4710', 'P4342', 'P4711', 'P4345', 'P4712', 'P4348', 'P4713', 'P4351', 'P4714', 'P4354', 'P4715', 'P4357', 'P4716', 'P4360', 'P4717', 'P4363', 'P4718', 'P4366', 'P4719', 'P4369', 'P4720', 'P4372', 'P4721', 'P4375', 'P4722', 'P4378', 'P4723', 'P4381', 'P4724', 'P4384', 'P4725', 'P4387', 'P4726', 'P4477', 'P4483', 'P4489', 'P4495', 'P4501', 'P4507', 'P4513', 'P4519', 'P4525', 'P4531', 'P4537', 'P4543', 'P4549', 'P4555', 'P4558', 'P4559', 'P4560', 'P4561', 'P4562', 'P4563', 'P4564', 'P4565', 'P4566', 'P4567', 'P4568', 'P4569', 'P4570', 'P4571', 'P4572', 'P4573', 'P4574', 'P4575', 'P4576', 'P4577', 'P4578', 'P4579', 'P4580', 'P4581', 'P4582', 'P4583', 'P4584', 'P4585', 'P4586', 'P4587', 'P4588', 'P4589', 'P4727', 'P4728', 'P4729', 'P4730', 'P4731', 'P4732', 'P4733', 'P4734', 'P4735', 'P4736', 'P4737', 'P4738', 'P4739', 'P4740', 'P4741', 'P4742', 'P4743', 'P4744', 'P4608', 'P4609', 'P4610', 'P4611', 'P4612', 'P4613', 'P4614', 'P4615', 'P4616', 'P4617', 'P4618', 'P4619']\n",
      "shape: (914, 352)\n",
      "sheet: Ref2011-2012\n",
      "columns: ['Nuevo_ID', 'Clasificador A38', 'TAMAÑO', 'P020', 'P021', 'P022', 'P023', 'P024', 'P025', 'P026', 'P027', 'P028', 'P046', 'P047', 'P048', 'P049', 'P050', 'P200', 'P201', 'P202', 'P203', 'P212', 'P213', 'P214', 'P215', 'P216', 'P217', 'P218', 'P219', 'P220', 'P221', 'P222', 'P223', 'P224', 'P225', 'P4831', 'P4832', 'P4833', 'P4834', 'P4000', 'P4001', 'P4002', 'P4003', 'P4004', 'P4005', 'P4006', 'P4007', 'P4008', 'P4009', 'P4010', 'P4011', 'P4012', 'P4013', 'P4014', 'P4015', 'P4016', 'P4017', 'P4018', 'P4019', 'P4020', 'P4021', 'P4054', 'P4055', 'P4056', 'P4057', 'P4058', 'P4059', 'P4060', 'P4061', 'P4624', 'P4625', 'P4626', 'P4627', 'P4628', 'P4629', 'P4630', 'P4631', 'P4632', 'P4633', 'P4634', 'P4635', 'P4636', 'P4637', 'P4022', 'P4023', 'P4024', 'P4025', 'P4026', 'P4027', 'P4028', 'P4029', 'P4030', 'P4031', 'P4032', 'P4033', 'P4034', 'P4035', 'P4036', 'P4037', 'P4038', 'P4039', 'P4040', 'P4041', 'P4042', 'P4043', 'P4044', 'P4045', 'P4046', 'P4047', 'P4048', 'P4049', 'P4050', 'P4051', 'P4052', 'P4053', 'P4098', 'P4099', 'P4100', 'P4101', 'P4102', 'P4103', 'P4104', 'P4105', 'P4106', 'P4107', 'P4108', 'P4109', 'P4110', 'P4111', 'P4112', 'P4113', 'P4114', 'P4115', 'P4116', 'P4117', 'P4120', 'P4121', 'P4122', 'P4123', 'P4124', 'P4125', 'P4128', 'P4129', 'P4134', 'P4135', 'P4640', 'P4641', 'P4642', 'P4643', 'P4644', 'P4645', 'P4646', 'P4647', 'P4648', 'P4649', 'P4136', 'P4137', 'P4650', 'P4659', 'P4198', 'P4660', 'P4201', 'P4661', 'P4204', 'P4662', 'P4207', 'P4663', 'P4210', 'P4664', 'P4213', 'P4665', 'P4216', 'P4666', 'P4219', 'P4667', 'P4222', 'P4668', 'P4225', 'P4669', 'P4228', 'P4670', 'P4231', 'P4671', 'P4234', 'P4672', 'P4237', 'P4673', 'P4240', 'P4674', 'P4243', 'P4675', 'P4835', 'P4246', 'P4679', 'P4249', 'P4680', 'P4252', 'P4681', 'P4255', 'P4682', 'P4258', 'P4683', 'P4261', 'P4684', 'P4264', 'P4685', 'P4267', 'P4686', 'P4270', 'P4687', 'P4273', 'P4688', 'P4276', 'P4689', 'P4279', 'P4690', 'P4282', 'P4691', 'P4285', 'P4692', 'P4288', 'P4693', 'P4291', 'P4694', 'P4294', 'P4695', 'P4297', 'P4696', 'P4300', 'P4697', 'P4303', 'P4698', 'P4306', 'P4699', 'P4309', 'P4700', 'P4312', 'P4701', 'P4315', 'P4702', 'P4318', 'P4703', 'P4321', 'P4704', 'P4324', 'P4705', 'P4327', 'P4706', 'P4330', 'P4707', 'P4333', 'P4708', 'P4336', 'P4709', 'P4339', 'P4710', 'P4342', 'P4711', 'P4345', 'P4712', 'P4348', 'P4713', 'P4351', 'P4714', 'P4354', 'P4715', 'P4357', 'P4716', 'P4360', 'P4717', 'P4363', 'P4718', 'P4366', 'P4719', 'P4369', 'P4720', 'P4372', 'P4721', 'P4375', 'P4722', 'P4378', 'P4723', 'P4381', 'P4724', 'P4384', 'P4725', 'P4387', 'P4726', 'P4477', 'P4483', 'P4489', 'P4495', 'P4501', 'P4507', 'P4513', 'P4519', 'P4525', 'P4531', 'P4537', 'P4543', 'P4549', 'P4555', 'P4558', 'P4559', 'P4560', 'P4561', 'P4562', 'P4563', 'P4564', 'P4565', 'P4566', 'P4567', 'P4568', 'P4569', 'P4570', 'P4571', 'P4572', 'P4573', 'P4574', 'P4575', 'P4576', 'P4577', 'P4578', 'P4579', 'P4580', 'P4581', 'P4582', 'P4583', 'P4584', 'P4585', 'P4586', 'P4587', 'P4588', 'P4589', 'P4727', 'P4728', 'P4729', 'P4730', 'P4731', 'P4732', 'P4733', 'P4734', 'P4735', 'P4736', 'P4737', 'P4738', 'P4739', 'P4740', 'P4741', 'P4742', 'P4743', 'P4744', 'P4608', 'P4609', 'P4610', 'P4611', 'P4612', 'P4613', 'P4614', 'P4615', 'P4616', 'P4617', 'P4618', 'P4619']\n",
      "shape: (2061, 364)\n",
      "sheet: Ref2013\n",
      "columns: ['Nuevo_ID', 'Clasificador A38', 'TAMAÑO', 'A1003', 'A1018', 'A1019', 'A1019_OTRA', 'A1020', 'A1021', 'B2000', 'B2001', 'B2002', 'B2003', 'B2004', 'B2005', 'B2006', 'B2007', 'C3000', 'C3001', 'C3002', 'C3003', 'C3004', 'C3005', 'C3006', 'C3007', 'C3008', 'C3009', 'C3009_JUST', 'C3010', 'C3010_JUST', 'C3011', 'C3012', 'C3013', 'C3014', 'C3015', 'C3016', 'C3017', 'C3018', 'C3019', 'C3020', 'C3021', 'C3022', 'C3023', 'C3024', 'C3025', 'C3026', 'C3027', 'C3028', 'C3029', 'C3030', 'C3031', 'C3032', 'C3033', 'C3034', 'C3035', 'C3036', 'C3037', 'C3038', 'C3039', 'C3040', 'C3041', 'C3042', 'C3043', 'C3044', 'C3045', 'C3046', 'C3047', 'C3048', 'C3049', 'C3050', 'C3051', 'C3052', 'C3053', 'C3054', 'C3055', 'C3056', 'C3057', 'C3058', 'C3059', 'C3060', 'C3061', 'C3062', 'C3063', 'C3064', 'C3065', 'C3066', 'C3067', 'C3068', 'C3069', 'C3070', 'C3071', 'C3072', 'C3073', 'C3094', 'C3095', 'C3096', 'C3097', 'C3098', 'C3099', 'H8000', 'H8001', 'H8002', 'H8003', 'H8004', 'H8005', 'H8006', 'H8007', 'H8008', 'H8009', 'H8010', 'H8011', 'H8012', 'H8013', 'H8014', 'H8015', 'H8016', 'H8017', 'H8018', 'H8019', 'H8020', 'H8021', 'H8022', 'H8023', 'H8024', 'H8025', 'H8026', 'H8027', 'H8028', 'H8029', 'H8030', 'H8031', 'H8032', 'H8033', 'H8034', 'H8035', 'H8036', 'H8037', 'H8038', 'H8039', 'H8040', 'H8041', 'H8042', 'H8043', 'H8044', 'H8045', 'H8046', 'H8047', 'H8048', 'H8049', 'H8050', 'H8051', 'H8052', 'H8053', 'H8054', 'D4300', 'D4301', 'D4302', 'D4303', 'D4310', 'D4311', 'D4312', 'D4313', 'D4320', 'D4321', 'D4322', 'D4323', 'D4330', 'D4331', 'D4332', 'D4333', 'D4400', 'D4401', 'D4402', 'D4403', 'D4404', 'D4405', 'D4410', 'D4411', 'D4412', 'D4413', 'D4414', 'D4415', 'D4420', 'D4421', 'D4422', 'D4423', 'D4424', 'D4425', 'D4430', 'D4431', 'D4432', 'D4433', 'D4434', 'D4435', 'D4500', 'D4501', 'D4502', 'D4503', 'D4504', 'D4505', 'D4510', 'D4511', 'D4512', 'D4513', 'D4514', 'D4515', 'D4520', 'D4521', 'D4522', 'D4523', 'D4524', 'D4525', 'D4530', 'D4531', 'D4532', 'D4533', 'D4534', 'D4535', 'D4600', 'D4601', 'D4602', 'D4603', 'D4604', 'D4605', 'D4606', 'D4700', 'D4701', 'D4702', 'D4703', 'D4704', 'D4705', 'D4706', 'D4707', 'D4708', 'D4709', 'D4710', 'D4711', 'D4712', 'D4713', 'D4714', 'D4800', 'D4801', 'D4802', 'D4810', 'D4811', 'D4812', 'D4820', 'D4821', 'D4822', 'D4830', 'D4831', 'D4832', 'E5000', 'E5001', 'E5002', 'E5003', 'E5004', 'E5005', 'E5006', 'E5007', 'E5008', 'E5009', 'E5010', 'E5011', 'E5012', 'E5013', 'E5014', 'E5015', 'E5016', 'E5017', 'F6000', 'F6001', 'F6002', 'F6003', 'F6004', 'F6005', 'F6006', 'F6007', 'F6008', 'F6009', 'F6009_OTRA', 'G7000', 'G7001', 'I9000']\n",
      "shape: (2249, 284)\n",
      "sheet: Ref2014\n",
      "columns: ['Nuevo_ID', 'Clasificador A38', 'TAMAÑO', 'A1003', 'A1019', 'A1019_otra', 'A1034', 'A1035', 'A1036', 'A1037', 'A1038', 'B2000', 'B2001', 'B2002', 'B2003', 'B2004', 'B2005', 'B2006', 'B2007', 'B2026', 'C3000', 'C3001', 'C3002', 'C3003', 'C3004', 'C3005', 'C3006', 'C3007', 'C3008', 'C3009', 'C3010', 'C3011', 'C3012', 'C3013', 'C3014', 'C3015', 'C3016', 'C3017', 'C3018', 'C3019', 'C3020', 'C3021', 'C3022', 'C3023', 'C3024', 'C3025', 'C3026', 'C3027', 'C3028', 'C3029', 'C3030', 'C3031', 'C3032', 'C3033', 'C3034', 'C3035', 'C3036', 'C3037', 'C3038', 'C3039', 'C3040', 'C3041', 'C3042', 'C3043', 'C3044', 'C3045', 'C3046', 'C3047', 'C3048', 'C3049', 'C3050', 'C3051', 'C3052', 'C3053', 'C3054', 'C3055', 'C3056', 'C3057', 'C3058', 'C3059', 'C3060', 'C3061', 'C3062', 'C3063', 'C3064', 'C3065', 'C3066', 'C3067', 'C3068', 'C3069', 'C3070', 'C3071', 'C3072', 'C3073', 'C3094', 'C3095', 'C3096', 'C3097', 'C3098', 'C3099', 'C3100', 'C3107', 'C3110', 'D4300', 'D4301', 'D4302', 'D4303', 'D4310', 'D4311', 'D4312', 'D4313', 'D4320', 'D4321', 'D4322', 'D4323', 'D4330', 'D4331', 'D4332', 'D4333', 'D4400', 'D4401', 'D4402', 'D4403', 'D4404', 'D4405', 'D4410', 'D4411', 'D4412', 'D4413', 'D4414', 'D4415', 'D4420', 'D4421', 'D4422', 'D4423', 'D4424', 'D4425', 'D4430', 'D4431', 'D4432', 'D4433', 'D4434', 'D4435', 'D4500', 'D4501', 'D4502', 'D4503', 'D4504', 'D4505', 'D4510', 'D4511', 'D4512', 'D4513', 'D4514', 'D4515', 'D4520', 'D4521', 'D4522', 'D4523', 'D4524', 'D4525', 'D4530', 'D4531', 'D4532', 'D4533', 'D4534', 'D4535', 'D4600', 'D4601', 'D4602', 'D4603', 'D4604', 'D4605', 'D4606', 'D4700', 'D4701', 'D4702', 'D4703', 'D4704', 'D4705', 'D4706', 'D4707', 'D4708', 'D4709', 'D4710', 'D4711', 'D4712', 'D4713', 'D4714', 'D4715', 'D4800', 'D4801', 'D4802', 'D4810', 'D4811', 'D4812', 'D4820', 'D4821', 'D4822', 'D4830', 'D4831', 'D4832', 'E5016', 'E5017', 'E5018', 'E5019', 'E5020', 'E5021', 'E5022', 'E5023', 'E5024', 'E5025', 'E5026', 'E5027', 'F6010', 'F6011', 'F6012', 'F6013', 'F6014', 'F6015', 'F6016', 'F6017', 'F6018', 'F6019', 'F6020', 'F6021', 'F6022', 'F6023', 'F6023_otra', 'F6024', 'F6025', 'F6026', 'G7000', 'G7001', 'H8000', 'H8001', 'H8002', 'H8003', 'H8004', 'H8005', 'H8006', 'H8007', 'H8008', 'H8009', 'H8010', 'H8011', 'H8012', 'H8013', 'H8014', 'H8015', 'H8016', 'H8017', 'H8018', 'H8019', 'H8020', 'H8021', 'H8022', 'H8023', 'H8024', 'H8025', 'H8026', 'H8027', 'H8028', 'H8029', 'H8030', 'H8031', 'H8032', 'H8033', 'H8034', 'H8035', 'H8036', 'H8037', 'H8038', 'H8039', 'H8040', 'H8041', 'H8042', 'H8043', 'H8044', 'H8045', 'H8046', 'H8047', 'H8048', 'H8049', 'H8050', 'H8051', 'H8052', 'H8053', 'H8054', 'I9000']\n",
      "shape: (2304, 290)\n",
      "sheet: Ref2015\n",
      "columns: ['Nuevo_ID', 'Clasificador A38', 'TAMAÑO', 'A1003', 'A1019', 'A1019_otra', 'A1034', 'A1035', 'A1036', 'A1037', 'A1038', 'B2000', 'B2001', 'B2002', 'B2003', 'B2004', 'B2005', 'B2006', 'B2007', 'B2009', 'B2026', 'B2027', 'C3000', 'C3001', 'C3002', 'C3003', 'C3004', 'C3005', 'C3006', 'C3007', 'C3008', 'C3009', 'C3010', 'C3011', 'C3012', 'C3013', 'C3014', 'C3015', 'C3016', 'C3017', 'C3018', 'C3019', 'C3020', 'C3021', 'C3022', 'C3023', 'C3024', 'C3025', 'C3026', 'C3027', 'C3028', 'C3029', 'C3030', 'C3036', 'C3037', 'C3038', 'C3039', 'C3040', 'C3041', 'C3042', 'C3043', 'C3044', 'C3045', 'C3046', 'C3047', 'C3048', 'C3049', 'C3050', 'C3051', 'C3052', 'C3053', 'C3054', 'C3055', 'C3056', 'C3057', 'C3058', 'C3059', 'C3060', 'C3061', 'C3062', 'C3063', 'C3064', 'C3065', 'C3066', 'C3067', 'C3068', 'C3069', 'C3070', 'C3071', 'C3072', 'C3073', 'C3100', 'C3107', 'C3110', 'C3111', 'C3112', 'C3113', 'C3114', 'C3115', 'C3116', 'C3117', 'C3118', 'C3119', 'C3120', 'C3121', 'C3122', 'C3123', 'C3124', 'C3125', 'C3126', 'H8000', 'H8001', 'H8002', 'H8003', 'H8004', 'H8005', 'H8006', 'H8007', 'H8008', 'H8009', 'H8010', 'H8011', 'H8012', 'H8013', 'H8014', 'H8015', 'H8016', 'H8017', 'H8018', 'H8019', 'H8020', 'H8021', 'H8022', 'H8023', 'H8024', 'H8025', 'H8026', 'H8027', 'H8028', 'H8029', 'H8030', 'H8031', 'H8032', 'H8033', 'H8034', 'H8035', 'H8036', 'H8037', 'H8038', 'H8039', 'H8040', 'H8041', 'H8042', 'H8043', 'H8044', 'H8045', 'H8046', 'H8047', 'H8048', 'H8049', 'H8050', 'H8051', 'H8052', 'H8053', 'H8054', 'D4300', 'D4301', 'D4302', 'D4303', 'D4310', 'D4311', 'D4312', 'D4313', 'D4320', 'D4321', 'D4322', 'D4323', 'D4330', 'D4331', 'D4332', 'D4333', 'D4400', 'D4401', 'D4402', 'D4403', 'D4404', 'D4405', 'D4410', 'D4411', 'D4412', 'D4413', 'D4414', 'D4415', 'D4420', 'D4421', 'D4422', 'D4423', 'D4424', 'D4425', 'D4430', 'D4431', 'D4432', 'D4433', 'D4434', 'D4435', 'D4500', 'D4501', 'D4502', 'D4503', 'D4504', 'D4505', 'D4510', 'D4511', 'D4512', 'D4513', 'D4514', 'D4515', 'D4520', 'D4521', 'D4522', 'D4523', 'D4524', 'D4525', 'D4530', 'D4531', 'D4532', 'D4533', 'D4534', 'D4535', 'D4600', 'D4601', 'D4602', 'D4603', 'D4604', 'D4605', 'D4606', 'D4700', 'D4701', 'D4702', 'D4703', 'D4704', 'D4705', 'D4706', 'D4707', 'D4708', 'D4709', 'D4710', 'D4711', 'D4712', 'D4713', 'D4714', 'D4715', 'D4800', 'D4801', 'D4802', 'D4810', 'D4811', 'D4812', 'D4820', 'D4821', 'D4822', 'D4830', 'D4831', 'D4832', 'E5016', 'E5017', 'E5018', 'E5019', 'E5020', 'E5021', 'E5022', 'E5023', 'E5024', 'E5025', 'E5026', 'E5027', 'F6010', 'F6011', 'F6012', 'F6013', 'F6014', 'F6015', 'F6016', 'F6017', 'F6018', 'F6019', 'F6020', 'F6021', 'F6022', 'F6023', 'F6023_otra', 'F6024', 'F6025', 'F6026', 'F6027', 'F6028', 'G7000', 'G7001', 'G7002', 'I9000']\n",
      "shape: (2318, 300)\n",
      "sheet: Ref2016\n",
      "columns: ['Nuevo_ID', 'Clasificador A38', 'TAMAÑO', 'A1003', 'A1019', 'A1019_otra', 'A1034', 'A1035', 'A1036', 'A1037', 'A1038', 'B2000', 'B2001', 'B2002', 'B2003', 'B2004', 'B2005', 'B2006', 'B2007', 'B2009', 'B2026', 'B2027', 'C3000', 'C3001', 'C3002', 'C3003', 'C3004', 'C3005', 'C3006', 'C3007', 'C3008', 'C3009', 'C3010', 'C3011', 'C3013', 'C3014', 'C3015', 'C3016', 'C3017', 'C3018', 'C3019', 'C3020', 'C3020_antiguo', 'C3021', 'C3022', 'C3023', 'C3024', 'C3025', 'C3026', 'C3027', 'C3028', 'C3029', 'C3030', 'C3036', 'C3037', 'C3038', 'C3039', 'C3040', 'C3041', 'C3042', 'C3043', 'C3044', 'C3045', 'C3046', 'C3047', 'C3048', 'C3049', 'C3050', 'C3051', 'C3052', 'C3053', 'C3054', 'C3055', 'C3056', 'C3057', 'C3058', 'C3059', 'C3060', 'C3061', 'C3062', 'C3063', 'C3064', 'C3065', 'C3066', 'C3067', 'C3068', 'C3069', 'C3070', 'C3071', 'C3072', 'C3073', 'C3100', 'C3107', 'C3110', 'C3111', 'C3112', 'C3113', 'C3114', 'C3115', 'C3126', 'C3127', 'C3128', 'C3129', 'C3130', 'C3131', 'C3132', 'C3133', 'C3134', 'C3135', 'C3136', 'C3137', 'C3138', 'D4300', 'D4301', 'D4302', 'D4303', 'D4310', 'D4311', 'D4312', 'D4313', 'D4320', 'D4321', 'D4322', 'D4323', 'D4330', 'D4331', 'D4332', 'D4333', 'D4400', 'D4401', 'D4402', 'D4403', 'D4404', 'D4405', 'D4410', 'D4411', 'D4412', 'D4413', 'D4414', 'D4415', 'D4420', 'D4421', 'D4422', 'D4423', 'D4424', 'D4425', 'D4430', 'D4431', 'D4432', 'D4433', 'D4434', 'D4435', 'D4500', 'D4501', 'D4502', 'D4503', 'D4504', 'D4505', 'D4510', 'D4511', 'D4512', 'D4513', 'D4514', 'D4515', 'D4520', 'D4521', 'D4522', 'D4523', 'D4524', 'D4525', 'D4530', 'D4531', 'D4532', 'D4533', 'D4534', 'D4535', 'D4600', 'D4601', 'D4602', 'D4603', 'D4604', 'D4605', 'D4606', 'D4700', 'D4701', 'D4702', 'D4703', 'D4704', 'D4705', 'D4706', 'D4707', 'D4708', 'D4709', 'D4710', 'D4711', 'D4712', 'D4713', 'D4714', 'D4715', 'D4716', 'D4800', 'D4801', 'D4802', 'D4810', 'D4811', 'D4812', 'D4820', 'D4821', 'D4822', 'D4830', 'D4831', 'D4832', 'F6010', 'F6011', 'F6012', 'F6013', 'F6014', 'F6015', 'F6016', 'F6017', 'F6018', 'F6019', 'F6020', 'F6021', 'F6022', 'F6023', 'F6023_otra', 'F6024', 'F6025', 'F6026', 'F6027', 'F6028', 'G7000', 'G7001', 'G7002', 'H8100', 'H8101', 'H8102', 'H8103', 'H8104', 'H8105', 'H8106', 'H8107', 'H8108', 'H8109', 'H8110', 'H8111', 'H8111_otro', 'I9000']\n",
      "shape: (2574, 249)\n",
      "sheet: Ref2017\n",
      "columns: ['Nuevo_ID', 'Clasificador A38', 'TAMAÑO', 'A1003', 'A1019', 'A1019_otra', 'A1034', 'A1035', 'A1036', 'A1037', 'A1038', 'B2000', 'B2001', 'B2002', 'B2003', 'B2004', 'B2005', 'B2006', 'B2007', 'B2026', 'B2027', 'C3000', 'C3001', 'C3002', 'C3003', 'C3004', 'C3005', 'C3006', 'C3007', 'C3008', 'C3009', 'C3010', 'C3011', 'C3013', 'C3014', 'C3015', 'C3016', 'C3017', 'C3018', 'C3019', 'C3020', 'C3021', 'C3022', 'C3023', 'C3024', 'C3025', 'C3026', 'C3027', 'C3028', 'C3029', 'C3030', 'C3036', 'C3037', 'C3038', 'C3039', 'C3040', 'C3041', 'C3042', 'C3043', 'C3044', 'C3045', 'C3046', 'C3047', 'C3048', 'C3049', 'C3050', 'C3051', 'C3052', 'C3053', 'C3054', 'C3055', 'C3056', 'C3057', 'C3058', 'C3059', 'C3060', 'C3061', 'C3062', 'C3063', 'C3064', 'C3065', 'C3066', 'C3067', 'C3068', 'C3069', 'C3070', 'C3071', 'C3072', 'C3073', 'C3100', 'C3107', 'C3110', 'C3111', 'C3112', 'C3113', 'C3114', 'C3115', 'C3126', 'C3127', 'C3128', 'C3129', 'C3130', 'C3131', 'C3132', 'C3133', 'C3134', 'C3135', 'C3136', 'C3137', 'C3138', 'C3140', 'C3141', 'C3142', 'C3143', 'C3144', 'J8000', 'J8001', 'J8002', 'J8003', 'J8004', 'J8005', 'J8006', 'J8007', 'J8008', 'J8009', 'J8010', 'J8011', 'J8012', 'J8013', 'J8014', 'J8015', 'J8016', 'J8017', 'J8018', 'J8019', 'J8020', 'J8021', 'J8022', 'J8023', 'J8024', 'J8025', 'J8026', 'J8027', 'J8028', 'J8029', 'J8030', 'J8031', 'J8032', 'J8033', 'J8034', 'J8035', 'J8036', 'J8037', 'J8038', 'J8039', 'J8040', 'J8041', 'J8042', 'J8043', 'J8044', 'J8045', 'J8046', 'J8047', 'J8048', 'J8049', 'J8050', 'J8051', 'J8052', 'J8053', 'J8054', 'D4300', 'D4301', 'D4302', 'D4303', 'D4310', 'D4311', 'D4312', 'D4313', 'D4320', 'D4321', 'D4322', 'D4323', 'D4330', 'D4331', 'D4332', 'D4333', 'D4400', 'D4401', 'D4402', 'D4403', 'D4404', 'D4405', 'D4410', 'D4411', 'D4412', 'D4413', 'D4414', 'D4415', 'D4420', 'D4421', 'D4422', 'D4423', 'D4424', 'D4425', 'D4430', 'D4431', 'D4432', 'D4433', 'D4434', 'D4435', 'D4500', 'D4501', 'D4502', 'D4503', 'D4504', 'D4505', 'D4510', 'D4511', 'D4512', 'D4513', 'D4514', 'D4515', 'D4520', 'D4521', 'D4522', 'D4523', 'D4524', 'D4525', 'D4530', 'D4531', 'D4532', 'D4533', 'D4534', 'D4535', 'D4600', 'D4601', 'D4602', 'D4603', 'D4604', 'D4605', 'D4606', 'D4700', 'D4701', 'D4702', 'D4703', 'D4704', 'D4705', 'D4706', 'D4707', 'D4717', 'D4708', 'D4709', 'D4710', 'D4711', 'D4712', 'D4713', 'D4714', 'D4716', 'D4715', 'D4800', 'D4801', 'D4802', 'D4810', 'D4811', 'D4812', 'D4820', 'D4821', 'D4822', 'D4830', 'D4831', 'D4832', 'F6010', 'F6011', 'F6012', 'F6013', 'F6014', 'F6015', 'F6016', 'F6017', 'F6018', 'F6019', 'F6020', 'F6021', 'F6022', 'F6023', 'F6023_otra', 'F6024', 'F6025', 'F6026', 'F6027', 'F6028', 'G7000', 'G7001', 'G7002', 'H8100', 'H8101', 'H8102', 'H8103', 'H8104', 'H8105', 'H8106', 'H8107', 'H8108', 'H8109', 'H8110', 'H8111', 'H8111_otro', 'I9000']\n",
      "shape: (2566, 308)\n",
      "sheet: Ref2018\n",
      "columns: ['Nuevo_ID', 'Clasificador A38', 'TAMAÑO', 'A1003', 'A1019', 'A1019_otra', 'A1034', 'A1035', 'A1036', 'A1037', 'B2000', 'B2001', 'B2002', 'B2003', 'B2004', 'B2005', 'B2006', 'B2007', 'B2026', 'B2027', 'C3000', 'C3001', 'C3002', 'C3003', 'C3004', 'C3006', 'C3007', 'C3008', 'C3009', 'C3010', 'C3011', 'C3013', 'C3014', 'C3015', 'C3016', 'C3017', 'C3018', 'C3019', 'C3020', 'C3021', 'C3022', 'C3023', 'C3024', 'C3025', 'C3026', 'C3027', 'C3028', 'C3029', 'C3030', 'C3036', 'C3037', 'C3038', 'C3039', 'C3040', 'C3041', 'C3042', 'C3043', 'C3044', 'C3045', 'C3046', 'C3047', 'C3048', 'C3049', 'C3050', 'C3051', 'C3052', 'C3053', 'C3054', 'C3055', 'C3056', 'C3057', 'C3058', 'C3059', 'C3060', 'C3061', 'C3062', 'C3063', 'C3064', 'C3065', 'C3066', 'C3067', 'C3068', 'C3069', 'C3070', 'C3071', 'C3072', 'C3073', 'C3100', 'C3107', 'C3110', 'C3111', 'C3112', 'C3113', 'C3115', 'C3126', 'C3127', 'C3128', 'C3129', 'C3130', 'C3131', 'C3132', 'C3133', 'C3134', 'C3136', 'C3138', 'C3140', 'C3141', 'C3142', 'C3143', 'J8000', 'J8001', 'J8002', 'J8003', 'J8004', 'J8005', 'J8006', 'J8007', 'J8008', 'J8009', 'J8010', 'J8011', 'J8012', 'J8013', 'J8014', 'J8015', 'J8016', 'J8017', 'J8018', 'J8019', 'J8020', 'J8021', 'J8022', 'J8023', 'J8024', 'J8025', 'J8026', 'J8027', 'J8028', 'J8029', 'J8030', 'J8031', 'J8032', 'J8033', 'J8034', 'J8035', 'J8036', 'J8037', 'J8038', 'J8039', 'J8040', 'J8041', 'J8042', 'J8043', 'J8044', 'J8045', 'J8046', 'J8047', 'J8048', 'J8049', 'J8050', 'J8051', 'J8052', 'J8053', 'J8054', 'D4300', 'D4301', 'D4302', 'D4303', 'D4310', 'D4311', 'D4312', 'D4313', 'D4320', 'D4321', 'D4322', 'D4323', 'D4330', 'D4331', 'D4332', 'D4333', 'D4400', 'D4401', 'D4402', 'D4403', 'D4404', 'D4405', 'D4410', 'D4411', 'D4412', 'D4413', 'D4414', 'D4415', 'D4420', 'D4421', 'D4422', 'D4423', 'D4424', 'D4425', 'D4430', 'D4431', 'D4432', 'D4433', 'D4434', 'D4435', 'D4500', 'D4501', 'D4502', 'D4503', 'D4504', 'D4505', 'D4510', 'D4511', 'D4512', 'D4513', 'D4514', 'D4515', 'D4520', 'D4521', 'D4522', 'D4523', 'D4524', 'D4525', 'D4530', 'D4531', 'D4532', 'D4533', 'D4534', 'D4535', 'D4600', 'D4601', 'D4602', 'D4603', 'D4604', 'D4605', 'D4606', 'D4700', 'D4701', 'D4702', 'D4703', 'D4704', 'D4705', 'D4706', 'D4707', 'D4717', 'D4708', 'D4709', 'D4710', 'D4711', 'D4712', 'D4713', 'D4714', 'D4716', 'D4715', 'D4800', 'D4801', 'D4802', 'D4810', 'D4811', 'D4812', 'D4820', 'D4821', 'D4822', 'D4830', 'D4831', 'D4832', 'F6010', 'F6011', 'F6012', 'F6013', 'F6014', 'F6015', 'F6016', 'F6017', 'F6018', 'F6019', 'F6020', 'F6021', 'F6022', 'F6023', 'F6023_otra', 'F6024', 'F6025', 'F6026', 'F6027', 'F6028', 'F6030', 'F6031', 'F6032', 'F6033', 'F6034', 'F6035', 'G7000', 'G7002', 'H8106', 'H8107', 'H8108', 'H8109', 'H8110', 'H8111', 'H8111_otro', 'H8112', 'H8113', 'H8114', 'H8115', 'H8116', 'H8117', 'H8119', 'H8121', 'H8122', 'H8123', 'H8124', 'H8125', 'H8126', 'I9000']\n",
      "shape: (3170, 314)\n"
     ]
    }
   ],
   "source": [
    "for key in df.keys():\n",
    "    print('sheet:', key)\n",
    "    print('columns:', list(df[key].columns))\n",
    "    print('shape:', df[key].shape)"
   ]
  },
  {
   "cell_type": "code",
   "execution_count": 73,
   "metadata": {},
   "outputs": [
    {
     "data": {
      "text/html": [
       "<div>\n",
       "<style scoped>\n",
       "    .dataframe tbody tr th:only-of-type {\n",
       "        vertical-align: middle;\n",
       "    }\n",
       "\n",
       "    .dataframe tbody tr th {\n",
       "        vertical-align: top;\n",
       "    }\n",
       "\n",
       "    .dataframe thead th {\n",
       "        text-align: right;\n",
       "    }\n",
       "</style>\n",
       "<table border=\"1\" class=\"dataframe\">\n",
       "  <thead>\n",
       "    <tr style=\"text-align: right;\">\n",
       "      <th></th>\n",
       "      <th>Nuevo_ID</th>\n",
       "      <th>Clasificador A38</th>\n",
       "      <th>P020</th>\n",
       "      <th>P021</th>\n",
       "      <th>P022</th>\n",
       "      <th>P023</th>\n",
       "      <th>P024</th>\n",
       "      <th>P025</th>\n",
       "      <th>P026</th>\n",
       "      <th>P027</th>\n",
       "      <th>...</th>\n",
       "      <th>P4610</th>\n",
       "      <th>P4611</th>\n",
       "      <th>P4612</th>\n",
       "      <th>P4613</th>\n",
       "      <th>P4614</th>\n",
       "      <th>P4615</th>\n",
       "      <th>P4616</th>\n",
       "      <th>P4617</th>\n",
       "      <th>P4618</th>\n",
       "      <th>P4619</th>\n",
       "    </tr>\n",
       "    <tr>\n",
       "      <th>TAMAÑO</th>\n",
       "      <th></th>\n",
       "      <th></th>\n",
       "      <th></th>\n",
       "      <th></th>\n",
       "      <th></th>\n",
       "      <th></th>\n",
       "      <th></th>\n",
       "      <th></th>\n",
       "      <th></th>\n",
       "      <th></th>\n",
       "      <th></th>\n",
       "      <th></th>\n",
       "      <th></th>\n",
       "      <th></th>\n",
       "      <th></th>\n",
       "      <th></th>\n",
       "      <th></th>\n",
       "      <th></th>\n",
       "      <th></th>\n",
       "      <th></th>\n",
       "      <th></th>\n",
       "    </tr>\n",
       "  </thead>\n",
       "  <tbody>\n",
       "    <tr>\n",
       "      <th>1</th>\n",
       "      <td>654</td>\n",
       "      <td>654</td>\n",
       "      <td>654</td>\n",
       "      <td>654</td>\n",
       "      <td>654</td>\n",
       "      <td>654</td>\n",
       "      <td>654</td>\n",
       "      <td>654</td>\n",
       "      <td>67</td>\n",
       "      <td>67</td>\n",
       "      <td>...</td>\n",
       "      <td>420</td>\n",
       "      <td>420</td>\n",
       "      <td>420</td>\n",
       "      <td>420</td>\n",
       "      <td>420</td>\n",
       "      <td>420</td>\n",
       "      <td>420</td>\n",
       "      <td>420</td>\n",
       "      <td>654</td>\n",
       "      <td>654</td>\n",
       "    </tr>\n",
       "    <tr>\n",
       "      <th>2</th>\n",
       "      <td>158</td>\n",
       "      <td>158</td>\n",
       "      <td>158</td>\n",
       "      <td>158</td>\n",
       "      <td>158</td>\n",
       "      <td>158</td>\n",
       "      <td>158</td>\n",
       "      <td>158</td>\n",
       "      <td>7</td>\n",
       "      <td>7</td>\n",
       "      <td>...</td>\n",
       "      <td>90</td>\n",
       "      <td>90</td>\n",
       "      <td>90</td>\n",
       "      <td>90</td>\n",
       "      <td>90</td>\n",
       "      <td>90</td>\n",
       "      <td>90</td>\n",
       "      <td>90</td>\n",
       "      <td>158</td>\n",
       "      <td>158</td>\n",
       "    </tr>\n",
       "    <tr>\n",
       "      <th>3</th>\n",
       "      <td>84</td>\n",
       "      <td>84</td>\n",
       "      <td>84</td>\n",
       "      <td>84</td>\n",
       "      <td>84</td>\n",
       "      <td>84</td>\n",
       "      <td>84</td>\n",
       "      <td>84</td>\n",
       "      <td>3</td>\n",
       "      <td>3</td>\n",
       "      <td>...</td>\n",
       "      <td>40</td>\n",
       "      <td>40</td>\n",
       "      <td>40</td>\n",
       "      <td>40</td>\n",
       "      <td>40</td>\n",
       "      <td>40</td>\n",
       "      <td>40</td>\n",
       "      <td>40</td>\n",
       "      <td>84</td>\n",
       "      <td>84</td>\n",
       "    </tr>\n",
       "    <tr>\n",
       "      <th>4</th>\n",
       "      <td>15</td>\n",
       "      <td>15</td>\n",
       "      <td>15</td>\n",
       "      <td>15</td>\n",
       "      <td>15</td>\n",
       "      <td>15</td>\n",
       "      <td>15</td>\n",
       "      <td>15</td>\n",
       "      <td>2</td>\n",
       "      <td>2</td>\n",
       "      <td>...</td>\n",
       "      <td>6</td>\n",
       "      <td>6</td>\n",
       "      <td>6</td>\n",
       "      <td>6</td>\n",
       "      <td>6</td>\n",
       "      <td>6</td>\n",
       "      <td>6</td>\n",
       "      <td>6</td>\n",
       "      <td>15</td>\n",
       "      <td>15</td>\n",
       "    </tr>\n",
       "    <tr>\n",
       "      <th>5</th>\n",
       "      <td>1</td>\n",
       "      <td>1</td>\n",
       "      <td>1</td>\n",
       "      <td>1</td>\n",
       "      <td>1</td>\n",
       "      <td>1</td>\n",
       "      <td>1</td>\n",
       "      <td>1</td>\n",
       "      <td>0</td>\n",
       "      <td>0</td>\n",
       "      <td>...</td>\n",
       "      <td>0</td>\n",
       "      <td>0</td>\n",
       "      <td>0</td>\n",
       "      <td>0</td>\n",
       "      <td>0</td>\n",
       "      <td>0</td>\n",
       "      <td>0</td>\n",
       "      <td>0</td>\n",
       "      <td>1</td>\n",
       "      <td>1</td>\n",
       "    </tr>\n",
       "    <tr>\n",
       "      <th>6</th>\n",
       "      <td>2</td>\n",
       "      <td>2</td>\n",
       "      <td>2</td>\n",
       "      <td>2</td>\n",
       "      <td>2</td>\n",
       "      <td>2</td>\n",
       "      <td>2</td>\n",
       "      <td>2</td>\n",
       "      <td>0</td>\n",
       "      <td>0</td>\n",
       "      <td>...</td>\n",
       "      <td>0</td>\n",
       "      <td>0</td>\n",
       "      <td>0</td>\n",
       "      <td>0</td>\n",
       "      <td>0</td>\n",
       "      <td>0</td>\n",
       "      <td>0</td>\n",
       "      <td>0</td>\n",
       "      <td>2</td>\n",
       "      <td>2</td>\n",
       "    </tr>\n",
       "  </tbody>\n",
       "</table>\n",
       "<p>6 rows × 351 columns</p>\n",
       "</div>"
      ],
      "text/plain": [
       "        Nuevo_ID  Clasificador A38  P020  P021  P022  P023  P024  P025  P026  \\\n",
       "TAMAÑO                                                                         \n",
       "1            654               654   654   654   654   654   654   654    67   \n",
       "2            158               158   158   158   158   158   158   158     7   \n",
       "3             84                84    84    84    84    84    84    84     3   \n",
       "4             15                15    15    15    15    15    15    15     2   \n",
       "5              1                 1     1     1     1     1     1     1     0   \n",
       "6              2                 2     2     2     2     2     2     2     0   \n",
       "\n",
       "        P027  ...  P4610  P4611  P4612  P4613  P4614  P4615  P4616  P4617  \\\n",
       "TAMAÑO        ...                                                           \n",
       "1         67  ...    420    420    420    420    420    420    420    420   \n",
       "2          7  ...     90     90     90     90     90     90     90     90   \n",
       "3          3  ...     40     40     40     40     40     40     40     40   \n",
       "4          2  ...      6      6      6      6      6      6      6      6   \n",
       "5          0  ...      0      0      0      0      0      0      0      0   \n",
       "6          0  ...      0      0      0      0      0      0      0      0   \n",
       "\n",
       "        P4618  P4619  \n",
       "TAMAÑO                \n",
       "1         654    654  \n",
       "2         158    158  \n",
       "3          84     84  \n",
       "4          15     15  \n",
       "5           1      1  \n",
       "6           2      2  \n",
       "\n",
       "[6 rows x 351 columns]"
      ]
     },
     "execution_count": 73,
     "metadata": {},
     "output_type": "execute_result"
    }
   ],
   "source": [
    "df['Ref2009-2010'].groupby('TAMAÑO').count()"
   ]
  },
  {
   "cell_type": "markdown",
   "metadata": {},
   "source": [
    "# ID: CTCI_027\n",
    "* Nombre: Base de datos I+D empresas de seguimiento Ley I+D y EBCT\n",
    "* Descripción: Datos para la construcción de una muestra de seguimiento de empresas que respondieron la encuesta sobre gasto y personal en I+D para los años de referencia 2009 a 2018. Esta base viene cruzada con los montos certificados y proyectos postulados, rechazados y aceptados bajo la Ley I+D cada año, además de su participación en el registro de Empresas de Base Científico-Tecnológica del año 2018 de Minciencia. Este archivo se adjunta con una nota técnica que explica los alcances y limitaciones de los datos. Descubre sobre la I+D en Chile y usa los datos para lo que necesites.\n",
    "* Última Actualización: 2021\n",
    "* Publicador: Instituto Nacional de Estadísticas (INE) en conjunto con el Ministerio de Ciencia, Tecnología, Conocimiento e Innovación.\n",
    "* Categorías: Investigación y Desarrollo (I+D);Formación y capital humano;Transferencia de conocimiento\n",
    "* Etiquetas: I+D 2018, I+D 2017, I+D 2016, I+D 2015, I+D 2014, I+D 2013, I+D 2011 - 2012, I+D 2009 - 2010"
   ]
  },
  {
   "cell_type": "code",
   "execution_count": 74,
   "metadata": {},
   "outputs": [],
   "source": [
    "import pandas as pd"
   ]
  },
  {
   "cell_type": "code",
   "execution_count": 75,
   "metadata": {},
   "outputs": [
    {
     "data": {
      "text/plain": [
       "dict_keys(['Ref2009-2010', 'Ref2011-2012', 'Ref2013', 'Ref2014', 'Ref2015', 'Ref2016', 'Ref2017', 'Ref2018'])"
      ]
     },
     "execution_count": 75,
     "metadata": {},
     "output_type": "execute_result"
    }
   ],
   "source": [
    "df = pd.read_excel('../CTCI/original/BBDD_ID_empresas_LeyID_EBCT.xlsx', sheet_name=None)\n",
    "df.keys()"
   ]
  },
  {
   "cell_type": "code",
   "execution_count": 76,
   "metadata": {},
   "outputs": [
    {
     "name": "stdout",
     "output_type": "stream",
     "text": [
      "sheet: Ref2009-2010\n",
      "columns: ['Nuevo_ID', 'Clasificador A38', 'TAMAÑO', 'P020', 'P021', 'P022', 'P023', 'P024', 'P025', 'P026', 'P027', 'P028', 'P028_OTRA', 'P200', 'P201', 'P202', 'P203', 'P210', 'P211', 'P208', 'P209', 'P4620', 'P4621', 'P4622', 'P4623', 'P4000', 'P4001', 'P4002', 'P4003', 'P4004', 'P4005', 'P4006', 'P4007', 'P4008', 'P4009', 'P4010', 'P4011', 'P4012', 'P4013', 'P4014', 'P4015', 'P4016', 'P4017', 'P4018', 'P4019', 'P4020', 'P4021', 'P4054', 'P4055', 'P4056', 'P4057', 'P4058', 'P4059', 'P4060', 'P4061', 'P4624', 'P4625', 'P4626', 'P4627', 'P4628', 'P4629', 'P4630', 'P4631', 'P4632', 'P4633', 'P4634', 'P4635', 'P4636', 'P4637', 'P4022', 'P4023', 'P4024', 'P4025', 'P4026', 'P4027', 'P4028', 'P4029', 'P4030', 'P4031', 'P4032', 'P4033', 'P4034', 'P4035', 'P4036', 'P4037', 'P4038', 'P4039', 'P4040', 'P4041', 'P4042', 'P4043', 'P4044', 'P4045', 'P4046', 'P4047', 'P4048', 'P4049', 'P4050', 'P4051', 'P4052', 'P4053', 'P4098', 'P4099', 'P4100', 'P4101', 'P4102', 'P4103', 'P4104', 'P4105', 'P4106', 'P4107', 'P4108', 'P4109', 'P4110', 'P4111', 'P4112', 'P4113', 'P4114', 'P4115', 'P4116', 'P4117', 'P4120', 'P4121', 'P4122', 'P4123', 'P4124', 'P4125', 'P4128', 'P4129', 'P4134', 'P4135', 'P4640', 'P4641', 'P4642', 'P4643', 'P4644', 'P4645', 'P4646', 'P4647', 'P4648', 'P4649', 'P4136', 'P4137', 'P4650', 'P4659', 'P4198', 'P4660', 'P4201', 'P4661', 'P4204', 'P4662', 'P4207', 'P4663', 'P4210', 'P4664', 'P4213', 'P4665', 'P4216', 'P4666', 'P4219', 'P4667', 'P4222', 'P4668', 'P4225', 'P4669', 'P4228', 'P4670', 'P4231', 'P4671', 'P4234', 'P4672', 'P4237', 'P4673', 'P4240', 'P4674', 'P4243', 'P4675', 'P4676', 'P4677', 'P4678', 'P4246', 'P4679', 'P4249', 'P4680', 'P4252', 'P4681', 'P4255', 'P4682', 'P4258', 'P4683', 'P4261', 'P4684', 'P4264', 'P4685', 'P4267', 'P4686', 'P4270', 'P4687', 'P4273', 'P4688', 'P4276', 'P4689', 'P4279', 'P4690', 'P4282', 'P4691', 'P4285', 'P4692', 'P4288', 'P4693', 'P4291', 'P4694', 'P4294', 'P4695', 'P4297', 'P4696', 'P4300', 'P4697', 'P4303', 'P4698', 'P4306', 'P4699', 'P4309', 'P4700', 'P4312', 'P4701', 'P4315', 'P4702', 'P4318', 'P4703', 'P4321', 'P4704', 'P4324', 'P4705', 'P4327', 'P4706', 'P4330', 'P4707', 'P4333', 'P4708', 'P4336', 'P4709', 'P4339', 'P4710', 'P4342', 'P4711', 'P4345', 'P4712', 'P4348', 'P4713', 'P4351', 'P4714', 'P4354', 'P4715', 'P4357', 'P4716', 'P4360', 'P4717', 'P4363', 'P4718', 'P4366', 'P4719', 'P4369', 'P4720', 'P4372', 'P4721', 'P4375', 'P4722', 'P4378', 'P4723', 'P4381', 'P4724', 'P4384', 'P4725', 'P4387', 'P4726', 'P4477', 'P4483', 'P4489', 'P4495', 'P4501', 'P4507', 'P4513', 'P4519', 'P4525', 'P4531', 'P4537', 'P4543', 'P4549', 'P4555', 'P4558', 'P4559', 'P4560', 'P4561', 'P4562', 'P4563', 'P4564', 'P4565', 'P4566', 'P4567', 'P4568', 'P4569', 'P4570', 'P4571', 'P4572', 'P4573', 'P4574', 'P4575', 'P4576', 'P4577', 'P4578', 'P4579', 'P4580', 'P4581', 'P4582', 'P4583', 'P4584', 'P4585', 'P4586', 'P4587', 'P4588', 'P4589', 'P4727', 'P4728', 'P4729', 'P4730', 'P4731', 'P4732', 'P4733', 'P4734', 'P4735', 'P4736', 'P4737', 'P4738', 'P4739', 'P4740', 'P4741', 'P4742', 'P4743', 'P4744', 'P4608', 'P4609', 'P4610', 'P4611', 'P4612', 'P4613', 'P4614', 'P4615', 'P4616', 'P4617', 'P4618', 'P4619', 'Cantidad de proyectos postulados 2009', 'Cantidad de proyectos rechazados  2009', 'Cantidad de proyectos aprobados  2009', 'Monto total postulado  2009', 'Monto certificado  2009', 'Gasto rendido y aprobado  2009', 'Cantidad de proyectos postulados 2010', 'Cantidad de proyectos rechazados  2010', 'Cantidad de proyectos aprobados  2010', 'Monto total postulado  2010', 'Monto certificado  2010', 'Gasto rendido y aprobado  2010', 'EBCT_2018']\n",
      "shape: (914, 365)\n",
      "sheet: Ref2011-2012\n",
      "columns: ['Nuevo_ID', 'Clasificador A38', 'TAMAÑO', 'P020', 'P021', 'P022', 'P023', 'P024', 'P025', 'P026', 'P027', 'P028', 'P046', 'P047', 'P048', 'P049', 'P050', 'P200', 'P201', 'P202', 'P203', 'P212', 'P213', 'P214', 'P215', 'P216', 'P217', 'P218', 'P219', 'P220', 'P221', 'P222', 'P223', 'P224', 'P225', 'P4831', 'P4832', 'P4833', 'P4834', 'P4000', 'P4001', 'P4002', 'P4003', 'P4004', 'P4005', 'P4006', 'P4007', 'P4008', 'P4009', 'P4010', 'P4011', 'P4012', 'P4013', 'P4014', 'P4015', 'P4016', 'P4017', 'P4018', 'P4019', 'P4020', 'P4021', 'P4054', 'P4055', 'P4056', 'P4057', 'P4058', 'P4059', 'P4060', 'P4061', 'P4624', 'P4625', 'P4626', 'P4627', 'P4628', 'P4629', 'P4630', 'P4631', 'P4632', 'P4633', 'P4634', 'P4635', 'P4636', 'P4637', 'P4022', 'P4023', 'P4024', 'P4025', 'P4026', 'P4027', 'P4028', 'P4029', 'P4030', 'P4031', 'P4032', 'P4033', 'P4034', 'P4035', 'P4036', 'P4037', 'P4038', 'P4039', 'P4040', 'P4041', 'P4042', 'P4043', 'P4044', 'P4045', 'P4046', 'P4047', 'P4048', 'P4049', 'P4050', 'P4051', 'P4052', 'P4053', 'P4098', 'P4099', 'P4100', 'P4101', 'P4102', 'P4103', 'P4104', 'P4105', 'P4106', 'P4107', 'P4108', 'P4109', 'P4110', 'P4111', 'P4112', 'P4113', 'P4114', 'P4115', 'P4116', 'P4117', 'P4120', 'P4121', 'P4122', 'P4123', 'P4124', 'P4125', 'P4128', 'P4129', 'P4134', 'P4135', 'P4640', 'P4641', 'P4642', 'P4643', 'P4644', 'P4645', 'P4646', 'P4647', 'P4648', 'P4649', 'P4136', 'P4137', 'P4650', 'P4659', 'P4198', 'P4660', 'P4201', 'P4661', 'P4204', 'P4662', 'P4207', 'P4663', 'P4210', 'P4664', 'P4213', 'P4665', 'P4216', 'P4666', 'P4219', 'P4667', 'P4222', 'P4668', 'P4225', 'P4669', 'P4228', 'P4670', 'P4231', 'P4671', 'P4234', 'P4672', 'P4237', 'P4673', 'P4240', 'P4674', 'P4243', 'P4675', 'P4835', 'P4246', 'P4679', 'P4249', 'P4680', 'P4252', 'P4681', 'P4255', 'P4682', 'P4258', 'P4683', 'P4261', 'P4684', 'P4264', 'P4685', 'P4267', 'P4686', 'P4270', 'P4687', 'P4273', 'P4688', 'P4276', 'P4689', 'P4279', 'P4690', 'P4282', 'P4691', 'P4285', 'P4692', 'P4288', 'P4693', 'P4291', 'P4694', 'P4294', 'P4695', 'P4297', 'P4696', 'P4300', 'P4697', 'P4303', 'P4698', 'P4306', 'P4699', 'P4309', 'P4700', 'P4312', 'P4701', 'P4315', 'P4702', 'P4318', 'P4703', 'P4321', 'P4704', 'P4324', 'P4705', 'P4327', 'P4706', 'P4330', 'P4707', 'P4333', 'P4708', 'P4336', 'P4709', 'P4339', 'P4710', 'P4342', 'P4711', 'P4345', 'P4712', 'P4348', 'P4713', 'P4351', 'P4714', 'P4354', 'P4715', 'P4357', 'P4716', 'P4360', 'P4717', 'P4363', 'P4718', 'P4366', 'P4719', 'P4369', 'P4720', 'P4372', 'P4721', 'P4375', 'P4722', 'P4378', 'P4723', 'P4381', 'P4724', 'P4384', 'P4725', 'P4387', 'P4726', 'P4477', 'P4483', 'P4489', 'P4495', 'P4501', 'P4507', 'P4513', 'P4519', 'P4525', 'P4531', 'P4537', 'P4543', 'P4549', 'P4555', 'P4558', 'P4559', 'P4560', 'P4561', 'P4562', 'P4563', 'P4564', 'P4565', 'P4566', 'P4567', 'P4568', 'P4569', 'P4570', 'P4571', 'P4572', 'P4573', 'P4574', 'P4575', 'P4576', 'P4577', 'P4578', 'P4579', 'P4580', 'P4581', 'P4582', 'P4583', 'P4584', 'P4585', 'P4586', 'P4587', 'P4588', 'P4589', 'P4727', 'P4728', 'P4729', 'P4730', 'P4731', 'P4732', 'P4733', 'P4734', 'P4735', 'P4736', 'P4737', 'P4738', 'P4739', 'P4740', 'P4741', 'P4742', 'P4743', 'P4744', 'P4608', 'P4609', 'P4610', 'P4611', 'P4612', 'P4613', 'P4614', 'P4615', 'P4616', 'P4617', 'P4618', 'P4619', 'Cantidad de proyectos postulados 2011', 'Cantidad de proyectos rechazados 2011', 'Cantidad de proyectos aprobados  2011', 'Monto total postulado 2011', 'Monto certificado 2011', 'Gasto rendido y aprobado 2011', 'Cantidad de proyectos postulados 2012', 'Cantidad de proyectos rechazados 2012', 'Cantidad de proyectos aprobados  2012', 'Monto total postulado 2012', 'Monto certificado 2012', 'Gasto rendido y aprobado 2012', 'EBCT_2018']\n",
      "shape: (2061, 377)\n",
      "sheet: Ref2013\n",
      "columns: ['Nuevo_ID', 'Clasificador A38', 'TAMAÑO', 'A1003', 'A1018', 'A1019', 'A1019_OTRA', 'A1020', 'A1021', 'B2000', 'B2001', 'B2002', 'B2003', 'B2004', 'B2005', 'B2006', 'B2007', 'C3000', 'C3001', 'C3002', 'C3003', 'C3004', 'C3005', 'C3006', 'C3007', 'C3008', 'C3009', 'C3009_JUST', 'C3010', 'C3010_JUST', 'C3011', 'C3012', 'C3013', 'C3014', 'C3015', 'C3016', 'C3017', 'C3018', 'C3019', 'C3020', 'C3021', 'C3022', 'C3023', 'C3024', 'C3025', 'C3026', 'C3027', 'C3028', 'C3029', 'C3030', 'C3031', 'C3032', 'C3033', 'C3034', 'C3035', 'C3036', 'C3037', 'C3038', 'C3039', 'C3040', 'C3041', 'C3042', 'C3043', 'C3044', 'C3045', 'C3046', 'C3047', 'C3048', 'C3049', 'C3050', 'C3051', 'C3052', 'C3053', 'C3054', 'C3055', 'C3056', 'C3057', 'C3058', 'C3059', 'C3060', 'C3061', 'C3062', 'C3063', 'C3064', 'C3065', 'C3066', 'C3067', 'C3068', 'C3069', 'C3070', 'C3071', 'C3072', 'C3073', 'C3094', 'C3095', 'C3096', 'C3097', 'C3098', 'C3099', 'H8000', 'H8001', 'H8002', 'H8003', 'H8004', 'H8005', 'H8006', 'H8007', 'H8008', 'H8009', 'H8010', 'H8011', 'H8012', 'H8013', 'H8014', 'H8015', 'H8016', 'H8017', 'H8018', 'H8019', 'H8020', 'H8021', 'H8022', 'H8023', 'H8024', 'H8025', 'H8026', 'H8027', 'H8028', 'H8029', 'H8030', 'H8031', 'H8032', 'H8033', 'H8034', 'H8035', 'H8036', 'H8037', 'H8038', 'H8039', 'H8040', 'H8041', 'H8042', 'H8043', 'H8044', 'H8045', 'H8046', 'H8047', 'H8048', 'H8049', 'H8050', 'H8051', 'H8052', 'H8053', 'H8054', 'D4300', 'D4301', 'D4302', 'D4303', 'D4310', 'D4311', 'D4312', 'D4313', 'D4320', 'D4321', 'D4322', 'D4323', 'D4330', 'D4331', 'D4332', 'D4333', 'D4400', 'D4401', 'D4402', 'D4403', 'D4404', 'D4405', 'D4410', 'D4411', 'D4412', 'D4413', 'D4414', 'D4415', 'D4420', 'D4421', 'D4422', 'D4423', 'D4424', 'D4425', 'D4430', 'D4431', 'D4432', 'D4433', 'D4434', 'D4435', 'D4500', 'D4501', 'D4502', 'D4503', 'D4504', 'D4505', 'D4510', 'D4511', 'D4512', 'D4513', 'D4514', 'D4515', 'D4520', 'D4521', 'D4522', 'D4523', 'D4524', 'D4525', 'D4530', 'D4531', 'D4532', 'D4533', 'D4534', 'D4535', 'D4600', 'D4601', 'D4602', 'D4603', 'D4604', 'D4605', 'D4606', 'D4700', 'D4701', 'D4702', 'D4703', 'D4704', 'D4705', 'D4706', 'D4707', 'D4708', 'D4709', 'D4710', 'D4711', 'D4712', 'D4713', 'D4714', 'D4800', 'D4801', 'D4802', 'D4810', 'D4811', 'D4812', 'D4820', 'D4821', 'D4822', 'D4830', 'D4831', 'D4832', 'E5000', 'E5001', 'E5002', 'E5003', 'E5004', 'E5005', 'E5006', 'E5007', 'E5008', 'E5009', 'E5010', 'E5011', 'E5012', 'E5013', 'E5014', 'E5015', 'E5016', 'E5017', 'F6000', 'F6001', 'F6002', 'F6003', 'F6004', 'F6005', 'F6006', 'F6007', 'F6008', 'F6009', 'F6009_OTRA', 'G7000', 'G7001', 'I9000', 'Cantidad de proyectos postulados 2013', 'Cantidad de proyectos rechazados 2013', 'Cantidad de proyectos aprobados  2013', 'Monto total postulado 2013', 'Monto certificado 2013', 'Gasto rendido y aprobado 2013', 'EBCT_2018']\n",
      "shape: (2249, 291)\n",
      "sheet: Ref2014\n",
      "columns: ['Nuevo_ID', 'Clasificador A38', 'TAMAÑO', 'A1003', 'A1019', 'A1019_otra', 'A1034', 'A1035', 'A1036', 'A1037', 'A1038', 'B2000', 'B2001', 'B2002', 'B2003', 'B2004', 'B2005', 'B2006', 'B2007', 'B2026', 'C3000', 'C3001', 'C3002', 'C3003', 'C3004', 'C3005', 'C3006', 'C3007', 'C3008', 'C3009', 'C3010', 'C3011', 'C3012', 'C3013', 'C3014', 'C3015', 'C3016', 'C3017', 'C3018', 'C3019', 'C3020', 'C3021', 'C3022', 'C3023', 'C3024', 'C3025', 'C3026', 'C3027', 'C3028', 'C3029', 'C3030', 'C3031', 'C3032', 'C3033', 'C3034', 'C3035', 'C3036', 'C3037', 'C3038', 'C3039', 'C3040', 'C3041', 'C3042', 'C3043', 'C3044', 'C3045', 'C3046', 'C3047', 'C3048', 'C3049', 'C3050', 'C3051', 'C3052', 'C3053', 'C3054', 'C3055', 'C3056', 'C3057', 'C3058', 'C3059', 'C3060', 'C3061', 'C3062', 'C3063', 'C3064', 'C3065', 'C3066', 'C3067', 'C3068', 'C3069', 'C3070', 'C3071', 'C3072', 'C3073', 'C3094', 'C3095', 'C3096', 'C3097', 'C3098', 'C3099', 'C3100', 'C3107', 'C3110', 'D4300', 'D4301', 'D4302', 'D4303', 'D4310', 'D4311', 'D4312', 'D4313', 'D4320', 'D4321', 'D4322', 'D4323', 'D4330', 'D4331', 'D4332', 'D4333', 'D4400', 'D4401', 'D4402', 'D4403', 'D4404', 'D4405', 'D4410', 'D4411', 'D4412', 'D4413', 'D4414', 'D4415', 'D4420', 'D4421', 'D4422', 'D4423', 'D4424', 'D4425', 'D4430', 'D4431', 'D4432', 'D4433', 'D4434', 'D4435', 'D4500', 'D4501', 'D4502', 'D4503', 'D4504', 'D4505', 'D4510', 'D4511', 'D4512', 'D4513', 'D4514', 'D4515', 'D4520', 'D4521', 'D4522', 'D4523', 'D4524', 'D4525', 'D4530', 'D4531', 'D4532', 'D4533', 'D4534', 'D4535', 'D4600', 'D4601', 'D4602', 'D4603', 'D4604', 'D4605', 'D4606', 'D4700', 'D4701', 'D4702', 'D4703', 'D4704', 'D4705', 'D4706', 'D4707', 'D4708', 'D4709', 'D4710', 'D4711', 'D4712', 'D4713', 'D4714', 'D4715', 'D4800', 'D4801', 'D4802', 'D4810', 'D4811', 'D4812', 'D4820', 'D4821', 'D4822', 'D4830', 'D4831', 'D4832', 'E5016', 'E5017', 'E5018', 'E5019', 'E5020', 'E5021', 'E5022', 'E5023', 'E5024', 'E5025', 'E5026', 'E5027', 'F6010', 'F6011', 'F6012', 'F6013', 'F6014', 'F6015', 'F6016', 'F6017', 'F6018', 'F6019', 'F6020', 'F6021', 'F6022', 'F6023', 'F6023_otra', 'F6024', 'F6025', 'F6026', 'G7000', 'G7001', 'H8000', 'H8001', 'H8002', 'H8003', 'H8004', 'H8005', 'H8006', 'H8007', 'H8008', 'H8009', 'H8010', 'H8011', 'H8012', 'H8013', 'H8014', 'H8015', 'H8016', 'H8017', 'H8018', 'H8019', 'H8020', 'H8021', 'H8022', 'H8023', 'H8024', 'H8025', 'H8026', 'H8027', 'H8028', 'H8029', 'H8030', 'H8031', 'H8032', 'H8033', 'H8034', 'H8035', 'H8036', 'H8037', 'H8038', 'H8039', 'H8040', 'H8041', 'H8042', 'H8043', 'H8044', 'H8045', 'H8046', 'H8047', 'H8048', 'H8049', 'H8050', 'H8051', 'H8052', 'H8053', 'H8054', 'I9000', 'Cantidad de proyectos postulados 2014', 'Cantidad de proyectos rechazados 2014', 'Cantidad de proyectos aprobados  2014', 'Monto total postulado 2014', 'Monto certificado 2014', 'Gasto rendido y aprobado 2014', 'EBCT_2018']\n",
      "shape: (2304, 297)\n",
      "sheet: Ref2015\n",
      "columns: ['Nuevo_ID', 'Clasificador A38', 'TAMAÑO', 'A1003', 'A1019', 'A1019_otra', 'A1034', 'A1035', 'A1036', 'A1037', 'A1038', 'B2000', 'B2001', 'B2002', 'B2003', 'B2004', 'B2005', 'B2006', 'B2007', 'B2009', 'B2026', 'B2027', 'C3000', 'C3001', 'C3002', 'C3003', 'C3004', 'C3005', 'C3006', 'C3007', 'C3008', 'C3009', 'C3010', 'C3011', 'C3012', 'C3013', 'C3014', 'C3015', 'C3016', 'C3017', 'C3018', 'C3019', 'C3020', 'C3021', 'C3022', 'C3023', 'C3024', 'C3025', 'C3026', 'C3027', 'C3028', 'C3029', 'C3030', 'C3036', 'C3037', 'C3038', 'C3039', 'C3040', 'C3041', 'C3042', 'C3043', 'C3044', 'C3045', 'C3046', 'C3047', 'C3048', 'C3049', 'C3050', 'C3051', 'C3052', 'C3053', 'C3054', 'C3055', 'C3056', 'C3057', 'C3058', 'C3059', 'C3060', 'C3061', 'C3062', 'C3063', 'C3064', 'C3065', 'C3066', 'C3067', 'C3068', 'C3069', 'C3070', 'C3071', 'C3072', 'C3073', 'C3100', 'C3107', 'C3110', 'C3111', 'C3112', 'C3113', 'C3114', 'C3115', 'C3116', 'C3117', 'C3118', 'C3119', 'C3120', 'C3121', 'C3122', 'C3123', 'C3124', 'C3125', 'C3126', 'H8000', 'H8001', 'H8002', 'H8003', 'H8004', 'H8005', 'H8006', 'H8007', 'H8008', 'H8009', 'H8010', 'H8011', 'H8012', 'H8013', 'H8014', 'H8015', 'H8016', 'H8017', 'H8018', 'H8019', 'H8020', 'H8021', 'H8022', 'H8023', 'H8024', 'H8025', 'H8026', 'H8027', 'H8028', 'H8029', 'H8030', 'H8031', 'H8032', 'H8033', 'H8034', 'H8035', 'H8036', 'H8037', 'H8038', 'H8039', 'H8040', 'H8041', 'H8042', 'H8043', 'H8044', 'H8045', 'H8046', 'H8047', 'H8048', 'H8049', 'H8050', 'H8051', 'H8052', 'H8053', 'H8054', 'D4300', 'D4301', 'D4302', 'D4303', 'D4310', 'D4311', 'D4312', 'D4313', 'D4320', 'D4321', 'D4322', 'D4323', 'D4330', 'D4331', 'D4332', 'D4333', 'D4400', 'D4401', 'D4402', 'D4403', 'D4404', 'D4405', 'D4410', 'D4411', 'D4412', 'D4413', 'D4414', 'D4415', 'D4420', 'D4421', 'D4422', 'D4423', 'D4424', 'D4425', 'D4430', 'D4431', 'D4432', 'D4433', 'D4434', 'D4435', 'D4500', 'D4501', 'D4502', 'D4503', 'D4504', 'D4505', 'D4510', 'D4511', 'D4512', 'D4513', 'D4514', 'D4515', 'D4520', 'D4521', 'D4522', 'D4523', 'D4524', 'D4525', 'D4530', 'D4531', 'D4532', 'D4533', 'D4534', 'D4535', 'D4600', 'D4601', 'D4602', 'D4603', 'D4604', 'D4605', 'D4606', 'D4700', 'D4701', 'D4702', 'D4703', 'D4704', 'D4705', 'D4706', 'D4707', 'D4708', 'D4709', 'D4710', 'D4711', 'D4712', 'D4713', 'D4714', 'D4715', 'D4800', 'D4801', 'D4802', 'D4810', 'D4811', 'D4812', 'D4820', 'D4821', 'D4822', 'D4830', 'D4831', 'D4832', 'E5016', 'E5017', 'E5018', 'E5019', 'E5020', 'E5021', 'E5022', 'E5023', 'E5024', 'E5025', 'E5026', 'E5027', 'F6010', 'F6011', 'F6012', 'F6013', 'F6014', 'F6015', 'F6016', 'F6017', 'F6018', 'F6019', 'F6020', 'F6021', 'F6022', 'F6023', 'F6023_otra', 'F6024', 'F6025', 'F6026', 'F6027', 'F6028', 'G7000', 'G7001', 'G7002', 'I9000', 'Cantidad de proyectos postulados 2015', 'Cantidad de proyectos rechazados 2015', 'Cantidad de proyectos aprobados  2015', 'Monto total postulado 2015', 'Monto certificado 2015', 'Gasto rendido y aprobado 2015', 'EBCT_2018']\n",
      "shape: (2318, 307)\n",
      "sheet: Ref2016\n",
      "columns: ['Nuevo_ID', 'Clasificador A38', 'TAMAÑO', 'A1003', 'A1019', 'A1019_otra', 'A1034', 'A1035', 'A1036', 'A1037', 'A1038', 'B2000', 'B2001', 'B2002', 'B2003', 'B2004', 'B2005', 'B2006', 'B2007', 'B2009', 'B2026', 'B2027', 'C3000', 'C3001', 'C3002', 'C3003', 'C3004', 'C3005', 'C3006', 'C3007', 'C3008', 'C3009', 'C3010', 'C3011', 'C3013', 'C3014', 'C3015', 'C3016', 'C3017', 'C3018', 'C3019', 'C3020', 'C3020_antiguo', 'C3021', 'C3022', 'C3023', 'C3024', 'C3025', 'C3026', 'C3027', 'C3028', 'C3029', 'C3030', 'C3036', 'C3037', 'C3038', 'C3039', 'C3040', 'C3041', 'C3042', 'C3043', 'C3044', 'C3045', 'C3046', 'C3047', 'C3048', 'C3049', 'C3050', 'C3051', 'C3052', 'C3053', 'C3054', 'C3055', 'C3056', 'C3057', 'C3058', 'C3059', 'C3060', 'C3061', 'C3062', 'C3063', 'C3064', 'C3065', 'C3066', 'C3067', 'C3068', 'C3069', 'C3070', 'C3071', 'C3072', 'C3073', 'C3100', 'C3107', 'C3110', 'C3111', 'C3112', 'C3113', 'C3114', 'C3115', 'C3126', 'C3127', 'C3128', 'C3129', 'C3130', 'C3131', 'C3132', 'C3133', 'C3134', 'C3135', 'C3136', 'C3137', 'C3138', 'D4300', 'D4301', 'D4302', 'D4303', 'D4310', 'D4311', 'D4312', 'D4313', 'D4320', 'D4321', 'D4322', 'D4323', 'D4330', 'D4331', 'D4332', 'D4333', 'D4400', 'D4401', 'D4402', 'D4403', 'D4404', 'D4405', 'D4410', 'D4411', 'D4412', 'D4413', 'D4414', 'D4415', 'D4420', 'D4421', 'D4422', 'D4423', 'D4424', 'D4425', 'D4430', 'D4431', 'D4432', 'D4433', 'D4434', 'D4435', 'D4500', 'D4501', 'D4502', 'D4503', 'D4504', 'D4505', 'D4510', 'D4511', 'D4512', 'D4513', 'D4514', 'D4515', 'D4520', 'D4521', 'D4522', 'D4523', 'D4524', 'D4525', 'D4530', 'D4531', 'D4532', 'D4533', 'D4534', 'D4535', 'D4600', 'D4601', 'D4602', 'D4603', 'D4604', 'D4605', 'D4606', 'D4700', 'D4701', 'D4702', 'D4703', 'D4704', 'D4705', 'D4706', 'D4707', 'D4708', 'D4709', 'D4710', 'D4711', 'D4712', 'D4713', 'D4714', 'D4715', 'D4716', 'D4800', 'D4801', 'D4802', 'D4810', 'D4811', 'D4812', 'D4820', 'D4821', 'D4822', 'D4830', 'D4831', 'D4832', 'F6010', 'F6011', 'F6012', 'F6013', 'F6014', 'F6015', 'F6016', 'F6017', 'F6018', 'F6019', 'F6020', 'F6021', 'F6022', 'F6023', 'F6023_otra', 'F6024', 'F6025', 'F6026', 'F6027', 'F6028', 'G7000', 'G7001', 'G7002', 'H8100', 'H8101', 'H8102', 'H8103', 'H8104', 'H8105', 'H8106', 'H8107', 'H8108', 'H8109', 'H8110', 'H8111', 'H8111_otro', 'I9000', 'Cantidad de proyectos postulados 2016', 'Cantidad de proyectos rechazados 2016', 'Cantidad de proyectos aprobados  2016', 'Monto total postulado 2016', 'Monto certificado 2016', 'Gasto rendido y aprobado 2016', 'EBCT_2018']\n",
      "shape: (2574, 256)\n",
      "sheet: Ref2017\n",
      "columns: ['Nuevo_ID', 'Clasificador A38', 'TAMAÑO', 'A1003', 'A1019', 'A1019_otra', 'A1034', 'A1035', 'A1036', 'A1037', 'A1038', 'B2000', 'B2001', 'B2002', 'B2003', 'B2004', 'B2005', 'B2006', 'B2007', 'B2026', 'B2027', 'C3000', 'C3001', 'C3002', 'C3003', 'C3004', 'C3005', 'C3006', 'C3007', 'C3008', 'C3009', 'C3010', 'C3011', 'C3013', 'C3014', 'C3015', 'C3016', 'C3017', 'C3018', 'C3019', 'C3020', 'C3021', 'C3022', 'C3023', 'C3024', 'C3025', 'C3026', 'C3027', 'C3028', 'C3029', 'C3030', 'C3036', 'C3037', 'C3038', 'C3039', 'C3040', 'C3041', 'C3042', 'C3043', 'C3044', 'C3045', 'C3046', 'C3047', 'C3048', 'C3049', 'C3050', 'C3051', 'C3052', 'C3053', 'C3054', 'C3055', 'C3056', 'C3057', 'C3058', 'C3059', 'C3060', 'C3061', 'C3062', 'C3063', 'C3064', 'C3065', 'C3066', 'C3067', 'C3068', 'C3069', 'C3070', 'C3071', 'C3072', 'C3073', 'C3100', 'C3107', 'C3110', 'C3111', 'C3112', 'C3113', 'C3114', 'C3115', 'C3126', 'C3127', 'C3128', 'C3129', 'C3130', 'C3131', 'C3132', 'C3133', 'C3134', 'C3135', 'C3136', 'C3137', 'C3138', 'C3140', 'C3141', 'C3142', 'C3143', 'C3144', 'J8000', 'J8001', 'J8002', 'J8003', 'J8004', 'J8005', 'J8006', 'J8007', 'J8008', 'J8009', 'J8010', 'J8011', 'J8012', 'J8013', 'J8014', 'J8015', 'J8016', 'J8017', 'J8018', 'J8019', 'J8020', 'J8021', 'J8022', 'J8023', 'J8024', 'J8025', 'J8026', 'J8027', 'J8028', 'J8029', 'J8030', 'J8031', 'J8032', 'J8033', 'J8034', 'J8035', 'J8036', 'J8037', 'J8038', 'J8039', 'J8040', 'J8041', 'J8042', 'J8043', 'J8044', 'J8045', 'J8046', 'J8047', 'J8048', 'J8049', 'J8050', 'J8051', 'J8052', 'J8053', 'J8054', 'D4300', 'D4301', 'D4302', 'D4303', 'D4310', 'D4311', 'D4312', 'D4313', 'D4320', 'D4321', 'D4322', 'D4323', 'D4330', 'D4331', 'D4332', 'D4333', 'D4400', 'D4401', 'D4402', 'D4403', 'D4404', 'D4405', 'D4410', 'D4411', 'D4412', 'D4413', 'D4414', 'D4415', 'D4420', 'D4421', 'D4422', 'D4423', 'D4424', 'D4425', 'D4430', 'D4431', 'D4432', 'D4433', 'D4434', 'D4435', 'D4500', 'D4501', 'D4502', 'D4503', 'D4504', 'D4505', 'D4510', 'D4511', 'D4512', 'D4513', 'D4514', 'D4515', 'D4520', 'D4521', 'D4522', 'D4523', 'D4524', 'D4525', 'D4530', 'D4531', 'D4532', 'D4533', 'D4534', 'D4535', 'D4600', 'D4601', 'D4602', 'D4603', 'D4604', 'D4605', 'D4606', 'D4700', 'D4701', 'D4702', 'D4703', 'D4704', 'D4705', 'D4706', 'D4707', 'D4717', 'D4708', 'D4709', 'D4710', 'D4711', 'D4712', 'D4713', 'D4714', 'D4716', 'D4715', 'D4800', 'D4801', 'D4802', 'D4810', 'D4811', 'D4812', 'D4820', 'D4821', 'D4822', 'D4830', 'D4831', 'D4832', 'F6010', 'F6011', 'F6012', 'F6013', 'F6014', 'F6015', 'F6016', 'F6017', 'F6018', 'F6019', 'F6020', 'F6021', 'F6022', 'F6023', 'F6023_otra', 'F6024', 'F6025', 'F6026', 'F6027', 'F6028', 'G7000', 'G7001', 'G7002', 'H8100', 'H8101', 'H8102', 'H8103', 'H8104', 'H8105', 'H8106', 'H8107', 'H8108', 'H8109', 'H8110', 'H8111', 'H8111_otro', 'I9000', 'Cantidad de proyectos postulados 2017', 'Cantidad de proyectos rechazados 2017', 'Cantidad de proyectos aprobados  2017', 'Monto total postulado 2017', 'Monto certificado 2017', 'Gasto rendido y aprobado 2017', 'EBCT_2018']\n",
      "shape: (2566, 315)\n",
      "sheet: Ref2018\n",
      "columns: ['Nuevo_ID', 'Clasificador A38', 'TAMAÑO', 'A1003', 'A1019', 'A1019_otra', 'A1034', 'A1035', 'A1036', 'A1037', 'B2000', 'B2001', 'B2002', 'B2003', 'B2004', 'B2005', 'B2006', 'B2007', 'B2026', 'B2027', 'C3000', 'C3001', 'C3002', 'C3003', 'C3004', 'C3006', 'C3007', 'C3008', 'C3009', 'C3010', 'C3011', 'C3013', 'C3014', 'C3015', 'C3016', 'C3017', 'C3018', 'C3019', 'C3020', 'C3021', 'C3022', 'C3023', 'C3024', 'C3025', 'C3026', 'C3027', 'C3028', 'C3029', 'C3030', 'C3036', 'C3037', 'C3038', 'C3039', 'C3040', 'C3041', 'C3042', 'C3043', 'C3044', 'C3045', 'C3046', 'C3047', 'C3048', 'C3049', 'C3050', 'C3051', 'C3052', 'C3053', 'C3054', 'C3055', 'C3056', 'C3057', 'C3058', 'C3059', 'C3060', 'C3061', 'C3062', 'C3063', 'C3064', 'C3065', 'C3066', 'C3067', 'C3068', 'C3069', 'C3070', 'C3071', 'C3072', 'C3073', 'C3100', 'C3107', 'C3110', 'C3111', 'C3112', 'C3113', 'C3115', 'C3126', 'C3127', 'C3128', 'C3129', 'C3130', 'C3131', 'C3132', 'C3133', 'C3134', 'C3136', 'C3138', 'C3140', 'C3141', 'C3142', 'C3143', 'J8000', 'J8001', 'J8002', 'J8003', 'J8004', 'J8005', 'J8006', 'J8007', 'J8008', 'J8009', 'J8010', 'J8011', 'J8012', 'J8013', 'J8014', 'J8015', 'J8016', 'J8017', 'J8018', 'J8019', 'J8020', 'J8021', 'J8022', 'J8023', 'J8024', 'J8025', 'J8026', 'J8027', 'J8028', 'J8029', 'J8030', 'J8031', 'J8032', 'J8033', 'J8034', 'J8035', 'J8036', 'J8037', 'J8038', 'J8039', 'J8040', 'J8041', 'J8042', 'J8043', 'J8044', 'J8045', 'J8046', 'J8047', 'J8048', 'J8049', 'J8050', 'J8051', 'J8052', 'J8053', 'J8054', 'D4300', 'D4301', 'D4302', 'D4303', 'D4310', 'D4311', 'D4312', 'D4313', 'D4320', 'D4321', 'D4322', 'D4323', 'D4330', 'D4331', 'D4332', 'D4333', 'D4400', 'D4401', 'D4402', 'D4403', 'D4404', 'D4405', 'D4410', 'D4411', 'D4412', 'D4413', 'D4414', 'D4415', 'D4420', 'D4421', 'D4422', 'D4423', 'D4424', 'D4425', 'D4430', 'D4431', 'D4432', 'D4433', 'D4434', 'D4435', 'D4500', 'D4501', 'D4502', 'D4503', 'D4504', 'D4505', 'D4510', 'D4511', 'D4512', 'D4513', 'D4514', 'D4515', 'D4520', 'D4521', 'D4522', 'D4523', 'D4524', 'D4525', 'D4530', 'D4531', 'D4532', 'D4533', 'D4534', 'D4535', 'D4600', 'D4601', 'D4602', 'D4603', 'D4604', 'D4605', 'D4606', 'D4700', 'D4701', 'D4702', 'D4703', 'D4704', 'D4705', 'D4706', 'D4707', 'D4717', 'D4708', 'D4709', 'D4710', 'D4711', 'D4712', 'D4713', 'D4714', 'D4716', 'D4715', 'D4800', 'D4801', 'D4802', 'D4810', 'D4811', 'D4812', 'D4820', 'D4821', 'D4822', 'D4830', 'D4831', 'D4832', 'F6010', 'F6011', 'F6012', 'F6013', 'F6014', 'F6015', 'F6016', 'F6017', 'F6018', 'F6019', 'F6020', 'F6021', 'F6022', 'F6023', 'F6023_otra', 'F6024', 'F6025', 'F6026', 'F6027', 'F6028', 'F6030', 'F6031', 'F6032', 'F6033', 'F6034', 'F6035', 'G7000', 'G7002', 'H8106', 'H8107', 'H8108', 'H8109', 'H8110', 'H8111', 'H8111_otro', 'H8112', 'H8113', 'H8114', 'H8115', 'H8116', 'H8117', 'H8119', 'H8121', 'H8122', 'H8123', 'H8124', 'H8125', 'H8126', 'I9000', 'Cantidad de proyectos postulados 2018', 'Cantidad de proyectos rechazados 2018', 'Cantidad de proyectos aprobados  2018', 'Monto total postulado 2018', 'Monto certificado 2018', 'Gasto rendido y aprobado 2018', 'EBCT_2018']\n",
      "shape: (3170, 321)\n"
     ]
    }
   ],
   "source": [
    "for key in df.keys():\n",
    "    print('sheet:', key)\n",
    "    print('columns:', list(df[key].columns))\n",
    "    print('shape:', df[key].shape)\n",
    "    "
   ]
  },
  {
   "cell_type": "code",
   "execution_count": 77,
   "metadata": {},
   "outputs": [
    {
     "name": "stdout",
     "output_type": "stream",
     "text": [
      "Ref2009-2010\n"
     ]
    },
    {
     "data": {
      "text/html": [
       "<div>\n",
       "<style scoped>\n",
       "    .dataframe tbody tr th:only-of-type {\n",
       "        vertical-align: middle;\n",
       "    }\n",
       "\n",
       "    .dataframe tbody tr th {\n",
       "        vertical-align: top;\n",
       "    }\n",
       "\n",
       "    .dataframe thead th {\n",
       "        text-align: right;\n",
       "    }\n",
       "</style>\n",
       "<table border=\"1\" class=\"dataframe\">\n",
       "  <thead>\n",
       "    <tr style=\"text-align: right;\">\n",
       "      <th></th>\n",
       "      <th>Nuevo_ID</th>\n",
       "      <th>TAMAÑO</th>\n",
       "      <th>P020</th>\n",
       "      <th>P021</th>\n",
       "      <th>P022</th>\n",
       "      <th>P024</th>\n",
       "      <th>P025</th>\n",
       "      <th>P026</th>\n",
       "      <th>P027</th>\n",
       "      <th>P028</th>\n",
       "      <th>...</th>\n",
       "      <th>Monto total postulado  2009</th>\n",
       "      <th>Monto certificado  2009</th>\n",
       "      <th>Gasto rendido y aprobado  2009</th>\n",
       "      <th>Cantidad de proyectos postulados 2010</th>\n",
       "      <th>Cantidad de proyectos rechazados  2010</th>\n",
       "      <th>Cantidad de proyectos aprobados  2010</th>\n",
       "      <th>Monto total postulado  2010</th>\n",
       "      <th>Monto certificado  2010</th>\n",
       "      <th>Gasto rendido y aprobado  2010</th>\n",
       "      <th>EBCT_2018</th>\n",
       "    </tr>\n",
       "  </thead>\n",
       "  <tbody>\n",
       "    <tr>\n",
       "      <th>count</th>\n",
       "      <td>914.000000</td>\n",
       "      <td>914.000000</td>\n",
       "      <td>914.000000</td>\n",
       "      <td>914.000000</td>\n",
       "      <td>914.000000</td>\n",
       "      <td>914.000000</td>\n",
       "      <td>914.000000</td>\n",
       "      <td>79.000000</td>\n",
       "      <td>79.000000</td>\n",
       "      <td>914.000000</td>\n",
       "      <td>...</td>\n",
       "      <td>5.000000e+00</td>\n",
       "      <td>5.000000e+00</td>\n",
       "      <td>5.000000e+00</td>\n",
       "      <td>9.000000</td>\n",
       "      <td>9.0</td>\n",
       "      <td>9.000000</td>\n",
       "      <td>9.000000e+00</td>\n",
       "      <td>9.000000e+00</td>\n",
       "      <td>9.000000e+00</td>\n",
       "      <td>914.000000</td>\n",
       "    </tr>\n",
       "    <tr>\n",
       "      <th>mean</th>\n",
       "      <td>10457.500000</td>\n",
       "      <td>1.421225</td>\n",
       "      <td>5.624726</td>\n",
       "      <td>0.504376</td>\n",
       "      <td>0.495624</td>\n",
       "      <td>1988.725383</td>\n",
       "      <td>1.300875</td>\n",
       "      <td>49.065190</td>\n",
       "      <td>50.934810</td>\n",
       "      <td>3.566740</td>\n",
       "      <td>...</td>\n",
       "      <td>5.757275e+07</td>\n",
       "      <td>5.757275e+07</td>\n",
       "      <td>5.757275e+07</td>\n",
       "      <td>1.222222</td>\n",
       "      <td>0.0</td>\n",
       "      <td>1.222222</td>\n",
       "      <td>1.899227e+08</td>\n",
       "      <td>1.899227e+08</td>\n",
       "      <td>1.899227e+08</td>\n",
       "      <td>0.019694</td>\n",
       "    </tr>\n",
       "    <tr>\n",
       "      <th>std</th>\n",
       "      <td>263.993371</td>\n",
       "      <td>0.763938</td>\n",
       "      <td>28.271882</td>\n",
       "      <td>0.500255</td>\n",
       "      <td>0.500255</td>\n",
       "      <td>20.445532</td>\n",
       "      <td>0.645364</td>\n",
       "      <td>33.813723</td>\n",
       "      <td>33.813723</td>\n",
       "      <td>1.237613</td>\n",
       "      <td>...</td>\n",
       "      <td>5.401082e+07</td>\n",
       "      <td>5.401082e+07</td>\n",
       "      <td>5.401082e+07</td>\n",
       "      <td>0.440959</td>\n",
       "      <td>0.0</td>\n",
       "      <td>0.440959</td>\n",
       "      <td>4.167347e+08</td>\n",
       "      <td>4.167347e+08</td>\n",
       "      <td>4.167347e+08</td>\n",
       "      <td>0.139021</td>\n",
       "    </tr>\n",
       "    <tr>\n",
       "      <th>min</th>\n",
       "      <td>10001.000000</td>\n",
       "      <td>1.000000</td>\n",
       "      <td>1.000000</td>\n",
       "      <td>0.000000</td>\n",
       "      <td>0.000000</td>\n",
       "      <td>1865.000000</td>\n",
       "      <td>1.000000</td>\n",
       "      <td>0.010000</td>\n",
       "      <td>0.010000</td>\n",
       "      <td>1.000000</td>\n",
       "      <td>...</td>\n",
       "      <td>4.483571e+06</td>\n",
       "      <td>4.483571e+06</td>\n",
       "      <td>4.483571e+06</td>\n",
       "      <td>1.000000</td>\n",
       "      <td>0.0</td>\n",
       "      <td>1.000000</td>\n",
       "      <td>6.919662e+06</td>\n",
       "      <td>6.919662e+06</td>\n",
       "      <td>6.919662e+06</td>\n",
       "      <td>0.000000</td>\n",
       "    </tr>\n",
       "    <tr>\n",
       "      <th>25%</th>\n",
       "      <td>10229.250000</td>\n",
       "      <td>1.000000</td>\n",
       "      <td>1.000000</td>\n",
       "      <td>0.000000</td>\n",
       "      <td>0.000000</td>\n",
       "      <td>1985.000000</td>\n",
       "      <td>1.000000</td>\n",
       "      <td>22.000000</td>\n",
       "      <td>26.000000</td>\n",
       "      <td>2.000000</td>\n",
       "      <td>...</td>\n",
       "      <td>1.464704e+07</td>\n",
       "      <td>1.464704e+07</td>\n",
       "      <td>1.464704e+07</td>\n",
       "      <td>1.000000</td>\n",
       "      <td>0.0</td>\n",
       "      <td>1.000000</td>\n",
       "      <td>1.437177e+07</td>\n",
       "      <td>1.437177e+07</td>\n",
       "      <td>1.437177e+07</td>\n",
       "      <td>0.000000</td>\n",
       "    </tr>\n",
       "    <tr>\n",
       "      <th>50%</th>\n",
       "      <td>10457.500000</td>\n",
       "      <td>1.000000</td>\n",
       "      <td>1.000000</td>\n",
       "      <td>1.000000</td>\n",
       "      <td>0.000000</td>\n",
       "      <td>1994.000000</td>\n",
       "      <td>1.000000</td>\n",
       "      <td>50.000000</td>\n",
       "      <td>50.000000</td>\n",
       "      <td>4.000000</td>\n",
       "      <td>...</td>\n",
       "      <td>4.203413e+07</td>\n",
       "      <td>4.203413e+07</td>\n",
       "      <td>4.203413e+07</td>\n",
       "      <td>1.000000</td>\n",
       "      <td>0.0</td>\n",
       "      <td>1.000000</td>\n",
       "      <td>2.002818e+07</td>\n",
       "      <td>2.002818e+07</td>\n",
       "      <td>2.002818e+07</td>\n",
       "      <td>0.000000</td>\n",
       "    </tr>\n",
       "    <tr>\n",
       "      <th>75%</th>\n",
       "      <td>10685.750000</td>\n",
       "      <td>2.000000</td>\n",
       "      <td>2.000000</td>\n",
       "      <td>1.000000</td>\n",
       "      <td>1.000000</td>\n",
       "      <td>2001.000000</td>\n",
       "      <td>1.000000</td>\n",
       "      <td>74.000000</td>\n",
       "      <td>78.000000</td>\n",
       "      <td>4.000000</td>\n",
       "      <td>...</td>\n",
       "      <td>9.685621e+07</td>\n",
       "      <td>9.685621e+07</td>\n",
       "      <td>9.685621e+07</td>\n",
       "      <td>1.000000</td>\n",
       "      <td>0.0</td>\n",
       "      <td>1.000000</td>\n",
       "      <td>9.941190e+07</td>\n",
       "      <td>9.941190e+07</td>\n",
       "      <td>9.941190e+07</td>\n",
       "      <td>0.000000</td>\n",
       "    </tr>\n",
       "    <tr>\n",
       "      <th>max</th>\n",
       "      <td>10914.000000</td>\n",
       "      <td>6.000000</td>\n",
       "      <td>494.000000</td>\n",
       "      <td>1.000000</td>\n",
       "      <td>1.000000</td>\n",
       "      <td>2011.000000</td>\n",
       "      <td>4.000000</td>\n",
       "      <td>99.990000</td>\n",
       "      <td>99.990000</td>\n",
       "      <td>8.000000</td>\n",
       "      <td>...</td>\n",
       "      <td>1.298428e+08</td>\n",
       "      <td>1.298428e+08</td>\n",
       "      <td>1.298428e+08</td>\n",
       "      <td>2.000000</td>\n",
       "      <td>0.0</td>\n",
       "      <td>2.000000</td>\n",
       "      <td>1.287876e+09</td>\n",
       "      <td>1.287876e+09</td>\n",
       "      <td>1.287876e+09</td>\n",
       "      <td>1.000000</td>\n",
       "    </tr>\n",
       "  </tbody>\n",
       "</table>\n",
       "<p>8 rows × 362 columns</p>\n",
       "</div>"
      ],
      "text/plain": [
       "           Nuevo_ID      TAMAÑO        P020        P021        P022  \\\n",
       "count    914.000000  914.000000  914.000000  914.000000  914.000000   \n",
       "mean   10457.500000    1.421225    5.624726    0.504376    0.495624   \n",
       "std      263.993371    0.763938   28.271882    0.500255    0.500255   \n",
       "min    10001.000000    1.000000    1.000000    0.000000    0.000000   \n",
       "25%    10229.250000    1.000000    1.000000    0.000000    0.000000   \n",
       "50%    10457.500000    1.000000    1.000000    1.000000    0.000000   \n",
       "75%    10685.750000    2.000000    2.000000    1.000000    1.000000   \n",
       "max    10914.000000    6.000000  494.000000    1.000000    1.000000   \n",
       "\n",
       "              P024        P025       P026       P027        P028  ...  \\\n",
       "count   914.000000  914.000000  79.000000  79.000000  914.000000  ...   \n",
       "mean   1988.725383    1.300875  49.065190  50.934810    3.566740  ...   \n",
       "std      20.445532    0.645364  33.813723  33.813723    1.237613  ...   \n",
       "min    1865.000000    1.000000   0.010000   0.010000    1.000000  ...   \n",
       "25%    1985.000000    1.000000  22.000000  26.000000    2.000000  ...   \n",
       "50%    1994.000000    1.000000  50.000000  50.000000    4.000000  ...   \n",
       "75%    2001.000000    1.000000  74.000000  78.000000    4.000000  ...   \n",
       "max    2011.000000    4.000000  99.990000  99.990000    8.000000  ...   \n",
       "\n",
       "       Monto total postulado  2009  Monto certificado  2009  \\\n",
       "count                 5.000000e+00             5.000000e+00   \n",
       "mean                  5.757275e+07             5.757275e+07   \n",
       "std                   5.401082e+07             5.401082e+07   \n",
       "min                   4.483571e+06             4.483571e+06   \n",
       "25%                   1.464704e+07             1.464704e+07   \n",
       "50%                   4.203413e+07             4.203413e+07   \n",
       "75%                   9.685621e+07             9.685621e+07   \n",
       "max                   1.298428e+08             1.298428e+08   \n",
       "\n",
       "       Gasto rendido y aprobado  2009  Cantidad de proyectos postulados 2010  \\\n",
       "count                    5.000000e+00                               9.000000   \n",
       "mean                     5.757275e+07                               1.222222   \n",
       "std                      5.401082e+07                               0.440959   \n",
       "min                      4.483571e+06                               1.000000   \n",
       "25%                      1.464704e+07                               1.000000   \n",
       "50%                      4.203413e+07                               1.000000   \n",
       "75%                      9.685621e+07                               1.000000   \n",
       "max                      1.298428e+08                               2.000000   \n",
       "\n",
       "       Cantidad de proyectos rechazados  2010  \\\n",
       "count                                     9.0   \n",
       "mean                                      0.0   \n",
       "std                                       0.0   \n",
       "min                                       0.0   \n",
       "25%                                       0.0   \n",
       "50%                                       0.0   \n",
       "75%                                       0.0   \n",
       "max                                       0.0   \n",
       "\n",
       "       Cantidad de proyectos aprobados  2010  Monto total postulado  2010  \\\n",
       "count                               9.000000                 9.000000e+00   \n",
       "mean                                1.222222                 1.899227e+08   \n",
       "std                                 0.440959                 4.167347e+08   \n",
       "min                                 1.000000                 6.919662e+06   \n",
       "25%                                 1.000000                 1.437177e+07   \n",
       "50%                                 1.000000                 2.002818e+07   \n",
       "75%                                 1.000000                 9.941190e+07   \n",
       "max                                 2.000000                 1.287876e+09   \n",
       "\n",
       "       Monto certificado  2010  Gasto rendido y aprobado  2010   EBCT_2018  \n",
       "count             9.000000e+00                    9.000000e+00  914.000000  \n",
       "mean              1.899227e+08                    1.899227e+08    0.019694  \n",
       "std               4.167347e+08                    4.167347e+08    0.139021  \n",
       "min               6.919662e+06                    6.919662e+06    0.000000  \n",
       "25%               1.437177e+07                    1.437177e+07    0.000000  \n",
       "50%               2.002818e+07                    2.002818e+07    0.000000  \n",
       "75%               9.941190e+07                    9.941190e+07    0.000000  \n",
       "max               1.287876e+09                    1.287876e+09    1.000000  \n",
       "\n",
       "[8 rows x 362 columns]"
      ]
     },
     "execution_count": 77,
     "metadata": {},
     "output_type": "execute_result"
    }
   ],
   "source": [
    "print(list(df.keys())[0])\n",
    "df[list(df.keys())[0]].describe()"
   ]
  },
  {
   "cell_type": "markdown",
   "metadata": {},
   "source": [
    "# ID: CTCI_026\n",
    "* Nombre: Proyectos CTCI adjudicados\n",
    "* Descripción:Datos de los proyectos adjudicados a través de los instrumentos de apoyo público a la ciencia, tecnología, conocimiento e innovación, ejecutados por Anid, Corfo y la Subsecretaría CTCI. Contiene información que permite caracterizar a los diferentes proyectos adjudicados, considerando la Agencia implementadora y el instrumento a través del que se recibe el apoyo público, el título del proyecto, variables de caracterización tales como la región de ejecución y el área de conocimiento, entre otras. Conoce más sobre los distintos proyectos adjudicados que realizan actividades orientadas a promover e impulsar la ciencia, tecnología, conocimiento e innovación.\n",
    "* Última Actualización: 2021\n",
    "* Publicador: Ministerio de Ciencia, Tecnología, Conocimiento e Innovación\n",
    "* Categorías:  Programas públicos\n",
    "* Etiquetas:"
   ]
  },
  {
   "cell_type": "code",
   "execution_count": 78,
   "metadata": {},
   "outputs": [
    {
     "data": {
      "text/plain": [
       "dict_keys(['ProyectosCTCI'])"
      ]
     },
     "execution_count": 78,
     "metadata": {},
     "output_type": "execute_result"
    }
   ],
   "source": [
    "import pandas as pd\n",
    "\n",
    "df = pd.read_excel('../CTCI/original/Proyectos_CTCI.xlsx', sheet_name=None)\n",
    "df.keys()"
   ]
  },
  {
   "cell_type": "code",
   "execution_count": 79,
   "metadata": {},
   "outputs": [
    {
     "name": "stdout",
     "output_type": "stream",
     "text": [
      "sheet: ProyectosCTCI\n",
      "columns: ['Código', 'Agencia', 'subdireccion', 'Instrumento', 'Concurso', 'Año', 'Titulo', 'RegionEjecucion', 'Tipo', 'Objetivo', 'Institucion', 'SectorEconomico', 'AreaConocimiento', 'Monto', 'TipoBeneficiario']\n",
      "shape: (44311, 15)\n"
     ]
    }
   ],
   "source": [
    "for key in df.keys():\n",
    "    print('sheet:', key)\n",
    "    print('columns:', list(df[key].columns))\n",
    "    print('shape:', df[key].shape)"
   ]
  },
  {
   "cell_type": "code",
   "execution_count": 80,
   "metadata": {},
   "outputs": [
    {
     "name": "stdout",
     "output_type": "stream",
     "text": [
      "ProyectosCTCI\n"
     ]
    },
    {
     "data": {
      "text/html": [
       "<div>\n",
       "<style scoped>\n",
       "    .dataframe tbody tr th:only-of-type {\n",
       "        vertical-align: middle;\n",
       "    }\n",
       "\n",
       "    .dataframe tbody tr th {\n",
       "        vertical-align: top;\n",
       "    }\n",
       "\n",
       "    .dataframe thead th {\n",
       "        text-align: right;\n",
       "    }\n",
       "</style>\n",
       "<table border=\"1\" class=\"dataframe\">\n",
       "  <thead>\n",
       "    <tr style=\"text-align: right;\">\n",
       "      <th></th>\n",
       "      <th>Año</th>\n",
       "      <th>Monto</th>\n",
       "    </tr>\n",
       "  </thead>\n",
       "  <tbody>\n",
       "    <tr>\n",
       "      <th>count</th>\n",
       "      <td>44311.000000</td>\n",
       "      <td>4.283400e+04</td>\n",
       "    </tr>\n",
       "    <tr>\n",
       "      <th>mean</th>\n",
       "      <td>2009.309968</td>\n",
       "      <td>8.593077e+07</td>\n",
       "    </tr>\n",
       "    <tr>\n",
       "      <th>std</th>\n",
       "      <td>9.397224</td>\n",
       "      <td>3.498547e+08</td>\n",
       "    </tr>\n",
       "    <tr>\n",
       "      <th>min</th>\n",
       "      <td>1982.000000</td>\n",
       "      <td>2.000000e+04</td>\n",
       "    </tr>\n",
       "    <tr>\n",
       "      <th>25%</th>\n",
       "      <td>2005.000000</td>\n",
       "      <td>1.491600e+07</td>\n",
       "    </tr>\n",
       "    <tr>\n",
       "      <th>50%</th>\n",
       "      <td>2012.000000</td>\n",
       "      <td>4.440000e+07</td>\n",
       "    </tr>\n",
       "    <tr>\n",
       "      <th>75%</th>\n",
       "      <td>2017.000000</td>\n",
       "      <td>8.969675e+07</td>\n",
       "    </tr>\n",
       "    <tr>\n",
       "      <th>max</th>\n",
       "      <td>2021.000000</td>\n",
       "      <td>1.905583e+10</td>\n",
       "    </tr>\n",
       "  </tbody>\n",
       "</table>\n",
       "</div>"
      ],
      "text/plain": [
       "                Año         Monto\n",
       "count  44311.000000  4.283400e+04\n",
       "mean    2009.309968  8.593077e+07\n",
       "std        9.397224  3.498547e+08\n",
       "min     1982.000000  2.000000e+04\n",
       "25%     2005.000000  1.491600e+07\n",
       "50%     2012.000000  4.440000e+07\n",
       "75%     2017.000000  8.969675e+07\n",
       "max     2021.000000  1.905583e+10"
      ]
     },
     "execution_count": 80,
     "metadata": {},
     "output_type": "execute_result"
    }
   ],
   "source": [
    "print(list(df.keys())[0])\n",
    "df[list(df.keys())[0]].describe()"
   ]
  },
  {
   "cell_type": "markdown",
   "metadata": {},
   "source": [
    "# ID: CTCI_025\n",
    "* Nombre: Base de datos de Encuesta Nacional de Innovación (2017 - 2018) - Macrozona\n",
    "* Descripción:Datos de la encuesta de innovación para los años de referencia 2017-2018. Esta busca entender las actividades de innovación que llevan a cabo las empresas con ventas anuales mayores a 2.400 UF en el país a partir de una muestra representativa. Descubre sobre la innovación en Chile y usa los datos para lo que necesites.\n",
    "* Última Actualización: 2020\n",
    "* Publicador: Ministerio de Ciencia, Tecnología, Conocimiento e Innovación\n",
    "* Categorías: Innovación y desarrollo de negocios\n",
    "* Etiquetas: ENI 2017 - 2018"
   ]
  },
  {
   "cell_type": "code",
   "execution_count": 81,
   "metadata": {},
   "outputs": [
    {
     "data": {
      "text/plain": [
       "dict_keys(['Sheet1'])"
      ]
     },
     "execution_count": 81,
     "metadata": {},
     "output_type": "execute_result"
    }
   ],
   "source": [
    "import pandas as pd\n",
    "\n",
    "df = pd.read_excel('../CTCI/original/2017-2018-ENI-base-de-datos_macrozona.xlsx', sheet_name=None)\n",
    "df.keys()"
   ]
  },
  {
   "cell_type": "code",
   "execution_count": 82,
   "metadata": {},
   "outputs": [
    {
     "name": "stdout",
     "output_type": "stream",
     "text": [
      "sheet: Sheet1\n",
      "columns: ['ID_A', 'DV_ID_A', 'Tamano_Empresa', 'Tramo', 'Macrozona', 'FE', 'P200', 'P201', 'P202', 'P203', 'P212', 'P213', 'P214', 'P215', 'P216', 'P217', 'P226', 'P224', 'P218', 'P219', 'P220', 'P221', 'P222', 'P223', 'P227', 'P225', 'P228', 'P229', 'P3000', 'P3002', 'P3004', 'P3006', 'P3330', 'P3336', 'P3338', 'P3331', 'P3337', 'P3339', 'P3231', 'P3232', 'P3233', 'P3234', 'P3235', 'P3237', 'P3238', 'P3240', 'P3248', 'P3250', 'P3265', 'P3241', 'P3242', 'P3243', 'P3244', 'P3046', 'P3047', 'P3048', 'P3049', 'P3050', 'P3051', 'P3253', 'P3254', 'P3255', 'P3256', 'P3257', 'P3266', 'P3267', 'P3268', 'P4000', 'P4002', 'P4003', 'P3055', 'P4118', 'P3344', 'P3269', 'P3270', 'P3057', 'P4119', 'P3345', 'P4139', 'P3084', 'P3085', 'P4140', 'P3086', 'P3087', 'P4141', 'P3088', 'P3089', 'P4142', 'P3090', 'P3091', 'P4143', 'P3294', 'P3295', 'P4144', 'P3092', 'P3093', 'P4122', 'P4145', 'P4120', 'P4121', 'P3342', 'P3343', 'P3102', 'P3104', 'P3106', 'P3108', 'P3110', 'P3112', 'P3114', 'P3116', 'P3132', 'P3118', 'P3120', 'P3122', 'P3124', 'P3126', 'P3128', 'P3130', 'P3134', 'P3103', 'P3105', 'P3107', 'P3109', 'P3111', 'P3113', 'P3115', 'P3117', 'P3133', 'P3119', 'P3121', 'P3123', 'P3125', 'P3127', 'P3129', 'P3131', 'P3135', 'P3146', 'P3147', 'P3148', 'P4005', 'P4006', 'P4004', 'P4124', 'P4127', 'P4125', 'P4146', 'P3136', 'P4147', 'P3139', 'P4148', 'P3142', 'P4149', 'P3145', 'P4150', 'P3281', 'P4151', 'P3154', 'P4152', 'P3157', 'P4153', 'P3332', 'P4154', 'P3333', 'P4155', 'P3334', 'P4156', 'P3335', 'P3162', 'P3164', 'P3166', 'P3168', 'P3170', 'P3172', 'P3174', 'P3176', 'P3178', 'P3180', 'P3182', 'P3184', 'P3186', 'P3188', 'P3190', 'P3192', 'P3282', 'P3283', 'P3284', 'P3320', 'P3321', 'P3323', 'P3324', 'P3326', 'P3327', 'P3329', 'P4008', 'P4010', 'P4011', 'P4012', 'P4013', 'P4014', 'P4015', 'P4016', 'P4017', 'P4018', 'P4019', 'P4020', 'P4021', 'P4022', 'P4023', 'P4024', 'P4025', 'P4026', 'P4027', 'P4028', 'P4029', 'P4030', 'P4031', 'P4032', 'P4033', 'P4034', 'P4035', 'P4036', 'P4037', 'P4038', 'P4180', 'P4181', 'P4182', 'P4183', 'P4184', 'P4185', 'P4186', 'P4187', 'P4188', 'P4189', 'P4190', 'P4039', 'P4040', 'P4041', 'P4042', 'P4043', 'P4044', 'P4046', 'P4045', 'P4047', 'P3196', 'P3197', 'P3285', 'P3198', 'P3199', 'P3200', 'P3286', 'P3201', 'P3202', 'P3287', 'P3288', 'P3289', 'P4157', 'P4059', 'P4163', 'P4169', 'P4158', 'P4062', 'P4164', 'P4170', 'P4159', 'P4065', 'P4165', 'P4171', 'P4160', 'P4068', 'P4166', 'P4172', 'P4161', 'P4071', 'P4167', 'P4173', 'P4162', 'P4074', 'P4168', 'P4174', 'P4113', 'P4175', 'P4176', 'P4177', 'P4178', 'P4179', 'P3220', 'P3222', 'P4116', 'P3230', 'P024', 'P026', 'P027', 'P040', 'P028', 'P028_1', 'P021', 'P200_1', 'P200_2', 'P200_3', 'P200_4', 'P201_1', 'P201_2', 'P201_3', 'P201_4', 'P202_1', 'P202_2', 'P202_3', 'P202_4', 'P203_1', 'P203_2', 'P203_3', 'P203_4', 'P224_1', 'P224_2', 'P224_3', 'P224_4', 'P225_1', 'P225_2', 'P225_3', 'P225_4', 'P3342_1', 'P3343_1']\n",
      "shape: (5961, 322)\n"
     ]
    }
   ],
   "source": [
    "for key in df.keys():\n",
    "    print('sheet:', key)\n",
    "    print('columns:', list(df[key].columns))\n",
    "    print('shape:', df[key].shape)"
   ]
  },
  {
   "cell_type": "markdown",
   "metadata": {},
   "source": [
    "# ID: CTCI_024\n",
    "* Nombre: Base de datos de Encuesta sobre Gasto y Personal en I+D (2018) - Sector económico\n",
    "* Descripción: Datos de la encuesta de sobre gasto y personal en I+D para el año de referencia 2018. Esta busca medir los recursos financieros y humanos dedicados a estas actividades en el país. Descubre sobre la I+D en Chile y usa los datos para lo que necesites.\n",
    "* Última Actualización: 2020\n",
    "* Publicador: Ministerio de Ciencia, Tecnología, Conocimiento e Innovación\n",
    "* Categorías: Investigación y Desarrollo (I+D);Transferencia de conocimiento;Formación y capital humano\n",
    "* Etiquetas: I+D 2018"
   ]
  },
  {
   "cell_type": "code",
   "execution_count": 83,
   "metadata": {},
   "outputs": [
    {
     "data": {
      "text/plain": [
       "dict_keys(['Sheet1'])"
      ]
     },
     "execution_count": 83,
     "metadata": {},
     "output_type": "execute_result"
    }
   ],
   "source": [
    "import pandas as pd\n",
    "\n",
    "df = pd.read_excel('../CTCI/original/2018-I-mas-D-base-de-datos_sector-economico.xlsx', sheet_name=None)\n",
    "df.keys()"
   ]
  },
  {
   "cell_type": "code",
   "execution_count": 84,
   "metadata": {},
   "outputs": [
    {
     "name": "stdout",
     "output_type": "stream",
     "text": [
      "sheet: Sheet1\n",
      "columns: ['Identificador_A', 'DV_A', 'IMASD', 'COD_ACTIVIDAD', 'UNIDAD_DECLARANTE', 'Macrozona', 'A1003', 'A1019', 'A1019_otra', 'A1034', 'A1035', 'A1036', 'A1037', 'B2000', 'B2001', 'B2002', 'B2003', 'B2004', 'B2005', 'B2006', 'B2007', 'B2026', 'B2027', 'C3000', 'C3001', 'C3002', 'C3003', 'C3004', 'C3006', 'C3007', 'C3008', 'C3009', 'C3010', 'C3011', 'C3013', 'C3014', 'C3015', 'C3016', 'C3017', 'C3018', 'C3019', 'C3020', 'C3021', 'C3022', 'C3023', 'C3024', 'C3025', 'C3026', 'C3027', 'C3028', 'C3029', 'C3030', 'C3036', 'C3037', 'C3038', 'C3039', 'C3040', 'C3041', 'C3042', 'C3043', 'C3044', 'C3045', 'C3046', 'C3047', 'C3048', 'C3049', 'C3050', 'C3051', 'C3052', 'C3053', 'C3054', 'C3055', 'C3056', 'C3057', 'C3058', 'C3059', 'C3060', 'C3061', 'C3062', 'C3063', 'C3064', 'C3065', 'C3066', 'C3067', 'C3068', 'C3069', 'C3070', 'C3071', 'C3072', 'C3073', 'C3100', 'C3107', 'C3110', 'C3111', 'C3112', 'C3113', 'C3115', 'C3126', 'C3127', 'C3128', 'C3129', 'C3130', 'C3131', 'C3132', 'C3133', 'C3134', 'C3136', 'C3138', 'C3140', 'C3141', 'C3142', 'C3143', 'J8000', 'J8001', 'J8002', 'J8003', 'J8004', 'J8005', 'J8006', 'J8007', 'J8008', 'J8009', 'J8010', 'J8011', 'J8012', 'J8013', 'J8014', 'J8015', 'J8016', 'J8017', 'J8018', 'J8019', 'J8020', 'J8021', 'J8022', 'J8023', 'J8024', 'J8025', 'J8026', 'J8027', 'J8028', 'J8029', 'J8030', 'J8031', 'J8032', 'J8033', 'J8034', 'J8035', 'J8036', 'J8037', 'J8038', 'J8039', 'J8040', 'J8041', 'J8042', 'J8043', 'J8044', 'J8045', 'J8046', 'J8047', 'J8048', 'J8049', 'J8050', 'J8051', 'J8052', 'J8053', 'J8054', 'D4300', 'D4301', 'D4302', 'D4303', 'D4310', 'D4311', 'D4312', 'D4313', 'D4320', 'D4321', 'D4322', 'D4323', 'D4330', 'D4331', 'D4332', 'D4333', 'D4400', 'D4401', 'D4402', 'D4403', 'D4404', 'D4405', 'D4410', 'D4411', 'D4412', 'D4413', 'D4414', 'D4415', 'D4420', 'D4421', 'D4422', 'D4423', 'D4424', 'D4425', 'D4430', 'D4431', 'D4432', 'D4433', 'D4434', 'D4435', 'D4500', 'D4501', 'D4502', 'D4503', 'D4504', 'D4505', 'D4510', 'D4511', 'D4512', 'D4513', 'D4514', 'D4515', 'D4520', 'D4521', 'D4522', 'D4523', 'D4524', 'D4525', 'D4530', 'D4531', 'D4532', 'D4533', 'D4534', 'D4535', 'D4600', 'D4601', 'D4602', 'D4603', 'D4604', 'D4605', 'D4606', 'D4700', 'D4701', 'D4702', 'D4703', 'D4704', 'D4705', 'D4706', 'D4707', 'D4717', 'D4708', 'D4709', 'D4710', 'D4711', 'D4712', 'D4713', 'D4714', 'D4716', 'D4715', 'D4800', 'D4801', 'D4802', 'D4810', 'D4811', 'D4812', 'D4820', 'D4821', 'D4822', 'D4830', 'D4831', 'D4832', 'F6010', 'F6011', 'F6012', 'F6013', 'F6014', 'F6015', 'F6016', 'F6017', 'F6018', 'F6019', 'F6020', 'F6021', 'F6022', 'F6023', 'F6023_otra', 'F6024', 'F6025', 'F6026', 'F6027', 'F6028', 'F6030', 'F6031', 'F6032', 'F6033', 'F6034', 'F6035', 'G7000', 'G7002', 'H8106', 'H8107', 'H8108', 'H8109', 'H8110', 'H8111', 'H8111_otro', 'H8112', 'H8113', 'H8114', 'H8115', 'H8116', 'H8117', 'H8119', 'H8121', 'H8122', 'H8123', 'H8124', 'H8125', 'H8126', 'I9000', 'B2000_JUST', 'B2001_JUST', 'B2007_JUST']\n",
      "shape: (5216, 320)\n"
     ]
    }
   ],
   "source": [
    "for key in df.keys():\n",
    "    print('sheet:', key)\n",
    "    print('columns:', list(df[key].columns))\n",
    "    print('shape:', df[key].shape)"
   ]
  },
  {
   "cell_type": "markdown",
   "metadata": {},
   "source": [
    "# ID: CTCI_023\n",
    "* Nombre: Base de datos de Encuesta sobre Gasto y Personal en I+D (2018) - Tamaño empresa\n",
    "* Descripción: Datos de la encuesta de sobre gasto y personal en I+D para el año de referencia 2018. Esta busca medir los recursos financieros y humanos dedicados a estas actividades en el país. Descubre sobre la I+D en Chile y usa los datos para lo que necesites.\n",
    "* Última Actualización: 2020\n",
    "* Publicador: Ministerio de Ciencia, Tecnología, Conocimiento e Innovación\n",
    "* Categorías: Investigación y Desarrollo (I+D);Transferencia de conocimiento;Formación y capital humano\n",
    "* Etiquetas: I+D 2018\n"
   ]
  },
  {
   "cell_type": "code",
   "execution_count": 85,
   "metadata": {},
   "outputs": [
    {
     "data": {
      "text/plain": [
       "dict_keys(['Sheet1'])"
      ]
     },
     "execution_count": 85,
     "metadata": {},
     "output_type": "execute_result"
    }
   ],
   "source": [
    "import pandas as pd\n",
    "\n",
    "df = pd.read_excel('../CTCI/original/2018-I-mas-D-base-de-datos_tamano-empresa.xlsx', sheet_name=None)\n",
    "df.keys()"
   ]
  },
  {
   "cell_type": "code",
   "execution_count": 86,
   "metadata": {},
   "outputs": [
    {
     "name": "stdout",
     "output_type": "stream",
     "text": [
      "sheet: Sheet1\n",
      "columns: ['Identificador_B', 'ID_B', 'IMASD', 'TAMAÑO_EMPRESA', 'UNIDAD_DECLARANTE', 'A1003', 'A1019', 'A1019_otra', 'A1034', 'A1035', 'A1036', 'A1037', 'B2000', 'B2001', 'B2002', 'B2003', 'B2004', 'B2005', 'B2006', 'B2007', 'B2026', 'B2027', 'C3000', 'C3001', 'C3002', 'C3003', 'C3004', 'C3006', 'C3007', 'C3008', 'C3009', 'C3010', 'C3011', 'C3013', 'C3014', 'C3015', 'C3016', 'C3017', 'C3018', 'C3019', 'C3020', 'C3021', 'C3022', 'C3023', 'C3024', 'C3025', 'C3026', 'C3027', 'C3028', 'C3029', 'C3030', 'C3036', 'C3037', 'C3038', 'C3039', 'C3040', 'C3041', 'C3042', 'C3043', 'C3044', 'C3045', 'C3046', 'C3047', 'C3048', 'C3049', 'C3050', 'C3051', 'C3052', 'C3053', 'C3054', 'C3055', 'C3056', 'C3057', 'C3058', 'C3059', 'C3060', 'C3061', 'C3062', 'C3063', 'C3064', 'C3065', 'C3066', 'C3067', 'C3068', 'C3069', 'C3070', 'C3071', 'C3072', 'C3073', 'C3100', 'C3107', 'C3110', 'C3111', 'C3112', 'C3113', 'C3115', 'C3126', 'C3127', 'C3128', 'C3129', 'C3130', 'C3131', 'C3132', 'C3133', 'C3134', 'C3136', 'C3138', 'C3140', 'C3141', 'C3142', 'C3143', 'J8000', 'J8001', 'J8002', 'J8003', 'J8004', 'J8005', 'J8006', 'J8007', 'J8008', 'J8009', 'J8010', 'J8011', 'J8012', 'J8013', 'J8014', 'J8015', 'J8016', 'J8017', 'J8018', 'J8019', 'J8020', 'J8021', 'J8022', 'J8023', 'J8024', 'J8025', 'J8026', 'J8027', 'J8028', 'J8029', 'J8030', 'J8031', 'J8032', 'J8033', 'J8034', 'J8035', 'J8036', 'J8037', 'J8038', 'J8039', 'J8040', 'J8041', 'J8042', 'J8043', 'J8044', 'J8045', 'J8046', 'J8047', 'J8048', 'J8049', 'J8050', 'J8051', 'J8052', 'J8053', 'J8054', 'D4300', 'D4301', 'D4302', 'D4303', 'D4310', 'D4311', 'D4312', 'D4313', 'D4320', 'D4321', 'D4322', 'D4323', 'D4330', 'D4331', 'D4332', 'D4333', 'D4400', 'D4401', 'D4402', 'D4403', 'D4404', 'D4405', 'D4410', 'D4411', 'D4412', 'D4413', 'D4414', 'D4415', 'D4420', 'D4421', 'D4422', 'D4423', 'D4424', 'D4425', 'D4430', 'D4431', 'D4432', 'D4433', 'D4434', 'D4435', 'D4500', 'D4501', 'D4502', 'D4503', 'D4504', 'D4505', 'D4510', 'D4511', 'D4512', 'D4513', 'D4514', 'D4515', 'D4520', 'D4521', 'D4522', 'D4523', 'D4524', 'D4525', 'D4530', 'D4531', 'D4532', 'D4533', 'D4534', 'D4535', 'D4600', 'D4601', 'D4602', 'D4603', 'D4604', 'D4605', 'D4606', 'D4700', 'D4701', 'D4702', 'D4703', 'D4704', 'D4705', 'D4706', 'D4707', 'D4717', 'D4708', 'D4709', 'D4710', 'D4711', 'D4712', 'D4713', 'D4714', 'D4716', 'D4715', 'D4800', 'D4801', 'D4802', 'D4810', 'D4811', 'D4812', 'D4820', 'D4821', 'D4822', 'D4830', 'D4831', 'D4832', 'F6010', 'F6011', 'F6012', 'F6013', 'F6014', 'F6015', 'F6016', 'F6017', 'F6018', 'F6019', 'F6020', 'F6021', 'F6022', 'F6023', 'F6023_otra', 'F6024', 'F6025', 'F6026', 'F6027', 'F6028', 'F6030', 'F6031', 'F6032', 'F6033', 'F6034', 'F6035', 'G7000', 'G7002', 'H8106', 'H8107', 'H8108', 'H8109', 'H8110', 'H8111', 'H8111_otro', 'H8112', 'H8113', 'H8114', 'H8115', 'H8116', 'H8117', 'H8119', 'H8121', 'H8122', 'H8123', 'H8124', 'H8125', 'H8126', 'I9000', 'B2000_JUST', 'B2001_JUST', 'B2007_JUST']\n",
      "shape: (5216, 319)\n"
     ]
    }
   ],
   "source": [
    "for key in df.keys():\n",
    "    print('sheet:', key)\n",
    "    print('columns:', list(df[key].columns))\n",
    "    print('shape:', df[key].shape)"
   ]
  },
  {
   "cell_type": "markdown",
   "metadata": {},
   "source": [
    "# ID: CTCI_022\n",
    "* Nombre: Base de datos de Encuesta Nacional de Innovación (2017 - 2018) - Sector económico\n",
    "* Descripción: Datos de la encuesta de innovación para los años de referencia 2017-2018. Esta busca entender las actividades de innovación que llevan a cabo las empresas con ventas anuales mayores a 2.400 UF en el país a partir de una muestra representativa. Descubre sobre la innovación en Chile y usa los datos para lo que necesites.\n",
    "* Última Actualización: 2020\n",
    "* Publicador: Ministerio de Ciencia, Tecnología, Conocimiento e Innovación\n",
    "* Categorías: Innovación y desarrollo de negocios\n",
    "* Etiquetas: ENI 2017 - 2018"
   ]
  },
  {
   "cell_type": "code",
   "execution_count": 87,
   "metadata": {},
   "outputs": [
    {
     "data": {
      "text/plain": [
       "dict_keys(['Sheet1'])"
      ]
     },
     "execution_count": 87,
     "metadata": {},
     "output_type": "execute_result"
    }
   ],
   "source": [
    "import pandas as pd\n",
    "\n",
    "df = pd.read_excel('../CTCI/original/2017-2018-ENI-base-de-datossector-economico.xlsx', sheet_name=None)\n",
    "df.keys()"
   ]
  },
  {
   "cell_type": "code",
   "execution_count": 88,
   "metadata": {},
   "outputs": [
    {
     "name": "stdout",
     "output_type": "stream",
     "text": [
      "sheet: Sheet1\n",
      "columns: ['ID_B', 'DV_ID_B', 'Tamano_Empresa', 'Sector_Actividad', 'Tramo', 'FE', 'P200', 'P201', 'P202', 'P203', 'P212', 'P213', 'P214', 'P215', 'P216', 'P217', 'P226', 'P224', 'P218', 'P219', 'P220', 'P221', 'P222', 'P223', 'P227', 'P225', 'P228', 'P229', 'P3000', 'P3002', 'P3004', 'P3006', 'P3330', 'P3336', 'P3338', 'P3331', 'P3337', 'P3339', 'P3231', 'P3232', 'P3233', 'P3234', 'P3235', 'P3237', 'P3238', 'P3240', 'P3248', 'P3250', 'P3265', 'P3241', 'P3242', 'P3243', 'P3244', 'P3046', 'P3047', 'P3048', 'P3049', 'P3050', 'P3051', 'P3253', 'P3254', 'P3255', 'P3256', 'P3257', 'P3266', 'P3267', 'P3268', 'P4000', 'P4002', 'P4003', 'P3055', 'P4118', 'P3344', 'P3269', 'P3270', 'P3057', 'P4119', 'P3345', 'P4139', 'P3084', 'P3085', 'P4140', 'P3086', 'P3087', 'P4141', 'P3088', 'P3089', 'P4142', 'P3090', 'P3091', 'P4143', 'P3294', 'P3295', 'P4144', 'P3092', 'P3093', 'P4122', 'P4145', 'P4120', 'P4121', 'P3342', 'P3343', 'P3102', 'P3104', 'P3106', 'P3108', 'P3110', 'P3112', 'P3114', 'P3116', 'P3132', 'P3118', 'P3120', 'P3122', 'P3124', 'P3126', 'P3128', 'P3130', 'P3134', 'P3103', 'P3105', 'P3107', 'P3109', 'P3111', 'P3113', 'P3115', 'P3117', 'P3133', 'P3119', 'P3121', 'P3123', 'P3125', 'P3127', 'P3129', 'P3131', 'P3135', 'P3146', 'P3147', 'P3148', 'P4005', 'P4006', 'P4004', 'P4124', 'P4127', 'P4125', 'P4146', 'P3136', 'P4147', 'P3139', 'P4148', 'P3142', 'P4149', 'P3145', 'P4150', 'P3281', 'P4151', 'P3154', 'P4152', 'P3157', 'P4153', 'P3332', 'P4154', 'P3333', 'P4155', 'P3334', 'P4156', 'P3335', 'P3162', 'P3164', 'P3166', 'P3168', 'P3170', 'P3172', 'P3174', 'P3176', 'P3178', 'P3180', 'P3182', 'P3184', 'P3186', 'P3188', 'P3190', 'P3192', 'P3282', 'P3283', 'P3284', 'P3320', 'P3321', 'P3323', 'P3324', 'P3326', 'P3327', 'P3329', 'P4008', 'P4010', 'P4011', 'P4012', 'P4013', 'P4014', 'P4015', 'P4016', 'P4017', 'P4018', 'P4019', 'P4020', 'P4021', 'P4022', 'P4023', 'P4024', 'P4025', 'P4026', 'P4027', 'P4028', 'P4029', 'P4030', 'P4031', 'P4032', 'P4033', 'P4034', 'P4035', 'P4036', 'P4037', 'P4038', 'P4180', 'P4181', 'P4182', 'P4183', 'P4184', 'P4185', 'P4186', 'P4187', 'P4188', 'P4189', 'P4190', 'P4039', 'P4040', 'P4041', 'P4042', 'P4043', 'P4044', 'P4046', 'P4045', 'P4047', 'P3196', 'P3197', 'P3285', 'P3198', 'P3199', 'P3200', 'P3286', 'P3201', 'P3202', 'P3287', 'P3288', 'P3289', 'P4157', 'P4059', 'P4163', 'P4169', 'P4158', 'P4062', 'P4164', 'P4170', 'P4159', 'P4065', 'P4165', 'P4171', 'P4160', 'P4068', 'P4166', 'P4172', 'P4161', 'P4071', 'P4167', 'P4173', 'P4162', 'P4074', 'P4168', 'P4174', 'P4113', 'P4175', 'P4176', 'P4177', 'P4178', 'P4179', 'P3220', 'P3222', 'P4116', 'P3230', 'P024', 'P026', 'P027', 'P040', 'P028', 'P028_1', 'P021', 'P200_1', 'P200_2', 'P200_3', 'P200_4', 'P201_1', 'P201_2', 'P201_3', 'P201_4', 'P202_1', 'P202_2', 'P202_3', 'P202_4', 'P203_1', 'P203_2', 'P203_3', 'P203_4', 'P224_1', 'P224_2', 'P224_3', 'P224_4', 'P225_1', 'P225_2', 'P225_3', 'P225_4', 'P3342_1', 'P3343_1']\n",
      "shape: (5961, 322)\n"
     ]
    }
   ],
   "source": [
    "for key in df.keys():\n",
    "    print('sheet:', key)\n",
    "    print('columns:', list(df[key].columns))\n",
    "    print('shape:', df[key].shape)"
   ]
  },
  {
   "cell_type": "markdown",
   "metadata": {},
   "source": [
    "# ID: CTCI_021\n",
    "* Nombre: Base de datos de Encuesta sobre Gasto y Personal en I+D (2017) - Sector económico\n",
    "* Descripción: Datos de la encuesta de sobre gasto y personal en I+D para el año de referencia 2017. Esta busca medir los recursos financieros y humanos dedicados a estas actividades en el país. Descubre sobre la I+D en Chile y usa los datos para lo que necesites.\n",
    "* Última Actualización: 2019\n",
    "* Publicador: Ministerio de Ciencia, Tecnología, Conocimiento e Innovación\n",
    "* Categorías: Investigación y Desarrollo (I+D);Transferencia de conocimiento;Formación y capital humano\n",
    "* Etiquetas: I+D 2017"
   ]
  },
  {
   "cell_type": "code",
   "execution_count": 89,
   "metadata": {},
   "outputs": [
    {
     "data": {
      "text/plain": [
       "dict_keys(['Datos'])"
      ]
     },
     "execution_count": 89,
     "metadata": {},
     "output_type": "execute_result"
    }
   ],
   "source": [
    "import pandas as pd\n",
    "\n",
    "df = pd.read_excel('../CTCI/original/2017-I-mas-D-base-de-datos_sector-economico.xlsx', sheet_name=None)\n",
    "df.keys()"
   ]
  },
  {
   "cell_type": "code",
   "execution_count": 90,
   "metadata": {},
   "outputs": [
    {
     "name": "stdout",
     "output_type": "stream",
     "text": [
      "sheet: Datos\n",
      "columns: ['ID_A', 'DV_A', 'Unidaddeclarante', 'ImasD', 'COD_ACTIVIDAD', 'MACROZONA', 'A1003', 'A1019', 'A1019_otra', 'A1034', 'A1035', 'A1036', 'A1037', 'A1038', 'B2000', 'B2001', 'B2002', 'B2003', 'B2004', 'B2005', 'B2006', 'B2007', 'B2026', 'B2027', 'C3000', 'C3001', 'C3002', 'C3003', 'C3004', 'C3005', 'C3006', 'C3007', 'C3008', 'C3009', 'C3010', 'C3011', 'C3013', 'C3014', 'C3015', 'C3016', 'C3017', 'C3018', 'C3019', 'C3020', 'C3021', 'C3022', 'C3023', 'C3024', 'C3025', 'C3026', 'C3027', 'C3028', 'C3029', 'C3030', 'C3036', 'C3037', 'C3038', 'C3039', 'C3040', 'C3041', 'C3042', 'C3043', 'C3044', 'C3045', 'C3046', 'C3047', 'C3048', 'C3049', 'C3050', 'C3051', 'C3052', 'C3053', 'C3054', 'C3055', 'C3056', 'C3057', 'C3058', 'C3059', 'C3060', 'C3061', 'C3062', 'C3063', 'C3064', 'C3065', 'C3066', 'C3067', 'C3068', 'C3069', 'C3070', 'C3071', 'C3072', 'C3073', 'C3100', 'C3107', 'C3110', 'C3111', 'C3112', 'C3113', 'C3114', 'C3115', 'C3126', 'C3127', 'C3128', 'C3129', 'C3130', 'C3131', 'C3132', 'C3133', 'C3134', 'C3135', 'C3136', 'C3137', 'C3138', 'C3140', 'C3141', 'C3142', 'C3143', 'C3144', 'J8000', 'J8001', 'J8002', 'J8003', 'J8004', 'J8005', 'J8006', 'J8007', 'J8008', 'J8009', 'J8010', 'J8011', 'J8012', 'J8013', 'J8014', 'J8015', 'J8016', 'J8017', 'J8018', 'J8019', 'J8020', 'J8021', 'J8022', 'J8023', 'J8024', 'J8025', 'J8026', 'J8027', 'J8028', 'J8029', 'J8030', 'J8031', 'J8032', 'J8033', 'J8034', 'J8035', 'J8036', 'J8037', 'J8038', 'J8039', 'J8040', 'J8041', 'J8042', 'J8043', 'J8044', 'J8045', 'J8046', 'J8047', 'J8048', 'J8049', 'J8050', 'J8051', 'J8052', 'J8053', 'J8054', 'D4300', 'D4301', 'D4302', 'D4303', 'D4310', 'D4311', 'D4312', 'D4313', 'D4320', 'D4321', 'D4322', 'D4323', 'D4330', 'D4331', 'D4332', 'D4333', 'D4400', 'D4401', 'D4402', 'D4403', 'D4404', 'D4405', 'D4410', 'D4411', 'D4412', 'D4413', 'D4414', 'D4415', 'D4420', 'D4421', 'D4422', 'D4423', 'D4424', 'D4425', 'D4430', 'D4431', 'D4432', 'D4433', 'D4434', 'D4435', 'D4500', 'D4501', 'D4502', 'D4503', 'D4504', 'D4505', 'D4510', 'D4511', 'D4512', 'D4513', 'D4514', 'D4515', 'D4520', 'D4521', 'D4522', 'D4523', 'D4524', 'D4525', 'D4530', 'D4531', 'D4532', 'D4533', 'D4534', 'D4535', 'D4600', 'D4601', 'D4602', 'D4603', 'D4604', 'D4605', 'D4606', 'D4700', 'D4701', 'D4702', 'D4703', 'D4704', 'D4705', 'D4706', 'D4707', 'D4717', 'D4708', 'D4709', 'D4710', 'D4711', 'D4712', 'D4713', 'D4714', 'D4716', 'D4715', 'D4800', 'D4801', 'D4802', 'D4810', 'D4811', 'D4812', 'D4820', 'D4821', 'D4822', 'D4830', 'D4831', 'D4832', 'F6010', 'F6011', 'F6012', 'F6013', 'F6014', 'F6015', 'F6016', 'F6017', 'F6018', 'F6019', 'F6020', 'F6021', 'F6022', 'F6023', 'F6023_otra', 'F6024', 'F6025', 'F6026', 'F6027', 'F6028', 'G7000', 'G7001', 'G7002', 'H8100', 'H8101', 'H8102', 'H8103', 'H8104', 'H8105', 'H8106', 'H8107', 'H8108', 'H8109', 'H8110', 'H8111', 'H8111_otro', 'I9000', 'B2000_JUST', 'B2001_JUST', 'B2007_JUST']\n",
      "shape: (4749, 314)\n"
     ]
    }
   ],
   "source": [
    "for key in df.keys():\n",
    "    print('sheet:', key)\n",
    "    print('columns:', list(df[key].columns))\n",
    "    print('shape:', df[key].shape)"
   ]
  },
  {
   "cell_type": "markdown",
   "metadata": {},
   "source": [
    "# ID: CTCI_020\n",
    "* Nombre: Base de datos de Encuesta sobre Gasto y Personal en I+D (2017) - Tamaño empresa\n",
    "* Descripción: Datos de la encuesta de sobre gasto y personal en I+D para el año de referencia 2017. Esta busca medir los recursos financieros y humanos dedicados a estas actividades en el país. Descubre sobre la I+D en Chile y usa los datos para lo que necesites.\n",
    "* Última Actualización: 2019\n",
    "* Publicador: Ministerio de Ciencia, Tecnología, Conocimiento e Innovación\n",
    "* Categorías: Investigación y Desarrollo (I+D);Transferencia de conocimiento;Formación y capital humano\n",
    "* Etiquetas: I+D 2017"
   ]
  },
  {
   "cell_type": "code",
   "execution_count": 91,
   "metadata": {},
   "outputs": [
    {
     "data": {
      "text/plain": [
       "dict_keys(['Datos'])"
      ]
     },
     "execution_count": 91,
     "metadata": {},
     "output_type": "execute_result"
    }
   ],
   "source": [
    "import pandas as pd\n",
    "\n",
    "df = pd.read_excel('../CTCI/original/2017-I-mas-D-base-de-datos_tamano-empresa.xlsx', sheet_name=None)\n",
    "df.keys()"
   ]
  },
  {
   "cell_type": "code",
   "execution_count": 92,
   "metadata": {},
   "outputs": [
    {
     "name": "stdout",
     "output_type": "stream",
     "text": [
      "sheet: Datos\n",
      "columns: ['ID_B', 'DV_B', 'Unidaddeclarante', 'TAMANO_EMPRESA', 'ImasD', 'A1003', 'A1019', 'A1019_otra', 'A1034', 'A1035', 'A1036', 'A1037', 'A1038', 'B2000', 'B2001', 'B2002', 'B2003', 'B2004', 'B2005', 'B2006', 'B2007', 'B2026', 'B2027', 'C3000', 'C3001', 'C3002', 'C3003', 'C3004', 'C3005', 'C3006', 'C3007', 'C3008', 'C3009', 'C3010', 'C3011', 'C3013', 'C3014', 'C3015', 'C3016', 'C3017', 'C3018', 'C3019', 'C3020', 'C3021', 'C3022', 'C3023', 'C3024', 'C3025', 'C3026', 'C3027', 'C3028', 'C3029', 'C3030', 'C3036', 'C3037', 'C3038', 'C3039', 'C3040', 'C3041', 'C3042', 'C3043', 'C3044', 'C3045', 'C3046', 'C3047', 'C3048', 'C3049', 'C3050', 'C3051', 'C3052', 'C3053', 'C3054', 'C3055', 'C3056', 'C3057', 'C3058', 'C3059', 'C3060', 'C3061', 'C3062', 'C3063', 'C3064', 'C3065', 'C3066', 'C3067', 'C3068', 'C3069', 'C3070', 'C3071', 'C3072', 'C3073', 'C3100', 'C3107', 'C3110', 'C3111', 'C3112', 'C3113', 'C3114', 'C3115', 'C3126', 'C3127', 'C3128', 'C3129', 'C3130', 'C3131', 'C3132', 'C3133', 'C3134', 'C3135', 'C3136', 'C3137', 'C3138', 'C3140', 'C3141', 'C3142', 'C3143', 'C3144', 'J8000', 'J8001', 'J8002', 'J8003', 'J8004', 'J8005', 'J8006', 'J8007', 'J8008', 'J8009', 'J8010', 'J8011', 'J8012', 'J8013', 'J8014', 'J8015', 'J8016', 'J8017', 'J8018', 'J8019', 'J8020', 'J8021', 'J8022', 'J8023', 'J8024', 'J8025', 'J8026', 'J8027', 'J8028', 'J8029', 'J8030', 'J8031', 'J8032', 'J8033', 'J8034', 'J8035', 'J8036', 'J8037', 'J8038', 'J8039', 'J8040', 'J8041', 'J8042', 'J8043', 'J8044', 'J8045', 'J8046', 'J8047', 'J8048', 'J8049', 'J8050', 'J8051', 'J8052', 'J8053', 'J8054', 'D4300', 'D4301', 'D4302', 'D4303', 'D4310', 'D4311', 'D4312', 'D4313', 'D4320', 'D4321', 'D4322', 'D4323', 'D4330', 'D4331', 'D4332', 'D4333', 'D4400', 'D4401', 'D4402', 'D4403', 'D4404', 'D4405', 'D4410', 'D4411', 'D4412', 'D4413', 'D4414', 'D4415', 'D4420', 'D4421', 'D4422', 'D4423', 'D4424', 'D4425', 'D4430', 'D4431', 'D4432', 'D4433', 'D4434', 'D4435', 'D4500', 'D4501', 'D4502', 'D4503', 'D4504', 'D4505', 'D4510', 'D4511', 'D4512', 'D4513', 'D4514', 'D4515', 'D4520', 'D4521', 'D4522', 'D4523', 'D4524', 'D4525', 'D4530', 'D4531', 'D4532', 'D4533', 'D4534', 'D4535', 'D4600', 'D4601', 'D4602', 'D4603', 'D4604', 'D4605', 'D4606', 'D4700', 'D4701', 'D4702', 'D4703', 'D4704', 'D4705', 'D4706', 'D4707', 'D4717', 'D4708', 'D4709', 'D4710', 'D4711', 'D4712', 'D4713', 'D4714', 'D4716', 'D4715', 'D4800', 'D4801', 'D4802', 'D4810', 'D4811', 'D4812', 'D4820', 'D4821', 'D4822', 'D4830', 'D4831', 'D4832', 'F6010', 'F6011', 'F6012', 'F6013', 'F6014', 'F6015', 'F6016', 'F6017', 'F6018', 'F6019', 'F6020', 'F6021', 'F6022', 'F6023', 'F6023_otra', 'F6024', 'F6025', 'F6026', 'F6027', 'F6028', 'G7000', 'G7001', 'G7002', 'H8100', 'H8101', 'H8102', 'H8103', 'H8104', 'H8105', 'H8106', 'H8107', 'H8108', 'H8109', 'H8110', 'H8111', 'H8111_otro', 'I9000', 'B2000_JUST', 'B2001_JUST', 'B2007_JUST']\n",
      "shape: (4749, 313)\n"
     ]
    }
   ],
   "source": [
    "for key in df.keys():\n",
    "    print('sheet:', key)\n",
    "    print('columns:', list(df[key].columns))\n",
    "    print('shape:', df[key].shape)"
   ]
  },
  {
   "cell_type": "markdown",
   "metadata": {},
   "source": [
    "# ID: CTCI_019\n",
    "* Nombre: Base de datos de Encuesta Nacional de Innovación (2015 - 2016) - Región\n",
    "* Descripción: Datos de la encuesta de innovación para los años de referencia 2015-2016. Esta busca entender las actividades de innovación que llevan a cabo las empresas con ventas anuales mayores a 2.400 UF en el país a partir de una muestra representativa. Descubre sobre la innovación en Chile y usa los datos para lo que necesites.\n",
    "* Última Actualización: 2018\n",
    "* Publicador: Ministerio de Ciencia, Tecnología, Conocimiento e Innovación\n",
    "* Categorías: Innovación y desarrollo de negocios\n",
    "* Etiquetas: ENI 2015 - 2016"
   ]
  },
  {
   "cell_type": "code",
   "execution_count": 93,
   "metadata": {},
   "outputs": [
    {
     "data": {
      "text/plain": [
       "dict_keys(['Datos'])"
      ]
     },
     "execution_count": 93,
     "metadata": {},
     "output_type": "execute_result"
    }
   ],
   "source": [
    "import pandas as pd\n",
    "\n",
    "df = pd.read_excel('../CTCI/original/2015-2016-ENI-base-de-datos_region.xlsx', sheet_name=None)\n",
    "df.keys()"
   ]
  },
  {
   "cell_type": "code",
   "execution_count": 94,
   "metadata": {},
   "outputs": [
    {
     "name": "stdout",
     "output_type": "stream",
     "text": [
      "sheet: Datos\n",
      "columns: ['ID_B', 'DV_ID_B', 'REGION', 'TAMANO_EMPRESA', 'FE_Empresas', 'FE_ventas', 'P021', 'P024', 'P026', 'P027', 'P028', 'P0281', 'P040', 'P200', 'P200_1_homo', 'P201', 'P201_1_homo', 'P202', 'P202_1', 'P202_2', 'P202_3', 'P202_4', 'P203', 'P203_1', 'P203_2', 'P203_3', 'P203_4', 'P212', 'P213', 'P214', 'P215', 'P216', 'P217', 'P218', 'P219', 'P220', 'P221', 'P222', 'P223', 'P224', 'P224_1', 'P224_2', 'P224_3', 'P224_4', 'P225', 'P225_1', 'P225_2', 'P225_3', 'P225_4', 'P226', 'P227', 'P228', 'P229', 'P3000', 'P3002', 'P3004', 'P3006', 'P3024', 'P3026', 'P3046', 'P3047', 'P3048', 'P3049', 'P3050', 'P3051', 'P3055', 'P3057', 'P3084', 'P3085', 'P3086', 'P3087', 'P3088', 'P3089', 'P3090', 'P3091', 'P3092', 'P3093', 'P3102', 'P3103', 'P3104', 'P3105', 'P3106', 'P3107', 'P3108', 'P3109', 'P3110', 'P3111', 'P3112', 'P3113', 'P3114', 'P3115', 'P3116', 'P3117', 'P3118', 'P3119', 'P3120', 'P3121', 'P3122', 'P3123', 'P3124', 'P3125', 'P3126', 'P3127', 'P3128', 'P3129', 'P3130', 'P3131', 'P3136', 'P3139', 'P3142', 'P3145', 'P3154', 'P3157', 'P3162', 'P3164', 'P3166', 'P3168', 'P3170', 'P3172', 'P3174', 'P3176', 'P3178', 'P3180', 'P3182', 'P3184', 'P3186', 'P3188', 'P3190', 'P3192', 'P3196', 'P3197', 'P3198', 'P3199', 'P3200', 'P3201', 'P3202', 'P3220', 'P3222', 'P3228', 'P3230', 'P3231', 'P3232', 'P3233', 'P3234', 'P3235', 'P3237', 'P3239', 'P3241', 'P3242', 'P3243', 'P3244', 'P3247', 'P3249', 'P3251', 'P3253', 'P3254', 'P3255', 'P3256', 'P3257', 'P3258', 'P3260', 'P3262', 'P3264', 'P3266', 'P3267', 'P3268', 'P3269', 'P3270', 'P3281', 'P3282', 'P3283', 'P3284', 'P3285', 'P3286', 'P3287', 'P3288', 'P3289', 'P3292', 'P3294', 'P3295', 'P3320', 'P3321', 'P3323', 'P3324', 'P3326', 'P3327', 'P3329', 'P3330', 'P3331', 'P3332', 'P3333', 'P3334', 'P3335', 'P3336', 'P3337', 'P3338', 'P3339', 'P3342', 'P3342_1', 'P3343', 'P3343_1', 'P3344', 'P3345', 'P4000', 'P4002', 'P4003', 'P4004', 'P4006', 'P4008', 'P4010', 'P4011', 'P4012', 'P4013', 'P4014', 'P4015', 'P4016', 'P4017', 'P4018', 'P4019', 'P4020', 'P4021', 'P4022', 'P4023', 'P4024', 'P4025', 'P4026', 'P4027', 'P4028', 'P4029', 'P4030', 'P4031', 'P4032', 'P4033', 'P4034', 'P4035', 'P4036', 'P4037', 'P4038', 'P4039', 'P4040', 'P4041', 'P4042', 'P4043', 'P4044', 'P4045', 'P4046', 'P4047', 'P4055', 'P4056', 'P4057', 'P4058', 'P4059', 'P4062', 'P4065', 'P4068', 'P4071', 'P4074', 'P4113', 'P4116', 'P4118', 'P4119', 'P4120', 'P4121', 'P4122', 'P4123', 'P4124', 'P4125', 'P4126', 'P4128', 'P4130', 'P4132', 'P4134', 'P4136', 'P4138', 'P4139', 'P4140', 'P4141', 'P4142', 'P4143', 'P4144', 'P4145', 'P4146', 'P4147', 'P4148', 'P4149', 'P4150', 'P4151', 'P4152', 'P4153', 'P4154', 'P4155', 'P4156', 'P4157', 'P4158', 'P4159', 'P4160', 'P4161', 'P4162', 'P4163', 'P4164', 'P4165', 'P4166', 'P4167', 'P4168', 'P4169', 'P4170', 'P4171', 'P4172', 'P4173', 'P4174', 'P4175', 'P4176', 'P4177', 'P4178', 'P4179']\n",
      "shape: (5876, 315)\n"
     ]
    }
   ],
   "source": [
    "for key in df.keys():\n",
    "    print('sheet:', key)\n",
    "    print('columns:', list(df[key].columns))\n",
    "    print('shape:', df[key].shape)"
   ]
  },
  {
   "cell_type": "markdown",
   "metadata": {},
   "source": [
    "# ID: CTCI_018\n",
    "* Nombre: Base de datos de Encuesta Nacional de Innovación (2015 - 2016) - Sector económico\n",
    "* Descripción: Datos de la encuesta de innovación para los años de referencia 2015-2016. Esta busca entender las actividades de innovación que llevan a cabo las empresas con ventas anuales mayores a 2.400 UF en el país a partir de una muestra representativa. Descubre sobre la innovación en Chile y usa los datos para lo que necesites.\n",
    "* Última Actualización: 2018\n",
    "* Publicador: Ministerio de Ciencia, Tecnología, Conocimiento e Innovación\n",
    "* Categorías: Innovación y desarrollo de negocios\n",
    "* Etiquetas: ENI 2015 - 2016"
   ]
  },
  {
   "cell_type": "code",
   "execution_count": 95,
   "metadata": {},
   "outputs": [
    {
     "data": {
      "text/plain": [
       "dict_keys(['Datos'])"
      ]
     },
     "execution_count": 95,
     "metadata": {},
     "output_type": "execute_result"
    }
   ],
   "source": [
    "import pandas as pd\n",
    "\n",
    "df = pd.read_excel('../CTCI/original/2015-2016-ENI-base-de-datos_sector-economico.xlsx', sheet_name=None)\n",
    "df.keys()"
   ]
  },
  {
   "cell_type": "code",
   "execution_count": 96,
   "metadata": {},
   "outputs": [
    {
     "name": "stdout",
     "output_type": "stream",
     "text": [
      "sheet: Datos\n",
      "columns: ['ID_A', 'DV_ID_A', 'SECTOR_ACTIVIDAD', 'TAMANO_EMPRESA', 'FE_Empresas', 'FE_ventas', 'P021', 'P024', 'P026', 'P027', 'P028', 'P0281', 'P040', 'P200', 'P200_1_homo', 'P201', 'P201_1_homo', 'P202', 'P202_1', 'P202_2', 'P202_3', 'P202_4', 'P203', 'P203_1', 'P203_2', 'P203_3', 'P203_4', 'P212', 'P213', 'P214', 'P215', 'P216', 'P217', 'P218', 'P219', 'P220', 'P221', 'P222', 'P223', 'P224', 'P224_1', 'P224_2', 'P224_3', 'P224_4', 'P225', 'P225_1', 'P225_2', 'P225_3', 'P225_4', 'P226', 'P227', 'P228', 'P229', 'P3000', 'P3002', 'P3004', 'P3006', 'P3024', 'P3026', 'P3046', 'P3047', 'P3048', 'P3049', 'P3050', 'P3051', 'P3055', 'P3057', 'P3084', 'P3085', 'P3086', 'P3087', 'P3088', 'P3089', 'P3090', 'P3091', 'P3092', 'P3093', 'P3102', 'P3103', 'P3104', 'P3105', 'P3106', 'P3107', 'P3108', 'P3109', 'P3110', 'P3111', 'P3112', 'P3113', 'P3114', 'P3115', 'P3116', 'P3117', 'P3118', 'P3119', 'P3120', 'P3121', 'P3122', 'P3123', 'P3124', 'P3125', 'P3126', 'P3127', 'P3128', 'P3129', 'P3130', 'P3131', 'P3136', 'P3139', 'P3142', 'P3145', 'P3154', 'P3157', 'P3162', 'P3164', 'P3166', 'P3168', 'P3170', 'P3172', 'P3174', 'P3176', 'P3178', 'P3180', 'P3182', 'P3184', 'P3186', 'P3188', 'P3190', 'P3192', 'P3196', 'P3197', 'P3198', 'P3199', 'P3200', 'P3201', 'P3202', 'P3220', 'P3222', 'P3228', 'P3230', 'P3231', 'P3232', 'P3233', 'P3234', 'P3235', 'P3237', 'P3239', 'P3241', 'P3242', 'P3243', 'P3244', 'P3247', 'P3249', 'P3251', 'P3253', 'P3254', 'P3255', 'P3256', 'P3257', 'P3258', 'P3260', 'P3262', 'P3264', 'P3266', 'P3267', 'P3268', 'P3269', 'P3270', 'P3281', 'P3282', 'P3283', 'P3284', 'P3285', 'P3286', 'P3287', 'P3288', 'P3289', 'P3292', 'P3294', 'P3295', 'P3320', 'P3321', 'P3323', 'P3324', 'P3326', 'P3327', 'P3329', 'P3330', 'P3331', 'P3332', 'P3333', 'P3334', 'P3335', 'P3336', 'P3337', 'P3338', 'P3339', 'P3342', 'P3342_1', 'P3343', 'P3343_1', 'P3344', 'P3345', 'P4000', 'P4002', 'P4003', 'P4004', 'P4006', 'P4008', 'P4010', 'P4011', 'P4012', 'P4013', 'P4014', 'P4015', 'P4016', 'P4017', 'P4018', 'P4019', 'P4020', 'P4021', 'P4022', 'P4023', 'P4024', 'P4025', 'P4026', 'P4027', 'P4028', 'P4029', 'P4030', 'P4031', 'P4032', 'P4033', 'P4034', 'P4035', 'P4036', 'P4037', 'P4038', 'P4039', 'P4040', 'P4041', 'P4042', 'P4043', 'P4044', 'P4045', 'P4046', 'P4047', 'P4055', 'P4056', 'P4057', 'P4058', 'P4059', 'P4062', 'P4065', 'P4068', 'P4071', 'P4074', 'P4113', 'P4116', 'P4118', 'P4119', 'P4120', 'P4121', 'P4122', 'P4123', 'P4124', 'P4125', 'P4126', 'P4128', 'P4130', 'P4132', 'P4134', 'P4136', 'P4138', 'P4139', 'P4140', 'P4141', 'P4142', 'P4143', 'P4144', 'P4145', 'P4146', 'P4147', 'P4148', 'P4149', 'P4150', 'P4151', 'P4152', 'P4153', 'P4154', 'P4155', 'P4156', 'P4157', 'P4158', 'P4159', 'P4160', 'P4161', 'P4162', 'P4163', 'P4164', 'P4165', 'P4166', 'P4167', 'P4168', 'P4169', 'P4170', 'P4171', 'P4172', 'P4173', 'P4174', 'P4175', 'P4176', 'P4177', 'P4178', 'P4179']\n",
      "shape: (5876, 315)\n"
     ]
    }
   ],
   "source": [
    "for key in df.keys():\n",
    "    print('sheet:', key)\n",
    "    print('columns:', list(df[key].columns))\n",
    "    print('shape:', df[key].shape)"
   ]
  },
  {
   "cell_type": "markdown",
   "metadata": {},
   "source": [
    "# ID: CTCI_017\n",
    "* Nombre: Base de datos de Encuesta sobre Gasto y Personal en I+D (2016) - Sector económico\n",
    "* Descripción: Datos de la encuesta de sobre gasto y personal en I+D para el año de referencia 2016. Esta busca medir los recursos financieros y humanos dedicados a estas actividades en el país. Descubre sobre la I+D en Chile y usa los datos para lo que necesites.\n",
    "* Última Actualización: 2018\n",
    "* Publicador: Ministerio de Ciencia, Tecnología, Conocimiento e Innovación\n",
    "* Categorías: Investigación y Desarrollo (I+D);Transferencia de conocimiento;Formación y capital humano\n",
    "* Etiquetas: I+D 2016\n"
   ]
  },
  {
   "cell_type": "code",
   "execution_count": 97,
   "metadata": {},
   "outputs": [
    {
     "data": {
      "text/plain": [
       "dict_keys(['Datos'])"
      ]
     },
     "execution_count": 97,
     "metadata": {},
     "output_type": "execute_result"
    }
   ],
   "source": [
    "import pandas as pd\n",
    "\n",
    "df = pd.read_excel('../CTCI/original/2016-I-mas-D-base-de-datos_sector-economico.xlsx', sheet_name=None)\n",
    "df.keys()"
   ]
  },
  {
   "cell_type": "code",
   "execution_count": 98,
   "metadata": {},
   "outputs": [
    {
     "name": "stdout",
     "output_type": "stream",
     "text": [
      "sheet: Datos\n",
      "columns: ['IDA', 'DV_ID_A', 'COD_ACTIVIDAD', 'REGION', 'UNIDAD_DECLARANTE', 'IMASD', 'A1003', 'A1019', 'A1019_otra', 'A1034', 'A1035', 'A1036', 'A1037', 'A1038', 'B2000', 'B2001', 'B2002', 'B2003', 'B2004', 'B2005', 'B2006', 'B2007', 'B2009', 'B2026', 'B2027', 'C3000', 'C3001', 'C3002', 'C3003', 'C3004', 'C3005', 'C3006', 'C3007', 'C3008', 'C3009', 'C3010', 'C3011', 'C3013', 'C3014', 'C3015', 'C3016', 'C3017', 'C3018', 'C3019', 'C3020', 'C3021', 'C3022', 'C3023', 'C3024', 'C3025', 'C3026', 'C3027', 'C3028', 'C3029', 'C3030', 'C3036', 'C3037', 'C3038', 'C3039', 'C3040', 'C3041', 'C3042', 'C3043', 'C3044', 'C3045', 'C3046', 'C3047', 'C3048', 'C3049', 'C3050', 'C3051', 'C3052', 'C3053', 'C3054', 'C3055', 'C3056', 'C3057', 'C3058', 'C3059', 'C3060', 'C3061', 'C3062', 'C3063', 'C3064', 'C3065', 'C3066', 'C3067', 'C3068', 'C3069', 'C3070', 'C3071', 'C3072', 'C3073', 'C3100', 'C3107', 'C3110', 'C3111', 'C3112', 'C3113', 'C3114', 'C3115', 'C3126', 'C3127', 'C3128', 'C3129', 'C3130', 'C3131', 'C3132', 'C3133', 'C3134', 'C3135', 'C3136', 'C3137', 'C3138', 'J8000', 'J8001', 'J8002', 'J8003', 'J8004', 'J8005', 'J8006', 'J8007', 'J8008', 'J8009', 'J8010', 'J8011', 'J8012', 'J8013', 'J8014', 'J8015', 'J8016', 'J8017', 'J8018', 'J8019', 'J8020', 'J8021', 'J8022', 'J8023', 'J8024', 'J8025', 'J8026', 'J8027', 'J8028', 'J8029', 'J8030', 'J8031', 'J8032', 'J8033', 'J8034', 'J8035', 'J8036', 'J8037', 'J8038', 'J8039', 'J8040', 'J8041', 'J8042', 'J8043', 'J8044', 'J8045', 'J8046', 'J8047', 'J8048', 'J8049', 'J8050', 'J8051', 'J8052', 'J8053', 'J8054', 'D4300', 'D4301', 'D4302', 'D4303', 'D4310', 'D4311', 'D4312', 'D4313', 'D4320', 'D4321', 'D4322', 'D4323', 'D4330', 'D4331', 'D4332', 'D4333', 'D4400', 'D4401', 'D4402', 'D4403', 'D4404', 'D4405', 'D4410', 'D4411', 'D4412', 'D4413', 'D4414', 'D4415', 'D4420', 'D4421', 'D4422', 'D4423', 'D4424', 'D4425', 'D4430', 'D4431', 'D4432', 'D4433', 'D4434', 'D4435', 'D4500', 'D4501', 'D4502', 'D4503', 'D4504', 'D4505', 'D4510', 'D4511', 'D4512', 'D4513', 'D4514', 'D4515', 'D4520', 'D4521', 'D4522', 'D4523', 'D4524', 'D4525', 'D4530', 'D4531', 'D4532', 'D4533', 'D4534', 'D4535', 'D4600', 'D4601', 'D4602', 'D4603', 'D4604', 'D4605', 'D4606', 'D4700', 'D4701', 'D4702', 'D4703', 'D4704', 'D4705', 'D4706', 'D4707', 'D4708', 'D4709', 'D4710', 'D4711', 'D4712', 'D4713', 'D4714', 'D4715', 'D4716', 'D4800', 'D4801', 'D4802', 'D4810', 'D4811', 'D4812', 'D4820', 'D4821', 'D4822', 'D4830', 'D4831', 'D4832', 'F6010', 'F6011', 'F6012', 'F6013', 'F6014', 'F6015', 'F6016', 'F6017', 'F6018', 'F6019', 'F6020', 'F6021', 'F6022', 'F6023', 'F6023_otra', 'F6024', 'F6025', 'F6026', 'F6027', 'F6028', 'G7000', 'G7001', 'G7002', 'H8100', 'H8101', 'H8102', 'H8103', 'H8104', 'H8105', 'H8106', 'H8107', 'H8108', 'H8109', 'H8110', 'H8111', 'H8111_otro', 'I9000', 'B2000_just', 'B2001_just', 'B2007_just']\n",
      "shape: (4785, 309)\n"
     ]
    }
   ],
   "source": [
    "for key in df.keys():\n",
    "    print('sheet:', key)\n",
    "    print('columns:', list(df[key].columns))\n",
    "    print('shape:', df[key].shape)"
   ]
  },
  {
   "cell_type": "markdown",
   "metadata": {},
   "source": [
    "# ID: CTCI_016\n",
    "* Nombre: Base de datos de Encuesta sobre Gasto y Personal en I+D (2016) - Tamaño empresa\n",
    "* Descripción: Datos de la encuesta de sobre gasto y personal en I+D para el año de referencia 2016. Esta busca medir los recursos financieros y humanos dedicados a estas actividades en el país. Descubre sobre la I+D en Chile y usa los datos para lo que necesites.\n",
    "* Última Actualización: 2018\n",
    "* Publicador: Ministerio de Ciencia, Tecnología, Conocimiento e Innovación\n",
    "* Categorías: Investigación y Desarrollo (I+D);Transferencia de conocimiento;Formación y capital humano\n",
    "* Etiquetas: I+D 2016"
   ]
  },
  {
   "cell_type": "code",
   "execution_count": 99,
   "metadata": {},
   "outputs": [
    {
     "data": {
      "text/plain": [
       "dict_keys(['Datos'])"
      ]
     },
     "execution_count": 99,
     "metadata": {},
     "output_type": "execute_result"
    }
   ],
   "source": [
    "import pandas as pd\n",
    "\n",
    "df = pd.read_excel('../CTCI/original/2016-I-mas-D-base-de-datos_tamano-empresa.xlsx', sheet_name=None)\n",
    "df.keys()"
   ]
  },
  {
   "cell_type": "code",
   "execution_count": 100,
   "metadata": {},
   "outputs": [
    {
     "name": "stdout",
     "output_type": "stream",
     "text": [
      "sheet: Datos\n",
      "columns: ['IDB', 'DV_ID_B', 'TAMANO_EMPRESA', 'UNIDAD_DECLARANTE', 'IMASD', 'A1003', 'A1019', 'A1019_otra', 'A1034', 'A1035', 'A1036', 'A1037', 'A1038', 'B2000', 'B2001', 'B2002', 'B2003', 'B2004', 'B2005', 'B2006', 'B2007', 'B2009', 'B2026', 'B2027', 'C3000', 'C3001', 'C3002', 'C3003', 'C3004', 'C3005', 'C3006', 'C3007', 'C3008', 'C3009', 'C3010', 'C3011', 'C3013', 'C3014', 'C3015', 'C3016', 'C3017', 'C3018', 'C3019', 'C3020', 'C3021', 'C3022', 'C3023', 'C3024', 'C3025', 'C3026', 'C3027', 'C3028', 'C3029', 'C3030', 'C3036', 'C3037', 'C3038', 'C3039', 'C3040', 'C3041', 'C3042', 'C3043', 'C3044', 'C3045', 'C3046', 'C3047', 'C3048', 'C3049', 'C3050', 'C3051', 'C3052', 'C3053', 'C3054', 'C3055', 'C3056', 'C3057', 'C3058', 'C3059', 'C3060', 'C3061', 'C3062', 'C3063', 'C3064', 'C3065', 'C3066', 'C3067', 'C3068', 'C3069', 'C3070', 'C3071', 'C3072', 'C3073', 'C3100', 'C3107', 'C3110', 'C3111', 'C3112', 'C3113', 'C3114', 'C3115', 'C3126', 'C3127', 'C3128', 'C3129', 'C3130', 'C3131', 'C3132', 'C3133', 'C3134', 'C3135', 'C3136', 'C3137', 'C3138', 'J8000', 'J8001', 'J8002', 'J8003', 'J8004', 'J8005', 'J8006', 'J8007', 'J8008', 'J8009', 'J8010', 'J8011', 'J8012', 'J8013', 'J8014', 'J8015', 'J8016', 'J8017', 'J8018', 'J8019', 'J8020', 'J8021', 'J8022', 'J8023', 'J8024', 'J8025', 'J8026', 'J8027', 'J8028', 'J8029', 'J8030', 'J8031', 'J8032', 'J8033', 'J8034', 'J8035', 'J8036', 'J8037', 'J8038', 'J8039', 'J8040', 'J8041', 'J8042', 'J8043', 'J8044', 'J8045', 'J8046', 'J8047', 'J8048', 'J8049', 'J8050', 'J8051', 'J8052', 'J8053', 'J8054', 'D4300', 'D4301', 'D4302', 'D4303', 'D4310', 'D4311', 'D4312', 'D4313', 'D4320', 'D4321', 'D4322', 'D4323', 'D4330', 'D4331', 'D4332', 'D4333', 'D4400', 'D4401', 'D4402', 'D4403', 'D4404', 'D4405', 'D4410', 'D4411', 'D4412', 'D4413', 'D4414', 'D4415', 'D4420', 'D4421', 'D4422', 'D4423', 'D4424', 'D4425', 'D4430', 'D4431', 'D4432', 'D4433', 'D4434', 'D4435', 'D4500', 'D4501', 'D4502', 'D4503', 'D4504', 'D4505', 'D4510', 'D4511', 'D4512', 'D4513', 'D4514', 'D4515', 'D4520', 'D4521', 'D4522', 'D4523', 'D4524', 'D4525', 'D4530', 'D4531', 'D4532', 'D4533', 'D4534', 'D4535', 'D4600', 'D4601', 'D4602', 'D4603', 'D4604', 'D4605', 'D4606', 'D4700', 'D4701', 'D4702', 'D4703', 'D4704', 'D4705', 'D4706', 'D4707', 'D4708', 'D4709', 'D4710', 'D4711', 'D4712', 'D4713', 'D4714', 'D4715', 'D4716', 'D4800', 'D4801', 'D4802', 'D4810', 'D4811', 'D4812', 'D4820', 'D4821', 'D4822', 'D4830', 'D4831', 'D4832', 'F6010', 'F6011', 'F6012', 'F6013', 'F6014', 'F6015', 'F6016', 'F6017', 'F6018', 'F6019', 'F6020', 'F6021', 'F6022', 'F6023', 'F6023_otra', 'F6024', 'F6025', 'F6026', 'F6027', 'F6028', 'G7000', 'G7001', 'G7002', 'H8100', 'H8101', 'H8102', 'H8103', 'H8104', 'H8105', 'H8106', 'H8107', 'H8108', 'H8109', 'H8110', 'H8111', 'H8111_otro', 'I9000', 'B2000_just', 'B2001_just', 'B2007_just']\n",
      "shape: (4785, 308)\n"
     ]
    }
   ],
   "source": [
    "for key in df.keys():\n",
    "    print('sheet:', key)\n",
    "    print('columns:', list(df[key].columns))\n",
    "    print('shape:', df[key].shape)"
   ]
  },
  {
   "cell_type": "markdown",
   "metadata": {},
   "source": [
    "# ID: CTCI_015\n",
    "* Nombre: Base de datos de Encuesta sobre Gasto y Personal en I+D (2015) - Sector económico\n",
    "* Descripción: Datos de la encuesta de sobre gasto y personal en I+D para el año de referencia 2015. Esta busca medir los recursos financieros y humanos dedicados a estas actividades en el país. Descubre sobre la I+D en Chile y usa los datos para lo que necesites.\n",
    "* Última Actualización: 2017\n",
    "* Publicador: Ministerio de Ciencia, Tecnología, Conocimiento e Innovación\n",
    "* Categorías: Investigación y Desarrollo (I+D);Transferencia de conocimiento;Formación y capital humano\n",
    "* Etiquetas: I+D 2015"
   ]
  },
  {
   "cell_type": "code",
   "execution_count": 101,
   "metadata": {},
   "outputs": [
    {
     "data": {
      "text/plain": [
       "dict_keys(['Datos'])"
      ]
     },
     "execution_count": 101,
     "metadata": {},
     "output_type": "execute_result"
    }
   ],
   "source": [
    "import pandas as pd\n",
    "\n",
    "df = pd.read_excel('../CTCI/original/2015-I-mas-D-base-de-datos_sector-economico.xlsx', sheet_name=None)\n",
    "df.keys()"
   ]
  },
  {
   "cell_type": "code",
   "execution_count": 102,
   "metadata": {},
   "outputs": [
    {
     "name": "stdout",
     "output_type": "stream",
     "text": [
      "sheet: Datos\n",
      "columns: ['ID_A', 'ID_DV_A', 'COD_ACTIVIDAD', 'REGION', 'UNIDAD_DECLARANTE', 'IMASD', 'A1003', 'A1019', 'A1019_otra', 'A1034', 'A1035', 'A1036', 'A1037', 'A1038', 'B2000', 'B2001', 'B2002', 'B2003', 'B2004', 'B2005', 'B2006', 'B2007', 'B2009', 'B2026', 'B2027', 'C3000', 'C3001', 'C3002', 'C3003', 'C3004', 'C3005', 'C3006', 'C3007', 'C3008', 'C3009', 'C3010', 'C3011', 'C3012', 'C3013', 'C3014', 'C3015', 'C3016', 'C3017', 'C3018', 'C3019', 'C3020', 'C3021', 'C3022', 'C3023', 'C3024', 'C3025', 'C3026', 'C3027', 'C3028', 'C3029', 'C3030', 'C3036', 'C3037', 'C3038', 'C3039', 'C3040', 'C3041', 'C3042', 'C3043', 'C3044', 'C3045', 'C3046', 'C3047', 'C3048', 'C3049', 'C3050', 'C3051', 'C3052', 'C3053', 'C3054', 'C3055', 'C3056', 'C3057', 'C3058', 'C3059', 'C3060', 'C3061', 'C3062', 'C3063', 'C3064', 'C3065', 'C3066', 'C3067', 'C3068', 'C3069', 'C3070', 'C3071', 'C3072', 'C3073', 'C3100', 'C3107', 'C3110', 'C3111', 'C3112', 'C3113', 'C3114', 'C3115', 'C3116', 'C3117', 'C3118', 'C3119', 'C3120', 'C3121', 'C3122', 'C3123', 'C3124', 'C3125', 'C3126', 'H8000', 'H8001', 'H8002', 'H8003', 'H8004', 'H8005', 'H8006', 'H8007', 'H8008', 'H8009', 'H8010', 'H8011', 'H8012', 'H8013', 'H8014', 'H8015', 'H8016', 'H8017', 'H8018', 'H8019', 'H8020', 'H8021', 'H8022', 'H8023', 'H8024', 'H8025', 'H8026', 'H8027', 'H8028', 'H8029', 'H8030', 'H8031', 'H8032', 'H8033', 'H8034', 'H8035', 'H8036', 'H8037', 'H8038', 'H8039', 'H8040', 'H8041', 'H8042', 'H8043', 'H8044', 'H8045', 'H8046', 'H8047', 'H8048', 'H8049', 'H8050', 'H8051', 'H8052', 'H8053', 'H8054', 'D4300', 'D4301', 'D4302', 'D4303', 'D4310', 'D4311', 'D4312', 'D4313', 'D4320', 'D4321', 'D4322', 'D4323', 'D4330', 'D4331', 'D4332', 'D4333', 'D4400', 'D4401', 'D4402', 'D4403', 'D4404', 'D4405', 'D4410', 'D4411', 'D4412', 'D4413', 'D4414', 'D4415', 'D4420', 'D4421', 'D4422', 'D4423', 'D4424', 'D4425', 'D4430', 'D4431', 'D4432', 'D4433', 'D4434', 'D4435', 'D4500', 'D4501', 'D4502', 'D4503', 'D4504', 'D4505', 'D4510', 'D4511', 'D4512', 'D4513', 'D4514', 'D4515', 'D4520', 'D4521', 'D4522', 'D4523', 'D4524', 'D4525', 'D4530', 'D4531', 'D4532', 'D4533', 'D4534', 'D4535', 'D4600', 'D4601', 'D4602', 'D4603', 'D4604', 'D4605', 'D4606', 'D4700', 'D4701', 'D4702', 'D4703', 'D4704', 'D4705', 'D4706', 'D4707', 'D4708', 'D4709', 'D4710', 'D4711', 'D4712', 'D4713', 'D4714', 'D4715', 'D4800', 'D4801', 'D4802', 'D4810', 'D4811', 'D4812', 'D4820', 'D4821', 'D4822', 'D4830', 'D4831', 'D4832', 'E5016', 'E5017', 'E5018', 'E5019', 'E5020', 'E5021', 'E5022', 'E5023', 'E5024', 'E5025', 'E5026', 'E5027', 'F6010', 'F6011', 'F6012', 'F6013', 'F6014', 'F6015', 'F6016', 'F6017', 'F6018', 'F6019', 'F6020', 'F6021', 'F6022', 'F6023', 'F6023_otra', 'F6024', 'F6025', 'F6026', 'F6027', 'F6028', 'G7000', 'G7001', 'G7002', 'I9000', 'B2000_JUST', 'B2001_JUST', 'B2007_JUST']\n",
      "shape: (4198, 306)\n"
     ]
    }
   ],
   "source": [
    "for key in df.keys():\n",
    "    print('sheet:', key)\n",
    "    print('columns:', list(df[key].columns))\n",
    "    print('shape:', df[key].shape)"
   ]
  },
  {
   "cell_type": "markdown",
   "metadata": {},
   "source": [
    "# ID: CTCI_014\n",
    "* Nombre: Base de datos de Encuesta sobre Gasto y Personal en I+D (2015) - Tamaño empresa\n",
    "* Descripción: Datos de la encuesta de sobre gasto y personal en I+D para el año de referencia 2015. Esta busca medir los recursos financieros y humanos dedicados a estas actividades en el país. Descubre sobre la I+D en Chile y usa los datos para lo que necesites.\n",
    "* Última Actualización: 2017\n",
    "* Publicador: Ministerio de Ciencia, Tecnología, Conocimiento e Innovación\n",
    "* Categorías: Investigación y Desarrollo (I+D);Transferencia de conocimiento;Formación y capital humano\n",
    "* Etiquetas: I+D 2015"
   ]
  },
  {
   "cell_type": "code",
   "execution_count": 103,
   "metadata": {},
   "outputs": [
    {
     "data": {
      "text/plain": [
       "dict_keys(['Datos'])"
      ]
     },
     "execution_count": 103,
     "metadata": {},
     "output_type": "execute_result"
    }
   ],
   "source": [
    "import pandas as pd\n",
    "\n",
    "df = pd.read_excel('../CTCI/original/2015-I-mas-D-base-de-datos_tamano-empresa.xlsx', sheet_name=None)\n",
    "df.keys()"
   ]
  },
  {
   "cell_type": "code",
   "execution_count": 104,
   "metadata": {},
   "outputs": [
    {
     "name": "stdout",
     "output_type": "stream",
     "text": [
      "sheet: Datos\n",
      "columns: ['ID_B', 'ID_DV_B', 'TAMANO', 'UNIDAD_DECLARANTE', 'IMASD', 'A1003', 'A1019', 'A1019_otra', 'A1034', 'A1035', 'A1036', 'A1037', 'A1038', 'B2000', 'B2001', 'B2002', 'B2003', 'B2004', 'B2005', 'B2006', 'B2007', 'B2009', 'B2026', 'B2027', 'C3000', 'C3001', 'C3002', 'C3003', 'C3004', 'C3005', 'C3006', 'C3007', 'C3008', 'C3009', 'C3010', 'C3011', 'C3012', 'C3013', 'C3014', 'C3015', 'C3016', 'C3017', 'C3018', 'C3019', 'C3020', 'C3021', 'C3022', 'C3023', 'C3024', 'C3025', 'C3026', 'C3027', 'C3028', 'C3029', 'C3030', 'C3036', 'C3037', 'C3038', 'C3039', 'C3040', 'C3041', 'C3042', 'C3043', 'C3044', 'C3045', 'C3046', 'C3047', 'C3048', 'C3049', 'C3050', 'C3051', 'C3052', 'C3053', 'C3054', 'C3055', 'C3056', 'C3057', 'C3058', 'C3059', 'C3060', 'C3061', 'C3062', 'C3063', 'C3064', 'C3065', 'C3066', 'C3067', 'C3068', 'C3069', 'C3070', 'C3071', 'C3072', 'C3073', 'C3100', 'C3107', 'C3110', 'C3111', 'C3112', 'C3113', 'C3114', 'C3115', 'C3116', 'C3117', 'C3118', 'C3119', 'C3120', 'C3121', 'C3122', 'C3123', 'C3124', 'C3125', 'C3126', 'H8000', 'H8001', 'H8002', 'H8003', 'H8004', 'H8005', 'H8006', 'H8007', 'H8008', 'H8009', 'H8010', 'H8011', 'H8012', 'H8013', 'H8014', 'H8015', 'H8016', 'H8017', 'H8018', 'H8019', 'H8020', 'H8021', 'H8022', 'H8023', 'H8024', 'H8025', 'H8026', 'H8027', 'H8028', 'H8029', 'H8030', 'H8031', 'H8032', 'H8033', 'H8034', 'H8035', 'H8036', 'H8037', 'H8038', 'H8039', 'H8040', 'H8041', 'H8042', 'H8043', 'H8044', 'H8045', 'H8046', 'H8047', 'H8048', 'H8049', 'H8050', 'H8051', 'H8052', 'H8053', 'H8054', 'D4300', 'D4301', 'D4302', 'D4303', 'D4310', 'D4311', 'D4312', 'D4313', 'D4320', 'D4321', 'D4322', 'D4323', 'D4330', 'D4331', 'D4332', 'D4333', 'D4400', 'D4401', 'D4402', 'D4403', 'D4404', 'D4405', 'D4410', 'D4411', 'D4412', 'D4413', 'D4414', 'D4415', 'D4420', 'D4421', 'D4422', 'D4423', 'D4424', 'D4425', 'D4430', 'D4431', 'D4432', 'D4433', 'D4434', 'D4435', 'D4500', 'D4501', 'D4502', 'D4503', 'D4504', 'D4505', 'D4510', 'D4511', 'D4512', 'D4513', 'D4514', 'D4515', 'D4520', 'D4521', 'D4522', 'D4523', 'D4524', 'D4525', 'D4530', 'D4531', 'D4532', 'D4533', 'D4534', 'D4535', 'D4600', 'D4601', 'D4602', 'D4603', 'D4604', 'D4605', 'D4606', 'D4700', 'D4701', 'D4702', 'D4703', 'D4704', 'D4705', 'D4706', 'D4707', 'D4708', 'D4709', 'D4710', 'D4711', 'D4712', 'D4713', 'D4714', 'D4715', 'D4800', 'D4801', 'D4802', 'D4810', 'D4811', 'D4812', 'D4820', 'D4821', 'D4822', 'D4830', 'D4831', 'D4832', 'E5016', 'E5017', 'E5018', 'E5019', 'E5020', 'E5021', 'E5022', 'E5023', 'E5024', 'E5025', 'E5026', 'E5027', 'F6010', 'F6011', 'F6012', 'F6013', 'F6014', 'F6015', 'F6016', 'F6017', 'F6018', 'F6019', 'F6020', 'F6021', 'F6022', 'F6023', 'F6023_otra', 'F6024', 'F6025', 'F6026', 'F6027', 'F6028', 'G7000', 'G7001', 'G7002', 'I9000', 'B2000_JUST', 'B2001_JUST', 'B2007_JUST']\n",
      "shape: (4198, 305)\n"
     ]
    }
   ],
   "source": [
    "for key in df.keys():\n",
    "    print('sheet:', key)\n",
    "    print('columns:', list(df[key].columns))\n",
    "    print('shape:', df[key].shape)"
   ]
  },
  {
   "cell_type": "markdown",
   "metadata": {},
   "source": [
    "# ID: CTCI_013\n",
    "* Nombre: Base de datos de Encuesta Nacional de Innovación (2013 - 2014) - Sector económico\n",
    "* Descripción: Datos de la encuesta de innovación para los años de referencia 2013-2014. Esta busca entender las actividades de innovación que llevan a cabo las empresas con ventas anuales mayores a 2.400 UF en el país a partir de una muestra representativa. Descubre sobre la innovación en Chile y usa los datos para lo que necesites.\n",
    "* Última Actualización: 2016\n",
    "* Publicador: Ministerio de Ciencia, Tecnología, Conocimiento e Innovación\n",
    "* Categorías: Innovación y desarrollo de negocios\n",
    "* Etiquetas: ENI 2013 - 2014"
   ]
  },
  {
   "cell_type": "code",
   "execution_count": 105,
   "metadata": {},
   "outputs": [
    {
     "data": {
      "text/plain": [
       "dict_keys(['Datos'])"
      ]
     },
     "execution_count": 105,
     "metadata": {},
     "output_type": "execute_result"
    }
   ],
   "source": [
    "import pandas as pd\n",
    "\n",
    "df = pd.read_excel('../CTCI/original/2013-2014-ENI-base-de-datos_sector-economico.xlsx', sheet_name=None)\n",
    "df.keys()"
   ]
  },
  {
   "cell_type": "code",
   "execution_count": 106,
   "metadata": {},
   "outputs": [
    {
     "name": "stdout",
     "output_type": "stream",
     "text": [
      "sheet: Datos\n",
      "columns: ['ID_A', 'DV_ID_A', 'FE_Empresa', 'FE_Venta', 'Sector_Actividad', 'Division_Actividad', 'Glosa_Actividad', 'Tamano_Empresa', 'P024', 'P026', 'P027', 'P040', 'P028', 'P0281', 'P021', 'P022', 'P200', 'P201', 'P202', 'P203', 'P212', 'P213', 'P214', 'P215', 'P216', 'P217', 'P226', 'P224', 'P218', 'P219', 'P220', 'P221', 'P222', 'P223', 'P227', 'P225', 'P228', 'P229', 'P3000', 'P3001', 'P3002', 'P3003', 'P3004', 'P3005', 'P3006', 'P3007', 'P3231', 'P3232', 'P3233', 'P3234', 'P3330', 'P3331', 'P3336', 'P3337', 'P3338', 'P3339', 'P3235', 'P3236', 'P3237', 'P3238', 'P3239', 'P3240', 'P3024', 'P3025', 'P3026', 'P3027', 'P3241', 'P3242', 'P3243', 'P3244', 'P3046', 'P3047', 'P3048', 'P3049', 'P3050', 'P3051', 'P3247', 'P3248', 'P3249', 'P3250', 'P3251', 'P3252', 'P3253', 'P3254', 'P3255', 'P3256', 'P3257', 'P3258', 'P3259', 'P3260', 'P3261', 'P3262', 'P3263', 'P3264', 'P3265', 'P3266', 'P3267', 'P3268', 'P4000', 'P4001', 'P4002', 'P4003', 'P3052', 'P3053', 'P3054', 'P3055', 'P4118', 'P3344', 'P3269', 'P3270', 'P3056', 'P3057', 'P4119', 'P3345', 'P3084', 'P3085', 'P3086', 'P3087', 'P3088', 'P3089', 'P3090', 'P3091', 'P3294', 'P3295', 'P3092', 'P3093', 'P4120', 'P4121', 'P3342', 'P3343', 'P4124', 'P4125', 'P4004', 'P4005', 'P4006', 'P4007', 'P3102', 'P3103', 'P3104', 'P3105', 'P3106', 'P3107', 'P3108', 'P3109', 'P3110', 'P3111', 'P3112', 'P3113', 'P3114', 'P3115', 'P3116', 'P3117', 'P3118', 'P3119', 'P3120', 'P3121', 'P3122', 'P3123', 'P3124', 'P3125', 'P3126', 'P3127', 'P3128', 'P3129', 'P3130', 'P3131', 'P3136', 'P3139', 'P3142', 'P3145', 'P3281', 'P3154', 'P3157', 'P3332', 'P3333', 'P3334', 'P3335', 'P3162', 'P3163', 'P3165', 'P3164', 'P3166', 'P3167', 'P3168', 'P3169', 'P3170', 'P3171', 'P3172', 'P3173', 'P3174', 'P3175', 'P3176', 'P3177', 'P3178', 'P3179', 'P3180', 'P3181', 'P3182', 'P3183', 'P3184', 'P3185', 'P3186', 'P3187', 'P3188', 'P3189', 'P3190', 'P3191', 'P3282', 'P3283', 'P3284', 'P3192', 'P3320', 'P3321', 'P3322', 'P3323', 'P3324', 'P3325', 'P3326', 'P3327', 'P3328', 'P3329', 'P4008', 'P4009', 'P4010', 'P4011', 'P4012', 'P4013', 'P4014', 'P4015', 'P4016', 'P4017', 'P4018', 'P4019', 'P4020', 'P4021', 'P4022', 'P4023', 'P4024', 'P4025', 'P4026', 'P4027', 'P4028', 'P4029', 'P4030', 'P4031', 'P4032', 'P4033', 'P4034', 'P4035', 'P4036', 'P4037', 'P4038', 'P4039', 'P4040', 'P4041', 'P4042', 'P4043', 'P4044', 'P4045', 'P4046', 'P4047', 'P4048', 'P4049', 'P4050', 'P4051', 'P4052', 'P4053', 'P3277', 'P3278', 'P4054', 'P4055', 'P4056', 'P4057', 'P4058', 'P4123', 'P4126', 'P4127', 'P4128', 'P4129', 'P4130', 'P4131', 'P4132', 'P4133', 'P4134', 'P4135', 'P4136', 'P4137', 'P3196', 'P3197', 'P3285', 'P3198', 'P3199', 'P3200', 'P3286', 'P3201', 'P3202', 'P3287', 'P3288', 'P3289', 'P4059', 'P4060', 'P4061', 'P4062', 'P4063', 'P4064', 'P4065', 'P4066', 'P4067', 'P4068', 'P4069', 'P4070', 'P4071', 'P4072', 'P4073', 'P4074', 'P4075', 'P4076', 'P4077', 'P4078', 'P4079', 'P4080', 'P4081', 'P4082', 'P4083', 'P4084', 'P4085', 'P4086', 'P4087', 'P4088', 'P4089', 'P4090', 'P4091', 'P4092', 'P4093', 'P4094', 'P4095', 'P4096', 'P4097', 'P4098', 'P4099', 'P4100', 'P4101', 'P4102', 'P4103', 'P4104', 'P4105', 'P4106', 'P4107', 'P4108', 'P4109', 'P4110', 'P4111', 'P4112', 'P4113', 'P4114', 'P4115', 'P3220', 'P3221', 'P3222', 'P3223', 'P3292', 'P3293', 'P3228', 'P3229', 'P4116', 'P4117', 'P3230']\n",
      "shape: (5620, 367)\n"
     ]
    }
   ],
   "source": [
    "for key in df.keys():\n",
    "    print('sheet:', key)\n",
    "    print('columns:', list(df[key].columns))\n",
    "    print('shape:', df[key].shape)"
   ]
  },
  {
   "cell_type": "markdown",
   "metadata": {},
   "source": [
    "# ID: CTCI_012\n",
    "* Nombre: Base de datos de Encuesta Nacional de Innovación (2013 - 2014) - Región\n",
    "* Descripción: Datos de la encuesta de innovación para los años de referencia 2013-2014. Esta busca entender las actividades de innovación que llevan a cabo las empresas con ventas anuales mayores a 2.400 UF en el país a partir de una muestra representativa. Descubre sobre la innovación en Chile y usa los datos para lo que necesites.\n",
    "* Última Actualización: 2016\n",
    "* Publicador: Ministerio de Ciencia, Tecnología, Conocimiento e Innovación\n",
    "* Categorías: Innovación y desarrollo de negocios\n",
    "* Etiquetas: ENI 2013 - 2014"
   ]
  },
  {
   "cell_type": "code",
   "execution_count": 107,
   "metadata": {},
   "outputs": [
    {
     "data": {
      "text/plain": [
       "dict_keys(['Datos'])"
      ]
     },
     "execution_count": 107,
     "metadata": {},
     "output_type": "execute_result"
    }
   ],
   "source": [
    "import pandas as pd\n",
    "\n",
    "df = pd.read_excel('../CTCI/original/2013-2014-ENI-base-de-datos_region.xlsx', sheet_name=None)\n",
    "df.keys()"
   ]
  },
  {
   "cell_type": "code",
   "execution_count": 108,
   "metadata": {},
   "outputs": [
    {
     "name": "stdout",
     "output_type": "stream",
     "text": [
      "sheet: Datos\n",
      "columns: ['ID_B', 'DB_ID_B', 'FE_Empresa', 'FE_Venta', 'Tamano_Empresa', 'Actividad_agrupada', 'Region', 'P024', 'P026', 'P027', 'P040', 'P028', 'P0281', 'P021', 'P022', 'P200', 'P201', 'P202', 'P203', 'P212', 'P213', 'P214', 'P215', 'P216', 'P217', 'P226', 'P224', 'P218', 'P219', 'P220', 'P221', 'P222', 'P223', 'P227', 'P225', 'P228', 'P229', 'P3000', 'P3001', 'P3002', 'P3003', 'P3004', 'P3005', 'P3006', 'P3007', 'P3231', 'P3232', 'P3233', 'P3234', 'P3330', 'P3331', 'P3336', 'P3337', 'P3338', 'P3339', 'P3235', 'P3236', 'P3237', 'P3238', 'P3239', 'P3240', 'P3024', 'P3025', 'P3026', 'P3027', 'P3241', 'P3242', 'P3243', 'P3244', 'P3046', 'P3047', 'P3048', 'P3049', 'P3050', 'P3051', 'P3247', 'P3248', 'P3249', 'P3250', 'P3251', 'P3252', 'P3253', 'P3254', 'P3255', 'P3256', 'P3257', 'P3258', 'P3259', 'P3260', 'P3261', 'P3262', 'P3263', 'P3264', 'P3265', 'P3266', 'P3267', 'P3268', 'P4000', 'P4001', 'P4002', 'P4003', 'P3052', 'P3053', 'P3054', 'P3055', 'P4118', 'P3344', 'P3269', 'P3270', 'P3056', 'P3057', 'P4119', 'P3345', 'P3084', 'P3085', 'P3086', 'P3087', 'P3088', 'P3089', 'P3090', 'P3091', 'P3294', 'P3295', 'P3092', 'P3093', 'P4120', 'P4121', 'P3342', 'P3343', 'P4124', 'P4125', 'P4004', 'P4005', 'P4006', 'P4007', 'P3102', 'P3103', 'P3104', 'P3105', 'P3106', 'P3107', 'P3108', 'P3109', 'P3110', 'P3111', 'P3112', 'P3113', 'P3114', 'P3115', 'P3116', 'P3117', 'P3118', 'P3119', 'P3120', 'P3121', 'P3122', 'P3123', 'P3124', 'P3125', 'P3126', 'P3127', 'P3128', 'P3129', 'P3130', 'P3131', 'P3136', 'P3139', 'P3142', 'P3145', 'P3281', 'P3154', 'P3157', 'P3332', 'P3333', 'P3334', 'P3335', 'P3162', 'P3163', 'P3165', 'P3164', 'P3166', 'P3167', 'P3168', 'P3169', 'P3170', 'P3171', 'P3172', 'P3173', 'P3174', 'P3175', 'P3176', 'P3177', 'P3178', 'P3179', 'P3180', 'P3181', 'P3182', 'P3183', 'P3184', 'P3185', 'P3186', 'P3187', 'P3188', 'P3189', 'P3190', 'P3191', 'P3282', 'P3283', 'P3284', 'P3192', 'P3320', 'P3321', 'P3322', 'P3323', 'P3324', 'P3325', 'P3326', 'P3327', 'P3328', 'P3329', 'P4008', 'P4009', 'P4010', 'P4011', 'P4012', 'P4013', 'P4014', 'P4015', 'P4016', 'P4017', 'P4018', 'P4019', 'P4020', 'P4021', 'P4022', 'P4023', 'P4024', 'P4025', 'P4026', 'P4027', 'P4028', 'P4029', 'P4030', 'P4031', 'P4032', 'P4033', 'P4034', 'P4035', 'P4036', 'P4037', 'P4038', 'P4039', 'P4040', 'P4041', 'P4042', 'P4043', 'P4044', 'P4045', 'P4046', 'P4047', 'P4048', 'P4049', 'P4050', 'P4051', 'P4052', 'P4053', 'P3277', 'P3278', 'P4054', 'P4055', 'P4056', 'P4057', 'P4058', 'P4123', 'P4126', 'P4127', 'P4128', 'P4129', 'P4130', 'P4131', 'P4132', 'P4133', 'P4134', 'P4135', 'P4136', 'P4137', 'P3196', 'P3197', 'P3285', 'P3198', 'P3199', 'P3200', 'P3286', 'P3201', 'P3202', 'P3287', 'P3288', 'P3289', 'P4059', 'P4060', 'P4061', 'P4062', 'P4063', 'P4064', 'P4065', 'P4066', 'P4067', 'P4068', 'P4069', 'P4070', 'P4071', 'P4072', 'P4073', 'P4074', 'P4075', 'P4076', 'P4077', 'P4078', 'P4079', 'P4080', 'P4081', 'P4082', 'P4083', 'P4084', 'P4085', 'P4086', 'P4087', 'P4088', 'P4089', 'P4090', 'P4091', 'P4092', 'P4093', 'P4094', 'P4095', 'P4096', 'P4097', 'P4098', 'P4099', 'P4100', 'P4101', 'P4102', 'P4103', 'P4104', 'P4105', 'P4106', 'P4107', 'P4108', 'P4109', 'P4110', 'P4111', 'P4112', 'P4113', 'P4114', 'P4115', 'P3220', 'P3221', 'P3222', 'P3223', 'P3292', 'P3293', 'P3228', 'P3229', 'P4116', 'P4117', 'P3230']\n",
      "shape: (5620, 366)\n"
     ]
    }
   ],
   "source": [
    "for key in df.keys():\n",
    "    print('sheet:', key)\n",
    "    print('columns:', list(df[key].columns))\n",
    "    print('shape:', df[key].shape)"
   ]
  },
  {
   "cell_type": "markdown",
   "metadata": {},
   "source": [
    "# ID: CTCI_011\n",
    "* Nombre: Base de datos de Encuesta sobre Gasto y Personal en I+D (2014) - Sector económico\n",
    "* Descripción: Datos de la encuesta de sobre gasto y personal en I+D para el año de referencia 2014. Esta busca medir los recursos financieros y humanos dedicados a estas actividades en el país. Descubre sobre la I+D en Chile y usa los datos para lo que necesites.\n",
    "* Última Actualización: 2016\n",
    "* Publicador: Ministerio de Ciencia, Tecnología, Conocimiento e Innovación\n",
    "* Categorías: Investigación y Desarrollo (I+D);Transferencia de conocimiento;Formación y capital humano\n",
    "* Etiquetas: I+D 2014"
   ]
  },
  {
   "cell_type": "code",
   "execution_count": 109,
   "metadata": {},
   "outputs": [
    {
     "data": {
      "text/plain": [
       "dict_keys(['Datos'])"
      ]
     },
     "execution_count": 109,
     "metadata": {},
     "output_type": "execute_result"
    }
   ],
   "source": [
    "import pandas as pd\n",
    "\n",
    "df = pd.read_excel('../CTCI/original/2014-I-mas-D-base-de-datos_sector-economico.xlsx', sheet_name=None)\n",
    "df.keys()"
   ]
  },
  {
   "cell_type": "code",
   "execution_count": 110,
   "metadata": {},
   "outputs": [
    {
     "name": "stdout",
     "output_type": "stream",
     "text": [
      "sheet: Datos\n",
      "columns: ['ID_A', 'DV_ID_A', 'COD_ACTIVIDAD', 'REGION', 'UNIDAD_DECLARANTE', 'IMASD', 'A1003', 'A1019', 'A1019_otra', 'A1034', 'A1035', 'A1036', 'A1037', 'A1038', 'B2000', 'B2001', 'B2002', 'B2003', 'B2004', 'B2005', 'B2006', 'B2007', 'B2009', 'B2026', 'C3000', 'C3001', 'C3002', 'C3003', 'C3004', 'C3005', 'C3006', 'C3007', 'C3008', 'C3009', 'C3010', 'C3011', 'C3012', 'C3013', 'C3014', 'C3015', 'C3016', 'C3017', 'C3018', 'C3019', 'C3020', 'C3021', 'C3022', 'C3023', 'C3024', 'C3025', 'C3026', 'C3027', 'C3028', 'C3029', 'C3030', 'C3031', 'C3032', 'C3033', 'C3034', 'C3035', 'C3036', 'C3037', 'C3038', 'C3039', 'C3040', 'C3041', 'C3042', 'C3043', 'C3044', 'C3045', 'C3046', 'C3047', 'C3048', 'C3049', 'C3050', 'C3051', 'C3052', 'C3053', 'C3054', 'C3055', 'C3056', 'C3057', 'C3058', 'C3059', 'C3060', 'C3061', 'C3062', 'C3063', 'C3064', 'C3065', 'C3066', 'C3067', 'C3068', 'C3069', 'C3070', 'C3071', 'C3072', 'C3073', 'C3094', 'C3095', 'C3096', 'C3097', 'C3098', 'C3099', 'C3100', 'C3107', 'C3110', 'D4300', 'D4301', 'D4302', 'D4303', 'D4310', 'D4311', 'D4312', 'D4313', 'D4320', 'D4321', 'D4322', 'D4323', 'D4330', 'D4331', 'D4332', 'D4333', 'D4400', 'D4401', 'D4402', 'D4403', 'D4404', 'D4405', 'D4410', 'D4411', 'D4412', 'D4413', 'D4414', 'D4415', 'D4420', 'D4421', 'D4422', 'D4423', 'D4424', 'D4425', 'D4430', 'D4431', 'D4432', 'D4433', 'D4434', 'D4435', 'D4500', 'D4501', 'D4502', 'D4503', 'D4504', 'D4505', 'D4510', 'D4511', 'D4512', 'D4513', 'D4514', 'D4515', 'D4520', 'D4521', 'D4522', 'D4523', 'D4524', 'D4525', 'D4530', 'D4531', 'D4532', 'D4533', 'D4534', 'D4535', 'D4600', 'D4601', 'D4602', 'D4603', 'D4604', 'D4605', 'D4606', 'D4700', 'D4701', 'D4702', 'D4703', 'D4704', 'D4705', 'D4706', 'D4707', 'D4708', 'D4709', 'D4710', 'D4711', 'D4712', 'D4713', 'D4714', 'D4715', 'D4800', 'D4801', 'D4802', 'D4810', 'D4811', 'D4812', 'D4820', 'D4821', 'D4822', 'D4830', 'D4831', 'D4832', 'E5016', 'E5017', 'E5018', 'E5019', 'E5020', 'E5021', 'E5022', 'E5023', 'E5024', 'E5025', 'E5026', 'E5027', 'F6010', 'F6011', 'F6012', 'F6013', 'F6014', 'F6015', 'F6016', 'F6017', 'F6018', 'F6019', 'F6020', 'F6021', 'F6022', 'F6023', 'F6023_otra', 'F6024', 'F6025', 'F6026', 'G7000', 'G7001', 'G7002', 'H8000', 'H8001', 'H8002', 'H8003', 'H8004', 'H8005', 'H8006', 'H8007', 'H8008', 'H8009', 'H8010', 'H8011', 'H8012', 'H8013', 'H8014', 'H8015', 'H8016', 'H8017', 'H8018', 'H8019', 'H8020', 'H8021', 'H8022', 'H8023', 'H8024', 'H8025', 'H8026', 'H8027', 'H8028', 'H8029', 'H8030', 'H8031', 'H8032', 'H8033', 'H8034', 'H8035', 'H8036', 'H8037', 'H8038', 'H8039', 'H8040', 'H8041', 'H8042', 'H8043', 'H8044', 'H8045', 'H8046', 'H8047', 'H8048', 'H8049', 'H8050', 'H8051', 'H8052', 'H8053', 'H8054', 'I9000', 'Forma_de_propiedad_just', 'B2000_JUST', 'B2001_JUST', 'B2007_JUST', 'C3009_JUST', 'C3110_JUST']\n",
      "shape: (4057, 301)\n"
     ]
    }
   ],
   "source": [
    "for key in df.keys():\n",
    "    print('sheet:', key)\n",
    "    print('columns:', list(df[key].columns))\n",
    "    print('shape:', df[key].shape)"
   ]
  },
  {
   "cell_type": "markdown",
   "metadata": {},
   "source": [
    "# ID: CTCI_010\n",
    "* Nombre: Base de datos de Encuesta sobre Gasto y Personal en I+D (2014) - Tamaño empresa\n",
    "* Descripción: Datos de la encuesta de sobre gasto y personal en I+D para el año de referencia 2014. Esta busca medir los recursos financieros y humanos dedicados a estas actividades en el país. Descubre sobre la I+D en Chile y usa los datos para lo que necesites.\n",
    "* Última Actualización: 2016\n",
    "* Publicador: Ministerio de Ciencia, Tecnología, Conocimiento e Innovación\n",
    "* Categorías: Investigación y Desarrollo (I+D);Transferencia de conocimiento;Formación y capital humano\n",
    "* Etiquetas: I+D 2014"
   ]
  },
  {
   "cell_type": "code",
   "execution_count": 111,
   "metadata": {},
   "outputs": [
    {
     "data": {
      "text/plain": [
       "dict_keys(['Datos'])"
      ]
     },
     "execution_count": 111,
     "metadata": {},
     "output_type": "execute_result"
    }
   ],
   "source": [
    "import pandas as pd\n",
    "\n",
    "df = pd.read_excel('../CTCI/original/2014-I-mas-D-base-de-datos_tamano-empresa.xlsx', sheet_name=None)\n",
    "df.keys()"
   ]
  },
  {
   "cell_type": "code",
   "execution_count": 112,
   "metadata": {},
   "outputs": [
    {
     "name": "stdout",
     "output_type": "stream",
     "text": [
      "sheet: Datos\n",
      "columns: ['ID_B', 'DV_ID_B', 'TAMANO_EMPPRESA', 'UNIDADDECLARANTE', 'IMASD', 'A1003', 'A1019', 'A1019_otra', 'A1034', 'A1035', 'A1036', 'A1037', 'A1038', 'B2000', 'B2001', 'B2002', 'B2003', 'B2004', 'B2005', 'B2006', 'B2007', 'B2009', 'B2026', 'C3000', 'C3001', 'C3002', 'C3003', 'C3004', 'C3005', 'C3006', 'C3007', 'C3008', 'C3009', 'C3010', 'C3011', 'C3012', 'C3013', 'C3014', 'C3015', 'C3016', 'C3017', 'C3018', 'C3019', 'C3020', 'C3021', 'C3022', 'C3023', 'C3024', 'C3025', 'C3026', 'C3027', 'C3028', 'C3029', 'C3030', 'C3031', 'C3032', 'C3033', 'C3034', 'C3035', 'C3036', 'C3037', 'C3038', 'C3039', 'C3040', 'C3041', 'C3042', 'C3043', 'C3044', 'C3045', 'C3046', 'C3047', 'C3048', 'C3049', 'C3050', 'C3051', 'C3052', 'C3053', 'C3054', 'C3055', 'C3056', 'C3057', 'C3058', 'C3059', 'C3060', 'C3061', 'C3062', 'C3063', 'C3064', 'C3065', 'C3066', 'C3067', 'C3068', 'C3069', 'C3070', 'C3071', 'C3072', 'C3073', 'C3094', 'C3095', 'C3096', 'C3097', 'C3098', 'C3099', 'C3100', 'C3107', 'C3110', 'D4300', 'D4301', 'D4302', 'D4303', 'D4310', 'D4311', 'D4312', 'D4313', 'D4320', 'D4321', 'D4322', 'D4323', 'D4330', 'D4331', 'D4332', 'D4333', 'D4400', 'D4401', 'D4402', 'D4403', 'D4404', 'D4405', 'D4410', 'D4411', 'D4412', 'D4413', 'D4414', 'D4415', 'D4420', 'D4421', 'D4422', 'D4423', 'D4424', 'D4425', 'D4430', 'D4431', 'D4432', 'D4433', 'D4434', 'D4435', 'D4500', 'D4501', 'D4502', 'D4503', 'D4504', 'D4505', 'D4510', 'D4511', 'D4512', 'D4513', 'D4514', 'D4515', 'D4520', 'D4521', 'D4522', 'D4523', 'D4524', 'D4525', 'D4530', 'D4531', 'D4532', 'D4533', 'D4534', 'D4535', 'D4600', 'D4601', 'D4602', 'D4603', 'D4604', 'D4605', 'D4606', 'D4700', 'D4701', 'D4702', 'D4703', 'D4704', 'D4705', 'D4706', 'D4707', 'D4708', 'D4709', 'D4710', 'D4711', 'D4712', 'D4713', 'D4714', 'D4715', 'D4800', 'D4801', 'D4802', 'D4810', 'D4811', 'D4812', 'D4820', 'D4821', 'D4822', 'D4830', 'D4831', 'D4832', 'E5016', 'E5017', 'E5018', 'E5019', 'E5020', 'E5021', 'E5022', 'E5023', 'E5024', 'E5025', 'E5026', 'E5027', 'F6010', 'F6011', 'F6012', 'F6013', 'F6014', 'F6015', 'F6016', 'F6017', 'F6018', 'F6019', 'F6020', 'F6021', 'F6022', 'F6023', 'F6023_otra', 'F6024', 'F6025', 'F6026', 'G7000', 'G7001', 'G7002', 'H8000', 'H8001', 'H8002', 'H8003', 'H8004', 'H8005', 'H8006', 'H8007', 'H8008', 'H8009', 'H8010', 'H8011', 'H8012', 'H8013', 'H8014', 'H8015', 'H8016', 'H8017', 'H8018', 'H8019', 'H8020', 'H8021', 'H8022', 'H8023', 'H8024', 'H8025', 'H8026', 'H8027', 'H8028', 'H8029', 'H8030', 'H8031', 'H8032', 'H8033', 'H8034', 'H8035', 'H8036', 'H8037', 'H8038', 'H8039', 'H8040', 'H8041', 'H8042', 'H8043', 'H8044', 'H8045', 'H8046', 'H8047', 'H8048', 'H8049', 'H8050', 'H8051', 'H8052', 'H8053', 'H8054', 'I9000', 'Forma_de_propiedad_just', 'B2000_JUST', 'B2001_JUST', 'B2007_JUST', 'C3009_JUST', 'C3110_JUST']\n",
      "shape: (4057, 300)\n"
     ]
    }
   ],
   "source": [
    "for key in df.keys():\n",
    "    print('sheet:', key)\n",
    "    print('columns:', list(df[key].columns))\n",
    "    print('shape:', df[key].shape)"
   ]
  },
  {
   "cell_type": "markdown",
   "metadata": {},
   "source": [
    "# ID: CTCI_09\n",
    "* Nombre: Base de datos de Encuesta sobre Gasto y Personal en I+D (2013) - Sector económico\n",
    "* Descripción: Datos de la encuesta de sobre gasto y personal en I+D para el año de referencia 2013. Esta busca medir los recursos financieros y humanos dedicados a estas actividades en el país. Descubre sobre la I+D en Chile y usa los datos para lo que necesites.\n",
    "* Última Actualización: 2015\n",
    "* Publicador: Ministerio de Ciencia, Tecnología, Conocimiento e Innovación\n",
    "* Categorías: Investigación y Desarrollo (I+D);Transferencia de conocimiento;Formación y capital humano\n",
    "* Etiquetas: I+D 2013"
   ]
  },
  {
   "cell_type": "code",
   "execution_count": 113,
   "metadata": {},
   "outputs": [
    {
     "data": {
      "text/plain": [
       "dict_keys(['Datos'])"
      ]
     },
     "execution_count": 113,
     "metadata": {},
     "output_type": "execute_result"
    }
   ],
   "source": [
    "import pandas as pd\n",
    "\n",
    "df = pd.read_excel('../CTCI/original/2013-I-mas-D-base-de-datos_sector-economico.xlsx', sheet_name=None)\n",
    "df.keys()"
   ]
  },
  {
   "cell_type": "code",
   "execution_count": 114,
   "metadata": {},
   "outputs": [
    {
     "name": "stdout",
     "output_type": "stream",
     "text": [
      "sheet: Datos\n",
      "columns: ['ID_A', 'DV_ID_A', 'COD_ACTIVIDAD', 'REGION', 'UNIDAD_DECLARANTE', 'IMASD', 'A1003', 'A1018', 'A1019', 'A1019_OTRA', 'A1020', 'A1021', 'B2000', 'B2001', 'B2002', 'B2003', 'B2004', 'B2005', 'B2006', 'B2007', 'B2009', 'C3000', 'C3001', 'C3002', 'C3003', 'C3004', 'C3005', 'C3006', 'C3007', 'C3008', 'C3009', 'C3010', 'C3011', 'C3012', 'C3013', 'C3014', 'C3015', 'C3016', 'C3017', 'C3018', 'C3019', 'C3020', 'C3021', 'C3022', 'C3023', 'C3024', 'C3025', 'C3026', 'C3027', 'C3028', 'C3029', 'C3030', 'C3031', 'C3032', 'C3033', 'C3034', 'C3035', 'C3036', 'C3037', 'C3038', 'C3039', 'C3040', 'C3041', 'C3042', 'C3043', 'C3044', 'C3045', 'C3046', 'C3047', 'C3048', 'C3049', 'C3050', 'C3051', 'C3052', 'C3053', 'C3054', 'C3055', 'C3056', 'C3057', 'C3058', 'C3059', 'C3060', 'C3061', 'C3062', 'C3063', 'C3064', 'C3065', 'C3066', 'C3067', 'C3068', 'C3069', 'C3070', 'C3071', 'C3072', 'C3073', 'C3094', 'C3095', 'C3096', 'C3097', 'C3098', 'C3099', 'H8000', 'H8001', 'H8002', 'H8003', 'H8004', 'H8005', 'H8006', 'H8007', 'H8008', 'H8009', 'H8010', 'H8011', 'H8012', 'H8013', 'H8014', 'H8015', 'H8016', 'H8017', 'H8018', 'H8019', 'H8020', 'H8021', 'H8022', 'H8023', 'H8024', 'H8025', 'H8026', 'H8027', 'H8028', 'H8029', 'H8030', 'H8031', 'H8032', 'H8033', 'H8034', 'H8035', 'H8036', 'H8037', 'H8038', 'H8039', 'H8040', 'H8041', 'H8042', 'H8043', 'H8044', 'H8045', 'H8046', 'H8047', 'H8048', 'H8049', 'H8050', 'H8051', 'H8052', 'H8053', 'H8054', 'D4300', 'D4301', 'D4302', 'D4303', 'D4310', 'D4311', 'D4312', 'D4313', 'D4320', 'D4321', 'D4322', 'D4323', 'D4330', 'D4331', 'D4332', 'D4333', 'D4400', 'D4401', 'D4402', 'D4403', 'D4404', 'D4405', 'D4410', 'D4411', 'D4412', 'D4413', 'D4414', 'D4415', 'D4420', 'D4421', 'D4422', 'D4423', 'D4424', 'D4425', 'D4430', 'D4431', 'D4432', 'D4433', 'D4434', 'D4435', 'D4500', 'D4501', 'D4502', 'D4503', 'D4504', 'D4505', 'D4510', 'D4511', 'D4512', 'D4513', 'D4514', 'D4515', 'D4520', 'D4521', 'D4522', 'D4523', 'D4524', 'D4525', 'D4530', 'D4531', 'D4532', 'D4533', 'D4534', 'D4535', 'D4600', 'D4601', 'D4602', 'D4603', 'D4604', 'D4605', 'D4606', 'D4700', 'D4701', 'D4702', 'D4703', 'D4704', 'D4705', 'D4706', 'D4707', 'D4708', 'D4709', 'D4710', 'D4711', 'D4712', 'D4713', 'D4714', 'D4800', 'D4801', 'D4802', 'D4810', 'D4811', 'D4812', 'D4820', 'D4821', 'D4822', 'D4830', 'D4831', 'D4832', 'E5000', 'E5001', 'E5002', 'E5003', 'E5004', 'E5005', 'E5006', 'E5007', 'E5008', 'E5009', 'E5010', 'E5011', 'E5012', 'E5013', 'E5014', 'E5015', 'E5016', 'E5017', 'F6000', 'F6001', 'F6002', 'F6003', 'F6004', 'F6005', 'F6006', 'F6007', 'F6008', 'F6009', 'F6009_OTRA', 'G7000', 'G7001', 'I9000', 'B2000_JUST', 'B2001_JUST', 'B2007_JUST', 'C3009_JUST', 'C3010_JUST', 'JUST_SEGUN_REGION']\n",
      "shape: (4063, 292)\n"
     ]
    }
   ],
   "source": [
    "for key in df.keys():\n",
    "    print('sheet:', key)\n",
    "    print('columns:', list(df[key].columns))\n",
    "    print('shape:', df[key].shape)"
   ]
  },
  {
   "cell_type": "markdown",
   "metadata": {},
   "source": [
    "# ID: CTCI_08\n",
    "* Nombre: Base de datos de Encuesta sobre Gasto y Personal en I+D (2013) - Tamaño empresa\n",
    "* Descripción: Datos de la encuesta de sobre gasto y personal en I+D para el año de referencia 2013. Esta busca medir los recursos financieros y humanos dedicados a estas actividades en el país. Descubre sobre la I+D en Chile y usa los datos para lo que necesites.\n",
    "* Última Actualización: 2015\n",
    "* Publicador: Ministerio de Ciencia, Tecnología, Conocimiento e Innovación\n",
    "* Categorías: Investigación y Desarrollo (I+D);Transferencia de conocimiento;Formación y capital humano\n",
    "* Etiquetas: I+D 2013"
   ]
  },
  {
   "cell_type": "code",
   "execution_count": 115,
   "metadata": {},
   "outputs": [
    {
     "data": {
      "text/plain": [
       "dict_keys(['Datos'])"
      ]
     },
     "execution_count": 115,
     "metadata": {},
     "output_type": "execute_result"
    }
   ],
   "source": [
    "import pandas as pd\n",
    "\n",
    "df = pd.read_excel('../CTCI/original/2013-I-mas-D-base-de-datos_tamano-empresa.xlsx', sheet_name=None)\n",
    "df.keys()"
   ]
  },
  {
   "cell_type": "code",
   "execution_count": 116,
   "metadata": {},
   "outputs": [
    {
     "name": "stdout",
     "output_type": "stream",
     "text": [
      "sheet: Datos\n",
      "columns: ['ID_B', 'DV_ID_B', 'UNIDAD_DECLARANTE', 'TAMANO_EMPRESA', 'IMASD', 'A1003', 'A1018', 'A1019', 'A1019_OTRA', 'A1020', 'A1021', 'B2000', 'B2001', 'B2002', 'B2003', 'B2004', 'B2005', 'B2006', 'B2007', 'B2009', 'C3000', 'C3001', 'C3002', 'C3003', 'C3004', 'C3005', 'C3006', 'C3007', 'C3008', 'C3009', 'C3010', 'C3011', 'C3012', 'C3013', 'C3014', 'C3015', 'C3016', 'C3017', 'C3018', 'C3019', 'C3020', 'C3021', 'C3022', 'C3023', 'C3024', 'C3025', 'C3026', 'C3027', 'C3028', 'C3029', 'C3030', 'C3031', 'C3032', 'C3033', 'C3034', 'C3035', 'C3036', 'C3037', 'C3038', 'C3039', 'C3040', 'C3041', 'C3042', 'C3043', 'C3044', 'C3045', 'C3046', 'C3047', 'C3048', 'C3049', 'C3050', 'C3051', 'C3052', 'C3053', 'C3054', 'C3055', 'C3056', 'C3057', 'C3058', 'C3059', 'C3060', 'C3061', 'C3062', 'C3063', 'C3064', 'C3065', 'C3066', 'C3067', 'C3068', 'C3069', 'C3070', 'C3071', 'C3072', 'C3073', 'C3094', 'C3095', 'C3096', 'C3097', 'C3098', 'C3099', 'H8000', 'H8001', 'H8002', 'H8003', 'H8004', 'H8005', 'H8006', 'H8007', 'H8008', 'H8009', 'H8010', 'H8011', 'H8012', 'H8013', 'H8014', 'H8015', 'H8016', 'H8017', 'H8018', 'H8019', 'H8020', 'H8021', 'H8022', 'H8023', 'H8024', 'H8025', 'H8026', 'H8027', 'H8028', 'H8029', 'H8030', 'H8031', 'H8032', 'H8033', 'H8034', 'H8035', 'H8036', 'H8037', 'H8038', 'H8039', 'H8040', 'H8041', 'H8042', 'H8043', 'H8044', 'H8045', 'H8046', 'H8047', 'H8048', 'H8049', 'H8050', 'H8051', 'H8052', 'H8053', 'H8054', 'D4300', 'D4301', 'D4302', 'D4303', 'D4310', 'D4311', 'D4312', 'D4313', 'D4320', 'D4321', 'D4322', 'D4323', 'D4330', 'D4331', 'D4332', 'D4333', 'D4400', 'D4401', 'D4402', 'D4403', 'D4404', 'D4405', 'D4410', 'D4411', 'D4412', 'D4413', 'D4414', 'D4415', 'D4420', 'D4421', 'D4422', 'D4423', 'D4424', 'D4425', 'D4430', 'D4431', 'D4432', 'D4433', 'D4434', 'D4435', 'D4500', 'D4501', 'D4502', 'D4503', 'D4504', 'D4505', 'D4510', 'D4511', 'D4512', 'D4513', 'D4514', 'D4515', 'D4520', 'D4521', 'D4522', 'D4523', 'D4524', 'D4525', 'D4530', 'D4531', 'D4532', 'D4533', 'D4534', 'D4535', 'D4600', 'D4601', 'D4602', 'D4603', 'D4604', 'D4605', 'D4606', 'D4700', 'D4701', 'D4702', 'D4703', 'D4704', 'D4705', 'D4706', 'D4707', 'D4708', 'D4709', 'D4710', 'D4711', 'D4712', 'D4713', 'D4714', 'D4800', 'D4801', 'D4802', 'D4810', 'D4811', 'D4812', 'D4820', 'D4821', 'D4822', 'D4830', 'D4831', 'D4832', 'E5000', 'E5001', 'E5002', 'E5003', 'E5004', 'E5005', 'E5006', 'E5007', 'E5008', 'E5009', 'E5010', 'E5011', 'E5012', 'E5013', 'E5014', 'E5015', 'E5016', 'E5017', 'F6000', 'F6001', 'F6002', 'F6003', 'F6004', 'F6005', 'F6006', 'F6007', 'F6008', 'F6009', 'F6009_OTRA', 'G7000', 'G7001', 'I9000']\n",
      "shape: (4063, 285)\n"
     ]
    }
   ],
   "source": [
    "for key in df.keys():\n",
    "    print('sheet:', key)\n",
    "    print('columns:', list(df[key].columns))\n",
    "    print('shape:', df[key].shape)"
   ]
  },
  {
   "cell_type": "markdown",
   "metadata": {},
   "source": [
    "# ID: CTCI_07\n",
    "* Nombre: Base de datos de Encuesta Nacional de Innovación (2011 - 2012) - Sector económico\n",
    "* Descripción: Datos de la encuesta de innovación para los años de referencia 2011-2012. Esta busca entender las actividades de innovación que llevan a cabo las empresas con ventas anuales mayores a 2.400 UF en el país a partir de una muestra representativa. Descubre sobre la innovación en Chile y usa los datos para lo que necesites.\n",
    "* Última Actualización: 2014\n",
    "* Publicador: Ministerio de Ciencia, Tecnología, Conocimiento e Innovación\n",
    "* Categorías: Innovación y desarrollo de negocios\n",
    "* Etiquetas: ENI 2011 - 2012"
   ]
  },
  {
   "cell_type": "code",
   "execution_count": 117,
   "metadata": {},
   "outputs": [
    {
     "data": {
      "text/plain": [
       "dict_keys(['Datos'])"
      ]
     },
     "execution_count": 117,
     "metadata": {},
     "output_type": "execute_result"
    }
   ],
   "source": [
    "import pandas as pd\n",
    "\n",
    "df = pd.read_excel('../CTCI/original/2011-2012-ENI-base-de-datos_sector-economico.xlsx', sheet_name=None)\n",
    "df.keys()"
   ]
  },
  {
   "cell_type": "code",
   "execution_count": 118,
   "metadata": {},
   "outputs": [
    {
     "name": "stdout",
     "output_type": "stream",
     "text": [
      "sheet: Datos\n",
      "columns: ['ID', 'DV_ID', 'FE_EMPRESA', 'FE_VENTAS', 'SECTOR_ACTIVIDAD', 'DIVISION_ACTIVIDAD', 'GLOSA_ACTIVIDAD', 'TAMANO_EMPRESA', 'P020', 'P021', 'P022', 'P024', 'P025', 'P026', 'P027', 'P028', 'P200', 'P201', 'P202', 'P203', 'P212', 'P213', 'P214', 'P215', 'P216', 'P217', 'P218', 'P219', 'P220', 'P221', 'P222', 'P223', 'P224', 'P225', 'P3000', 'P3001', 'P3002', 'P3003', 'P3004', 'P3005', 'P3006', 'P3007', 'P3231', 'P3232', 'P3233', 'P3234', 'P3330', 'P3331', 'P3336', 'P3337', 'P3338', 'P3339', 'P3340', 'P3341', 'P3235', 'P3236', 'P3237', 'P3238', 'P3239', 'P3240', 'P3024', 'P3025', 'P3026', 'P3027', 'P3241', 'P3242', 'P3243', 'P3244', 'P3046', 'P3047', 'P3048', 'P3245', 'P3246', 'P3051', 'P3247', 'P3248', 'P3249', 'P3250', 'P3251', 'P3252', 'P3253', 'P3254', 'P3255', 'P3256', 'P3257', 'P3258', 'P3259', 'P3260', 'P3261', 'P3262', 'P3263', 'P3264', 'P3265', 'P3266', 'P3267', 'P3268', 'P3052', 'P3053', 'P3054', 'P3055', 'P3344', 'P3269', 'P3270', 'P3056', 'P3057', 'P3345', 'P3296', 'P3297', 'P3084', 'P3298', 'P3299', 'P3085', 'P3300', 'P3301', 'P3086', 'P3302', 'P3303', 'P3087', 'P3304', 'P3305', 'P3088', 'P3306', 'P3307', 'P3089', 'P3308', 'P3309', 'P3090', 'P3310', 'P3311', 'P3091', 'P3312', 'P3313', 'P3294', 'P3314', 'P3315', 'P3295', 'P3316', 'P3317', 'P3092', 'P3318', 'P3319', 'P3093', 'P3342', 'P3343', 'P3273', 'P3274', 'P3275', 'P3276', 'P3277', 'P3278', 'P3279', 'P3280', 'P3346', 'P3347', 'P3102', 'P3103', 'P3104', 'P3105', 'P3106', 'P3107', 'P3108', 'P3109', 'P3110', 'P3111', 'P3112', 'P3113', 'P3114', 'P3115', 'P3116', 'P3117', 'P3118', 'P3119', 'P3120', 'P3121', 'P3122', 'P3123', 'P3124', 'P3125', 'P3126', 'P3127', 'P3128', 'P3129', 'P3130', 'P3131', 'P3132', 'P3133', 'P3320', 'P3321', 'P3322', 'P3323', 'P3324', 'P3325', 'P3326', 'P3327', 'P3328', 'P3329', 'P3136', 'P3139', 'P3142', 'P3145', 'P3281', 'P3154', 'P3157', 'P3332', 'P3333', 'P3334', 'P3335', 'P3162', 'P3163', 'P3164', 'P3165', 'P3166', 'P3167', 'P3168', 'P3169', 'P3170', 'P3171', 'P3172', 'P3173', 'P3174', 'P3175', 'P3176', 'P3177', 'P3178', 'P3179', 'P3180', 'P3181', 'P3182', 'P3183', 'P3184', 'P3185', 'P3186', 'P3187', 'P3188', 'P3189', 'P3190', 'P3191', 'P3282', 'P3283', 'P3284', 'P3192', 'P3196', 'P3197', 'P3285', 'P3198', 'P3199', 'P3200', 'P3286', 'P3201', 'P3202', 'P3287', 'P3288', 'P3289', 'P3208', 'P3209', 'P3210', 'P3211', 'P3212', 'P3213', 'P3214', 'P3290', 'P3291', 'P3216', 'P3217', 'P3218', 'P3219', 'P3220', 'P3221', 'P3222', 'P3223', 'P3292', 'P3293', 'P3228', 'P3229', 'P3230']\n",
      "shape: (4614, 275)\n"
     ]
    }
   ],
   "source": [
    "for key in df.keys():\n",
    "    print('sheet:', key)\n",
    "    print('columns:', list(df[key].columns))\n",
    "    print('shape:', df[key].shape)"
   ]
  },
  {
   "cell_type": "markdown",
   "metadata": {},
   "source": [
    "# ID: CTCI_06\n",
    "* Nombre: Base de datos de Encuesta Nacional de Innovación (2011 - 2012) - Región\n",
    "* Descripción: Datos de la encuesta de innovación para los años de referencia 2011-2012. Esta busca entender las actividades de innovación que llevan a cabo las empresas con ventas anuales mayores a 2.400 UF en el país a partir de una muestra representativa. Descubre sobre la innovación en Chile y usa los datos para lo que necesites.\n",
    "* Última Actualización: 2014\n",
    "* Publicador: Ministerio de Ciencia, Tecnología, Conocimiento e Innovación\n",
    "* Categorías: Innovación y desarrollo de negocios\n",
    "* Etiquetas: ENI 2011 - 2012"
   ]
  },
  {
   "cell_type": "code",
   "execution_count": 119,
   "metadata": {},
   "outputs": [
    {
     "data": {
      "text/plain": [
       "dict_keys(['Datos'])"
      ]
     },
     "execution_count": 119,
     "metadata": {},
     "output_type": "execute_result"
    }
   ],
   "source": [
    "import pandas as pd\n",
    "\n",
    "df = pd.read_excel('../CTCI/original/2011-2012-ENI-base-de-datos_region.xlsx', sheet_name=None)\n",
    "df.keys()"
   ]
  },
  {
   "cell_type": "code",
   "execution_count": 120,
   "metadata": {},
   "outputs": [
    {
     "name": "stdout",
     "output_type": "stream",
     "text": [
      "sheet: Datos\n",
      "columns: ['ID', 'DV_ID', 'FE_EMPRESA', 'FE_VENTAS', 'TAMANO', 'REGION', 'P020', 'P021', 'P022', 'P024', 'P025', 'P026', 'P027', 'P028', 'P200', 'P201', 'P202', 'P203', 'P212', 'P213', 'P214', 'P215', 'P216', 'P217', 'P218', 'P219', 'P220', 'P221', 'P222', 'P223', 'P224', 'P225', 'P3000', 'P3001', 'P3002', 'P3003', 'P3004', 'P3005', 'P3006', 'P3007', 'P3231', 'P3232', 'P3233', 'P3234', 'P3330', 'P3331', 'P3336', 'P3337', 'P3338', 'P3339', 'P3340', 'P3341', 'P3235', 'P3236', 'P3237', 'P3238', 'P3239', 'P3240', 'P3024', 'P3025', 'P3026', 'P3027', 'P3241', 'P3242', 'P3243', 'P3244', 'P3046', 'P3047', 'P3048', 'P3245', 'P3246', 'P3051', 'P3247', 'P3248', 'P3249', 'P3250', 'P3251', 'P3252', 'P3253', 'P3254', 'P3255', 'P3256', 'P3257', 'P3258', 'P3259', 'P3260', 'P3261', 'P3262', 'P3263', 'P3264', 'P3265', 'P3266', 'P3267', 'P3268', 'P3052', 'P3053', 'P3054', 'P3055', 'P3344', 'P3269', 'P3270', 'P3056', 'P3057', 'P3345', 'P3296', 'P3297', 'P3084', 'P3298', 'P3299', 'P3085', 'P3300', 'P3301', 'P3086', 'P3302', 'P3303', 'P3087', 'P3304', 'P3305', 'P3088', 'P3306', 'P3307', 'P3089', 'P3308', 'P3309', 'P3090', 'P3310', 'P3311', 'P3091', 'P3312', 'P3313', 'P3294', 'P3314', 'P3315', 'P3295', 'P3316', 'P3317', 'P3092', 'P3318', 'P3319', 'P3093', 'P3342', 'P3343', 'P3273', 'P3274', 'P3275', 'P3276', 'P3277', 'P3278', 'P3279', 'P3280', 'P3346', 'P3347', 'P3102', 'P3103', 'P3104', 'P3105', 'P3106', 'P3107', 'P3108', 'P3109', 'P3110', 'P3111', 'P3112', 'P3113', 'P3114', 'P3115', 'P3116', 'P3117', 'P3118', 'P3119', 'P3120', 'P3121', 'P3122', 'P3123', 'P3124', 'P3125', 'P3126', 'P3127', 'P3128', 'P3129', 'P3130', 'P3131', 'P3132', 'P3133', 'P3320', 'P3321', 'P3322', 'P3323', 'P3324', 'P3325', 'P3326', 'P3327', 'P3328', 'P3329', 'P3136', 'P3139', 'P3142', 'P3145', 'P3281', 'P3154', 'P3157', 'P3332', 'P3333', 'P3334', 'P3335', 'P3162', 'P3163', 'P3164', 'P3165', 'P3166', 'P3167', 'P3168', 'P3169', 'P3170', 'P3171', 'P3172', 'P3173', 'P3174', 'P3175', 'P3176', 'P3177', 'P3178', 'P3179', 'P3180', 'P3181', 'P3182', 'P3183', 'P3184', 'P3185', 'P3186', 'P3187', 'P3188', 'P3189', 'P3190', 'P3191', 'P3282', 'P3283', 'P3284', 'P3192', 'P3196', 'P3197', 'P3285', 'P3198', 'P3199', 'P3200', 'P3286', 'P3201', 'P3202', 'P3287', 'P3288', 'P3289', 'P3208', 'P3209', 'P3210', 'P3211', 'P3212', 'P3213', 'P3214', 'P3290', 'P3291', 'P3216', 'P3217', 'P3218', 'P3219', 'P3220', 'P3221', 'P3222', 'P3223', 'P3292', 'P3293', 'P3228', 'P3229', 'P3230']\n",
      "shape: (4614, 273)\n"
     ]
    }
   ],
   "source": [
    "for key in df.keys():\n",
    "    print('sheet:', key)\n",
    "    print('columns:', list(df[key].columns))\n",
    "    print('shape:', df[key].shape)"
   ]
  },
  {
   "cell_type": "markdown",
   "metadata": {},
   "source": [
    "# ID: CTCI_05\n",
    "* Nombre: Base de datos de Encuesta sobre Gasto y Personal en I+D (2011 - 2012) - Sector económico\n",
    "* Descripción: Datos de la encuesta de sobre gasto y personal en I+D para los años de referencia 2011-2012. Esta busca medir los recursos financieros y humanos dedicados a estas actividades en el país. Descubre sobre la I+D en Chile y usa los datos para lo que necesites.\n",
    "* Última Actualización: 2013\n",
    "* Publicador: Ministerio de Ciencia, Tecnología, Conocimiento e Innovación\n",
    "* Categorías: Investigación y Desarrollo (I+D);Transferencia de conocimiento;Formación y capital humano\n",
    "* Etiquetas: I+D 2011 - 2012"
   ]
  },
  {
   "cell_type": "code",
   "execution_count": 121,
   "metadata": {},
   "outputs": [
    {
     "data": {
      "text/plain": [
       "dict_keys(['Sheet1'])"
      ]
     },
     "execution_count": 121,
     "metadata": {},
     "output_type": "execute_result"
    }
   ],
   "source": [
    "import pandas as pd\n",
    "\n",
    "df = pd.read_excel('../CTCI/original/2011-2012-I-mas-D-base-de-datos_sector-economico.xlsx', sheet_name=None)\n",
    "df.keys()"
   ]
  },
  {
   "cell_type": "code",
   "execution_count": 122,
   "metadata": {},
   "outputs": [
    {
     "name": "stdout",
     "output_type": "stream",
     "text": [
      "sheet: Sheet1\n",
      "columns: ['ID_B', 'DV_ID_B', 'ImasD', 'Actividad_economica', 'Unidad_Declarante', 'P020', 'P021', 'P022', 'P023', 'P024', 'P025', 'P026', 'P027', 'P028', 'P028_Otra', 'P045', 'P200', 'P201', 'P202', 'P203', 'P212', 'P213', 'P214', 'P215', 'P216', 'P217', 'P218', 'P219', 'P220', 'P221', 'P222', 'P223', 'P224', 'P225', 'P2000', 'P2001', 'P2002', 'P2003', 'P2004', 'P2005', 'P2006', 'P4831', 'P4832', 'P4833', 'P4834', 'P4000', 'P4001', 'P4002', 'P4003', 'P4004', 'P4005', 'P4006', 'P4007', 'P4008', 'P4009', 'P4010', 'P4011', 'P4012', 'P4013', 'P4014', 'P4015', 'P4016', 'P4017', 'P4018', 'P4019', 'P4020', 'P4021', 'P4054', 'P4055', 'P4056', 'P4057', 'P4058', 'P4059', 'P4060', 'P4061', 'P4624', 'P4625', 'P4626', 'P4627', 'P4628', 'P4629', 'P4630', 'P4631', 'P4632', 'P4633', 'P4634', 'P4635', 'P4636', 'P4637', 'P4638', 'P4639', 'P4022', 'P4023', 'P4024', 'P4025', 'P4026', 'P4027', 'P4028', 'P4029', 'P4030', 'P4031', 'P4032', 'P4033', 'P4034', 'P4035', 'P4036', 'P4037', 'P4038', 'P4039', 'P4040', 'P4041', 'P4042', 'P4043', 'P4044', 'P4045', 'P4046', 'P4047', 'P4048', 'P4049', 'P4050', 'P4051', 'P4052', 'P4053', 'P4098', 'P4099', 'P4100', 'P4101', 'P4102', 'P4103', 'P4104', 'P4105', 'P4106', 'P4107', 'P4108', 'P4109', 'P4110', 'P4111', 'P4112', 'P4113', 'P4114', 'P4115', 'P4116', 'P4117', 'P4120', 'P4121', 'P4122', 'P4123', 'P4124', 'P4125', 'P4128', 'P4129', 'P4134', 'P4135', 'P4640', 'P4641', 'P4642', 'P4643', 'P4644', 'P4645', 'P4646', 'P4647', 'P4648', 'P4649', 'P4136', 'P4137', 'P4650', 'P4659', 'm1', 'P4198', 'P4660', 'P4201', 'P4661', 'P4204', 'P4662', 'P4207', 'P4663', 'P4210', 'P4664', 'P4213', 'P4665', 'P4216', 'P4666', 'P4219', 'P4667', 'P4222', 'P4668', 'P4225', 'P4669', 'P4228', 'P4670', 'P4231', 'P4671', 'P4234', 'P4672', 'P4237', 'P4673', 'P4240', 'P4674', 'P4243', 'P4675', 'P4835', 'P4246', 'P4679', 'P4249', 'P4680', 'P4252', 'P4681', 'P4255', 'P4682', 'P4258', 'P4683', 'P4261', 'P4684', 'P4264', 'P4685', 'P4267', 'P4686', 'P4270', 'P4687', 'P4273', 'P4688', 'P4276', 'P4689', 'P4279', 'P4690', 'P4282', 'P4691', 'P4285', 'P4692', 'P4288', 'P4693', 'P4291', 'P4694', 'P4294', 'P4695', 'P4297', 'P4696', 'P4300', 'P4697', 'P4303', 'P4698', 'P4306', 'P4699', 'P4309', 'P4700', 'P4312', 'P4701', 'P4315', 'P4702', 'P4318', 'P4703', 'P4321', 'P4704', 'P4324', 'P4705', 'P4327', 'P4706', 'P4330', 'P4707', 'P4333', 'P4708', 'P4336', 'P4709', 'P4339', 'P4710', 'P4342', 'P4711', 'P4345', 'P4712', 'P4348', 'P4713', 'P4351', 'P4714', 'P4354', 'P4715', 'P4357', 'P4716', 'P4360', 'P4717', 'P4363', 'P4718', 'P4366', 'P4719', 'P4369', 'P4720', 'P4372', 'P4721', 'P4375', 'P4722', 'P4378', 'P4723', 'P4381', 'P4724', 'P4384', 'P4725', 'P4387', 'P4726', 'P4477', 'P4483', 'P4489', 'P4495', 'P4501', 'P4507', 'P4513', 'P4519', 'P4525', 'P4531', 'P4537', 'P4543', 'P4549', 'P4555', 'P4558', 'P4559', 'P4560', 'P4561', 'P4562', 'P4563', 'P4564', 'P4565', 'P4566', 'P4567', 'P4568', 'P4569', 'P4570', 'P4571', 'P4572', 'P4573', 'P4574', 'P4575', 'P4576', 'P4577', 'P4578', 'P4579', 'P4580', 'P4581', 'P4582', 'P4583', 'P4584', 'P4585', 'P4586', 'P4587', 'P4588', 'P4589', 'P4727', 'P4728', 'P4729', 'P4730', 'P4731', 'P4732', 'P4733', 'P4734', 'P4735', 'P4736', 'P4737', 'P4738', 'P4739', 'P4740', 'P4741', 'P4742', 'P4743', 'P4744', 'P4608', 'P4609', 'P4610', 'P4611', 'P4612', 'P4613', 'P4614', 'P4615', 'P4616', 'P4617', 'P4617_Otro', 'P4618', 'P4619', 'm2']\n",
      "shape: (3021, 375)\n"
     ]
    }
   ],
   "source": [
    "for key in df.keys():\n",
    "    print('sheet:', key)\n",
    "    print('columns:', list(df[key].columns))\n",
    "    print('shape:', df[key].shape)"
   ]
  },
  {
   "cell_type": "markdown",
   "metadata": {},
   "source": [
    "# ID: CTCI_04\n",
    "* Nombre: Base de datos de Encuesta sobre Gasto y Personal en I+D (2011 - 2012) - Tamaño empresa\n",
    "* Descripción: Datos de la encuesta de sobre gasto y personal en I+D para los años de referencia 2011-2012. Esta busca medir los recursos financieros y humanos dedicados a estas actividades en el país. Descubre sobre la I+D en Chile y usa los datos para lo que necesites.\n",
    "* Última Actualización: 2013\n",
    "* Publicador: Ministerio de Ciencia, Tecnología, Conocimiento e Innovación\n",
    "* Categorías: Investigación y Desarrollo (I+D);Transferencia de conocimiento;Formación y capital humano\n",
    "* Etiquetas: I+D 2011 - 2012"
   ]
  },
  {
   "cell_type": "code",
   "execution_count": 123,
   "metadata": {},
   "outputs": [
    {
     "data": {
      "text/plain": [
       "dict_keys(['Sheet1'])"
      ]
     },
     "execution_count": 123,
     "metadata": {},
     "output_type": "execute_result"
    }
   ],
   "source": [
    "import pandas as pd\n",
    "\n",
    "df = pd.read_excel('../CTCI/original/2011-2012-I-mas-D-base-de-datos_tamano-empresa.xlsx', sheet_name=None)\n",
    "df.keys()"
   ]
  },
  {
   "cell_type": "code",
   "execution_count": 124,
   "metadata": {},
   "outputs": [
    {
     "name": "stdout",
     "output_type": "stream",
     "text": [
      "sheet: Sheet1\n",
      "columns: ['ID_A', 'DV_ID_A', 'REGION', 'TAMANO_EMPRESA', 'ImasD', 'Unidad_Declarante', 'P020', 'P021', 'P022', 'P023', 'P024', 'P025', 'P026', 'P027', 'P028', 'P028_Otra', 'P045', 'P200', 'P201', 'P202', 'P203', 'P212', 'P213', 'P214', 'P215', 'P216', 'P217', 'P218', 'P219', 'P220', 'P221', 'P222', 'P223', 'P224', 'P225', 'P2000', 'P2001', 'P2002', 'P2003', 'P2004', 'P2005', 'P2006', 'P4831', 'P4832', 'P4833', 'P4834', 'P4000', 'P4001', 'P4002', 'P4003', 'P4004', 'P4005', 'P4006', 'P4007', 'P4008', 'P4009', 'P4010', 'P4011', 'P4012', 'P4013', 'P4014', 'P4015', 'P4016', 'P4017', 'P4018', 'P4019', 'P4020', 'P4021', 'P4054', 'P4055', 'P4056', 'P4057', 'P4058', 'P4059', 'P4060', 'P4061', 'P4624', 'P4625', 'P4626', 'P4627', 'P4628', 'P4629', 'P4630', 'P4631', 'P4632', 'P4633', 'P4634', 'P4635', 'P4636', 'P4637', 'P4638', 'P4639', 'P4022', 'P4023', 'P4024', 'P4025', 'P4026', 'P4027', 'P4028', 'P4029', 'P4030', 'P4031', 'P4032', 'P4033', 'P4034', 'P4035', 'P4036', 'P4037', 'P4038', 'P4039', 'P4040', 'P4041', 'P4042', 'P4043', 'P4044', 'P4045', 'P4046', 'P4047', 'P4048', 'P4049', 'P4050', 'P4051', 'P4052', 'P4053', 'P4098', 'P4099', 'P4100', 'P4101', 'P4102', 'P4103', 'P4104', 'P4105', 'P4106', 'P4107', 'P4108', 'P4109', 'P4110', 'P4111', 'P4112', 'P4113', 'P4114', 'P4115', 'P4116', 'P4117', 'P4120', 'P4121', 'P4122', 'P4123', 'P4124', 'P4125', 'P4128', 'P4129', 'P4134', 'P4135', 'P4640', 'P4641', 'P4642', 'P4643', 'P4644', 'P4645', 'P4646', 'P4647', 'P4648', 'P4649', 'P4136', 'P4137', 'P4650', 'P4659', 'm1', 'P4198', 'P4660', 'P4201', 'P4661', 'P4204', 'P4662', 'P4207', 'P4663', 'P4210', 'P4664', 'P4213', 'P4665', 'P4216', 'P4666', 'P4219', 'P4667', 'P4222', 'P4668', 'P4225', 'P4669', 'P4228', 'P4670', 'P4231', 'P4671', 'P4234', 'P4672', 'P4237', 'P4673', 'P4240', 'P4674', 'P4243', 'P4675', 'P4835', 'P4246', 'P4679', 'P4249', 'P4680', 'P4252', 'P4681', 'P4255', 'P4682', 'P4258', 'P4683', 'P4261', 'P4684', 'P4264', 'P4685', 'P4267', 'P4686', 'P4270', 'P4687', 'P4273', 'P4688', 'P4276', 'P4689', 'P4279', 'P4690', 'P4282', 'P4691', 'P4285', 'P4692', 'P4288', 'P4693', 'P4291', 'P4694', 'P4294', 'P4695', 'P4297', 'P4696', 'P4300', 'P4697', 'P4303', 'P4698', 'P4306', 'P4699', 'P4309', 'P4700', 'P4312', 'P4701', 'P4315', 'P4702', 'P4318', 'P4703', 'P4321', 'P4704', 'P4324', 'P4705', 'P4327', 'P4706', 'P4330', 'P4707', 'P4333', 'P4708', 'P4336', 'P4709', 'P4339', 'P4710', 'P4342', 'P4711', 'P4345', 'P4712', 'P4348', 'P4713', 'P4351', 'P4714', 'P4354', 'P4715', 'P4357', 'P4716', 'P4360', 'P4717', 'P4363', 'P4718', 'P4366', 'P4719', 'P4369', 'P4720', 'P4372', 'P4721', 'P4375', 'P4722', 'P4378', 'P4723', 'P4381', 'P4724', 'P4384', 'P4725', 'P4387', 'P4726', 'P4477', 'P4483', 'P4489', 'P4495', 'P4501', 'P4507', 'P4513', 'P4519', 'P4525', 'P4531', 'P4537', 'P4543', 'P4549', 'P4555', 'P4558', 'P4559', 'P4560', 'P4561', 'P4562', 'P4563', 'P4564', 'P4565', 'P4566', 'P4567', 'P4568', 'P4569', 'P4570', 'P4571', 'P4572', 'P4573', 'P4574', 'P4575', 'P4576', 'P4577', 'P4578', 'P4579', 'P4580', 'P4581', 'P4582', 'P4583', 'P4584', 'P4585', 'P4586', 'P4587', 'P4588', 'P4589', 'P4727', 'P4728', 'P4729', 'P4730', 'P4731', 'P4732', 'P4733', 'P4734', 'P4735', 'P4736', 'P4737', 'P4738', 'P4739', 'P4740', 'P4741', 'P4742', 'P4743', 'P4744', 'P4608', 'P4609', 'P4610', 'P4611', 'P4612', 'P4613', 'P4614', 'P4615', 'P4616', 'P4617', 'P4617_Otro', 'P4618', 'P4619', 'm2']\n",
      "shape: (3021, 376)\n"
     ]
    }
   ],
   "source": [
    "for key in df.keys():\n",
    "    print('sheet:', key)\n",
    "    print('columns:', list(df[key].columns))\n",
    "    print('shape:', df[key].shape)"
   ]
  },
  {
   "cell_type": "markdown",
   "metadata": {},
   "source": [
    "# ID: CTCI_03\n",
    "* Nombre: Base de datos de Encuesta Nacional de Innovación (2009 - 2010)\n",
    "* Descripción: Datos de la encuesta de innovación para los años de referencia 2009-2010. Esta busca entender las actividades de innovación que llevan a cabo las empresas con ventas anuales mayores a 2.400 UF en el país a partir de una muestra representativa. Descubre sobre la innovación en Chile y usa los datos para lo que necesites.\n",
    "* Última Actualización: 2012\n",
    "* Publicador: Ministerio de Ciencia, Tecnología, Conocimiento e Innovación\n",
    "* Categorías: Innovación y desarrollo de negocios\n",
    "* Etiquetas: ENI 2009 - 2010"
   ]
  },
  {
   "cell_type": "code",
   "execution_count": 125,
   "metadata": {},
   "outputs": [
    {
     "data": {
      "text/plain": [
       "dict_keys(['Datos'])"
      ]
     },
     "execution_count": 125,
     "metadata": {},
     "output_type": "execute_result"
    }
   ],
   "source": [
    "import pandas as pd\n",
    "\n",
    "df = pd.read_excel('../CTCI/original/2009-2010-ENI-base-de-datos.xlsx', sheet_name=None)\n",
    "df.keys()"
   ]
  },
  {
   "cell_type": "code",
   "execution_count": 126,
   "metadata": {},
   "outputs": [
    {
     "name": "stdout",
     "output_type": "stream",
     "text": [
      "sheet: Datos\n",
      "columns: ['ID', 'DV_ID', 'FE_EMPRESA', 'FE_VENTAS', 'SECTOR_ACTIVIDAD', 'DIVISION_ACTIVIDAD', 'GLOSA_ACTIVIDAD', 'TAMANO_EMPRESA', 'REGION', 'inn_producto', 'inn_proceso', 'inn_mkt', 'inn_org', 'inn_tec', 'innovacion', 'P020', 'P021', 'P022', 'P024', 'P025', 'P026', 'P027', 'P028', 'P200', 'P201', 'P202', 'P203', 'P210', 'P211', 'P208', 'P209', 'P3000', 'P3001', 'P3002', 'P3003', 'P3004', 'P3005', 'P3006', 'P3007', 'P3231', 'P3232', 'P3233', 'P3234', 'P3014', 'P3015', 'P3016', 'P3017', 'P3018', 'P3019', 'P3020', 'P3021', 'P3235', 'P3236', 'P3237', 'P3238', 'P3239', 'P3240', 'P3024', 'P3025', 'P3026', 'P3027', 'P3241', 'P3242', 'P3243', 'P3244', 'P3046', 'P3047', 'P3048', 'P3245', 'P3246', 'P3051', 'P3247', 'P3248', 'P3249', 'P3250', 'P3251', 'P3252', 'P3253', 'P3254', 'P3255', 'P3256', 'P3257', 'P3258', 'P3259', 'P3260', 'P3261', 'P3262', 'P3263', 'P3264', 'P3265', 'P3266', 'P3267', 'P3268', 'P3052', 'P3053', 'P3054', 'P3055', 'P3269', 'P3270', 'P3056', 'P3057', 'P3058', 'P3059', 'P3060', 'P3061', 'P3062', 'P3063', 'P3064', 'P3065', 'P3271', 'P3272', 'P3066', 'P3067', 'P3273', 'P3274', 'P3275', 'P3276', 'P3277', 'P3278', 'P3279', 'P3280', 'P3084', 'P3085', 'P3086', 'P3087', 'P3088', 'P3089', 'P3090', 'P3091', 'P3092', 'P3093', 'P3094', 'P3095', 'P3102', 'P3103', 'P3104', 'P3105', 'P3106', 'P3107', 'P3108', 'P3109', 'P3110', 'P3111', 'P3112', 'P3113', 'P3114', 'P3115', 'P3116', 'P3117', 'P3118', 'P3119', 'P3120', 'P3121', 'P3122', 'P3123', 'P3124', 'P3125', 'P3126', 'P3127', 'P3128', 'P3129', 'P3130', 'P3131', 'P3132', 'P3133', 'P3136', 'P3139', 'P3142', 'P3145', 'P3281', 'P3154', 'P3157', 'P3160', 'P3162', 'P3163', 'P3164', 'P3165', 'P3166', 'P3167', 'P3168', 'P3169', 'P3170', 'P3171', 'P3172', 'P3173', 'P3174', 'P3175', 'P3176', 'P3177', 'P3178', 'P3179', 'P3180', 'P3181', 'P3182', 'P3183', 'P3184', 'P3185', 'P3186', 'P3187', 'P3188', 'P3189', 'P3190', 'P3191', 'P3192', 'P3196', 'P3197', 'P3285', 'P3198', 'P3199', 'P3200', 'P3286', 'P3201', 'P3202', 'P3287', 'P3288', 'P3289', 'P3208', 'P3209', 'P3210', 'P3211', 'P3212', 'P3213', 'P3214', 'P3290', 'P3291', 'P3216', 'P3217', 'P3218', 'P3219', 'P3220', 'P3221', 'P3222', 'P3223', 'P3292', 'P3293', 'P3228', 'P3229', 'P3230']\n",
      "shape: (3653, 238)\n"
     ]
    }
   ],
   "source": [
    "for key in df.keys():\n",
    "    print('sheet:', key)\n",
    "    print('columns:', list(df[key].columns))\n",
    "    print('shape:', df[key].shape)"
   ]
  },
  {
   "cell_type": "markdown",
   "metadata": {},
   "source": [
    "# ID: CTCI_02\n",
    "* Nombre: Base de datos de Encuesta sobre Gasto y Personal en I+D (2009 - 2010)\n",
    "* Descripción: Datos de la encuesta de sobre gasto y personal en I+D para los años de referencia 2009-2010. Esta busca medir los recursos financieros y humanos dedicados a estas actividades en el país. Descubre sobre la I+D en Chile y usa los datos para lo que necesites.\n",
    "* Última Actualización: 2011\n",
    "* Publicador: Ministerio de Ciencia, Tecnología, Conocimiento e Innovación\n",
    "* Categorías: Investigación y Desarrollo (I+D);Transferencia de conocimiento;Formación y capital humano\n",
    "* Etiquetas: I+D 2009 - 2010"
   ]
  },
  {
   "cell_type": "code",
   "execution_count": 127,
   "metadata": {},
   "outputs": [
    {
     "data": {
      "text/plain": [
       "dict_keys(['Sheet1'])"
      ]
     },
     "execution_count": 127,
     "metadata": {},
     "output_type": "execute_result"
    }
   ],
   "source": [
    "import pandas as pd\n",
    "\n",
    "df = pd.read_excel('../CTCI/original/2009-2010-I-mas-D-base-de-datos.xlsx', sheet_name=None)\n",
    "df.keys()"
   ]
  },
  {
   "cell_type": "code",
   "execution_count": 128,
   "metadata": {},
   "outputs": [
    {
     "name": "stdout",
     "output_type": "stream",
     "text": [
      "sheet: Sheet1\n",
      "columns: ['id', 'DV_ID', 'P4198', 'P4660', 'P4201', 'P4661', 'P4204', 'P4662', 'P4207', 'P4663', 'P4210', 'P4664', 'P4213', 'P4665', 'P4216', 'P4666', 'P4219', 'P4667', 'P4222', 'P4668', 'P4225', 'P4669', 'P4228', 'P4670', 'P4231', 'P4671', 'P4234', 'P4672', 'P4237', 'P4673', 'P4240', 'P4674', 'P4243', 'P4675', 'P4676', 'P4677', 'P4678', 'P4246', 'P4679', 'P4249', 'P4680', 'P4252', 'P4681', 'P4255', 'P4682', 'P4258', 'P4683', 'P4261', 'P4684', 'P4264', 'P4685', 'P4267', 'P4686', 'P4270', 'P4687', 'P4273', 'P4688', 'P4276', 'P4689', 'P4279', 'P4690', 'P4282', 'P4691', 'P4285', 'P4692', 'P4288', 'P4693', 'P4291', 'P4694', 'P4294', 'P4695', 'P4297', 'P4696', 'P4300', 'P4697', 'P4303', 'P4698', 'P4306', 'P4699', 'P4309', 'P4700', 'P4312', 'P4701', 'P4315', 'P4702', 'P4318', 'P4703', 'P4321', 'P4704', 'P4324', 'P4705', 'P4327', 'P4706', 'P4330', 'P4707', 'P4333', 'P4708', 'P4336', 'P4709', 'P4339', 'P4710', 'P4342', 'P4711', 'P4345', 'P4712', 'P4348', 'P4713', 'P4351', 'P4714', 'P4354', 'P4715', 'P4357', 'P4716', 'P4360', 'P4717', 'P4363', 'P4718', 'P4366', 'P4719', 'P4369', 'P4720', 'P4372', 'P4721', 'P4375', 'P4722', 'P4378', 'P4723', 'P4381', 'P4724', 'P4384', 'P4725', 'P4387', 'P4726', 'P4477', 'P4483', 'P4489', 'P4495', 'P4501', 'P4507', 'P4513', 'P4519', 'P4525', 'P4531', 'P4537', 'P4543', 'P4549', 'P4555', 'P4558', 'P4559', 'P4560', 'P4561', 'P4562', 'P4563', 'P4564', 'P4565', 'P4566', 'P4567', 'P4568', 'P4569', 'P4570', 'P4571', 'P4572', 'P4573', 'P4574', 'P4575', 'P4576', 'P4577', 'P4578', 'P4579', 'P4580', 'P4581', 'P4582', 'P4583', 'P4584', 'P4585', 'P4586', 'P4587', 'P4588', 'P4589', 'P4727', 'P4728', 'P4729', 'P4730', 'P4731', 'P4732', 'P4733', 'P4734', 'P4735', 'P4736', 'P4737', 'P4738', 'P4739', 'P4740', 'P4741', 'P4742', 'P4743', 'P4744', 'P4608', 'P4609', 'P4610', 'P4611', 'P4612', 'P4613', 'P4614', 'P4615', 'P4616', 'P4617', 'P4617_Otro_Reclasificaci�n', 'P4618', 'P4619', 'P020', 'P021', 'P022', 'P024', 'P025', 'P026', 'P027', 'P028', 'P045', 'P200', 'P201', 'P202', 'P203', 'P210', 'P211', 'P208', 'P209', 'P2000', 'P2001', 'P2002', 'P2003', 'P2004', 'P2005', 'P2006', 'Tamano_Empresa', 'Codigo_Actividad', 'Glosa_Actividad', 'I_D', 'Unidad_Declarante', 'Region', 'P4620', 'P4621', 'P4622', 'P4623', 'P4000', 'P4001', 'P4002', 'P4003', 'P4004', 'P4005', 'P4006', 'P4007', 'P4008', 'P4009', 'P4010', 'P4011', 'P4012', 'P4013', 'P4014', 'P4015', 'P4016', 'P4017', 'P4018', 'P4019', 'P4020', 'P4021', 'P4054', 'P4055', 'P4056', 'P4057', 'P4058', 'P4059', 'P4060', 'P4061', 'P4624', 'P4625', 'P4626', 'P4627', 'P4628', 'P4629', 'P4630', 'P4631', 'P4632', 'P4633', 'P4634', 'P4635', 'P4636', 'P4637', 'P4638', 'P4639', 'P4022', 'P4023', 'P4024', 'P4025', 'P4026', 'P4027', 'P4028', 'P4029', 'P4030', 'P4031', 'P4032', 'P4033', 'P4034', 'P4035', 'P4036', 'P4037', 'P4038', 'P4039', 'P4040', 'P4041', 'P4042', 'P4043', 'P4044', 'P4045', 'P4046', 'P4047', 'P4048', 'P4049', 'P4050', 'P4051', 'P4052', 'P4053', 'P4098', 'P4099', 'P4100', 'P4101', 'P4102', 'P4103', 'P4104', 'P4105', 'P4106', 'P4107', 'P4108', 'P4109', 'P4110', 'P4111', 'P4112', 'P4113', 'P4114', 'P4115', 'P4116', 'P4117', 'P4120', 'P4121', 'P4122', 'P4123', 'P4124', 'P4125', 'P4128', 'P4129', 'P4134', 'P4135', 'P4640', 'P4641', 'P4642', 'P4643', 'P4644', 'P4645', 'P4646', 'P4647', 'P4648', 'P4649', 'P4136', 'P4137', 'P4650', 'P4659']\n",
      "shape: (1703, 366)\n"
     ]
    }
   ],
   "source": [
    "for key in df.keys():\n",
    "    print('sheet:', key)\n",
    "    print('columns:', list(df[key].columns))\n",
    "    print('shape:', df[key].shape)"
   ]
  },
  {
   "cell_type": "markdown",
   "metadata": {},
   "source": [
    "# ID: CTCI_01\n",
    "* Nombre: Base de datos de Encuesta Nacional de Innovación (2007 - 2008)\n",
    "* Descripción: Datos de la encuesta de innovación para los años de referencia 2007-2008. Esta busca entender las actividades de innovación que llevan a cabo las empresas con ventas anuales mayores a 2.400 UF en el país a partir de una muestra representativa. Descubre sobre la innovación en Chile y usa los datos para lo que necesites.\n",
    "* Última Actualización: 2010\n",
    "* Publicador: Ministerio de Ciencia, Tecnología, Conocimiento e Innovación\n",
    "* Categorías: Innovación y desarrollo de negocios\n",
    "* Etiquetas: ENI 2007 - 2008"
   ]
  },
  {
   "cell_type": "code",
   "execution_count": 129,
   "metadata": {},
   "outputs": [],
   "source": [
    "import pandas as pd"
   ]
  },
  {
   "cell_type": "code",
   "execution_count": 130,
   "metadata": {},
   "outputs": [
    {
     "data": {
      "text/plain": [
       "dict_keys(['Sheet1'])"
      ]
     },
     "execution_count": 130,
     "metadata": {},
     "output_type": "execute_result"
    }
   ],
   "source": [
    "df = pd.read_excel('../CTCI/original/2007-2008-ENI-base-de-datos.xlsx', sheet_name=None)\n",
    "df.keys()"
   ]
  },
  {
   "cell_type": "code",
   "execution_count": 131,
   "metadata": {},
   "outputs": [
    {
     "name": "stdout",
     "output_type": "stream",
     "text": [
      "sheet: Sheet1\n",
      "columns: ['Id', 'Dv_Id', 'P4474', 'P4475', 'P4476', 'P4477', 'P4478', 'P4479', 'P4480', 'P4481', 'P4482', 'P4483', 'P4484', 'P4485', 'P4486', 'P4487', 'P4488', 'P4489', 'P4490', 'P4491', 'P4492', 'P4493', 'P4494', 'P4495', 'P4496', 'P4497', 'P4498', 'P4499', 'P4500', 'P4501', 'P4502', 'P4503', 'P4504', 'P4505', 'P4506', 'P4507', 'P4508', 'P4509', 'P4510', 'P4511', 'P4512', 'P4513', 'P4514', 'P4515', 'P4516', 'P4517', 'P4518', 'P4519', 'P4520', 'P4521', 'P4522', 'P4523', 'P4524', 'P4525', 'P4526', 'P4527', 'P4528', 'P4529', 'P4530', 'P4531', 'P4532', 'P4533', 'P4534', 'P4535', 'P4536', 'P4537', 'P4538', 'P4539', 'P4540', 'P4541', 'P4542', 'P4543', 'P4544', 'P4545', 'P4546', 'P4547', 'P4548', 'P4549', 'P4550', 'P4551', 'P4552', 'P4553', 'P4554', 'P4555', 'P4556', 'P4557', 'P4558', 'P4559', 'P4560', 'P4561', 'P4562', 'P4563', 'P4564', 'P4565', 'P4566', 'P4567', 'P4568', 'P4569', 'P4570', 'P4571', 'P4572', 'P4573', 'P4574', 'P4575', 'P4576', 'P4577', 'P4578', 'P4579', 'P4580', 'P4581', 'P4582', 'P4583', 'P4584', 'P4585', 'P4586', 'P4587', 'P4588', 'P4589', 'Anexo_Sin_Informacion', 'P600', 'P601', 'P602', 'P603', 'P604', 'P605', 'P606', 'P607', 'P608', 'P609', 'P610', 'P611', 'P612', 'P613', 'P614', 'P615', 'P616', 'P617', 'P618', 'P619', 'P620', 'P621', 'P622', 'P623', 'P624', 'P625', 'P626', 'P627', 'P628', 'P629', 'P630', 'P631', 'P632', 'P633', 'P634', 'P635', 'P636', 'P637', 'P638', 'P639', 'P640', 'P641', 'P642', 'P643', 'P644', 'P645', 'P646', 'P647', 'P648', 'P649', 'P650', 'P651', 'P652', 'P653', 'P654', 'P655', 'P656', 'P657', 'P658', 'P659', 'P660', 'P661', 'P662', 'P663', 'P664', 'P665', 'P666', 'P667', 'P668', 'P669', 'P670', 'P671', 'P672', 'P673', 'P674', 'P675', 'P676', 'P677', 'P678', 'P679', 'P680', 'P681', 'P682', 'P683', 'P684', 'P685', 'P686', 'P687', 'P688', 'P689', 'P690', 'P691', 'P692', 'P693', 'P4246', 'P4247', 'P4248', 'P4249', 'P4250', 'P4251', 'P4252', 'P4253', 'P4254', 'P4255', 'P4256', 'P4257', 'P4258', 'P4259', 'P4260', 'P4261', 'P4262', 'P4263', 'P4264', 'P4265', 'P4266', 'P4267', 'P4268', 'P4269', 'P4270', 'P4271', 'P4272', 'P4273', 'P4274', 'P4275', 'P4276', 'P4277', 'P4278', 'P4279', 'P4280', 'P4281', 'P4282', 'P4283', 'P4284', 'P4285', 'P4286', 'P4287', 'P4288', 'P4289', 'P4290', 'P4291', 'P4292', 'P4293', 'P4294', 'P4295', 'P4296', 'P4297', 'P4298', 'P4299', 'P4300', 'P4301', 'P4302', 'P4303', 'P4304', 'P4305', 'P4306', 'P4307', 'P4308', 'P4309', 'P4310', 'P4311', 'P4312', 'P4313', 'P4314', 'P4315', 'P4316', 'P4317', 'P4318', 'P4319', 'P4320', 'P4321', 'P4322', 'P4323', 'P4324', 'P4325', 'P4326', 'P4327', 'P4328', 'P4329', 'P4330', 'P4331', 'P4332', 'P4333', 'P4334', 'P4335', 'P4336', 'P4337', 'P4338', 'P4339', 'P4340', 'P4341', 'P4342', 'P4343', 'P4344', 'P4345', 'P4346', 'P4347', 'P4348', 'P4349', 'P4350', 'P4351', 'P4352', 'P4353', 'P4354', 'P4355', 'P4356', 'P4357', 'P4358', 'P4359', 'P4360', 'P4361', 'P4362', 'P4363', 'P4364', 'P4365', 'P4366', 'P4367', 'P4368', 'P4369', 'P4370', 'P4371', 'P4372', 'P4373', 'P4374', 'P4375', 'P4376', 'P4377', 'P4378', 'P4379', 'P4380', 'P4381', 'P4382', 'P4383', 'P4384', 'P4385', 'P4386', 'P4387', 'P4388', 'P4389', 'P4390', 'P4391', 'P4392', 'P4393', 'P4394', 'P4395', 'P4396', 'P4397', 'P4398', 'P4399', 'P4400', 'P4401', 'P4402', 'P4403', 'P4404', 'P4405', 'P4406', 'P4407', 'P4408', 'P4409', 'P4410', 'P4411', 'P4412', 'P4413', 'P4414', 'P4415', 'P4416', 'P4417', 'P4418', 'P4419', 'P4420', 'P4421', 'P4422', 'P4423', 'P4424', 'P4425', 'P4426', 'P4427', 'P4428', 'P4429', 'P4430', 'P4431', 'P4432', 'P4433', 'P4434', 'P4435', 'P4436', 'P4437', 'P4438', 'P4439', 'P4440', 'P4441', 'P4442', 'P4443', 'P4444', 'P4445', 'P4446', 'P4447', 'P4448', 'P4449', 'P4450', 'P4451', 'P4452', 'P4453', 'P4454', 'P4455', 'P4456', 'P4457', 'P4458', 'P4459', 'P4460', 'P4461', 'P4462', 'P4463', 'P4464', 'P4465', 'P4466', 'P4467', 'P4468', 'P4469', 'P4470', 'P4471', 'P4472', 'P4473', 'P4000', 'P4001', 'P4002', 'P4003', 'P4004', 'P4005', 'P4006', 'P4007', 'P4008', 'P4009', 'P4010', 'P4011', 'P4012', 'P4013', 'P4014', 'P4015', 'P4016', 'P4017', 'P4018', 'P4019', 'P4020', 'P4021', 'P4022', 'P4023', 'P4024', 'P4025', 'P4026', 'P4027', 'P4028', 'P4029', 'P4030', 'P4031', 'P4032', 'P4033', 'P4034', 'P4035', 'P4036', 'P4037', 'P4038', 'P4039', 'P4040', 'P4041', 'P4042', 'P4043', 'P4044', 'P4045', 'P4046', 'P4047', 'P4048', 'P4049', 'P4050', 'P4051', 'P4052', 'P4053', 'P4054', 'P4055', 'P4056', 'P4057', 'P4058', 'P4059', 'P4060', 'P4061', 'P4062', 'P4063', 'P4064', 'P4065', 'P4066', 'P4067', 'P4068', 'P4069', 'P4070', 'P4071', 'P4072', 'P4073', 'P4074', 'P4075', 'P4076', 'P4077', 'P4078', 'P4079', 'P4080', 'P4081', 'P4082', 'P4083', 'P4084', 'P4085', 'P4086', 'P4087', 'P4088', 'P4089', 'P4090', 'P4091', 'P4092', 'P4093', 'P4094', 'P4095', 'P4096', 'P4097', 'P4098', 'P4099', 'P4100', 'P4101', 'P4102', 'P4103', 'P4104', 'P4105', 'P4106', 'P4107', 'P4108', 'P4109', 'P4110', 'P4111', 'P4112', 'P4113', 'P4114', 'P4115', 'P4116', 'P4117', 'P4118', 'P4119', 'P4120', 'P4121', 'P4122', 'P4123', 'P4124', 'P4125', 'P4126', 'P4127', 'P4128', 'P4129', 'P4130', 'P4131', 'P4132', 'P4133', 'P4134', 'P4135', 'P4136', 'P4137', 'P4138', 'P4139', 'P4140', 'P4141', 'P4142', 'P4143', 'P4144', 'P4145', 'P4146', 'P4147', 'P4148', 'P4149', 'P4150', 'P4151', 'P4152', 'P4153', 'P4154', 'P4155', 'P4156', 'P4157', 'P4158', 'P4159', 'P4160', 'P4161', 'P4162', 'P4163', 'P4164', 'P4165', 'P4166', 'P4167', 'P4168', 'P4169', 'P4170', 'P4171', 'P4172', 'P4173', 'P4174', 'P4175', 'P4176', 'P4177', 'P4178', 'P4179', 'P4180', 'P4181', 'P4182', 'P4183', 'P4184', 'P4185', 'P4186', 'P4187', 'P4188', 'P4189', 'P4190', 'P4191', 'P4192', 'P4193', 'P4194', 'P4195', 'P4196', 'P4197', 'P4198', 'P4199', 'P4200', 'P4201', 'P4202', 'P4203', 'P4204', 'P4205', 'P4206', 'P4207', 'P4208', 'P4209', 'P4210', 'P4211', 'P4212', 'P4213', 'P4214', 'P4215', 'P4216', 'P4217', 'P4218', 'P4219', 'P4220', 'P4221', 'P4222', 'P4223', 'P4224', 'P4225', 'P4226', 'P4227', 'P4228', 'P4229', 'P4230', 'P4231', 'P4232', 'P4233', 'P4234', 'P4235', 'P4236', 'P4237', 'P4238', 'P4239', 'P4240', 'P4241', 'P4242', 'P4243', 'P4244', 'P4245', 'P3000', 'P3001', 'P3002', 'P3003', 'P3004', 'P3005', 'P3006', 'P3007', 'P3008', 'P3009', 'P3010', 'P3011', 'P3012', 'P3013', 'P3014', 'P3015', 'P3016', 'P3017', 'P3018', 'P3019', 'P3020', 'P3021', 'P3022', 'P3023', 'P3024', 'P3025', 'P3026', 'P3027', 'P3028', 'P3029', 'P3030', 'P3031', 'P3032', 'P3033', 'P3034', 'P3035', 'P3036', 'P3037', 'P3038', 'P3039', 'P3040', 'P3041', 'P3042', 'P3043', 'P3044', 'P3045', 'P3046', 'P3047', 'P3048', 'P3049', 'P3050', 'P3051', 'P3052', 'P3053', 'P3054', 'P3055', 'P3056', 'P3057', 'P3058', 'P3059', 'P3060', 'P3061', 'P3062', 'P3063', 'P3064', 'P3065', 'P3066', 'P3067', 'P3068', 'P3069', 'P3070', 'P3071', 'P3072', 'P3073', 'P3074', 'P3075', 'P3076', 'P3077', 'P3078', 'P3079', 'P3080', 'P3081', 'P3082', 'P3083', 'P3084', 'P3085', 'P3086', 'P3087', 'P3088', 'P3089', 'P3090', 'P3091', 'P3092', 'P3093', 'P3094', 'P3095', 'P3096', 'P3097', 'P3098', 'P3099', 'P3100', 'P3101', 'P3102', 'P3103', 'P3104', 'P3105', 'P3106', 'P3107', 'P3108', 'P3109', 'P3110', 'P3111', 'P3112', 'P3113', 'P3114', 'P3115', 'P3116', 'P3117', 'P3118', 'P3119', 'P3120', 'P3121', 'P3122', 'P3123', 'P3124', 'P3125', 'P3126', 'P3127', 'P3128', 'P3129', 'P3130', 'P3131', 'P3132', 'P3133', 'P3134', 'P3135', 'P3136', 'P3137', 'P3138', 'P3139', 'P3140', 'P3141', 'P3142', 'P3143', 'P3144', 'P3145', 'P3146', 'P3147', 'P3148', 'P3149', 'P3150', 'P3151', 'P3152', 'P3153', 'P3154', 'P3155', 'P3156', 'P3157', 'P3158', 'P3159', 'P3160', 'P3161', 'P3162', 'P3163', 'P3164', 'P3165', 'P3166', 'P3167', 'P3168', 'P3169', 'P3170', 'P3171', 'P3172', 'P3173', 'P3174', 'P3175', 'P3176', 'P3177', 'P3178', 'P3179', 'P3180', 'P3181', 'P3182', 'P3183', 'P3184', 'P3185', 'P3186', 'P3187', 'P3188', 'P3189', 'P3190', 'P3191', 'P3192', 'P3193', 'P3231', 'P3232', 'P3196', 'P3197', 'P3198', 'P3199', 'P3200', 'P3201', 'P3202', 'P3203', 'P3204', 'P3205', 'P3206', 'P3207', 'P3233', 'P3208', 'P3209', 'P3210', 'P3211', 'P3212', 'P3213', 'P3214', 'P3215', 'P3216', 'P3217', 'P3218', 'P3219', 'P3220', 'P3221', 'P3222', 'P3223', 'P3224', 'P3225', 'P3226', 'P3227', 'P3228', 'P3229', 'P3230', 'P020', 'P021', 'P022', 'P024', 'P025', 'P026', 'P027', 'P028', 'P200', 'P201', 'P202', 'P203', 'P204', 'P205', 'P206', 'P207', 'P208', 'P209', 'FE_VENTA', 'FE_EMPRESA', 'tama�o', 'COD_CAT', 'categoria', 'glosa', 'region', 'inn_producto', 'inn_proceso', 'inn_mkt', 'inn_org', 'inn_tec', 'innovacion']\n",
      "shape: (4443, 950)\n"
     ]
    }
   ],
   "source": [
    "for key in df.keys():\n",
    "    print('sheet:', key)\n",
    "    print('columns:', list(df[key].columns))\n",
    "    print('shape:', df[key].shape)"
   ]
  },
  {
   "cell_type": "code",
   "execution_count": 132,
   "metadata": {},
   "outputs": [
    {
     "name": "stdout",
     "output_type": "stream",
     "text": [
      "Sheet1\n"
     ]
    },
    {
     "data": {
      "text/html": [
       "<div>\n",
       "<style scoped>\n",
       "    .dataframe tbody tr th:only-of-type {\n",
       "        vertical-align: middle;\n",
       "    }\n",
       "\n",
       "    .dataframe tbody tr th {\n",
       "        vertical-align: top;\n",
       "    }\n",
       "\n",
       "    .dataframe thead th {\n",
       "        text-align: right;\n",
       "    }\n",
       "</style>\n",
       "<table border=\"1\" class=\"dataframe\">\n",
       "  <thead>\n",
       "    <tr style=\"text-align: right;\">\n",
       "      <th></th>\n",
       "      <th>Id</th>\n",
       "      <th>P4474</th>\n",
       "      <th>P4475</th>\n",
       "      <th>P4476</th>\n",
       "      <th>P4477</th>\n",
       "      <th>P4478</th>\n",
       "      <th>P4479</th>\n",
       "      <th>P4480</th>\n",
       "      <th>P4481</th>\n",
       "      <th>P4482</th>\n",
       "      <th>...</th>\n",
       "      <th>FE_EMPRESA</th>\n",
       "      <th>tama�o</th>\n",
       "      <th>COD_CAT</th>\n",
       "      <th>region</th>\n",
       "      <th>inn_producto</th>\n",
       "      <th>inn_proceso</th>\n",
       "      <th>inn_mkt</th>\n",
       "      <th>inn_org</th>\n",
       "      <th>inn_tec</th>\n",
       "      <th>innovacion</th>\n",
       "    </tr>\n",
       "  </thead>\n",
       "  <tbody>\n",
       "    <tr>\n",
       "      <th>count</th>\n",
       "      <td>4443.000000</td>\n",
       "      <td>4443.000000</td>\n",
       "      <td>4443.000000</td>\n",
       "      <td>4443.000000</td>\n",
       "      <td>4443.000000</td>\n",
       "      <td>4443.000000</td>\n",
       "      <td>4443.000000</td>\n",
       "      <td>4443.000000</td>\n",
       "      <td>4443.000000</td>\n",
       "      <td>4443.000000</td>\n",
       "      <td>...</td>\n",
       "      <td>4443.000000</td>\n",
       "      <td>4443.000000</td>\n",
       "      <td>4443.000000</td>\n",
       "      <td>4443.000000</td>\n",
       "      <td>4443.000000</td>\n",
       "      <td>4443.000000</td>\n",
       "      <td>4443.000000</td>\n",
       "      <td>4443.000000</td>\n",
       "      <td>4443.000000</td>\n",
       "      <td>4443.000000</td>\n",
       "    </tr>\n",
       "    <tr>\n",
       "      <th>mean</th>\n",
       "      <td>12221.000000</td>\n",
       "      <td>0.011479</td>\n",
       "      <td>0.004727</td>\n",
       "      <td>0.002251</td>\n",
       "      <td>0.009003</td>\n",
       "      <td>0.003826</td>\n",
       "      <td>0.002251</td>\n",
       "      <td>0.012604</td>\n",
       "      <td>0.004727</td>\n",
       "      <td>0.002026</td>\n",
       "      <td>...</td>\n",
       "      <td>24.570335</td>\n",
       "      <td>1.736439</td>\n",
       "      <td>6.818816</td>\n",
       "      <td>10.217196</td>\n",
       "      <td>0.189287</td>\n",
       "      <td>0.177808</td>\n",
       "      <td>0.119289</td>\n",
       "      <td>0.196039</td>\n",
       "      <td>0.259509</td>\n",
       "      <td>0.307225</td>\n",
       "    </tr>\n",
       "    <tr>\n",
       "      <th>std</th>\n",
       "      <td>1282.727952</td>\n",
       "      <td>0.336980</td>\n",
       "      <td>0.143052</td>\n",
       "      <td>0.123707</td>\n",
       "      <td>0.260588</td>\n",
       "      <td>0.117123</td>\n",
       "      <td>0.123707</td>\n",
       "      <td>0.352292</td>\n",
       "      <td>0.146166</td>\n",
       "      <td>0.109213</td>\n",
       "      <td>...</td>\n",
       "      <td>91.039612</td>\n",
       "      <td>0.793713</td>\n",
       "      <td>3.168719</td>\n",
       "      <td>3.792793</td>\n",
       "      <td>0.391780</td>\n",
       "      <td>0.382394</td>\n",
       "      <td>0.324164</td>\n",
       "      <td>0.397043</td>\n",
       "      <td>0.438415</td>\n",
       "      <td>0.461395</td>\n",
       "    </tr>\n",
       "    <tr>\n",
       "      <th>min</th>\n",
       "      <td>10000.000000</td>\n",
       "      <td>0.000000</td>\n",
       "      <td>0.000000</td>\n",
       "      <td>0.000000</td>\n",
       "      <td>0.000000</td>\n",
       "      <td>0.000000</td>\n",
       "      <td>0.000000</td>\n",
       "      <td>0.000000</td>\n",
       "      <td>0.000000</td>\n",
       "      <td>0.000000</td>\n",
       "      <td>...</td>\n",
       "      <td>1.000000</td>\n",
       "      <td>1.000000</td>\n",
       "      <td>1.000000</td>\n",
       "      <td>1.000000</td>\n",
       "      <td>0.000000</td>\n",
       "      <td>0.000000</td>\n",
       "      <td>0.000000</td>\n",
       "      <td>0.000000</td>\n",
       "      <td>0.000000</td>\n",
       "      <td>0.000000</td>\n",
       "    </tr>\n",
       "    <tr>\n",
       "      <th>25%</th>\n",
       "      <td>11110.500000</td>\n",
       "      <td>0.000000</td>\n",
       "      <td>0.000000</td>\n",
       "      <td>0.000000</td>\n",
       "      <td>0.000000</td>\n",
       "      <td>0.000000</td>\n",
       "      <td>0.000000</td>\n",
       "      <td>0.000000</td>\n",
       "      <td>0.000000</td>\n",
       "      <td>0.000000</td>\n",
       "      <td>...</td>\n",
       "      <td>1.714286</td>\n",
       "      <td>1.000000</td>\n",
       "      <td>4.000000</td>\n",
       "      <td>8.000000</td>\n",
       "      <td>0.000000</td>\n",
       "      <td>0.000000</td>\n",
       "      <td>0.000000</td>\n",
       "      <td>0.000000</td>\n",
       "      <td>0.000000</td>\n",
       "      <td>0.000000</td>\n",
       "    </tr>\n",
       "    <tr>\n",
       "      <th>50%</th>\n",
       "      <td>12221.000000</td>\n",
       "      <td>0.000000</td>\n",
       "      <td>0.000000</td>\n",
       "      <td>0.000000</td>\n",
       "      <td>0.000000</td>\n",
       "      <td>0.000000</td>\n",
       "      <td>0.000000</td>\n",
       "      <td>0.000000</td>\n",
       "      <td>0.000000</td>\n",
       "      <td>0.000000</td>\n",
       "      <td>...</td>\n",
       "      <td>3.600000</td>\n",
       "      <td>2.000000</td>\n",
       "      <td>7.000000</td>\n",
       "      <td>13.000000</td>\n",
       "      <td>0.000000</td>\n",
       "      <td>0.000000</td>\n",
       "      <td>0.000000</td>\n",
       "      <td>0.000000</td>\n",
       "      <td>0.000000</td>\n",
       "      <td>0.000000</td>\n",
       "    </tr>\n",
       "    <tr>\n",
       "      <th>75%</th>\n",
       "      <td>13331.500000</td>\n",
       "      <td>0.000000</td>\n",
       "      <td>0.000000</td>\n",
       "      <td>0.000000</td>\n",
       "      <td>0.000000</td>\n",
       "      <td>0.000000</td>\n",
       "      <td>0.000000</td>\n",
       "      <td>0.000000</td>\n",
       "      <td>0.000000</td>\n",
       "      <td>0.000000</td>\n",
       "      <td>...</td>\n",
       "      <td>8.384615</td>\n",
       "      <td>2.000000</td>\n",
       "      <td>9.000000</td>\n",
       "      <td>13.000000</td>\n",
       "      <td>0.000000</td>\n",
       "      <td>0.000000</td>\n",
       "      <td>0.000000</td>\n",
       "      <td>0.000000</td>\n",
       "      <td>1.000000</td>\n",
       "      <td>1.000000</td>\n",
       "    </tr>\n",
       "    <tr>\n",
       "      <th>max</th>\n",
       "      <td>14442.000000</td>\n",
       "      <td>15.000000</td>\n",
       "      <td>6.000000</td>\n",
       "      <td>8.000000</td>\n",
       "      <td>14.000000</td>\n",
       "      <td>6.000000</td>\n",
       "      <td>8.000000</td>\n",
       "      <td>15.000000</td>\n",
       "      <td>6.000000</td>\n",
       "      <td>7.000000</td>\n",
       "      <td>...</td>\n",
       "      <td>1104.000000</td>\n",
       "      <td>3.000000</td>\n",
       "      <td>13.000000</td>\n",
       "      <td>15.000000</td>\n",
       "      <td>1.000000</td>\n",
       "      <td>1.000000</td>\n",
       "      <td>1.000000</td>\n",
       "      <td>1.000000</td>\n",
       "      <td>1.000000</td>\n",
       "      <td>1.000000</td>\n",
       "    </tr>\n",
       "  </tbody>\n",
       "</table>\n",
       "<p>8 rows × 947 columns</p>\n",
       "</div>"
      ],
      "text/plain": [
       "                 Id        P4474        P4475        P4476        P4477  \\\n",
       "count   4443.000000  4443.000000  4443.000000  4443.000000  4443.000000   \n",
       "mean   12221.000000     0.011479     0.004727     0.002251     0.009003   \n",
       "std     1282.727952     0.336980     0.143052     0.123707     0.260588   \n",
       "min    10000.000000     0.000000     0.000000     0.000000     0.000000   \n",
       "25%    11110.500000     0.000000     0.000000     0.000000     0.000000   \n",
       "50%    12221.000000     0.000000     0.000000     0.000000     0.000000   \n",
       "75%    13331.500000     0.000000     0.000000     0.000000     0.000000   \n",
       "max    14442.000000    15.000000     6.000000     8.000000    14.000000   \n",
       "\n",
       "             P4478        P4479        P4480        P4481        P4482  ...  \\\n",
       "count  4443.000000  4443.000000  4443.000000  4443.000000  4443.000000  ...   \n",
       "mean      0.003826     0.002251     0.012604     0.004727     0.002026  ...   \n",
       "std       0.117123     0.123707     0.352292     0.146166     0.109213  ...   \n",
       "min       0.000000     0.000000     0.000000     0.000000     0.000000  ...   \n",
       "25%       0.000000     0.000000     0.000000     0.000000     0.000000  ...   \n",
       "50%       0.000000     0.000000     0.000000     0.000000     0.000000  ...   \n",
       "75%       0.000000     0.000000     0.000000     0.000000     0.000000  ...   \n",
       "max       6.000000     8.000000    15.000000     6.000000     7.000000  ...   \n",
       "\n",
       "        FE_EMPRESA       tama�o      COD_CAT       region  inn_producto  \\\n",
       "count  4443.000000  4443.000000  4443.000000  4443.000000   4443.000000   \n",
       "mean     24.570335     1.736439     6.818816    10.217196      0.189287   \n",
       "std      91.039612     0.793713     3.168719     3.792793      0.391780   \n",
       "min       1.000000     1.000000     1.000000     1.000000      0.000000   \n",
       "25%       1.714286     1.000000     4.000000     8.000000      0.000000   \n",
       "50%       3.600000     2.000000     7.000000    13.000000      0.000000   \n",
       "75%       8.384615     2.000000     9.000000    13.000000      0.000000   \n",
       "max    1104.000000     3.000000    13.000000    15.000000      1.000000   \n",
       "\n",
       "       inn_proceso      inn_mkt      inn_org      inn_tec   innovacion  \n",
       "count  4443.000000  4443.000000  4443.000000  4443.000000  4443.000000  \n",
       "mean      0.177808     0.119289     0.196039     0.259509     0.307225  \n",
       "std       0.382394     0.324164     0.397043     0.438415     0.461395  \n",
       "min       0.000000     0.000000     0.000000     0.000000     0.000000  \n",
       "25%       0.000000     0.000000     0.000000     0.000000     0.000000  \n",
       "50%       0.000000     0.000000     0.000000     0.000000     0.000000  \n",
       "75%       0.000000     0.000000     0.000000     1.000000     1.000000  \n",
       "max       1.000000     1.000000     1.000000     1.000000     1.000000  \n",
       "\n",
       "[8 rows x 947 columns]"
      ]
     },
     "execution_count": 132,
     "metadata": {},
     "output_type": "execute_result"
    }
   ],
   "source": [
    "print(list(df.keys())[0])\n",
    "df[list(df.keys())[0]].describe()"
   ]
  }
 ],
 "metadata": {
  "kernelspec": {
   "display_name": "Python 3",
   "language": "python",
   "name": "python3"
  },
  "language_info": {
   "codemirror_mode": {
    "name": "ipython",
    "version": 3
   },
   "file_extension": ".py",
   "mimetype": "text/x-python",
   "name": "python",
   "nbconvert_exporter": "python",
   "pygments_lexer": "ipython3",
   "version": "3.9.5"
  }
 },
 "nbformat": 4,
 "nbformat_minor": 4
}
