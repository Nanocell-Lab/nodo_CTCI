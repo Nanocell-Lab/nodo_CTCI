{
 "cells": [
  {
   "cell_type": "code",
   "execution_count": 1,
   "metadata": {},
   "outputs": [],
   "source": [
    "import requests\n",
    "import json\n",
    "from bs4 import BeautifulSoup\n",
    "import pandas as pd\n"
   ]
  },
  {
   "cell_type": "markdown",
   "metadata": {},
   "source": [
    "Requiere : \n",
    "- beautifulsoup4\n",
    "- lxml\n",
    "- html5lib\n",
    "- requests"
   ]
  },
  {
   "cell_type": "code",
   "execution_count": 133,
   "metadata": {},
   "outputs": [],
   "source": [
    "# problemente esto requiera cambio, depeniendo del navegador y sistema operativo, no estoy seguro.\n",
    "\n",
    "raw_header = \"\"\"Accept: text/html,application/xhtml+xml,application/xml;q=0.9,image/avif,image/webp,image/apng,*/*;q=0.8,application/signed-exchange;v=b3;q=0.9\n",
    "Accept-Encoding: gzip, deflate, br\n",
    "Accept-Language: es-ES,es;q=0.9\n",
    "Cache-Control: no-cache\n",
    "Connection: keep-alive\n",
    "Content-Length: 237\n",
    "Content-Type: application/x-www-form-urlencoded\n",
    "Cookie: _ga=GA1.2.908570269.1600309982; _gid=GA1.2.52737338.1600309982; _smart_data_session=ZzM5dmI2ZnlucW1sS0EveWc3UlhOaVBoRElMdDRwdVlTWm1oamc4aFVhakJ6Z2dtL0UvMGR6VUhxcjI4VEM4RERTdmdPU3hZZXJtak11b0tCR2tkYWJQbUVwempVVUlFN2JuVWxTVXo1UGMzc2pRa1FpWUV5K0o3ZzNGeVc2K2Z5ZnJRUHVkUGlEd1NWMlpjRmVNY09BPT0tLUFyc0tiMFdWS1diWFU2Wk1pU0JhTlE9PQ%3D%3D--8c25992c1ccbdacfc3f358d64da4841dab199ad1\n",
    "Host: dataciencia.anid.cl\n",
    "Origin: https://dataciencia.anid.cl\n",
    "Pragma: no-cache\n",
    "Referer: https://dataciencia.anid.cl/panorama/report\n",
    "Sec-Fetch-Dest: document\n",
    "Sec-Fetch-Mode: navigate\n",
    "Sec-Fetch-Site: same-origin\n",
    "Sec-Fetch-User: ?1\n",
    "Upgrade-Insecure-Requests: 1\n",
    "User-Agent: Mozilla/5.0 (Windows NT 10.0; Win64; x64) AppleWebKit/537.36 (KHTML, like Gecko) Chrome/85.0.4183.102 Safari/537.36\"\"\""
   ]
  },
  {
   "cell_type": "code",
   "execution_count": 3,
   "metadata": {
    "scrolled": true
   },
   "outputs": [],
   "source": [
    "headers_raw = {}\n",
    "[headers_raw.update({header.split(\":\")[0]:header.split(\":\")[-1].strip()}) for header in raw_header.split(\"\\n\")];"
   ]
  },
  {
   "cell_type": "code",
   "execution_count": null,
   "metadata": {},
   "outputs": [],
   "source": [
    "json_headers = json.dumps(headers_raw,indent=4)\n",
    "json_headers"
   ]
  },
  {
   "cell_type": "markdown",
   "metadata": {},
   "source": [
    "## Generar POST , con data, el token y los headers\n",
    "### TODO - ver como generar tokens, posiblemente expiren,no lo se. si no funciona hay que sacar otro del navegaor con la herramienta de inspeccion.\n",
    "\n"
   ]
  },
  {
   "cell_type": "code",
   "execution_count": 47,
   "metadata": {},
   "outputs": [],
   "source": [
    "### 'BioBío', 'Ñuble', 'Maule','OHiggins', [8,9,10,16]\n",
    "\n",
    "# regions[]: 8\n",
    "# regions[]: 9\n",
    "# regions[]: 10\n",
    "# regions[]: 16\n",
    "# from-year: 2008\n",
    "# to-year: 2020\n",
    "# commit: Generar"
   ]
  },
  {
   "cell_type": "code",
   "execution_count": 77,
   "metadata": {},
   "outputs": [],
   "source": [
    "url = 'https://dataciencia.anid.cl/panorama/report'\n",
    "\n",
    "\n",
    "token = \"6cv6jfdkoKzGhXwFMIgYBso4xPkP+9DzlLpQx942EyThjNomG+vFdEMIrPPWQ5/xZh/K9iWKOCsmr3IDVK/5Ag==\"\n",
    "dict_data = {\"authenticity_token\":token,\n",
    "             \"regions[]\":[\"8\",\"9\",\"10\",\"16\"],\n",
    "             \"commit\":\"Generar\",\n",
    "             \"from-year\":\"2008\",\n",
    "             \"to-year\":\"2020\"\n",
    "            }"
   ]
  },
  {
   "cell_type": "code",
   "execution_count": 60,
   "metadata": {},
   "outputs": [
    {
     "name": "stdout",
     "output_type": "stream",
     "text": [
      "<Response [200]>\n"
     ]
    }
   ],
   "source": [
    "r = requests.post(url,headers=headers_raw,data=dict_data)\n",
    "print(r)"
   ]
  },
  {
   "cell_type": "code",
   "execution_count": 27,
   "metadata": {},
   "outputs": [
    {
     "name": "stdout",
     "output_type": "stream",
     "text": [
      "<Response [200]>\n"
     ]
    }
   ],
   "source": [
    "### Con GET se parsea todo, no disgregado por regiones\n",
    "\n",
    "# url = 'https://dataciencia.anid.cl/panorama/report'\n",
    "\n",
    "# r = requests.get(url)\n",
    "# print(r)"
   ]
  },
  {
   "cell_type": "code",
   "execution_count": 61,
   "metadata": {},
   "outputs": [],
   "source": [
    "soup = BeautifulSoup(r.text,\"html.parser\")\n",
    "\n",
    "tables = soup.find_all(\"table\",class_=\"table dataTable\")\n"
   ]
  },
  {
   "cell_type": "code",
   "execution_count": 62,
   "metadata": {},
   "outputs": [],
   "source": [
    "table_names = [\"Disciplina OECD\",\"Disciplina WoS\",\"Institución\",\"Región\"]\n",
    "datos_pd = {}\n",
    "for i,t in enumerate(tables):\n",
    "    pd_table = pd.read_html(t.prettify())[0]\n",
    "    datos_pd[table_names[i]] = pd_table"
   ]
  },
  {
   "cell_type": "markdown",
   "metadata": {},
   "source": [
    "## test iterativo"
   ]
  },
  {
   "cell_type": "code",
   "execution_count": 80,
   "metadata": {},
   "outputs": [],
   "source": [
    "import time"
   ]
  },
  {
   "cell_type": "code",
   "execution_count": null,
   "metadata": {},
   "outputs": [],
   "source": [
    "años = [str(x) for x in range(2008,2021)]\n",
    "regiones = [str(x) for x in range(1,17)]"
   ]
  },
  {
   "cell_type": "code",
   "execution_count": 86,
   "metadata": {},
   "outputs": [
    {
     "name": "stdout",
     "output_type": "stream",
     "text": [
      "request año 2008\n",
      "request completed 200\n",
      "10 sec ready\n",
      "request año 2009\n",
      "request completed 200\n",
      "10 sec ready\n",
      "request año 2010\n",
      "request completed 200\n",
      "10 sec ready\n",
      "request año 2011\n",
      "request completed 200\n",
      "10 sec ready\n",
      "request año 2012\n",
      "request completed 200\n",
      "10 sec ready\n",
      "request año 2013\n",
      "request completed 200\n",
      "10 sec ready\n",
      "request año 2014\n",
      "request completed 200\n",
      "10 sec ready\n",
      "request año 2015\n",
      "request completed 200\n",
      "10 sec ready\n",
      "request año 2016\n",
      "request completed 200\n",
      "10 sec ready\n",
      "request año 2017\n",
      "request completed 200\n",
      "10 sec ready\n",
      "request año 2018\n",
      "request completed 200\n",
      "10 sec ready\n",
      "request año 2019\n",
      "request completed 200\n",
      "10 sec ready\n",
      "request año 2020\n",
      "request completed 200\n",
      "10 sec ready\n"
     ]
    }
   ],
   "source": [
    "datos_años = {}\n",
    "for y in años:\n",
    "    print(\"request año\",y)\n",
    "    dict_data.update({\"from-year\":y,\"to-year\":y})\n",
    "\n",
    "    r = requests.post(url,headers=headers_raw,data=dict_data)\n",
    "    print(\"request completed\",r.status_code)\n",
    "    time.sleep(10)\n",
    "    print(\"10 sec ready\")\n",
    "    soup = BeautifulSoup(r.text,\"html.parser\")\n",
    "    tables = soup.find_all(\"table\",class_=\"table dataTable\")\n",
    "\n",
    "    table_names = [\"Disciplina OECD\",\"Disciplina WoS\",\"Institución\",\"Región\"]\n",
    "    datos_pd = {}\n",
    "    for i,t in enumerate(tables):\n",
    "        pd_table = pd.read_html(t.prettify())[0]\n",
    "        \n",
    "        #add tag año\n",
    "        pd_table[\"año\"] = y\n",
    "        datos_pd[table_names[i]] = pd_table\n",
    "    \n",
    "    datos_años[y] = datos_pd\n",
    "        "
   ]
  },
  {
   "cell_type": "code",
   "execution_count": 90,
   "metadata": {},
   "outputs": [],
   "source": [
    "datos_region = []\n",
    "datos_oecd = []\n",
    "datos_wos = []\n",
    "datos_inst = []\n",
    "for a,d in datos_años.items():\n",
    "    datos_region.append(d[\"Región\"])\n",
    "    datos_oecd.append(d[\"Disciplina OECD\"])\n",
    "    datos_wos.append(d[\"Disciplina WoS\"])\n",
    "    datos_inst.append(d[\"Institución\"])\n",
    "    "
   ]
  },
  {
   "cell_type": "code",
   "execution_count": 128,
   "metadata": {},
   "outputs": [],
   "source": [
    "datos_region_conc = pd.concat(datos_region)\n",
    "datos_oecd_conc = pd.concat(datos_oecd)\n",
    "datos_wos_conc = pd.concat(datos_wos)\n",
    "datos_inst_conc = pd.concat(datos_inst)"
   ]
  },
  {
   "cell_type": "code",
   "execution_count": 132,
   "metadata": {},
   "outputs": [],
   "source": [
    "datos_region_conc.to_csv(\"data/DataCiencia_reporteRegion_sur.csv\")\n",
    "datos_oecd_conc.to_csv(\"data/DataCiencia_reporteOECD_sur.csv\")\n",
    "datos_wos_conc.to_csv(\"data/DataCiencia_reporteWoS_sur.csv\")\n",
    "datos_inst_conc.to_csv(\"data/DataCiencia_reporteInst_sur.csv\")"
   ]
  }
 ],
 "metadata": {
  "kernelspec": {
   "display_name": "Python 3",
   "language": "python",
   "name": "python3"
  },
  "language_info": {
   "codemirror_mode": {
    "name": "ipython",
    "version": 3
   },
   "file_extension": ".py",
   "mimetype": "text/x-python",
   "name": "python",
   "nbconvert_exporter": "python",
   "pygments_lexer": "ipython3",
   "version": "3.8.3"
  }
 },
 "nbformat": 4,
 "nbformat_minor": 4
}
