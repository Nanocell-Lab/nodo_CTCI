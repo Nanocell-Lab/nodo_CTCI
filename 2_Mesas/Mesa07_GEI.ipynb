{
 "cells": [
  {
   "cell_type": "markdown",
   "id": "422e2d14",
   "metadata": {},
   "source": [
    "# Emisiones de Gases Efecto Invernadero\n",
    "## Datos obtenidos desde Ministerio del Medio Ambiente\n",
    "\n",
    "[Base de Datos Inventarios Regionales de GEI serie 1990-2018](https://snichile.mma.gob.cl/wp-content/uploads/2021/06/inventarios_regionales_1990-2018.zip)\n",
    "\n",
    "https://snichile.mma.gob.cl/wp-content/uploads/2021/06/Informe-Inventarios-Regionales-serie-1990-2018.pdf"
   ]
  },
  {
   "cell_type": "code",
   "execution_count": null,
   "id": "c876293e",
   "metadata": {},
   "outputs": [],
   "source": [
    "import pandas as pd\n",
    "from pathlib import Path\n",
    "import altair as alt"
   ]
  },
  {
   "cell_type": "code",
   "execution_count": null,
   "id": "25416b0b",
   "metadata": {},
   "outputs": [],
   "source": [
    "# Ruta datos GEI\n",
    "DATOS_GEI = Path(\"../data/GEI/\")"
   ]
  },
  {
   "cell_type": "code",
   "execution_count": null,
   "id": "d18ae27c",
   "metadata": {},
   "outputs": [],
   "source": [
    "# Codigo regiones macrozona asociado al archivo xlx\n",
    "zona = ['11BIO','09MAU','10NUB', '08OHI']\n",
    "\n",
    "datos_zona = list(filter(lambda f: f.name.split(\"_\")[2] in zona, DATOS_GEI.glob(\"*.xlsx\")))\n",
    "datos_zona"
   ]
  },
  {
   "cell_type": "markdown",
   "id": "ed189241",
   "metadata": {},
   "source": [
    "### Plot ejemplo con una región"
   ]
  },
  {
   "cell_type": "code",
   "execution_count": null,
   "id": "38410786",
   "metadata": {},
   "outputs": [],
   "source": [
    "# Cargar un archivo con datos\n",
    "gei_xls = pd.ExcelFile(datos_zona[0])\n",
    "gei_data = pd.read_excel(gei_xls, sheet_name=[\"GPC alcances serie CO2eq\"],\n",
    "                         index_col=[0,1],header=[0],skiprows=52,nrows=11)"
   ]
  },
  {
   "cell_type": "code",
   "execution_count": null,
   "id": "952ac7ad",
   "metadata": {},
   "outputs": [],
   "source": [
    "# Seleccionar hoja de excel `GPC alcances serie CO2eq`\n",
    "gei_data_f1 = gei_data[\"GPC alcances serie CO2eq\"].iloc[1:,:-4]\n",
    "\n",
    "# clasificaciones Gases de Efecto Invernado a Escala Comunitaria GPC\n",
    "class_gpc = [\"Energía estacionaria\",\"Transporte\",\"Residuos\",\"IPPU\",\"Agricultura\",\"UTCUTS\"] \n",
    "gei_data_f2 = gei_data_f1.loc[gei_data_f1[\"Clasificación GPC\"].isin(class_gpc)]"
   ]
  },
  {
   "cell_type": "code",
   "execution_count": null,
   "id": "1e785fb4",
   "metadata": {},
   "outputs": [],
   "source": [
    "gei_data_f2.head()"
   ]
  },
  {
   "cell_type": "code",
   "execution_count": null,
   "id": "b6bad804",
   "metadata": {},
   "outputs": [],
   "source": [
    "gei_tidy = gei_data_f2.melt(value_name=\"kt CO2 eq\",var_name=\"Año\",id_vars=[\"Clasificación GPC\"],\n",
    "        value_vars=gei_data_f2.columns[1:])\n",
    "gei_tidy.head()"
   ]
  },
  {
   "cell_type": "code",
   "execution_count": null,
   "id": "3254a9a1",
   "metadata": {},
   "outputs": [],
   "source": [
    "bars = alt.Chart(gei_tidy).mark_bar(\n",
    "    cornerRadiusTopLeft=3,\n",
    "    cornerRadiusTopRight=3\n",
    ").encode(\n",
    "    y = alt.Y('kt CO2 eq:Q',title=\"Emisiones de CO2 equivalente (kt)\"),\n",
    "    x=alt.X('Año:O',title=\"\",axis={\"labelAngle\":-90}),\n",
    "    color='Clasificación GPC:N',\n",
    "    #column='Nombre Región:N'\n",
    "\n",
    ")\n",
    "\n",
    "bars"
   ]
  },
  {
   "cell_type": "markdown",
   "id": "95ede74b",
   "metadata": {},
   "source": [
    "## Plot de todas las regiones\n",
    "\n"
   ]
  },
  {
   "cell_type": "code",
   "execution_count": null,
   "id": "b9620458",
   "metadata": {},
   "outputs": [],
   "source": [
    "# Concatenar todos los datos\n",
    "\n",
    "class_gpc = [\"Energía estacionaria\",\"Transporte\",\"Residuos\",\"IPPU\",\"Agricultura\",\"UTCUTS\",\"Procesos industriales y uso de productos\"]\n",
    "zone_map = {'11BIO':\"Biobío\",'09MAU':\"Maule\",'10NUB':\"Ñuble\", '08OHI':\"O'Higgins\"}\n",
    "\n",
    "df_regions = list()\n",
    "for fdata in datos_zona:\n",
    "    region = zone_map[fdata.name.split(\"_\")[2]]\n",
    "    gei_xls = pd.ExcelFile(fdata)\n",
    "    gei_data = pd.read_excel(gei_xls, sheet_name=[\"GPC alcances serie CO2eq\"],\n",
    "                         index_col=[0,1],header=[0],skiprows=52,nrows=11)\n",
    "    \n",
    "    gei_data_f1 = gei_data[\"GPC alcances serie CO2eq\"].iloc[1:,:-4]\n",
    "    \n",
    "    gei_data_f2 = gei_data_f1.loc[gei_data_f1[\"Clasificación GPC\"].isin(class_gpc)]\n",
    "    \n",
    "    gei_tidy = gei_data_f2.melt(value_name=\"kt CO2 eq\",var_name=\"Año\",id_vars=[\"Clasificación GPC\"],\n",
    "        value_vars=gei_data_f2.columns[1:])\n",
    "    \n",
    "    #add region\n",
    "    gei_tidy.loc[:,\"Región\"] = region\n",
    "    \n",
    "    #store DFs\n",
    "    df_regions.append(gei_tidy)\n",
    "    \n",
    "tidy_final = pd.concat(df_regions)"
   ]
  },
  {
   "cell_type": "code",
   "execution_count": null,
   "id": "7be4bde3",
   "metadata": {},
   "outputs": [],
   "source": [
    "bars = alt.Chart(tidy_final).mark_bar(\n",
    "    #cornerRadiusTopLeft=3,\n",
    "    #cornerRadiusTopRight=3\n",
    ").encode(\n",
    "    y = alt.Y('kt CO2 eq:Q',title=\"Emisiones de CO2 equivalente (kt)\"),\n",
    "    x=alt.X('Año:O',title=\"\",axis={\"labelAngle\":-90}),\n",
    "    color='Clasificación GPC:N',\n",
    "    #column='Nombre Región:N'\n",
    "\n",
    ").facet(\n",
    "    alt.Facet('Región:O',title=None),\n",
    "    columns=2, center=True\n",
    ").resolve_scale(\n",
    "    y='independent',\n",
    "    x='independent'\n",
    ").properties(\n",
    "    title=\"Emisiones y Absorciones de GEI (kt CO2 eq) de alcance 1 por sector, 1990-2018\"\n",
    ").configure_title(fontSize=16,anchor=\"middle\")\n",
    "\n",
    "#bars.save(\"emi_abs_macrozona_1990-2018.png\",scale_factor=2.0)\n",
    "bars"
   ]
  }
 ],
 "metadata": {
  "kernelspec": {
   "display_name": "Python 3",
   "language": "python",
   "name": "python3"
  },
  "language_info": {
   "codemirror_mode": {
    "name": "ipython",
    "version": 3
   },
   "file_extension": ".py",
   "mimetype": "text/x-python",
   "name": "python",
   "nbconvert_exporter": "python",
   "pygments_lexer": "ipython3",
   "version": "3.9.4"
  }
 },
 "nbformat": 4,
 "nbformat_minor": 5
}
