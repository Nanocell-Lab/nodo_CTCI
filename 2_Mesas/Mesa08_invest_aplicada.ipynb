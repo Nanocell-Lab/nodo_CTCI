{
 "cells": [
  {
   "cell_type": "code",
   "execution_count": null,
   "metadata": {
    "colab": {
     "base_uri": "https://localhost:8080/",
     "height": 267
    },
    "executionInfo": {
     "elapsed": 783,
     "status": "ok",
     "timestamp": 1636425957578,
     "user": {
      "displayName": "Franco Andrés Álvarez Alvarado",
      "photoUrl": "https://lh3.googleusercontent.com/a-/AOh14GjYRV5Bb1DybMN5Fx2C3bv01t9C3p-Fw3UGNeLM0Q=s64",
      "userId": "15818866616587697807"
     },
     "user_tz": 180
    },
    "id": "Ms43waSbav4w",
    "outputId": "c793789d-5715-4a32-8cb7-5fc65c4a2eaa"
   },
   "outputs": [],
   "source": [
    "import pandas as pd \n",
    "import altair as alt\n",
    "# Adjudicaciones de proyectos\n",
    "URL = '../data/ANID/BDH_Proyectos.csv'\n",
    "df_adjudicaciones = pd.read_csv(URL, sep=';', encoding='latin-1')\n",
    "df_programas = df_adjudicaciones.copy()\n",
    "#Filtramos por investigación aplicada\n",
    "df_adjudicaciones = df_adjudicaciones[df_adjudicaciones['SUBDIRECCION']=='INVESTIGACION APLICADA']\n",
    "#filtramos por regiones de la macrozona\n",
    "df_adjudicaciones = df_adjudicaciones[df_adjudicaciones['MACROZONA MINCIENCIA (segUn ax)']=='CENTRO SUR']\n",
    "#\n",
    "df_adjudicaciones['MONTO ADJUDICADO (MILES $)'] = df_adjudicaciones['MONTO ADJUDICADO (MILES $)'].str.replace(\",\", \".\").astype(float)\n",
    "df_adjudicaciones.head(2)"
   ]
  },
  {
   "cell_type": "code",
   "execution_count": null,
   "metadata": {
    "id": "TtDj-WXvdoK2"
   },
   "outputs": [],
   "source": [
    "df_consolidado = df_adjudicaciones.groupby(['REGION_EJECUCION','PROGRAMA_CONICYT']).\\\n",
    "                  agg({'MONTO ADJUDICADO (MILES $)':'sum'}).copy().reset_index()\n",
    "\n",
    "df_consolidado['MONTO ADJUDICADO (MILES $)'] = df_consolidado['MONTO ADJUDICADO (MILES $)']/1000000"
   ]
  },
  {
   "cell_type": "code",
   "execution_count": null,
   "metadata": {
    "colab": {
     "base_uri": "https://localhost:8080/",
     "height": 225
    },
    "executionInfo": {
     "elapsed": 318,
     "status": "ok",
     "timestamp": 1636425159822,
     "user": {
      "displayName": "Franco Andrés Álvarez Alvarado",
      "photoUrl": "https://lh3.googleusercontent.com/a-/AOh14GjYRV5Bb1DybMN5Fx2C3bv01t9C3p-Fw3UGNeLM0Q=s64",
      "userId": "15818866616587697807"
     },
     "user_tz": 180
    },
    "id": "oEd2OIfOd3go",
    "outputId": "ecc568eb-6eb8-4647-c22d-4d69fed0ce92"
   },
   "outputs": [],
   "source": [
    "base = alt.Chart(df_consolidado).encode(\n",
    "    y = alt.Y('REGION_EJECUCION:O',title=None))\n",
    "bar = base.mark_bar().encode(\n",
    "    x = alt.X('MONTO ADJUDICADO (MILES $):Q',title='Monto en miles de millones'),\n",
    "    color= alt.Color('PROGRAMA_CONICYT',title='Programa',scale=alt.Scale(scheme='set1')))\n",
    "text =  base.mark_text(dx=-20, color='white').encode(\n",
    "    x ='MONTO ADJUDICADO (MILES $):Q',\n",
    "    text=alt.Text('MONTO ADJUDICADO (MILES $)', format='.1f'))\n",
    "    \n",
    "(bar).properties(\n",
    "            title=['Montos proyectos adjudicados','en investigación aplicada','Macrozona Centro-Sur','']\n",
    "        ).configure_title(fontSize=20, font='Arial', anchor='middle', color='black').configure_legend(titleFontSize=14,labelFontSize=12)"
   ]
  },
  {
   "cell_type": "markdown",
   "metadata": {
    "id": "Z4GwqcBolyAB"
   },
   "source": [
    "#MESA 8"
   ]
  },
  {
   "cell_type": "code",
   "execution_count": null,
   "metadata": {
    "colab": {
     "base_uri": "https://localhost:8080/"
    },
    "executionInfo": {
     "elapsed": 336,
     "status": "ok",
     "timestamp": 1636426055941,
     "user": {
      "displayName": "Franco Andrés Álvarez Alvarado",
      "photoUrl": "https://lh3.googleusercontent.com/a-/AOh14GjYRV5Bb1DybMN5Fx2C3bv01t9C3p-Fw3UGNeLM0Q=s64",
      "userId": "15818866616587697807"
     },
     "user_tz": 180
    },
    "id": "zL4SVDEwlpMl",
    "outputId": "064b230c-516d-49a4-874f-7571e8fbe7cb"
   },
   "outputs": [],
   "source": [
    "#df_programas = df_programas[df_programas['PROGRAMA_CONICYT']==]\n",
    "df_programas.columns\n",
    "\n",
    "\n"
   ]
  },
  {
   "cell_type": "code",
   "execution_count": null,
   "metadata": {
    "colab": {
     "base_uri": "https://localhost:8080/"
    },
    "executionInfo": {
     "elapsed": 304,
     "status": "ok",
     "timestamp": 1636426161292,
     "user": {
      "displayName": "Franco Andrés Álvarez Alvarado",
      "photoUrl": "https://lh3.googleusercontent.com/a-/AOh14GjYRV5Bb1DybMN5Fx2C3bv01t9C3p-Fw3UGNeLM0Q=s64",
      "userId": "15818866616587697807"
     },
     "user_tz": 180
    },
    "id": "Z9z6Pe2El1Hr",
    "outputId": "6c2f2a16-3c2c-4cec-8f3d-2337027b9ba1"
   },
   "outputs": [],
   "source": [
    "df_programas['GRUPO_DE_EVALUACION'].unique()"
   ]
  }
 ],
 "metadata": {
  "colab": {
   "authorship_tag": "ABX9TyNR0csxkEMpLSKKpNKdzKcW",
   "mount_file_id": "1XLp3kdBsRxKvFLe24ZJnP0qn1f8PtTaA",
   "name": "invest_aplicada.ipynb",
   "provenance": []
  },
  "kernelspec": {
   "display_name": "Python 3",
   "language": "python",
   "name": "python3"
  },
  "language_info": {
   "codemirror_mode": {
    "name": "ipython",
    "version": 3
   },
   "file_extension": ".py",
   "mimetype": "text/x-python",
   "name": "python",
   "nbconvert_exporter": "python",
   "pygments_lexer": "ipython3",
   "version": "3.9.4"
  }
 },
 "nbformat": 4,
 "nbformat_minor": 1
}
