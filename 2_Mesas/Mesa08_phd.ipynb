{
 "cells": [
  {
   "cell_type": "code",
   "execution_count": null,
   "metadata": {
    "colab": {
     "base_uri": "https://localhost:8080/",
     "height": 207
    },
    "executionInfo": {
     "elapsed": 314,
     "status": "ok",
     "timestamp": 1636420861400,
     "user": {
      "displayName": "Franco Andrés Álvarez Alvarado",
      "photoUrl": "https://lh3.googleusercontent.com/a-/AOh14GjYRV5Bb1DybMN5Fx2C3bv01t9C3p-Fw3UGNeLM0Q=s64",
      "userId": "15818866616587697807"
     },
     "user_tz": 180
    },
    "id": "FBYbwcx2PQwL",
    "outputId": "4b2e6abc-b854-4a50-d355-550db2093b24"
   },
   "outputs": [],
   "source": [
    "import altair as alt  \n",
    "import pandas as pd\n",
    "\n",
    "df_phd = pd.read_excel('../data/Doctorados.xlsx')\n",
    "\n",
    "df_phd['total_normalizado'] = df_phd['Total']*100000/df_phd['Pob.total']\n",
    "\n",
    "df_phd.head()"
   ]
  },
  {
   "cell_type": "code",
   "execution_count": null,
   "metadata": {
    "colab": {
     "base_uri": "https://localhost:8080/",
     "height": 233
    },
    "executionInfo": {
     "elapsed": 275,
     "status": "ok",
     "timestamp": 1636421498299,
     "user": {
      "displayName": "Franco Andrés Álvarez Alvarado",
      "photoUrl": "https://lh3.googleusercontent.com/a-/AOh14GjYRV5Bb1DybMN5Fx2C3bv01t9C3p-Fw3UGNeLM0Q=s64",
      "userId": "15818866616587697807"
     },
     "user_tz": 180
    },
    "id": "_9YhyorqQTlI",
    "outputId": "3a43324b-8102-40c0-eb6b-4e612d773c6d"
   },
   "outputs": [],
   "source": [
    "base = alt.Chart(df_phd).encode(\n",
    "    y = alt.Y('Doctorados/Region:O',title=None, axis=alt.Axis(labels=False)))\n",
    "bar = base.mark_bar().encode(\n",
    "    x = alt.X('total_normalizado:Q',title='Doctorados por cada 100mil hb'),\n",
    "    color= alt.Color('Doctorados/Region',title='Región'))\n",
    "text =  base.mark_text(dx=-20, color='white').encode(\n",
    "    x ='total_normalizado:Q',\n",
    "    text=alt.Text('total_normalizado', format='.1f'))\n",
    "    \n",
    "(bar+text).properties(\n",
    "            title=['Titulados de Doctorado que residen ','por region de la macrozona ','Centro-Sur','']\n",
    "        ).configure_title(fontSize=20, font='Arial', anchor='middle', color='black').configure_legend(titleFontSize=14,labelFontSize=12)\n"
   ]
  },
  {
   "cell_type": "code",
   "execution_count": null,
   "metadata": {
    "executionInfo": {
     "elapsed": 264,
     "status": "ok",
     "timestamp": 1636421704949,
     "user": {
      "displayName": "Franco Andrés Álvarez Alvarado",
      "photoUrl": "https://lh3.googleusercontent.com/a-/AOh14GjYRV5Bb1DybMN5Fx2C3bv01t9C3p-Fw3UGNeLM0Q=s64",
      "userId": "15818866616587697807"
     },
     "user_tz": 180
    },
    "id": "LBsReD6IU1K3"
   },
   "outputs": [],
   "source": [
    "#df_phd[[\"Doctorados/Region\", \"Total\",'total_normalizado']].to_excel(\"drive/MyDrive/Nodo/output.xlsx\")  "
   ]
  }
 ],
 "metadata": {
  "colab": {
   "authorship_tag": "ABX9TyPBDqzrop28Hltx2MOIGUMP",
   "name": "phd.ipynb",
   "provenance": []
  },
  "kernelspec": {
   "display_name": "Python 3",
   "language": "python",
   "name": "python3"
  },
  "language_info": {
   "codemirror_mode": {
    "name": "ipython",
    "version": 3
   },
   "file_extension": ".py",
   "mimetype": "text/x-python",
   "name": "python",
   "nbconvert_exporter": "python",
   "pygments_lexer": "ipython3",
   "version": "3.9.4"
  }
 },
 "nbformat": 4,
 "nbformat_minor": 1
}
