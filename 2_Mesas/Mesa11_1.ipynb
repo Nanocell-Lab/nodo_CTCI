{
 "cells": [
  {
   "cell_type": "code",
   "execution_count": null,
   "id": "3bc1b978",
   "metadata": {},
   "outputs": [],
   "source": [
    "import pandas as pd\n",
    "import altair as alt\n",
    "import seaborn as sns\n",
    "import json"
   ]
  },
  {
   "cell_type": "code",
   "execution_count": null,
   "id": "a3f894ec",
   "metadata": {},
   "outputs": [],
   "source": [
    "df_pro = pd.read_csv(\"../data/ANID/BDH_Proyectos.csv\",delimiter=\";\",decimal=\",\")\n",
    "df_postu = pd.read_csv(\"../data/ANID/POSTULACIONES_2016_2020.csv\",encoding='latin-1',delimiter=\";\",decimal=\",\")"
   ]
  },
  {
   "cell_type": "code",
   "execution_count": null,
   "id": "bb1b912d",
   "metadata": {},
   "outputs": [],
   "source": [
    "df_pro.columns"
   ]
  },
  {
   "cell_type": "code",
   "execution_count": null,
   "id": "d0786f87",
   "metadata": {},
   "outputs": [],
   "source": [
    "area_filter = [\"CIENCIAS MEDICAS Y DE LA SALUD\"]\n"
   ]
  },
  {
   "cell_type": "code",
   "execution_count": null,
   "id": "0c14b41c",
   "metadata": {},
   "outputs": [],
   "source": [
    "df_pro_area_2020 = df_pro.loc[df_pro[\"AREA_OCDE\"].isin(area_filter)&(df_pro[\"AÑO_CONCURSO\"]==2020)]"
   ]
  },
  {
   "cell_type": "code",
   "execution_count": null,
   "id": "920cb51d",
   "metadata": {},
   "outputs": [],
   "source": [
    "df_pro_area_2020.head()"
   ]
  },
  {
   "cell_type": "code",
   "execution_count": null,
   "id": "9b4ecc11",
   "metadata": {},
   "outputs": [],
   "source": [
    "df_pro_area_2020_desc = df_pro_area_2020.groupby(by=[\"PROGRAMA_CONICYT\",\"INSTRUMENTO\"]).describe()\n",
    "df_pro_area_2020_desc"
   ]
  },
  {
   "cell_type": "code",
   "execution_count": null,
   "id": "b2af99ab",
   "metadata": {},
   "outputs": [],
   "source": [
    "df_pro_area_2020_f = df_pro_area_2020.loc[\n",
    "    ~(df_pro_area_2020[\"MACROZONA MINCIENCIA (segUn ax)\"].isin([\"SIN INFORMACION\",\"MULTIREGIONAL\"]))].copy()"
   ]
  },
  {
   "cell_type": "code",
   "execution_count": null,
   "id": "30bbf57f",
   "metadata": {},
   "outputs": [],
   "source": [
    "df_pro_area_2020_f.loc[:,\"MONTO ADJUDICADO (MILLONES $)\"] = (df_pro_area_2020_f[\"MONTO ADJUDICADO (MILES $)\"]/1000)"
   ]
  },
  {
   "cell_type": "code",
   "execution_count": null,
   "id": "9716a6ec",
   "metadata": {},
   "outputs": [],
   "source": [
    "df_pro_area_2020_f[\"INSTRUMENTO\"].unique()"
   ]
  },
  {
   "cell_type": "code",
   "execution_count": null,
   "id": "0be8d2a0",
   "metadata": {},
   "outputs": [],
   "source": [
    "bar_all = alt.Chart(df_pro_area_2020_f).mark_bar(\n",
    "    cornerRadiusTopLeft=3,\n",
    "    cornerRadiusTopRight=3\n",
    ").encode(\n",
    "    y = alt.Y('MONTO ADJUDICADO (MILLONES $):Q',aggregate=\"max\",title=\"MONTO (MILLONES $)\",\n",
    "              axis={\"titleFontSize\":16,\"labelFontSize\":16}),\n",
    "    x=alt.X('INSTRUMENTO:O',title=\"INSTRUMENTO\",axis={\"labelAngle\":-90, \"titleFontSize\":16,\"labelFontSize\":16}),\n",
    "    color='PROGRAMA_CONICYT:N',\n",
    "    #column='Nombre Región:N'\n",
    "    \n",
    ").properties(\n",
    "    width=720,\n",
    "    height=720,\n",
    "    title=\"Instrumentos Públicos I+D y Montos Máximos adjudicados (2020)\"\n",
    ").configure_title(\n",
    "    fontSize=16,\n",
    "    #font='Courier',\n",
    "    anchor='middle',\n",
    "    color='black'\n",
    ")\n",
    "\n",
    "#bar_all.save(\"instrumentos_montos_2020.png\",scale_factor=2.0)\n",
    "bar_all"
   ]
  },
  {
   "cell_type": "code",
   "execution_count": null,
   "id": "4556fe6f",
   "metadata": {},
   "outputs": [],
   "source": [
    "## PLOT por regiones\n",
    "bars = alt.Chart(df_pro_area_2020_f).mark_bar(\n",
    "    cornerRadiusTopLeft=3,\n",
    "    cornerRadiusTopRight=3\n",
    ").encode(\n",
    "    y = alt.Y('MONTO ADJUDICADO (MILLONES $):Q',aggregate=\"max\",title=\"MONTO (MILLONES $)\"),\n",
    "    x=alt.X('INSTRUMENTO:O',title=\"INSTRUMENTO\",axis={\"labelAngle\":-90}),\n",
    "    color='PROGRAMA_CONICYT:N',\n",
    "    #column='Nombre Región:N'\n",
    "    \n",
    ").properties(\n",
    "    width=200,\n",
    "    height=200\n",
    ").facet(\n",
    "    alt.Facet('MACROZONA MINCIENCIA (segUn ax):O',title=\"\"), columns=3, center=True\n",
    ").resolve_scale(\n",
    "  y='independent'\n",
    ")\n",
    "\n",
    "bars\n",
    "\n"
   ]
  },
  {
   "cell_type": "markdown",
   "id": "023286a3",
   "metadata": {},
   "source": [
    "### 6 . Cuáles son las empresas privadas que hacen I+D en el área de la salud"
   ]
  },
  {
   "cell_type": "code",
   "execution_count": null,
   "id": "a8ead4e4",
   "metadata": {},
   "outputs": [],
   "source": [
    "df_innova = pd.read_excel(\"data/portafolio_innova.xlsx\")\n",
    "df_innova_2020 = df_innova.loc[df_innova[\"anio_adjudicacion\"].isin([2020])].copy()\n"
   ]
  },
  {
   "cell_type": "code",
   "execution_count": null,
   "id": "408287d5",
   "metadata": {},
   "outputs": [],
   "source": [
    "macrozona_centrosur = {\"Región del Biobío\":\"CENTRO SUR\", \"Región del Libertador General Bernardo O'Higgins\":\"CENTRO SUR\",\n",
    "                       \"Región del Maule\":\"CENTRO SUR\", \"Región de Ñuble\":\"CENTRO SUR\",\n",
    "                       \"Región Metropolitana de Santiago\": \"RM\"} \n",
    "\n",
    "df_innova_2020.loc[:,\"MACROZONA\"] = df_innova_2020['regionejecucion'].map(macrozona_centrosur)"
   ]
  },
  {
   "cell_type": "code",
   "execution_count": null,
   "id": "159d04b5",
   "metadata": {},
   "outputs": [],
   "source": [
    "df_innova_2020_salud = df_innova_2020.loc[df_innova_2020[\"mercado_objetivo_final\"]==\"Salud y Farmacéutica (en humanos)\"]"
   ]
  },
  {
   "cell_type": "code",
   "execution_count": null,
   "id": "8381e4a9",
   "metadata": {},
   "outputs": [],
   "source": [
    "df_innova_2020_salud.loc[df_innova_2020_salud[\"MACROZONA\"]==\"CENTRO SUR\"][\"beneficiario\"]"
   ]
  },
  {
   "cell_type": "code",
   "execution_count": null,
   "id": "48577b08",
   "metadata": {},
   "outputs": [],
   "source": [
    "df_innova_2020_salud.iloc[:,:]"
   ]
  },
  {
   "cell_type": "code",
   "execution_count": null,
   "id": "dea91d01",
   "metadata": {},
   "outputs": [],
   "source": [
    "df_innova_2020_salud_f1 = df_innova_2020_salud.dropna(subset=[\"MACROZONA\"],axis=0)\n",
    "df_innova_2020_salud_f1.loc[:,\"aprobado_corfo\"] = (df_innova_2020_salud_f1.loc[:,\"aprobado_corfo\"]/1000000).copy()"
   ]
  },
  {
   "cell_type": "code",
   "execution_count": null,
   "id": "50bc67a8",
   "metadata": {},
   "outputs": [],
   "source": [
    "df_innova_2020_salud_f1.loc[df_innova_2020_salud_f1[\"MACROZONA\"]==\"CENTRO SUR\"].iloc[:,10:]"
   ]
  },
  {
   "cell_type": "code",
   "execution_count": null,
   "id": "56f33a61",
   "metadata": {},
   "outputs": [],
   "source": [
    "## PLOT por regiones\n",
    "bars = alt.Chart(df_innova_2020_salud_f1).mark_bar(\n",
    "    cornerRadiusTopLeft=3,\n",
    "    cornerRadiusTopRight=3\n",
    ").encode(\n",
    "    y = alt.Y('aprobado_corfo:Q',aggregate=\"max\",title=\"MONTO (MILLONES $)\"),\n",
    "    x=alt.X('beneficiario:O',title=\"Empresas\",axis={\"labelAngle\":-90}),\n",
    "    color='instrumento:N',\n",
    "    #column='Nombre Región:N'\n",
    "\n",
    ").facet(\n",
    "    alt.Facet('MACROZONA:O',title=None),\n",
    "    columns=2, center=True\n",
    ").resolve_scale(\n",
    "    y='independent',\n",
    "    x='independent'\n",
    ").properties(\n",
    "    title=\"Empresas que utilizan instrumentos I+D y Montos adjudicados (2020)\"\n",
    ").configure_title(fontSize=16,anchor=\"middle\")\n",
    "\n",
    "#bars.save(\"empresas_ID_2020.png\",scale_factor=2.0)\n",
    "bars\n"
   ]
  }
 ],
 "metadata": {
  "kernelspec": {
   "display_name": "Python 3",
   "language": "python",
   "name": "python3"
  },
  "language_info": {
   "codemirror_mode": {
    "name": "ipython",
    "version": 3
   },
   "file_extension": ".py",
   "mimetype": "text/x-python",
   "name": "python",
   "nbconvert_exporter": "python",
   "pygments_lexer": "ipython3",
   "version": "3.9.4"
  }
 },
 "nbformat": 4,
 "nbformat_minor": 5
}
