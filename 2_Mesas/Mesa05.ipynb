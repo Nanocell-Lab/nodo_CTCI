{
 "cells": [
  {
   "cell_type": "code",
   "execution_count": null,
   "metadata": {
    "colab": {
     "base_uri": "https://localhost:8080/"
    },
    "id": "_lPOScsMSegY",
    "outputId": "d19051b6-5488-4489-9b48-707d45f183d6"
   },
   "outputs": [],
   "source": [
    "'''\n",
    "1. Número de estudiantes asociados/egresados/titulados en área de la agricultura de los últimos 20 años\n",
    "2. Mapeo de agricultores, ¿Qué se está cultivando y en qué zonas?\n",
    "3. Base de datos asociadas a agricultura\n",
    "4. Montos de proyectos asociados a agricultura\n",
    "5. Catastro frutícola, ¿Cuántas hectáreas de la macrozona centro sur se han establecido con cultivos frutícolas en los últimos 20 años?\n",
    "6. Datos del último censo agrícola\n",
    "'''\n",
    "# De datos extraidos desde mineduc titulados podemos extraer información relevante al área, sin embargo los datos incluidos\n",
    "# en mineduc comprenden desde el año 2007 hasta 2019 dispnibles en:\n",
    "# https://bit.ly/2DnDKIV\n",
    "\n",
    "import pandas as pd\n",
    "import altair as alt\n",
    "\n",
    "# Para pregunta 1\n",
    "urls = ['http://datos.mineduc.cl/datasets/193402-titulados-de-educacion-superior-2019.download/',\n",
    "        'http://datos.mineduc.cl/datasets/190756-titulados-de-educacion-superior-2018.download/',\n",
    "        'http://datos.mineduc.cl/datasets/185829-titulados-de-educacion-superior-2017.download/',\n",
    "        'http://datos.mineduc.cl/datasets/179074-titulados-de-educacion-superior-2016.download/',\n",
    "        'http://datos.mineduc.cl/datasets/179073-titulados-de-educacion-superior-2015.download/',\n",
    "        'http://datos.mineduc.cl/datasets/179072-titulados-de-educacion-superior-2014.download/',\n",
    "        'http://datos.mineduc.cl/datasets/179071-titulados-de-educacion-superior-2013.download/',\n",
    "        'http://datos.mineduc.cl/datasets/179070-titulados-de-educacion-superior-2012.download/',\n",
    "        'http://datos.mineduc.cl/datasets/179069-titulados-de-educacion-superior-2011.download/',\n",
    "        'http://datos.mineduc.cl/datasets/179068-titulados-de-educacion-superior-2010.download/',\n",
    "        'http://datos.mineduc.cl/datasets/179067-titulados-de-educacion-superior-2009.download/',\n",
    "        'http://datos.mineduc.cl/datasets/179066-titulados-de-educacion-superior-2008.download/',\n",
    "        'http://datos.mineduc.cl/datasets/179065-titulados-de-educacion-superior-2007.download/']\n",
    "\n",
    "dataframes = []\n",
    "for url in urls:\n",
    "    df_aux = pd.read_csv(url, sep=';', low_memory=False)\n",
    "    #filtro macrozona\n",
    "    df_aux = df_aux[df_aux['REGION_SEDE'].isin(['BIOBÍO','ÑUBLE',\"LIB. GRAL B. O'HIGGINS\",'MAULE'])]\n",
    "    #filtro área\n",
    "    df_aux = df_aux[df_aux['OECD_AREA']=='AGRICULTURA']\n",
    "    dataframes.append(df_aux)\n",
    "\n",
    "df_titulados = pd.concat(dataframes)\n",
    "\n",
    "# Para pregunta 4\n",
    "# Adjudicaciones de proyectos con fuente de ANID\n",
    "URL = '../data/ANID/BDH_Proyectos.csv'\n",
    "df_adjudicaciones = pd.read_csv(URL, sep=';', encoding='latin-1')"
   ]
  },
  {
   "cell_type": "code",
   "execution_count": null,
   "metadata": {
    "colab": {
     "base_uri": "https://localhost:8080/"
    },
    "executionInfo": {
     "elapsed": 26,
     "status": "ok",
     "timestamp": 1631768404219,
     "user": {
      "displayName": "Franco Andrés Álvarez Alvarado",
      "photoUrl": "https://lh3.googleusercontent.com/a-/AOh14GjYRV5Bb1DybMN5Fx2C3bv01t9C3p-Fw3UGNeLM0Q=s64",
      "userId": "15818866616587697807"
     },
     "user_tz": 180
    },
    "id": "yPZhfOBQT-jf",
    "outputId": "a2f58234-33a3-4d37-f018-a4786a6832cd"
   },
   "outputs": [],
   "source": [
    "df_titulados.columns"
   ]
  },
  {
   "cell_type": "code",
   "execution_count": null,
   "metadata": {
    "colab": {
     "base_uri": "https://localhost:8080/"
    },
    "executionInfo": {
     "elapsed": 19,
     "status": "ok",
     "timestamp": 1631768404219,
     "user": {
      "displayName": "Franco Andrés Álvarez Alvarado",
      "photoUrl": "https://lh3.googleusercontent.com/a-/AOh14GjYRV5Bb1DybMN5Fx2C3bv01t9C3p-Fw3UGNeLM0Q=s64",
      "userId": "15818866616587697807"
     },
     "user_tz": 180
    },
    "id": "ZaTRCz6yUEkF",
    "outputId": "e8b4a5bb-fca5-4279-c7c3-ca77c1888c83"
   },
   "outputs": [],
   "source": [
    "df_titulados['AREA_CARRERA_GENERICA_N'].unique()"
   ]
  },
  {
   "cell_type": "code",
   "execution_count": null,
   "metadata": {
    "colab": {
     "base_uri": "https://localhost:8080/",
     "height": 394
    },
    "executionInfo": {
     "elapsed": 12,
     "status": "ok",
     "timestamp": 1631768404220,
     "user": {
      "displayName": "Franco Andrés Álvarez Alvarado",
      "photoUrl": "https://lh3.googleusercontent.com/a-/AOh14GjYRV5Bb1DybMN5Fx2C3bv01t9C3p-Fw3UGNeLM0Q=s64",
      "userId": "15818866616587697807"
     },
     "user_tz": 180
    },
    "id": "vxaG_gQ_XmyQ",
    "outputId": "a8bcf713-5552-49c7-b3ef-d25f74694213"
   },
   "outputs": [],
   "source": [
    "df_titulados.head()"
   ]
  },
  {
   "cell_type": "markdown",
   "metadata": {
    "id": "fw5WNp3cm2ZT"
   },
   "source": [
    "# Respuesta pregunta 1"
   ]
  },
  {
   "cell_type": "code",
   "execution_count": null,
   "metadata": {
    "colab": {
     "base_uri": "https://localhost:8080/",
     "height": 204
    },
    "executionInfo": {
     "elapsed": 470,
     "status": "ok",
     "timestamp": 1631768404680,
     "user": {
      "displayName": "Franco Andrés Álvarez Alvarado",
      "photoUrl": "https://lh3.googleusercontent.com/a-/AOh14GjYRV5Bb1DybMN5Fx2C3bv01t9C3p-Fw3UGNeLM0Q=s64",
      "userId": "15818866616587697807"
     },
     "user_tz": 180
    },
    "id": "UKBeRW1vYCDC",
    "outputId": "98db294e-2d1f-4147-a01e-947050ab87f5"
   },
   "outputs": [],
   "source": [
    "df_1 = df_titulados.groupby(['CAT_PERIODO']).agg({'CODIGO_UNICO': 'count'}).copy()\n",
    "df_1 = df_1.reset_index().copy()\n",
    "df_1[\"CAT_PERIODO\"] = df_1[\"CAT_PERIODO\"].astype(str).str[4:8]\n",
    "\n",
    "df_1.head()"
   ]
  },
  {
   "cell_type": "code",
   "execution_count": null,
   "metadata": {
    "colab": {
     "base_uri": "https://localhost:8080/",
     "height": 344
    },
    "executionInfo": {
     "elapsed": 929,
     "status": "ok",
     "timestamp": 1631768713399,
     "user": {
      "displayName": "Franco Andrés Álvarez Alvarado",
      "photoUrl": "https://lh3.googleusercontent.com/a-/AOh14GjYRV5Bb1DybMN5Fx2C3bv01t9C3p-Fw3UGNeLM0Q=s64",
      "userId": "15818866616587697807"
     },
     "user_tz": 180
    },
    "id": "aSlLl4BEcIwz",
    "outputId": "4ef41ef3-ed0b-4cca-b3f2-a13efb51e5fc"
   },
   "outputs": [],
   "source": [
    "#Gráfico\n",
    "chart1 =  alt.Chart(df_1).mark_bar(color='darkseagreen').encode(\n",
    "            x = alt.X('CAT_PERIODO',title=None),\n",
    "            y = alt.Y('CODIGO_UNICO',title='N° Titulados'),\n",
    "          )\n",
    "text =  chart1.mark_text(color='forestgreen', fontSize = 13,\n",
    "                         align='center', baseline='middle', dy=-10).encode(\n",
    "          text = 'CODIGO_UNICO'\n",
    "        )\n",
    "(chart1+text).properties(width=500, height=200,\n",
    "    title=['Titulados área Agricultura','Macrozona Centro-Sur','']\n",
    ").configure_legend(titleFontSize=14,labelFontSize=10).configure_title(\n",
    "    fontSize=20, font='Arial', anchor='middle',color='black'\n",
    "  ).configure_axis(labelFontSize=13, titleFontSize=13)"
   ]
  },
  {
   "cell_type": "markdown",
   "metadata": {
    "id": "Gu-JDS-6nS4N"
   },
   "source": [
    "# Respuesta pregunta 4\n"
   ]
  },
  {
   "cell_type": "code",
   "execution_count": null,
   "metadata": {
    "colab": {
     "base_uri": "https://localhost:8080/",
     "height": 315
    },
    "executionInfo": {
     "elapsed": 22,
     "status": "ok",
     "timestamp": 1631768404681,
     "user": {
      "displayName": "Franco Andrés Álvarez Alvarado",
      "photoUrl": "https://lh3.googleusercontent.com/a-/AOh14GjYRV5Bb1DybMN5Fx2C3bv01t9C3p-Fw3UGNeLM0Q=s64",
      "userId": "15818866616587697807"
     },
     "user_tz": 180
    },
    "id": "crpbOemZnZ8K",
    "outputId": "4596ce8f-6fb6-4b17-ca8c-91443ce13752"
   },
   "outputs": [],
   "source": [
    "# Para responder la pregunta tomamos como referencia los datos abiertos que provee la ANID en base a proyectos adjudicados al 2019\n",
    "# Donde además podemos ver que Ñuble no aparece con ninguna adjudicación en este ámbito (ciencias agricolas)\n",
    "\n",
    "df_4 = df_adjudicaciones[df_adjudicaciones['MACROZONA MINCIENCIA (segUn ax)'] == 'CENTRO SUR'].copy()\n",
    "df_4 = df_4[df_4['SUBDIRECCION'].\\\n",
    "            isin(['PROYECTOS DE INVESTIGACION','INVESTIGACION APLICADA'])]\n",
    "df_4 = df_4[df_4['AREA_OCDE'] == 'CIENCIAS AGRICOLAS']\n",
    "df_4['REGION_EJECUCION'] = df_4['REGION_EJECUCION'].str.replace(\"'\",\"\")\n",
    "df_4['MONTO ADJUDICADO (MILES $)'] = df_4['MONTO ADJUDICADO (MILES $)'].str.replace(',','.').astype(float)\n",
    "df_4.head(3)"
   ]
  },
  {
   "cell_type": "code",
   "execution_count": null,
   "metadata": {
    "colab": {
     "base_uri": "https://localhost:8080/",
     "height": 142
    },
    "executionInfo": {
     "elapsed": 21,
     "status": "ok",
     "timestamp": 1631768404682,
     "user": {
      "displayName": "Franco Andrés Álvarez Alvarado",
      "photoUrl": "https://lh3.googleusercontent.com/a-/AOh14GjYRV5Bb1DybMN5Fx2C3bv01t9C3p-Fw3UGNeLM0Q=s64",
      "userId": "15818866616587697807"
     },
     "user_tz": 180
    },
    "id": "zAS4th3poZEW",
    "outputId": "37c831df-260a-41d6-e71e-34454ac1c954"
   },
   "outputs": [],
   "source": [
    "# de los datos anteriores podemos obtener varias visualizaciones, una de ellas es el monto por región de la macrozona\n",
    "# De ser necesario se puede incluir una comparación con la región metropolitana\n",
    "\n",
    "df_4a = df_4.groupby(['REGION_EJECUCION']).agg({'MONTO ADJUDICADO (MILES $)': 'sum'}).copy()\n",
    "df_4a = df_4a.reset_index().copy()\n",
    "\n",
    "df_4a.head()\n"
   ]
  },
  {
   "cell_type": "code",
   "execution_count": null,
   "metadata": {
    "colab": {
     "base_uri": "https://localhost:8080/",
     "height": 111
    },
    "executionInfo": {
     "elapsed": 19,
     "status": "ok",
     "timestamp": 1631768404682,
     "user": {
      "displayName": "Franco Andrés Álvarez Alvarado",
      "photoUrl": "https://lh3.googleusercontent.com/a-/AOh14GjYRV5Bb1DybMN5Fx2C3bv01t9C3p-Fw3UGNeLM0Q=s64",
      "userId": "15818866616587697807"
     },
     "user_tz": 180
    },
    "id": "nVaowyPPyCPo",
    "outputId": "abb984af-18bf-46a8-e227-85ca2f36be07"
   },
   "outputs": [],
   "source": [
    "# Otra opción es separar por tipo programa conicyt al que pertenece\n",
    "df_4b = df_4.groupby(['PROGRAMA_CONICYT']).agg({'MONTO ADJUDICADO (MILES $)': 'sum'}).copy()\n",
    "df_4b = df_4b.reset_index().copy()\n",
    "\n",
    "df_4b.head()"
   ]
  },
  {
   "cell_type": "code",
   "execution_count": null,
   "metadata": {
    "colab": {
     "base_uri": "https://localhost:8080/",
     "height": 266
    },
    "executionInfo": {
     "elapsed": 19,
     "status": "ok",
     "timestamp": 1631768404683,
     "user": {
      "displayName": "Franco Andrés Álvarez Alvarado",
      "photoUrl": "https://lh3.googleusercontent.com/a-/AOh14GjYRV5Bb1DybMN5Fx2C3bv01t9C3p-Fw3UGNeLM0Q=s64",
      "userId": "15818866616587697807"
     },
     "user_tz": 180
    },
    "id": "fRjBtIymyVnV",
    "outputId": "854fbd28-8dc0-4321-bb68-462acb9554a9"
   },
   "outputs": [],
   "source": [
    "# Incluso se podría saber que instituciones se adjudican mayor cantidad de dinero\n",
    "df_4c = df_4.groupby(['INSTITUCION_PRINCIPAL']).agg({'MONTO ADJUDICADO (MILES $)': 'sum'}).copy()\n",
    "df_4c = df_4c.reset_index().copy()\n",
    "\n",
    "df_4c.head(7)"
   ]
  },
  {
   "cell_type": "code",
   "execution_count": null,
   "metadata": {
    "colab": {
     "base_uri": "https://localhost:8080/",
     "height": 204
    },
    "executionInfo": {
     "elapsed": 18,
     "status": "ok",
     "timestamp": 1631768404683,
     "user": {
      "displayName": "Franco Andrés Álvarez Alvarado",
      "photoUrl": "https://lh3.googleusercontent.com/a-/AOh14GjYRV5Bb1DybMN5Fx2C3bv01t9C3p-Fw3UGNeLM0Q=s64",
      "userId": "15818866616587697807"
     },
     "user_tz": 180
    },
    "id": "UgTm5sLYvzGZ",
    "outputId": "05d604c6-94c2-4bf4-b2c2-f3e97e4fe6e0"
   },
   "outputs": [],
   "source": [
    "# El gráfico que planeamos es un híbrido entre la propuesta 1 y 2 \n",
    "df_4g = df_4.groupby(['REGION_EJECUCION','PROGRAMA_CONICYT']).\\\n",
    "                      agg({'MONTO ADJUDICADO (MILES $)': 'sum'}).copy()\n",
    "\n",
    "df_4g = df_4g.reset_index().rename(columns={'PROGRAMA_CONICYT': 'Programa CONICYT'})\n",
    "\n",
    "df_4g.head()"
   ]
  },
  {
   "cell_type": "code",
   "execution_count": null,
   "metadata": {
    "colab": {
     "base_uri": "https://localhost:8080/",
     "height": 237
    },
    "executionInfo": {
     "elapsed": 1029,
     "status": "ok",
     "timestamp": 1631768654719,
     "user": {
      "displayName": "Franco Andrés Álvarez Alvarado",
      "photoUrl": "https://lh3.googleusercontent.com/a-/AOh14GjYRV5Bb1DybMN5Fx2C3bv01t9C3p-Fw3UGNeLM0Q=s64",
      "userId": "15818866616587697807"
     },
     "user_tz": 180
    },
    "id": "4wU1FD750GyV",
    "outputId": "650a6d93-a610-4891-e04c-6fe000c618dd"
   },
   "outputs": [],
   "source": [
    "chart4 = alt.Chart(df_4g).mark_bar().encode(\n",
    "          x = alt.X('MONTO ADJUDICADO (MILES $)'),\n",
    "          y = alt.Y('REGION_EJECUCION',title=None),\n",
    "          color='Programa CONICYT'\n",
    "      )\n",
    "\n",
    "text4 = alt.Chart(df_4g).mark_text(dx=42, color='black',fontSize=15).encode(\n",
    "    x = alt.X('MONTO ADJUDICADO (MILES $)',stack='zero'),\n",
    "    y = alt.Y('REGION_EJECUCION'),\n",
    "    detail='Programa CONICYT',\n",
    "    text=alt.Text('MONTO ADJUDICADO (MILES $)', format='.2f')\n",
    ")\n",
    "(chart4+text4).configure_range(\n",
    "    category={'scheme': 'set2'}\n",
    ").properties(width=450, height=100,\n",
    "      title=['Montos adjudicados proyectos del área Ciencias Agrícolas', 'Macro zona Centro-Sur',' '])\\\n",
    "      .configure_title( fontSize=20, font='Arial', anchor='middle', color='black')\\\n",
    "      .configure_legend(titleFontSize=14,labelFontSize=13,strokeColor='gray',\n",
    "                         fillColor='#EEEEEE', padding=10, cornerRadius=10)\\\n",
    "      .configure_axis(labelFontSize=13, titleFontSize=13)\n"
   ]
  },
  {
   "cell_type": "markdown",
   "metadata": {
    "id": "Mmyzw2Qn7B9D"
   },
   "source": [
    "# Respuesta Pregunta 6"
   ]
  },
  {
   "cell_type": "code",
   "execution_count": null,
   "metadata": {
    "id": "GtdgoMYy7Hhl"
   },
   "outputs": [],
   "source": [
    "#estoy buscando el archivo del censo agricola, para ver si al menos éste es público\n",
    "# El instituto nacional de estádistica ofrece datos sobre el área en particular por subsegmento/área (no sé como decirle)\n",
    "# disponible en: https://www.ine.cl/estadisticas/economia/agricultura-agroindustria-y-pesca\n",
    "# Aquí creo que es mas fácil que ellos revisen y vean cual es la información que les puede ser o solicitar BD filtrados\n",
    "# al ine mediante solicitud y obtener la data (también lo podemos hacer nosotros pero no sé, deberiamos discutirlo con Carlos)\n",
    "# \n"
   ]
  },
  {
   "cell_type": "code",
   "execution_count": null,
   "metadata": {
    "id": "S5IiTvVGHtNZ"
   },
   "outputs": [],
   "source": []
  }
 ],
 "metadata": {
  "colab": {
   "collapsed_sections": [],
   "name": "Mesa-05",
   "provenance": []
  },
  "kernelspec": {
   "display_name": "Python 3",
   "language": "python",
   "name": "python3"
  },
  "language_info": {
   "codemirror_mode": {
    "name": "ipython",
    "version": 3
   },
   "file_extension": ".py",
   "mimetype": "text/x-python",
   "name": "python",
   "nbconvert_exporter": "python",
   "pygments_lexer": "ipython3",
   "version": "3.9.4"
  }
 },
 "nbformat": 4,
 "nbformat_minor": 1
}
