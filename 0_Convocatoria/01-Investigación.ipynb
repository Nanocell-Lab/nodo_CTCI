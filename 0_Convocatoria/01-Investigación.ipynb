{
 "cells": [
  {
   "cell_type": "markdown",
   "metadata": {},
   "source": [
    "# Análisis de Investigación Macrozona Sur\n",
    "## Datos desde CNED Chile\n",
    "* Ejecutado en mi entorno conda Stats\n",
    "* Autor: Alexis Salas Burgos \n",
    "* Fecha: Septiembre 2020"
   ]
  },
  {
   "cell_type": "code",
   "execution_count": null,
   "metadata": {},
   "outputs": [],
   "source": [
    "# importando bibliotecas requerido en python\n",
    "import pandas as pd\n",
    "import altair as alt\n",
    "import seaborn as sns\n",
    "import json"
   ]
  },
  {
   "cell_type": "code",
   "execution_count": null,
   "metadata": {},
   "outputs": [],
   "source": [
    "df = pd.read_csv(\"../data/DataCiencia_disciplinas_data.csv\", sep=',', skiprows=0)\n",
    "df.rename(columns={\"CATEGORÍA\":\"Disciplina WoS\"})\n",
    "# process json-like elemnts and NaN values for each column\n",
    "for n in df.columns[1:]:\n",
    "    col_isna = df[n].isna()\n",
    "    # convert json-like string elements to json object\n",
    "    col_tojson = df.loc[-col_isna,n].str.replace(\"\\'\",\"\\\"\").apply(json.loads)\n",
    "    # extract value from json object\n",
    "    df.loc[-col_isna,n] = col_tojson.apply(lambda item: item[\"times\"])\n",
    "    # nan elements to default zero\n",
    "    df.loc[col_isna,n] = 0\n"
   ]
  },
  {
   "cell_type": "code",
   "execution_count": null,
   "metadata": {},
   "outputs": [],
   "source": [
    "pd_long = df.melt(id_vars=[\"CATEGORÍA\"],var_name=\"Disciplina OECD\",value_name=\"Cantidad\")\n",
    "pd_long"
   ]
  },
  {
   "cell_type": "code",
   "execution_count": null,
   "metadata": {},
   "outputs": [],
   "source": [
    "# import altair as alt\n",
    "# alt.data_transformers.disable_max_rows()\n",
    "\n",
    "# alt.Chart(df_log).mark_bar(\n",
    "#     cornerRadiusTopLeft=3,\n",
    "#     cornerRadiusTopRight=3\n",
    "# ).encode(\n",
    "#     y=alt.Y('sum(OECD_AREA):Q', stack=True),\n",
    "#     x='OECD_AREA:O',\n",
    "#     color='GEN_ALU:N',\n",
    "#     column='REGION_SEDE:O'\n",
    "    \n",
    "# )"
   ]
  },
  {
   "cell_type": "markdown",
   "metadata": {},
   "source": [
    "# Plots Data Reportes\n",
    "\n",
    "### Datos concatenads al scrapear individualmente por año."
   ]
  },
  {
   "cell_type": "code",
   "execution_count": null,
   "metadata": {},
   "outputs": [],
   "source": [
    "datos_region = pd.read_csv(\"../data/DataCiencia_reporteRegion_sur.v2.csv\",index_col=0)\n",
    "datos_oecd = pd.read_csv(\"../data/DataCiencia_reporteOECD_sur.v2.csv\",index_col=0)\n",
    "datos_wos = pd.read_csv(\"../data/DataCiencia_reporteWoS_sur.v2.csv\",index_col=0)\n",
    "datos_inst = pd.read_csv(\"../data/DataCiencia_reporteInst_sur.v2.csv\",index_col=0)"
   ]
  },
  {
   "cell_type": "code",
   "execution_count": null,
   "metadata": {},
   "outputs": [],
   "source": [
    "\n",
    "\n",
    "# datos_region[\"max_sexo\"] = 100\n",
    "\n",
    "# sexo1 = alt.Chart(datos_region).mark_bar(\n",
    "# ).encode(\n",
    "#     y2 = alt.Y2('max_sexo:Q',title=\"Porcentaje\"),\n",
    "#     y = alt.Y('% Mujer:Q',title=\"\"),\n",
    "#     x='año:O',\n",
    "#     color=alt.value('blue'),\n",
    "#     #column='Nombre Región:N'\n",
    "    \n",
    "# )\n",
    "\n",
    "# sexo2 = alt.Chart(datos_region).mark_bar(\n",
    "# ).encode(\n",
    "#     y = alt.Y('% Mujer:Q',title=\"\"),\n",
    "#     x='año:O',\n",
    "#     color=alt.value('red'),\n",
    "#     #column='Nombre Región:N'\n",
    "    \n",
    "# )\n",
    "# final1= (sexo1+sexo2).properties( width=200,\n",
    "#     height=200).facet(alt.Facet('region:N', title=\"Publicaciones en Regiónes por Sexo\")).resolve_scale(\n",
    "#   x='independent'\n",
    "# )\n",
    "# final1\n",
    "# final1.save(\"Pub_sexo_regiones.svg\",scale_factor=1.0)"
   ]
  },
  {
   "cell_type": "code",
   "execution_count": null,
   "metadata": {
    "scrolled": true
   },
   "outputs": [],
   "source": [
    "# produccion per capita\n",
    "datos_region.loc[datos_region['año']!=2020].groupby(['Región'])['Producción Per Cápita'].describe()"
   ]
  },
  {
   "cell_type": "code",
   "execution_count": null,
   "metadata": {},
   "outputs": [],
   "source": [
    "#alt.data_transformers.disable_max_rows()\n",
    "\n",
    "alt.Chart(datos_region.loc[datos_region['año']!=2020]).mark_bar(\n",
    "    cornerRadiusTopLeft=3,\n",
    "    cornerRadiusTopRight=3\n",
    ").encode(\n",
    "    y = alt.Y('# Publicaciones:Q'),\n",
    "    x='año:O',\n",
    "    color='region:N',\n",
    "    #column='Nombre Región:N'\n",
    "    \n",
    ").properties( width=200,\n",
    "    height=200).facet(facet='region:O', columns=2,center=True).resolve_scale(\n",
    "  x='independent'\n",
    ")"
   ]
  },
  {
   "cell_type": "code",
   "execution_count": null,
   "metadata": {},
   "outputs": [],
   "source": [
    "alt.Chart(datos_region.loc[datos_region['año']!=2020]).mark_line(\n",
    "    cornerRadiusTopLeft=3,\n",
    "    cornerRadiusTopRight=3\n",
    ").encode(\n",
    "    y = alt.Y('Producción Per Cápita:Q'),\n",
    "    x='año:O',\n",
    "    color='region:N',\n",
    "    #column='Nombre Región:N'\n",
    "    \n",
    ").properties( width=700,\n",
    "    height=300)\n"
   ]
  },
  {
   "cell_type": "markdown",
   "metadata": {},
   "source": [
    "### OECD pulicaciones"
   ]
  },
  {
   "cell_type": "code",
   "execution_count": null,
   "metadata": {
    "scrolled": true
   },
   "outputs": [],
   "source": [
    "datos_oecd[\"% Mujer\"] = datos_oecd[\"% Mujer\"].str.strip(\"%\").copy().astype(int)\n",
    "datos_oecd[\"% Hombre\"] = datos_oecd[\"% Hombre\"].str.strip(\"%\").copy().astype(int)\n",
    "\n",
    "datos_oecd[\"max_sexo\"] = 100\n"
   ]
  },
  {
   "cell_type": "code",
   "execution_count": null,
   "metadata": {},
   "outputs": [],
   "source": [
    "datos_oecd.loc[datos_oecd['año']!=2020].groupby([\"Disciplina\",\"region\",'año'])['# Publicaciones'].describe()"
   ]
  },
  {
   "cell_type": "code",
   "execution_count": null,
   "metadata": {},
   "outputs": [],
   "source": [
    "datos_oecd_aggmean = datos_oecd.loc[datos_oecd['año']!=2020].groupby([\"Disciplina\",\"region\"]).mean().reset_index()\n",
    "datos_oecd_aggmean.head()"
   ]
  },
  {
   "cell_type": "markdown",
   "metadata": {},
   "source": [
    "### Descripcion por sexo"
   ]
  },
  {
   "cell_type": "code",
   "execution_count": null,
   "metadata": {
    "scrolled": true
   },
   "outputs": [],
   "source": [
    "datos_oecd_aggmean[\"Pub. Mujer\"] = round(((datos_oecd_aggmean[\"% Mujer\"]/100)*datos_oecd_aggmean[\"# Publicaciones\"]))\n",
    "datos_oecd_aggmean[\"Pub. Hombre\"] = round(((datos_oecd_aggmean[\"% Hombre\"]/100)*datos_oecd_aggmean[\"# Publicaciones\"]))"
   ]
  },
  {
   "cell_type": "code",
   "execution_count": null,
   "metadata": {},
   "outputs": [],
   "source": [
    "datos_oecd_aggmean.head()"
   ]
  },
  {
   "cell_type": "code",
   "execution_count": null,
   "metadata": {},
   "outputs": [],
   "source": [
    "datos_oecd_pubsexo = pd.melt(datos_oecd_aggmean,id_vars=['Disciplina','region'], value_vars = ['Pub. Mujer','Pub. Hombre'],\n",
    "                             value_name=\"Publicaciones\",var_name=\"Sexo\")\n",
    "datos_oecd_pubsexo.head()"
   ]
  },
  {
   "cell_type": "code",
   "execution_count": null,
   "metadata": {
    "scrolled": true
   },
   "outputs": [],
   "source": [
    "\n",
    "pubsexo = alt.Chart(datos_oecd_pubsexo).mark_bar(\n",
    ").encode(\n",
    "    y = alt.Y('Publicaciones:Q',title=\"Publicaciones\"),\n",
    "    x=alt.X('region:O',title=\"Región\"),\n",
    "    color=alt.Color('Sexo',title=\"\"),\n",
    "    #column=alt.Column('Disciplina:O'),\n",
    "    ).properties( width=150,\n",
    "    height=150).facet(alt.Facet('Disciplina:O',title=\"\"), columns=3,center=True).resolve_scale(\n",
    "  y='independent'\n",
    ")\n",
    "pubsexo\n",
    "#pubsexo.save(\"pubsexo_oecd.png\",scale_factor=2.0)"
   ]
  },
  {
   "cell_type": "markdown",
   "metadata": {},
   "source": [
    "### produccion per capita"
   ]
  },
  {
   "cell_type": "code",
   "execution_count": null,
   "metadata": {},
   "outputs": [],
   "source": [
    "alt.Chart(datos_oecd_aggmean).mark_bar(\n",
    "    cornerRadiusTopLeft=3,\n",
    "    cornerRadiusTopRight=3\n",
    ").encode(\n",
    "    y = alt.Y('Producción Per Cápita:Q'),\n",
    "    x=alt.X('region:O',title=\"Región\",),\n",
    "    color='Disciplina:N',\n",
    "    #column='Disciplina:N'\n",
    "    \n",
    ").properties( width=100,\n",
    "    height=200).facet(alt.Facet('Disciplina:O',title=\"\"), columns=3,center=True)"
   ]
  },
  {
   "cell_type": "code",
   "execution_count": null,
   "metadata": {},
   "outputs": [],
   "source": [
    "\n",
    "\n",
    "# sexo1 = alt.Chart(datos_oecd).mark_bar(\n",
    "# ).encode(\n",
    "#     y2 = alt.Y2('max_sexo:Q',title=\"Porcentaje\"),\n",
    "#     y = alt.Y('% Mujer:Q',title=\"\"),\n",
    "#     x='año:O',\n",
    "#     color=alt.value('blue'),\n",
    "#     #column='Nombre Región:N'\n",
    "    \n",
    "# )\n",
    "\n",
    "# sexo2 = alt.Chart(datos_oecd).mark_bar(\n",
    "# ).encode(\n",
    "#     y = alt.Y('% Mujer:Q',title=\"\"),\n",
    "#     x='año:O',\n",
    "#     color=alt.value('red'),\n",
    "#     #column='Nombre Región:N'\n",
    "    \n",
    "# )\n",
    "# final1= (sexo1+sexo2).properties( width=200,\n",
    "#     height=200).facet(alt.Facet('Disciplina:N', title=\"Publicaciones Disciplinas OECD por Sexo\"),columns=3).resolve_scale(\n",
    "#   x='independent'\n",
    "# )\n",
    "# final1"
   ]
  },
  {
   "cell_type": "code",
   "execution_count": null,
   "metadata": {},
   "outputs": [],
   "source": [
    "alt.Chart(datos_oecd).mark_line(\n",
    "    cornerRadiusTopLeft=3,\n",
    "    cornerRadiusTopRight=3\n",
    ").encode(\n",
    "    y = alt.Y('# Publicaciones:Q'),\n",
    "    x='año:O',\n",
    "    color='Disciplina:N',\n",
    "    #column='Nombre Región:N'\n",
    "    \n",
    ").properties( width=700,\n",
    "    height=300)"
   ]
  },
  {
   "cell_type": "markdown",
   "metadata": {},
   "source": [
    "## Publicaciones WoS"
   ]
  },
  {
   "cell_type": "code",
   "execution_count": null,
   "metadata": {},
   "outputs": [],
   "source": [
    "# mapping OECD WoS\n",
    "oecd_wos_mapping = pd.read_table(\"../data/oecd_wos_mapping.txt\",names=[\"OECD\",\"CODE\",\"WoS\"])\n",
    "oecd_wos_mapping = oecd_wos_mapping[[\"OECD\",\"WoS\"]]\n",
    "\n",
    "oecd_wos_dict = {n:g[\"OECD\"].tolist()[0] for n,g in oecd_wos_mapping.groupby(\"WoS\")}\n",
    "datos_wos[\"OECD\"] = datos_wos[\"Disciplina\"].map(oecd_wos_dict)"
   ]
  },
  {
   "cell_type": "code",
   "execution_count": null,
   "metadata": {},
   "outputs": [],
   "source": [
    "habitantes = {\"Biobío\":1556805,\"Ñuble\":480609,\"Maule\":1044950,\"O'Higgins\":914555}"
   ]
  },
  {
   "cell_type": "code",
   "execution_count": null,
   "metadata": {
    "scrolled": true
   },
   "outputs": [],
   "source": [
    "datos_wos_aggmean = datos_wos.loc[datos_wos['año']!=2020].groupby([\"Disciplina\",\"region\",\"OECD\"]).mean().reset_index()\n"
   ]
  },
  {
   "cell_type": "code",
   "execution_count": null,
   "metadata": {},
   "outputs": [],
   "source": [
    "datos_wos_aggmean[\"Pub/100mil\"] = datos_wos_aggmean[\"# Publicaciones\"]/datos_wos_aggmean[\"region\"].map(habitantes)*100000"
   ]
  },
  {
   "cell_type": "markdown",
   "metadata": {},
   "source": [
    "### Descripcion por region"
   ]
  },
  {
   "cell_type": "code",
   "execution_count": null,
   "metadata": {},
   "outputs": [],
   "source": [
    "biobio_disc = set(datos_wos_aggmean.loc[datos_wos_aggmean['region']=='Biobío']['Disciplina'])\n",
    "wos_disc = set(oecd_wos_mapping[\"WoS\"].tolist())\n",
    "len(wos_disc)"
   ]
  },
  {
   "cell_type": "code",
   "execution_count": null,
   "metadata": {},
   "outputs": [],
   "source": [
    "# Bio Bio\n",
    "datos_wos_aggmean.loc[datos_wos_aggmean['region']=='Biobío'].groupby(['Disciplina','region','OECD'])['Pub/100mil'].describe().sort_values(by='mean',ascending=False)"
   ]
  },
  {
   "cell_type": "code",
   "execution_count": null,
   "metadata": {},
   "outputs": [],
   "source": [
    "# maule\n",
    "datos_wos_aggmean.loc[datos_wos_aggmean['region']=='Maule'].groupby(['Disciplina','region','OECD'])['Pub/100mil'].describe().sort_values(by='mean',ascending=False)"
   ]
  },
  {
   "cell_type": "code",
   "execution_count": null,
   "metadata": {},
   "outputs": [],
   "source": [
    "# ohiggins\n",
    "datos_wos_aggmean.loc[datos_wos_aggmean['region']==\"O'Higgins\"].groupby(['Disciplina','region','OECD'])['Pub/100mil'].describe().sort_values(by='mean',ascending=False)"
   ]
  },
  {
   "cell_type": "code",
   "execution_count": null,
   "metadata": {},
   "outputs": [],
   "source": [
    "# ñuble\n",
    "datos_wos_aggmean.loc[datos_wos_aggmean['region']==\"Ñuble\"].groupby(['Disciplina','region','OECD'])['Pub/100mil'].describe().sort_values(by='mean',ascending=False).head(10)"
   ]
  },
  {
   "cell_type": "code",
   "execution_count": null,
   "metadata": {
    "scrolled": true
   },
   "outputs": [],
   "source": [
    "sort_list = oecd_wos_mapping[\"WoS\"].tolist()\n",
    "\n",
    "#alt.data_transformers.disable_max_rows()\n",
    "\n",
    "wos_oecd_pub100 = alt.Chart(datos_wos_aggmean).mark_bar(\n",
    ").encode(\n",
    "    y=alt.Y('Pub/100mil:Q',title=\"Pub/100mil\"),\n",
    "    x=alt.X('Disciplina:O',title=\"Disciplina\",sort=sort_list),\n",
    "    color=alt.Color('OECD',title=\"\"),\n",
    "    #column=alt.Column('region:O'),\n",
    "    ).properties( width=2000,\n",
    "    height=300).facet(alt.Facet('region:O',title=\"\"), columns=1,center=True).interactive()\n",
    "\n",
    "#wos_oecd_pub100.save(\"wos_oecd_pub100.png\",scale_factor=2.0)\n",
    "wos_oecd_pub100"
   ]
  },
  {
   "cell_type": "markdown",
   "metadata": {},
   "source": [
    "### instituciones"
   ]
  },
  {
   "cell_type": "code",
   "execution_count": null,
   "metadata": {},
   "outputs": [],
   "source": [
    "datos_inst_2008_ = datos_inst.loc[datos_inst[\"año\"]==2020]"
   ]
  },
  {
   "cell_type": "code",
   "execution_count": null,
   "metadata": {},
   "outputs": [],
   "source": []
  },
  {
   "cell_type": "code",
   "execution_count": null,
   "metadata": {},
   "outputs": [],
   "source": [
    "order_inst = datos_inst_2008_[\"Institución\"].sort_values().unique()"
   ]
  },
  {
   "cell_type": "code",
   "execution_count": null,
   "metadata": {},
   "outputs": [],
   "source": [
    "tupl_inst = list()\n",
    "for i,ins in enumerate(order_inst):\n",
    "    if i <= len(order_inst)/2:\n",
    "        tupl_inst.append((ins,1))\n",
    "    else:\n",
    "        tupl_inst.append((ins,2))"
   ]
  },
  {
   "cell_type": "code",
   "execution_count": null,
   "metadata": {},
   "outputs": [],
   "source": [
    "map_split_inst = dict(tupl_inst)"
   ]
  },
  {
   "cell_type": "code",
   "execution_count": null,
   "metadata": {},
   "outputs": [],
   "source": [
    "datos_inst_2008_.loc[:,\"group\"] = datos_inst_2008_[\"Institución\"].map(map_split_inst)"
   ]
  },
  {
   "cell_type": "code",
   "execution_count": null,
   "metadata": {
    "scrolled": true
   },
   "outputs": [],
   "source": [
    "datos_inst_2008_.columns"
   ]
  },
  {
   "cell_type": "code",
   "execution_count": null,
   "metadata": {},
   "outputs": [],
   "source": [
    "bar1 = alt.Chart(datos_inst_2008_).mark_bar(\n",
    "        #cornerRadiusTopLeft=3,\n",
    "        #cornerRadiusTopRight=3\n",
    ").encode(\n",
    "    y = alt.Y('Producción Per Cápita:Q',title=\"Producción per cápita\",\n",
    "              axis={\"titleFontSize\":16,\"labelFontSize\":16}),\n",
    "    x=alt.X('Institución:O',title=\"Instituciones\",axis={\"labelAngle\":-90, \"titleFontSize\":16,\"labelFontSize\":16}),\n",
    "    color='region:N',\n",
    "    row=alt.Row('group:N',title=None,header=alt.Header(labels=False))\n",
    "    \n",
    ").properties(\n",
    "    title=\"Producción per cápita de Instituciones Chilenas Macrozona Centro-Sur desde 2008\"\n",
    "    #width=200,\n",
    "    #height=200\n",
    ").resolve_scale(\n",
    "    x='independent',\n",
    "    #y='independent'\n",
    ").configure_title(\n",
    "    fontSize=16,\n",
    "    #font='Courier',\n",
    "    anchor='middle',\n",
    "    color='black'\n",
    ")\n",
    "bar1"
   ]
  },
  {
   "cell_type": "markdown",
   "metadata": {},
   "source": [
    "## Proyectos, universidades"
   ]
  },
  {
   "cell_type": "code",
   "execution_count": null,
   "metadata": {},
   "outputs": [],
   "source": [
    "hojas = [\"F. REGULAR\", \"F. Iniciación\",\"F.Postdoctorado\",\"FONDAP\",\"FONDEF\",\"FONDEQUIP\",\"FONIS\",\"PIA\"]"
   ]
  },
  {
   "cell_type": "code",
   "execution_count": null,
   "metadata": {},
   "outputs": [],
   "source": [
    "# 2014-2019\n",
    "fregular = pd.read_excel(\"../data/Estudio universidades 2014-2019.xlsx\",sheet_name=hojas[0],skiprows=3,skipfooter=2).dropna(axis=1)\n",
    "fregular.head()"
   ]
  },
  {
   "cell_type": "code",
   "execution_count": null,
   "metadata": {},
   "outputs": [],
   "source": [
    "fregularm = pd.melt(fregular,id_vars=['Institución'], value_vars = ['Postulados','Adjudicados'])\n",
    "\n",
    "\n",
    "bar1 = alt.Chart(fregularm).mark_bar(\n",
    ").encode(\n",
    "    y = alt.Y('value:Q',title=\"\"),\n",
    "    x='Institución:O',\n",
    "    color=alt.Color('variable',title=\"\"),\n",
    "    #column=alt.Column('variable'),\n",
    "    order=alt.Order(\n",
    "      # Sort the segments of the bars by this field\n",
    "      'variable',\n",
    "      sort='ascending'\n",
    "    )\n",
    ")\n",
    "\n",
    "\n",
    "line = alt.Chart(fregular).mark_line(stroke=\"red\"\n",
    ").encode(\n",
    "    y = alt.Y('Tasa de Aprobación:Q',axis=alt.Axis(title='Tasa de Aprobación', titleColor='red',grid=True)),\n",
    "    x='Institución:O',    \n",
    ")\n",
    "final = alt.layer(bar1, line).resolve_scale(\n",
    "    y = 'independent',\n",
    "    #color=\"independent\"\n",
    ")\n",
    "final\n",
    "#final.save(\"fregular.svg\",scale_factor=1.0)\n",
    "\n"
   ]
  },
  {
   "cell_type": "code",
   "execution_count": null,
   "metadata": {
    "scrolled": true
   },
   "outputs": [],
   "source": [
    "finiciacion = pd.read_excel(\"../../data/Estudio universidades 2014-2019.xlsx\",sheet_name=hojas[1],skiprows=4,skipfooter=2).dropna(axis=1)\n",
    "finiciacion.head()"
   ]
  },
  {
   "cell_type": "code",
   "execution_count": null,
   "metadata": {},
   "outputs": [],
   "source": [
    "finiciacionm = pd.melt(finiciacion,id_vars=['Institución'], value_vars = ['Postulados','Adjudicados'])\n",
    "\n",
    "\n",
    "bar1 = alt.Chart(finiciacionm).mark_bar(\n",
    ").encode(\n",
    "    y = alt.Y('value:Q',title=\"\"),\n",
    "    x='Institución:O',\n",
    "    color=alt.Color('variable',title=\"\"),\n",
    "    #column=alt.Column('variable'),\n",
    "    order=alt.Order(\n",
    "      # Sort the segments of the bars by this field\n",
    "      'variable',\n",
    "      sort='ascending'\n",
    "    )\n",
    ")\n",
    "\n",
    "\n",
    "line = alt.Chart(finiciacion).mark_line(stroke=\"red\"\n",
    ").encode(\n",
    "    y = alt.Y('Tasa de Aprobación:Q',axis=alt.Axis(title='Tasa de Aprobación', titleColor='red',grid=True)),\n",
    "    x='Institución:O',    \n",
    ")\n",
    "final = alt.layer(bar1, line).resolve_scale(\n",
    "    y = 'independent',\n",
    "    #color=\"independent\"\n",
    ")\n",
    "final"
   ]
  },
  {
   "cell_type": "code",
   "execution_count": null,
   "metadata": {},
   "outputs": [],
   "source": []
  }
 ],
 "metadata": {
  "kernelspec": {
   "display_name": "Python 3",
   "language": "python",
   "name": "python3"
  },
  "language_info": {
   "codemirror_mode": {
    "name": "ipython",
    "version": 3
   },
   "file_extension": ".py",
   "mimetype": "text/x-python",
   "name": "python",
   "nbconvert_exporter": "python",
   "pygments_lexer": "ipython3",
   "version": "3.9.4"
  }
 },
 "nbformat": 4,
 "nbformat_minor": 4
}
