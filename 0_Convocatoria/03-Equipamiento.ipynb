{
 "cells": [
  {
   "cell_type": "markdown",
   "metadata": {},
   "source": [
    "# Análisis de Equipamiento desde Fondequip\n",
    "## Datos entregados por el Mineduc en Chile\n",
    "* Ejecutado en mi entorno conda Stats\n",
    "* Autor: Alexis Salas Burgos \n",
    "* Fecha: Septiembre 2020"
   ]
  },
  {
   "cell_type": "code",
   "execution_count": null,
   "metadata": {},
   "outputs": [],
   "source": [
    "# importando bibliotecas requerido en python\n",
    "import pandas as pd\n",
    "import altair as alt\n",
    "import seaborn as sns"
   ]
  },
  {
   "cell_type": "code",
   "execution_count": null,
   "metadata": {
    "scrolled": true
   },
   "outputs": [],
   "source": [
    "df = pd.read_excel(\"../data/Fondequip_equipos.xlsx\", skiprows=5)\n",
    "df"
   ]
  },
  {
   "cell_type": "code",
   "execution_count": null,
   "metadata": {},
   "outputs": [],
   "source": [
    "df[\"Tipo de Equipamiento\"].unique()"
   ]
  },
  {
   "cell_type": "code",
   "execution_count": null,
   "metadata": {},
   "outputs": [],
   "source": [
    "df.columns"
   ]
  },
  {
   "cell_type": "code",
   "execution_count": null,
   "metadata": {},
   "outputs": [],
   "source": [
    "df['Región Instalación del Equipo'].unique()"
   ]
  },
  {
   "cell_type": "code",
   "execution_count": null,
   "metadata": {},
   "outputs": [],
   "source": [
    "import altair as alt\n",
    "alt.data_transformers.disable_max_rows()\n",
    "\n",
    "alt.Chart(df).mark_bar(\n",
    "    cornerRadiusTopLeft=3,\n",
    "    cornerRadiusTopRight=3\n",
    ").encode(\n",
    "    y=alt.Y('count(Región Instalación del Equipo):Q', stack=True),\n",
    "    x='Región Instalación del Equipo:O',\n",
    "    #color='GEN_ALU:N',\n",
    "    #column='REGION_SEDE:O'\n",
    "    \n",
    ")"
   ]
  },
  {
   "cell_type": "code",
   "execution_count": null,
   "metadata": {},
   "outputs": [],
   "source": [
    "import altair as alt\n",
    "alt.data_transformers.disable_max_rows()\n",
    "\n",
    "alt.Chart(df).mark_bar(\n",
    "    cornerRadiusTopLeft=3,\n",
    "    cornerRadiusTopRight=3\n",
    ").encode(\n",
    "    y=alt.Y('count(Institución):Q', stack=True),\n",
    "    x='Institución:O',\n",
    "    #color='GEN_ALU:N',\n",
    "    #column='REGION_SEDE:O'\n",
    "    \n",
    ")"
   ]
  },
  {
   "cell_type": "code",
   "execution_count": null,
   "metadata": {},
   "outputs": [],
   "source": [
    "# Macrozona\n",
    "df[\"Región\"] = df['Región Instalación del Equipo']\n",
    "data = df.query(\"Región in ['Región del Bío-Bío','Región Ñuble','Región del Maule']\")\n",
    "print(data.shape)\n",
    "data.head(3)"
   ]
  },
  {
   "cell_type": "code",
   "execution_count": null,
   "metadata": {},
   "outputs": [],
   "source": [
    "import altair as alt\n",
    "alt.data_transformers.disable_max_rows()\n",
    "\n",
    "chart = alt.Chart(data).mark_bar(\n",
    "    cornerRadiusTopLeft=3,\n",
    "    cornerRadiusTopRight=3\n",
    ").encode(\n",
    "    y=alt.Y('count(Tipo de Equipamiento):Q', stack=True),\n",
    "    x='Tipo de Equipamiento:O',\n",
    "    color=alt.Color('Institución:N', scale=alt.Scale(scheme='set1')),\n",
    "    column='Región:O'\n",
    "    \n",
    ").properties(\n",
    "    title='Tipo de Instrumento en la Macrozona Centro Sur (Fondequip 2012-2019)',\n",
    "    \n",
    "    width=250\n",
    ")\n",
    "\n",
    "chart.configure_title(\n",
    "    fontSize=24,\n",
    "    font='Courier',\n",
    "    anchor='middle',\n",
    "    color='black'\n",
    ")"
   ]
  },
  {
   "cell_type": "code",
   "execution_count": null,
   "metadata": {},
   "outputs": [],
   "source": [
    "import altair as alt\n",
    "alt.data_transformers.disable_max_rows()\n",
    "\n",
    "chart = alt.Chart(data).mark_bar(\n",
    "    cornerRadiusTopLeft=3,\n",
    "    cornerRadiusTopRight=3\n",
    ").encode(\n",
    "    y=alt.Y('count(Tipo de Equipamiento 2):Q', stack=True),\n",
    "    x='Tipo de Equipamiento 2:O',\n",
    "    color=alt.Color('Institución:N', scale=alt.Scale(scheme='set1')),\n",
    "    column='Región:O'\n",
    "    \n",
    ").properties(\n",
    "    title='Tipo de Instrumento en la Macrozona Centro Sur (Fondequip 2012-2019)',\n",
    "     \n",
    "    width=250\n",
    ")\n",
    "\n",
    "chart.configure_title(\n",
    "    fontSize=24,\n",
    "    font='Courier',\n",
    "    anchor='middle',\n",
    "    color='black'\n",
    ")"
   ]
  },
  {
   "cell_type": "code",
   "execution_count": null,
   "metadata": {},
   "outputs": [],
   "source": []
  }
 ],
 "metadata": {
  "kernelspec": {
   "display_name": "Python 3",
   "language": "python",
   "name": "python3"
  },
  "language_info": {
   "codemirror_mode": {
    "name": "ipython",
    "version": 3
   },
   "file_extension": ".py",
   "mimetype": "text/x-python",
   "name": "python",
   "nbconvert_exporter": "python",
   "pygments_lexer": "ipython3",
   "version": "3.9.4"
  }
 },
 "nbformat": 4,
 "nbformat_minor": 4
}
