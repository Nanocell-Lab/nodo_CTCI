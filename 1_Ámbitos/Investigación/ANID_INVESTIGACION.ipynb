{
 "cells": [
  {
   "cell_type": "code",
   "execution_count": null,
   "metadata": {
    "executionInfo": {
     "elapsed": 851,
     "status": "ok",
     "timestamp": 1634306839658,
     "user": {
      "displayName": "Luis Ignacio Benítez Andrade",
      "photoUrl": "https://lh3.googleusercontent.com/a-/AOh14GiZpawAS2GxcRN-sBLDygsGmkuy1nuDmD343BUNaA=s64",
      "userId": "06148458870779396768"
     },
     "user_tz": 180
    },
    "id": "sGn9Vt2YKDqY"
   },
   "outputs": [],
   "source": [
    "import altair as alt\n",
    "import pandas as pd\n",
    "# from fuzzywuzzy import fuzz\n",
    "# from fuzzywuzzy import process\n",
    "import matplotlib\n",
    "import matplotlib.pyplot as plt\n",
    "import seaborn as sns\n",
    "\n",
    "# Adjudicaciones de proyectos\n",
    "URL = 'https://raw.githubusercontent.com/ANID-GITHUB/Historico-de-Proyectos-Adjudicados/master/BDH_Proyectos.csv'\n",
    "df_adjudicaciones = pd.read_csv(URL, sep=';',decimal=\",\")"
   ]
  },
  {
   "cell_type": "code",
   "execution_count": null,
   "metadata": {
    "colab": {
     "base_uri": "https://localhost:8080/",
     "height": 966
    },
    "executionInfo": {
     "elapsed": 10,
     "status": "ok",
     "timestamp": 1634306839658,
     "user": {
      "displayName": "Luis Ignacio Benítez Andrade",
      "photoUrl": "https://lh3.googleusercontent.com/a-/AOh14GiZpawAS2GxcRN-sBLDygsGmkuy1nuDmD343BUNaA=s64",
      "userId": "06148458870779396768"
     },
     "user_tz": 180
    },
    "id": "Kjw0JgZpk9JL",
    "outputId": "bde4f825-037d-4aab-dd6d-9f4da926079f",
    "scrolled": true
   },
   "outputs": [],
   "source": [
    "filtered_df = df_adjudicaciones[df_adjudicaciones[\"AÑO_CONCURSO\"].isin([2020,2019,2018,\n",
    "              2017,2016,2015,2014,2013,2012,2011,2010,2009,2008])]\n",
    "\n",
    "filtered_df2 = filtered_df[filtered_df[\"MACROZONA MINCIENCIA (segUn ax)\"].isin([\"CENTRO SUR\"])]\n",
    "\n",
    "filtered_df2"
   ]
  },
  {
   "cell_type": "code",
   "execution_count": null,
   "metadata": {
    "colab": {
     "base_uri": "https://localhost:8080/"
    },
    "executionInfo": {
     "elapsed": 7,
     "status": "ok",
     "timestamp": 1634306839659,
     "user": {
      "displayName": "Luis Ignacio Benítez Andrade",
      "photoUrl": "https://lh3.googleusercontent.com/a-/AOh14GiZpawAS2GxcRN-sBLDygsGmkuy1nuDmD343BUNaA=s64",
      "userId": "06148458870779396768"
     },
     "user_tz": 180
    },
    "id": "23024qKhf3XK",
    "outputId": "bc4d90b2-9c5a-43cf-edcd-a574b9a325ed"
   },
   "outputs": [],
   "source": [
    "df_filtered2 = filtered_df2\n",
    "\n",
    "filtered_df2.columns\n",
    "\n",
    "def cambiar_nombre(nomb):\n",
    "    if nomb == \"06. OHIGGINS\":\n",
    "        nomb = \"O'HIGGINS\"\n",
    "    if nomb == \"06. O'HIGGINS\":\n",
    "        nomb = \"O'HIGGINS\"\n",
    "    if nomb == \"16. 'Ã‘UBLE'\":\n",
    "        nomb = \"ÑUBLE\"\n",
    "    if nomb == \"08. BIOBIO\":\n",
    "        nomb = \"BIO-BIO\"\n",
    "    if nomb == \"07. MAULE\":\n",
    "        nomb = \"MAULE\"\n",
    "\n",
    "    return nomb\n",
    "\n",
    "def cambiar_nombre_u(nomb):\n",
    "    if nomb == \"UNIVERSIDAD DEL BIO BIO\":\n",
    "        nomb = \"UNIVERSIDAD DEL BIO-BIO\"\n",
    "    else:\n",
    "        nomb = nomb\n",
    "\n",
    "    return nomb\n",
    "\n",
    "\n",
    "filtered_df2[\"REGION_EJECUCION\"] = filtered_df2[\"REGION_EJECUCION\"].apply(cambiar_nombre)\n",
    "\n",
    "#filtered_df2[\"INSTITUCION_PRINCIPAL\"] = filtered_df2[\"INSTITUCION_PRINCIPAL\"].apply(cambiar_nombre_u)\n",
    "\n",
    "filtered_df2[\"REGION_EJECUCION\"].unique()"
   ]
  },
  {
   "cell_type": "code",
   "execution_count": null,
   "metadata": {
    "colab": {
     "base_uri": "https://localhost:8080/"
    },
    "executionInfo": {
     "elapsed": 186,
     "status": "ok",
     "timestamp": 1634306840697,
     "user": {
      "displayName": "Luis Ignacio Benítez Andrade",
      "photoUrl": "https://lh3.googleusercontent.com/a-/AOh14GiZpawAS2GxcRN-sBLDygsGmkuy1nuDmD343BUNaA=s64",
      "userId": "06148458870779396768"
     },
     "user_tz": 180
    },
    "id": "h35VIHaanz2H",
    "outputId": "3809a9c2-130c-4547-ee17-dd80b0d13529"
   },
   "outputs": [],
   "source": [
    "filtered_df2[\"REGION_EJECUCION\"].unique()"
   ]
  },
  {
   "cell_type": "code",
   "execution_count": null,
   "metadata": {
    "colab": {
     "base_uri": "https://localhost:8080/"
    },
    "executionInfo": {
     "elapsed": 3,
     "status": "ok",
     "timestamp": 1634306841507,
     "user": {
      "displayName": "Luis Ignacio Benítez Andrade",
      "photoUrl": "https://lh3.googleusercontent.com/a-/AOh14GiZpawAS2GxcRN-sBLDygsGmkuy1nuDmD343BUNaA=s64",
      "userId": "06148458870779396768"
     },
     "user_tz": 180
    },
    "id": "IWDooj8iiIIF",
    "outputId": "693fdef8-97b4-4255-bab2-3f0b60ac2064"
   },
   "outputs": [],
   "source": [
    "df_3 = df_filtered2[df_filtered2['SUBDIRECCION'].isin(['PROYECTOS DE INVESTIGACION','INVESTIGACION APLICADA'])].copy()\n",
    "\n",
    "df_3[\"INSTITUCION_PRINCIPAL\"]\n"
   ]
  },
  {
   "cell_type": "code",
   "execution_count": null,
   "metadata": {
    "executionInfo": {
     "elapsed": 195,
     "status": "ok",
     "timestamp": 1634306842830,
     "user": {
      "displayName": "Luis Ignacio Benítez Andrade",
      "photoUrl": "https://lh3.googleusercontent.com/a-/AOh14GiZpawAS2GxcRN-sBLDygsGmkuy1nuDmD343BUNaA=s64",
      "userId": "06148458870779396768"
     },
     "user_tz": 180
    },
    "id": "ul2Ng33t4fID"
   },
   "outputs": [],
   "source": [
    "df_3 = df_filtered2[df_filtered2['SUBDIRECCION'].isin(['PROYECTOS DE INVESTIGACION','INVESTIGACION APLICADA'])].copy()\n",
    "# TO PREVENT ERRORS\n",
    "def change_name (inst):\n",
    "    return inst.replace('UNIV.DE','UNIVERSIDAD DE') \n",
    "df_3['INSTITUCION_PRINCIPAL'] = df_3['INSTITUCION_PRINCIPAL'].apply(change_name)\n",
    "# filtrado solo de universidades\n",
    "df_3 = df_3[df_3['INSTITUCION_PRINCIPAL'].str.contains(\"UNIVERSIDAD\")]\n",
    "df_3 = df_3.groupby(['INSTITUCION_PRINCIPAL','REGION_EJECUCION'])\\\n",
    "      .agg({'CODIGO_PROYECTO': 'count'})\\\n",
    "      .rename(columns={'CODIGO_PROYECTO': 'COUNT'})\n",
    "#tasa auxiliar para el display\n",
    "#df_3['aux'] = df_3.groupby(level=0).apply(lambda x: x/x.sum())\n",
    "# la tasa es el porcentaje de participación dentro de la macrozona\n",
    "df_3['TASA'] = ((df_3.COUNT / df_3.COUNT.sum()))\n",
    "\n",
    "df_3 = df_3.reset_index()"
   ]
  },
  {
   "cell_type": "code",
   "execution_count": null,
   "metadata": {
    "colab": {
     "base_uri": "https://localhost:8080/",
     "height": 979
    },
    "executionInfo": {
     "elapsed": 5,
     "status": "ok",
     "timestamp": 1634306844321,
     "user": {
      "displayName": "Luis Ignacio Benítez Andrade",
      "photoUrl": "https://lh3.googleusercontent.com/a-/AOh14GiZpawAS2GxcRN-sBLDygsGmkuy1nuDmD343BUNaA=s64",
      "userId": "06148458870779396768"
     },
     "user_tz": 180
    },
    "id": "dPWjo49vRyC-",
    "outputId": "b1182273-ebea-453c-95d6-e1ca6d9bb8f7"
   },
   "outputs": [],
   "source": [
    "df_3"
   ]
  },
  {
   "cell_type": "code",
   "execution_count": null,
   "metadata": {
    "colab": {
     "base_uri": "https://localhost:8080/",
     "height": 452
    },
    "executionInfo": {
     "elapsed": 445,
     "status": "ok",
     "timestamp": 1634307038210,
     "user": {
      "displayName": "Luis Ignacio Benítez Andrade",
      "photoUrl": "https://lh3.googleusercontent.com/a-/AOh14GiZpawAS2GxcRN-sBLDygsGmkuy1nuDmD343BUNaA=s64",
      "userId": "06148458870779396768"
     },
     "user_tz": 180
    },
    "id": "5vhAaBKPsNiS",
    "outputId": "63049570-5c8d-401d-cfb7-d359f230a8f5"
   },
   "outputs": [],
   "source": [
    "df_3[\"INSTITUCION_PRINCIPAL\"] = df_3[\"INSTITUCION_PRINCIPAL\"].apply(cambiar_nombre_u)\n",
    "df_3 = df_3.drop(df_3[df_3['TASA']<0.001].index)\n",
    "df_3.sort_values(\"COUNT\", ascending=False)"
   ]
  },
  {
   "cell_type": "code",
   "execution_count": null,
   "metadata": {
    "colab": {
     "base_uri": "https://localhost:8080/",
     "height": 334
    },
    "executionInfo": {
     "elapsed": 322,
     "status": "ok",
     "timestamp": 1634307039458,
     "user": {
      "displayName": "Luis Ignacio Benítez Andrade",
      "photoUrl": "https://lh3.googleusercontent.com/a-/AOh14GiZpawAS2GxcRN-sBLDygsGmkuy1nuDmD343BUNaA=s64",
      "userId": "06148458870779396768"
     },
     "user_tz": 180
    },
    "id": "9n9t-Dxn7c4j",
    "outputId": "1934a5d0-044f-4409-f19e-883ac6620c73"
   },
   "outputs": [],
   "source": [
    "\n",
    "\n",
    "aux = df_3.groupby(['INSTITUCION_PRINCIPAL']).agg({'COUNT':'sum','TASA':'sum'})\n",
    "aux = aux.reset_index().sort_values(\"TASA\", axis=0,ascending=False)\n",
    "\n",
    "text3 = alt.Chart(aux).mark_text(align='left', baseline='middle', dx=10).encode(\n",
    "        x = alt.X('TASA',sort=None),\n",
    "        y = alt.Y('INSTITUCION_PRINCIPAL',sort=None),\n",
    "        text=alt.Text('TASA', format=\".2%\")\n",
    ")\n",
    "\n",
    "chart3 = alt.Chart(df_3.reset_index()).mark_bar().encode(\n",
    "            x = alt.X('TASA', scale=alt.Scale(domain=[0, 1]),\n",
    "                axis=alt.Axis(format='%'), sort=None,title=None),\n",
    "            y = alt.Y('INSTITUCION_PRINCIPAL',sort=None,title=None),\n",
    "            tooltip = [alt.Tooltip('TASA', title='Tasa', format='.2%'),\n",
    "                        alt.Tooltip('COUNT', title='Cantidad'),\n",
    "                        alt.Tooltip('INSTITUCION_PRINCIPAL', title='Institución')],\n",
    "             color = alt.Color('REGION_EJECUCION',\n",
    "                      title='Región de ejecución',scale=alt.Scale(scheme='dark2'))\n",
    "\n",
    "          )\n",
    "\n",
    "\n",
    "#text3 = chart3.mark_text(align='left', baseline='middle', dx=10).encode(\n",
    "#          text=alt.Text('TASA', format=\".2%\")\n",
    "#        )\n",
    "\n",
    "# Del gráficos se desprende que la universidad de concepción monopoliza las adjudicaciones\n",
    "# de la macrozona\n",
    "\n",
    "# la universidad autónoma es la unica que participa en más de una región\n",
    "# ñuble no registra adjudicaciones\n",
    "\n",
    "(text3+chart3).properties(\n",
    "      title=['Tasa de proyectos de investigación ', 'por institución en la macro zona'])\\\n",
    "    .configure_title(fontSize=20, font='Arial', anchor='middle', color='black')\\\n",
    "    .configure_legend(titleFontSize=14,labelFontSize=12)\n",
    "\n",
    "## Se superpone el texto en la universidad autónoma, aún no se me ocurre como solucionarlo"
   ]
  },
  {
   "cell_type": "code",
   "execution_count": null,
   "metadata": {
    "executionInfo": {
     "elapsed": 184,
     "status": "ok",
     "timestamp": 1634307041176,
     "user": {
      "displayName": "Luis Ignacio Benítez Andrade",
      "photoUrl": "https://lh3.googleusercontent.com/a-/AOh14GiZpawAS2GxcRN-sBLDygsGmkuy1nuDmD343BUNaA=s64",
      "userId": "06148458870779396768"
     },
     "user_tz": 180
    },
    "id": "SG4AZw-h7928"
   },
   "outputs": [],
   "source": []
  },
  {
   "cell_type": "code",
   "execution_count": null,
   "metadata": {
    "colab": {
     "base_uri": "https://localhost:8080/",
     "height": 297
    },
    "executionInfo": {
     "elapsed": 188,
     "status": "ok",
     "timestamp": 1634307068068,
     "user": {
      "displayName": "Luis Ignacio Benítez Andrade",
      "photoUrl": "https://lh3.googleusercontent.com/a-/AOh14GiZpawAS2GxcRN-sBLDygsGmkuy1nuDmD343BUNaA=s64",
      "userId": "06148458870779396768"
     },
     "user_tz": 180
    },
    "id": "A5vqNA0G6rEQ",
    "outputId": "755fe9ae-abaa-4cd7-d80e-c5a3981523b5"
   },
   "outputs": [],
   "source": [
    "df_4b = df_filtered2\n",
    "#df_4b = df_4b.groupby(['MACROZONA MINCIENCIA (segUn ax)',\"AREA_OCDE\"])\\\n",
    "#    .agg({\"CODIGO_PROYECTO\": \"count\"}).copy()\n",
    "df_4b = df_4b.groupby(['AREA_OCDE'])\\\n",
    "    .agg({\"CODIGO_PROYECTO\": \"count\"})\n",
    "\n",
    "df_4b['TASA'] = ((df_4b.CODIGO_PROYECTO / df_4b.CODIGO_PROYECTO.sum()))\n",
    "\n",
    "df_4b = df_4b.reset_index().rename(columns=({'CODIGO DEL PROYECTO':'COUNT'}))\n",
    "\n",
    "df_4b.sort_values(\"CODIGO_PROYECTO\",ascending=False)\n",
    "\n",
    "\n",
    "df_4b = df_4b.drop(df_4b[df_4b['AREA_OCDE']==\"NO APLICA\"].index)\n",
    "\n",
    "df_4b"
   ]
  },
  {
   "cell_type": "code",
   "execution_count": null,
   "metadata": {
    "colab": {
     "base_uri": "https://localhost:8080/",
     "height": 431
    },
    "executionInfo": {
     "elapsed": 183,
     "status": "ok",
     "timestamp": 1634307072621,
     "user": {
      "displayName": "Luis Ignacio Benítez Andrade",
      "photoUrl": "https://lh3.googleusercontent.com/a-/AOh14GiZpawAS2GxcRN-sBLDygsGmkuy1nuDmD343BUNaA=s64",
      "userId": "06148458870779396768"
     },
     "user_tz": 180
    },
    "id": "RbkvwYVtPllS",
    "outputId": "08ac0f7c-f9fd-4c00-d8ed-2a17331fd7c6"
   },
   "outputs": [],
   "source": [
    "\n",
    "\n",
    "chart4b = alt.Chart(df_4b).mark_bar().encode(\n",
    "            x = alt.X('TASA', sort=None, \n",
    "                      axis=alt.Axis(format='%')),\n",
    "            y = alt.Y('AREA_OCDE',sort=None,title=None),\n",
    "            tooltip = [alt.Tooltip('TASA', title='Tasa', format='.2%'),\n",
    "                      alt.Tooltip('CODIGO_PROYECTO', title='Cantidad')],\n",
    "          )\n",
    "(chart4b).properties(width=450, height=300,\n",
    "      title=['Tasa de proyectos de investigación', ' por área OCDE Macro zona Centro-Sur',' '])\\\n",
    "      .configure_title( fontSize=20, font='Arial', anchor='middle', color='black')\\\n",
    "      .configure_legend(titleFontSize=14,labelFontSize=12)\n",
    "\n"
   ]
  },
  {
   "cell_type": "code",
   "execution_count": null,
   "metadata": {
    "colab": {
     "base_uri": "https://localhost:8080/"
    },
    "executionInfo": {
     "elapsed": 203,
     "status": "ok",
     "timestamp": 1634307079246,
     "user": {
      "displayName": "Luis Ignacio Benítez Andrade",
      "photoUrl": "https://lh3.googleusercontent.com/a-/AOh14GiZpawAS2GxcRN-sBLDygsGmkuy1nuDmD343BUNaA=s64",
      "userId": "06148458870779396768"
     },
     "user_tz": 180
    },
    "id": "5fAyeWoM32sQ",
    "outputId": "3cfe82bf-c335-425b-c9b9-66f48a4d6bb3"
   },
   "outputs": [],
   "source": [
    "# GRUPO_DE_EVALUACION tiene menos cantidad (están mas agrupados y estandarizados)\n",
    "# sin embargo se requiere limpiar los datos (puede ser manual o establecer jerarquia \n",
    "# con fuzzywuzzy )\n",
    "\n",
    "#aa = df_adjudicaciones[df_adjudicaciones[]]\n",
    "df_adjudicaciones.columns"
   ]
  },
  {
   "cell_type": "code",
   "execution_count": null,
   "metadata": {
    "colab": {
     "base_uri": "https://localhost:8080/",
     "height": 464
    },
    "executionInfo": {
     "elapsed": 194,
     "status": "ok",
     "timestamp": 1634310196868,
     "user": {
      "displayName": "Luis Ignacio Benítez Andrade",
      "photoUrl": "https://lh3.googleusercontent.com/a-/AOh14GiZpawAS2GxcRN-sBLDygsGmkuy1nuDmD343BUNaA=s64",
      "userId": "06148458870779396768"
     },
     "user_tz": 180
    },
    "id": "LKOPGJKbtAyT",
    "outputId": "dacc0b07-db5b-4078-d74f-fa115a1a6273"
   },
   "outputs": [],
   "source": [
    "# esto no me convence, sin embargo concuerdo con luis que para los gráficos \n",
    "# anteriores sería mejor considerar DISCIPLINA_DETALLE o algún similar en vez del\n",
    "# área OCDE (que en realidad es nuestro filtro para la consulta de la mesa 11)\n",
    "# PD: postulaciones no tiene el dato para filtrar temática y lastimosamente \n",
    "#     DISCIPLINA_DETALLE tiene 726 datos distintos (como para graficar) \n",
    "#     Respondo estas dudas arriba !!!\n",
    "\n",
    "\n",
    "adjudicaciones_macrozona = df_adjudicaciones[df_adjudicaciones['MACROZONA MINCIENCIA (segUn ax)']=='CENTRO SUR']\n",
    "\n",
    "adjudicaciones_macrozona\n",
    "\n",
    "#Existen 5140 adjudicaciones en la macrozona\n",
    "\n",
    "adjuducaciones_macrozona = adjudicaciones_macrozona.dropna(subset=['MONTO ADJUDICADO (MILES $)'])\n",
    "\n",
    "#adjudicaciones_macrozona['MONTO ADJUDICADO (MILES $)'] = adjudicaciones_macrozona['MONTO ADJUDICADO (MILES $)'].str.replace(\",\", \".\").astype(float)\n",
    "\n",
    "tematica_monto = adjudicaciones_macrozona.groupby(['AREA_OCDE'])[['MONTO ADJUDICADO (MILES $)']].sum()*(1000)/1000000000\n",
    "\n",
    "tematica_monto = tematica_monto.sort_values('MONTO ADJUDICADO (MILES $)', ascending=False)\n",
    "\n",
    "tematica_monto['TASA'] = ((tematica_monto['MONTO ADJUDICADO (MILES $)'] / tematica_monto['MONTO ADJUDICADO (MILES $)'].sum()))\n",
    "\n",
    "tematica_monto = tematica_monto.rename(columns={'MONTO ADJUDICADO (MILES $)' : 'MONTO AJUDICADO MILES MILLONES'})\n",
    "\n",
    "tematica_monto = tematica_monto.apply(round)\n",
    "\n",
    "tematica_monto['MONTO AJUDICADO MILES MILLONES'].astype(int)\n",
    "\n",
    "tematica_monto\n",
    "\n",
    "\n"
   ]
  },
  {
   "cell_type": "code",
   "execution_count": null,
   "metadata": {
    "executionInfo": {
     "elapsed": 195,
     "status": "ok",
     "timestamp": 1634307082308,
     "user": {
      "displayName": "Luis Ignacio Benítez Andrade",
      "photoUrl": "https://lh3.googleusercontent.com/a-/AOh14GiZpawAS2GxcRN-sBLDygsGmkuy1nuDmD343BUNaA=s64",
      "userId": "06148458870779396768"
     },
     "user_tz": 180
    },
    "id": "3q9ZWA-7DMIT"
   },
   "outputs": [],
   "source": []
  },
  {
   "cell_type": "code",
   "execution_count": null,
   "metadata": {
    "id": "gf2WFhDZ0c3A"
   },
   "outputs": [],
   "source": []
  }
 ],
 "metadata": {
  "accelerator": "GPU",
  "colab": {
   "collapsed_sections": [],
   "name": "Copia de ANID.ipynb",
   "provenance": []
  },
  "kernelspec": {
   "display_name": "Python 3",
   "language": "python",
   "name": "python3"
  },
  "language_info": {
   "codemirror_mode": {
    "name": "ipython",
    "version": 3
   },
   "file_extension": ".py",
   "mimetype": "text/x-python",
   "name": "python",
   "nbconvert_exporter": "python",
   "pygments_lexer": "ipython3",
   "version": "3.9.4"
  }
 },
 "nbformat": 4,
 "nbformat_minor": 1
}
