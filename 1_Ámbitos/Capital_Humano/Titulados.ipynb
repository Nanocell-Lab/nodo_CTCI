{
 "cells": [
  {
   "cell_type": "code",
   "execution_count": null,
   "metadata": {
    "colab": {
     "base_uri": "https://localhost:8080/",
     "height": 398
    },
    "executionInfo": {
     "elapsed": 630,
     "status": "error",
     "timestamp": 1636732916559,
     "user": {
      "displayName": "Franco Andrés Álvarez Alvarado",
      "photoUrl": "https://lh3.googleusercontent.com/a-/AOh14GjYRV5Bb1DybMN5Fx2C3bv01t9C3p-Fw3UGNeLM0Q=s64",
      "userId": "15818866616587697807"
     },
     "user_tz": 180
    },
    "id": "176x025fKfrj",
    "outputId": "dac2a092-ded4-4a5c-d2fa-2cacb14d2254"
   },
   "outputs": [],
   "source": [
    "import pandas as pd\n",
    "import altair as alt\n",
    "\n",
    "\n",
    "URLS= ['http://datos.mineduc.cl/datasets/196166-titulados-de-educacion-superior-2020.download/',\n",
    "        'http://datos.mineduc.cl/datasets/196167-titulados-de-educacion-superior-2019.download/',\n",
    "        'http://datos.mineduc.cl/datasets/196168-titulados-de-educacion-superior-2018.download/',\n",
    "        'http://datos.mineduc.cl/datasets/196169-titulados-de-educacion-superior-2017.download/',\n",
    "        'http://datos.mineduc.cl/datasets/196170-titulados-de-educacion-superior-2016.download/',\n",
    "        'http://datos.mineduc.cl/datasets/196171-titulados-de-educacion-superior-2015.download/',\n",
    "        'http://datos.mineduc.cl/datasets/196172-titulados-de-educacion-superior-2014.download/',\n",
    "        'http://datos.mineduc.cl/datasets/196173-titulados-de-educacion-superior-2013.download/',\n",
    "        'http://datos.mineduc.cl/datasets/196174-titulados-de-educacion-superior-2012.download/',\n",
    "        'http://datos.mineduc.cl/datasets/196175-titulados-de-educacion-superior-2011.download/',\n",
    "        'http://datos.mineduc.cl/datasets/196176-titulados-de-educacion-superior-2010.download/',\n",
    "        'http://datos.mineduc.cl/datasets/196177-titulados-de-educacion-superior-2009.download/',\n",
    "        'http://datos.mineduc.cl/datasets/196178-titulados-de-educacion-superior-2008.download/',\n",
    "        'http://datos.mineduc.cl/datasets/196179-titulados-de-educacion-superior-2007.download/']\n",
    "\n",
    "dataframes = []\n",
    "for url in URLS[:3]:\n",
    "    df_aux = pd.read_csv(url, sep=';', low_memory=False)       \n",
    "\n",
    "    df_aux = df_aux[df_aux['region_sede'].isin(['BIOBÍO','ÑUBLE',\"LIB. GRAL B. O'HIGGINS\",'MAULE', 'METROPOLITANA'])]\n",
    "\n",
    "    dataframes.append(df_aux)\n",
    "\n",
    "df_titulados = pd.concat(dataframes)\n",
    "\n"
   ]
  },
  {
   "cell_type": "code",
   "execution_count": null,
   "metadata": {
    "colab": {
     "base_uri": "https://localhost:8080/"
    },
    "executionInfo": {
     "elapsed": 495,
     "status": "ok",
     "timestamp": 1634137611432,
     "user": {
      "displayName": "Luis Ignacio Benítez Andrade",
      "photoUrl": "https://lh3.googleusercontent.com/a-/AOh14GiZpawAS2GxcRN-sBLDygsGmkuy1nuDmD343BUNaA=s64",
      "userId": "06148458870779396768"
     },
     "user_tz": 180
    },
    "id": "O7CLKg_pKq1I",
    "outputId": "252a1000-9f06-473d-e546-b286b998803c"
   },
   "outputs": [],
   "source": [
    "df_titulados2 = df_titulados.copy()\n",
    "df_titulados['oecd_subarea'].unique()"
   ]
  },
  {
   "cell_type": "code",
   "execution_count": null,
   "metadata": {
    "colab": {
     "base_uri": "https://localhost:8080/"
    },
    "executionInfo": {
     "elapsed": 5,
     "status": "ok",
     "timestamp": 1634137611433,
     "user": {
      "displayName": "Luis Ignacio Benítez Andrade",
      "photoUrl": "https://lh3.googleusercontent.com/a-/AOh14GiZpawAS2GxcRN-sBLDygsGmkuy1nuDmD343BUNaA=s64",
      "userId": "06148458870779396768"
     },
     "user_tz": 180
    },
    "id": "VbF0I_hWKyvn",
    "outputId": "0dd6594b-cdb5-49dc-92ee-356f1507e510"
   },
   "outputs": [],
   "source": [
    "df_titulados['nivel_carrera_2'].unique()"
   ]
  },
  {
   "cell_type": "code",
   "execution_count": null,
   "metadata": {
    "id": "55ugxHnVK1BT"
   },
   "outputs": [],
   "source": [
    "df_titulados = df_titulados[df_titulados['nivel_carrera_2'].isin(['MAGISTER','POSTÍTULO','DOCTORADO'])]"
   ]
  },
  {
   "cell_type": "code",
   "execution_count": null,
   "metadata": {
    "colab": {
     "base_uri": "https://localhost:8080/",
     "height": 564
    },
    "executionInfo": {
     "elapsed": 556,
     "status": "ok",
     "timestamp": 1634137613563,
     "user": {
      "displayName": "Luis Ignacio Benítez Andrade",
      "photoUrl": "https://lh3.googleusercontent.com/a-/AOh14GiZpawAS2GxcRN-sBLDygsGmkuy1nuDmD343BUNaA=s64",
      "userId": "06148458870779396768"
     },
     "user_tz": 180
    },
    "id": "bGtO0uAkK3K7",
    "outputId": "d91ce607-943e-4ce9-b8b7-e17a72f24f28"
   },
   "outputs": [],
   "source": [
    "df_titulados.head()"
   ]
  },
  {
   "cell_type": "code",
   "execution_count": null,
   "metadata": {
    "id": "XQFge2-_K6XM"
   },
   "outputs": [],
   "source": [
    "aux1 = df_titulados\n",
    "aux2 = df_titulados\n",
    "#aux3 = df_titulados"
   ]
  },
  {
   "cell_type": "code",
   "execution_count": null,
   "metadata": {
    "id": "Ux5_t92DK_Zd"
   },
   "outputs": [],
   "source": [
    "aux1 = df_titulados.groupby(['region_sede','oecd_area']).agg({'codigo_unico' : 'count'}).rename(columns={'codigo_unico': 'COUNT'})"
   ]
  },
  {
   "cell_type": "code",
   "execution_count": null,
   "metadata": {
    "colab": {
     "base_uri": "https://localhost:8080/",
     "height": 1000
    },
    "executionInfo": {
     "elapsed": 16,
     "status": "ok",
     "timestamp": 1634137613564,
     "user": {
      "displayName": "Luis Ignacio Benítez Andrade",
      "photoUrl": "https://lh3.googleusercontent.com/a-/AOh14GiZpawAS2GxcRN-sBLDygsGmkuy1nuDmD343BUNaA=s64",
      "userId": "06148458870779396768"
     },
     "user_tz": 180
    },
    "id": "pdOhT-zfLFNm",
    "outputId": "9724d3e0-4d87-4850-afce-2447eb6cd530"
   },
   "outputs": [],
   "source": [
    "aux1['TASA'] = ((aux1['COUNT'] / aux1['COUNT'].sum()))\n",
    "\n",
    "aux1"
   ]
  },
  {
   "cell_type": "code",
   "execution_count": null,
   "metadata": {
    "colab": {
     "base_uri": "https://localhost:8080/",
     "height": 220
    },
    "executionInfo": {
     "elapsed": 15,
     "status": "ok",
     "timestamp": 1634137613564,
     "user": {
      "displayName": "Luis Ignacio Benítez Andrade",
      "photoUrl": "https://lh3.googleusercontent.com/a-/AOh14GiZpawAS2GxcRN-sBLDygsGmkuy1nuDmD343BUNaA=s64",
      "userId": "06148458870779396768"
     },
     "user_tz": 180
    },
    "id": "O9O0Oo14LG3Z",
    "outputId": "30bed237-2880-4f06-bec6-66e42b4ae00b"
   },
   "outputs": [],
   "source": [
    "alt.Chart(aux1.reset_index()).mark_bar().encode(\n",
    "    x = alt.X('TASA', stack=\"normalize\", axis=alt.Axis(format='%'), title=None),\n",
    "    y = alt.Y('region_sede',sort=None,title=None),\n",
    "    color = alt.Color('oecd_area',\n",
    "                      title='ÁREA OCDE',scale=alt.Scale(scheme='dark2')),\n",
    "    tooltip = [alt.Tooltip('TASA', title='Tasa', format='.2%'),\n",
    "              alt.Tooltip('COUNT', title='Cantidad')]\n",
    ").properties(\n",
    "    title=['TITULADOS POR ÁREA OCDE','EN LA MACROZONA Y RM',\"\"]\n",
    ").configure_legend(titleFontSize=14,labelFontSize=10).configure_title(\n",
    "    fontSize=20, font='Arial', anchor='middle',color='black'\n",
    "  )"
   ]
  },
  {
   "cell_type": "code",
   "execution_count": null,
   "metadata": {
    "id": "7ms7yNLtLJ9H"
   },
   "outputs": [],
   "source": []
  }
 ],
 "metadata": {
  "colab": {
   "name": "Titulados.ipynb",
   "provenance": []
  },
  "kernelspec": {
   "display_name": "Python 3",
   "language": "python",
   "name": "python3"
  },
  "language_info": {
   "codemirror_mode": {
    "name": "ipython",
    "version": 3
   },
   "file_extension": ".py",
   "mimetype": "text/x-python",
   "name": "python",
   "nbconvert_exporter": "python",
   "pygments_lexer": "ipython3",
   "version": "3.9.4"
  }
 },
 "nbformat": 4,
 "nbformat_minor": 1
}
