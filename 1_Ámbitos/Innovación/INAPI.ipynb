{
 "cells": [
  {
   "cell_type": "code",
   "execution_count": null,
   "metadata": {
    "colab": {
     "base_uri": "https://localhost:8080/",
     "height": 380
    },
    "executionInfo": {
     "elapsed": 9240,
     "status": "error",
     "timestamp": 1633491157050,
     "user": {
      "displayName": "Franco Andrés Álvarez Alvarado",
      "photoUrl": "https://lh3.googleusercontent.com/a-/AOh14GjYRV5Bb1DybMN5Fx2C3bv01t9C3p-Fw3UGNeLM0Q=s64",
      "userId": "15818866616587697807"
     },
     "user_tz": 180
    },
    "id": "Otiy-vOjhrdx",
    "outputId": "d8045508-abbc-4543-a7a3-bc299a14f3f0"
   },
   "outputs": [],
   "source": [
    "import pandas as pd\n",
    "import altair as alt\n",
    "from glob import glob\n",
    "#\n",
    "import seaborn as sns\n",
    "import matplotlib.pyplot as plt\n",
    "#\n",
    "from ipywidgets import interact\n",
    "\n",
    "# archivos de INAPI\n",
    "APPLICATIONS = glob(\"../../data/INAPI/Applications/*\")\n",
    "REGISTERS = glob(\"../../data/INAPI/Registers/*\")\n",
    "\n",
    "df= []\n",
    "for i in APPLICATIONS:\n",
    "    df.append(pd.read_excel(i))\n",
    "\n",
    "df = pd.concat(df)\n",
    "df[\"Year\"] = df[\"ApplicationNumber\"].astype(str).str[0:4]\n",
    "df = df[df[\"ApplicantRegion\"]\\\n",
    "     .isin([\"Maule\", \"Bío Bío\", \"Ñuble\", \"Libertador B. O'Higgins\"])].copy()\n",
    "\n",
    "df2= []\n",
    "for i in REGISTERS:\n",
    "    df2.append(pd.read_excel(i))\n",
    "\n",
    "df2 = pd.concat(df2)\n",
    "df2[\"Year\"] = df2[\"ApplicationNumber\"].astype(str).str[0:4]\n",
    "df2 = df2[df2[\"ApplicantRegion\"]\\\n",
    "     .isin([\"Maule\", \"Bío Bío\", \"Ñuble\", \"Libertador B. O'Higgins\"])].copy()\n",
    "\n",
    "df.head(2)"
   ]
  },
  {
   "cell_type": "code",
   "execution_count": null,
   "metadata": {
    "executionInfo": {
     "elapsed": 5,
     "status": "aborted",
     "timestamp": 1633491136165,
     "user": {
      "displayName": "Franco Andrés Álvarez Alvarado",
      "photoUrl": "https://lh3.googleusercontent.com/a-/AOh14GjYRV5Bb1DybMN5Fx2C3bv01t9C3p-Fw3UGNeLM0Q=s64",
      "userId": "15818866616587697807"
     },
     "user_tz": 180
    },
    "id": "WJSw40g9qE-f"
   },
   "outputs": [],
   "source": [
    "df_macrozone = df.copy()\n",
    "df_macrozone2  = df2.copy()"
   ]
  },
  {
   "cell_type": "code",
   "execution_count": null,
   "metadata": {
    "executionInfo": {
     "elapsed": 6,
     "status": "aborted",
     "timestamp": 1633491136166,
     "user": {
      "displayName": "Franco Andrés Álvarez Alvarado",
      "photoUrl": "https://lh3.googleusercontent.com/a-/AOh14GjYRV5Bb1DybMN5Fx2C3bv01t9C3p-Fw3UGNeLM0Q=s64",
      "userId": "15818866616587697807"
     },
     "user_tz": 180
    },
    "id": "bREw5IawiaY5"
   },
   "outputs": [],
   "source": [
    "df_macrozone[\"Applicants\"] = df_macrozone[\"Applicants\"].str.upper()\\\n",
    "                            .str.normalize('NFKD').str.encode('ascii', \n",
    "                                                              errors='ignore')\\\n",
    "                            .str.decode('utf-8').str.replace(\".\", \"\")\n",
    "\n",
    "stats = df_macrozone.groupby([\"ApplicantRegion\", \"Year\"])\\\n",
    "        .agg({\"ApplicationNumber\": \"nunique\"}).reset_index()\n",
    "\n",
    "population = [\n",
    "    {\"ApplicantRegion\": \"Libertador B. O'Higgins\", \"Population\": 914555},\n",
    "    {\"ApplicantRegion\": \"Maule\", \"Population\": 1044950},\n",
    "    {\"ApplicantRegion\": \"Ñuble\", \"Population\": 480609},\n",
    "    {\"ApplicantRegion\": \"Bío Bío\", \"Population\": 1556805}\n",
    "]\n",
    "\n",
    "df_population = pd.DataFrame(population)\n",
    "df_population\n",
    "\n",
    "df_agg = stats[stats[\"Year\"].isin([\"2017\", \"2018\", \"2019\"])]\\\n",
    "          .groupby([\"ApplicantRegion\"]).agg({\"ApplicationNumber\": \"mean\"})\\\n",
    "          .reset_index()\n",
    "\n",
    "df_agg = df_agg.merge(df_population, on=\"ApplicantRegion\")\n",
    "df_agg[\"Per Capita\"] = 100000 * df_agg[\"ApplicationNumber\"] / df_agg[\"Population\"]\n",
    "\n",
    "df_agg"
   ]
  },
  {
   "cell_type": "code",
   "execution_count": null,
   "metadata": {
    "executionInfo": {
     "elapsed": 6,
     "status": "aborted",
     "timestamp": 1633491136166,
     "user": {
      "displayName": "Franco Andrés Álvarez Alvarado",
      "photoUrl": "https://lh3.googleusercontent.com/a-/AOh14GjYRV5Bb1DybMN5Fx2C3bv01t9C3p-Fw3UGNeLM0Q=s64",
      "userId": "15818866616587697807"
     },
     "user_tz": 180
    },
    "id": "cZl16NFgj3uF"
   },
   "outputs": [],
   "source": [
    "sns.set(rc={'figure.figsize':(11.7,8.27)}, style=\"whitegrid\")\n",
    "ax = sns.barplot(x=\"ApplicantRegion\", y=\"Per Capita\", data=df_agg)\n",
    "ax.set_ylabel(\"Número de Aplicaciones c/100.000 habitantes\")\n",
    "ax.set_xlabel(\"Región\")"
   ]
  },
  {
   "cell_type": "code",
   "execution_count": null,
   "metadata": {
    "executionInfo": {
     "elapsed": 6,
     "status": "aborted",
     "timestamp": 1633491136166,
     "user": {
      "displayName": "Franco Andrés Álvarez Alvarado",
      "photoUrl": "https://lh3.googleusercontent.com/a-/AOh14GjYRV5Bb1DybMN5Fx2C3bv01t9C3p-Fw3UGNeLM0Q=s64",
      "userId": "15818866616587697807"
     },
     "user_tz": 180
    },
    "id": "Q9IzPQTPnLIr"
   },
   "outputs": [],
   "source": [
    "#Se agrupan las solicitudes por solicitante y año, posteriormente obtenermos los solicitantes que por año realizaron más solicitudes\n",
    "\n",
    "df_macrozone_top = df_macrozone\n",
    "\n",
    "df_macrozone_top['Applicants'] = df_macrozone_top[\"Applicants\"].str.upper().str.normalize('NFKD').str.encode('ascii', errors='ignore').str.decode('utf-8').str.replace(\".\", \"\")\n",
    "\n",
    "stats2 = df_macrozone_top.groupby([\"Applicants\", \"Year\"]).agg({\"ApplicationNumber\": \"nunique\"}).reset_index()\n",
    "\n",
    "df_top = stats2.sort_values('ApplicationNumber', ascending=False).head(20)\n",
    "\n",
    "df_top"
   ]
  },
  {
   "cell_type": "markdown",
   "metadata": {
    "id": "BTSfuaHfnb1r"
   },
   "source": [
    "# Nuevo bloque de Luis, creación de funciones que retorna dataFrame de solicitantes o registros\n"
   ]
  },
  {
   "cell_type": "code",
   "execution_count": null,
   "metadata": {
    "executionInfo": {
     "elapsed": 7,
     "status": "aborted",
     "timestamp": 1633491136167,
     "user": {
      "displayName": "Franco Andrés Álvarez Alvarado",
      "photoUrl": "https://lh3.googleusercontent.com/a-/AOh14GjYRV5Bb1DybMN5Fx2C3bv01t9C3p-Fw3UGNeLM0Q=s64",
      "userId": "15818866616587697807"
     },
     "user_tz": 180
    },
    "id": "VjE4SIfbnRW_"
   },
   "outputs": [],
   "source": [
    "#En caso de querer saber acerca de los colaboradores, comentar data.groupby... por:\n",
    "#data = data.groupby([\"Applicants\", \"Year\"]).agg({\"ApplicationNumber\": \"nunique\"}).reset_index() \n",
    "#Esto aplica para registers y applicants\n",
    "\n",
    "#Las instituciones con más solicitudes son \n",
    "#\"UNIVERSIDAD DE CONCEPCION\",\"UNIVERSIDAD DEL BIO BIO\",\"CONTENEDORES SAN FERNANDO SPA\", \"MARIO GUERRERO MENDEZ\", \"VICTOR MANUEL ROSALES ITURRA\"\n",
    "\n",
    "def data_applicants(inst):\n",
    "    data = df_macrozone2[df_macrozone2[\"Applicants\"].str.contains(inst, regex=True, na=False)]\n",
    "    data = data.groupby([\"Year\"]).agg({\"ApplicationNumber\": \"nunique\"}).reset_index()\n",
    "    data = data.sort_values('Year', ascending=True)\n",
    "    return data\n",
    "\n",
    "def data_registers(inst):\n",
    "    data = df_macrozone[df_macrozone[\"Applicants\"].str.contains(inst, regex=True, na=False)]\n",
    "    data = data.groupby([\"Year\"]).agg({\"ApplicationNumber\": \"nunique\"}).reset_index()\n",
    "    data = data.sort_values('Year', ascending=True)\n",
    "    return data\n",
    "    \n",
    "def merge_data(inst):\n",
    "    # mejoras de fandi\n",
    "    a = data_applicants(inst)\n",
    "    b = data_registers(inst)\n",
    "    a = AddYears0(b , a)\n",
    "    b = AddYears0(a , b)\n",
    "    \n",
    "    merged = pd.merge(a, b ,  on=['Year'])\n",
    "    merged = merged.rename(columns={'ApplicationNumber_x':'Applicants',\n",
    "                                   'ApplicationNumber_y':'Registers'})\n",
    "    merged.insert(1, 'Applicant', inst, allow_duplicates=False)\n",
    "    \n",
    "    return merged\n",
    "    \n",
    "# improve merge. Add rows from dataframeB that doesn't exist in dataframeA\n",
    "# Warning: use only once per dataframe -- or -- do only via merge_data function\n",
    "def AddYears0(dataframeA , dataframeB):\n",
    "    # to initiate dataframe\n",
    "    add = pd.DataFrame([[1,2]], columns=['Year','ApplicationNumber'])\n",
    "    for i in dataframeA.index:\n",
    "        flag = True\n",
    "        for j in dataframeB.index:\n",
    "            #print(dataframeA['Year'].tolist()[i])\n",
    "            if(dataframeA['Year'].tolist()[i] == dataframeB['Year'].tolist()[j]):\n",
    "                #print('\\t '+ dataframeB['Year'].tolist()[j] )\n",
    "                flag = False\n",
    "        if flag:\n",
    "            row = pd.DataFrame([[dataframeA['Year'][i],0]], columns=['Year','ApplicationNumber'])\n",
    "            #print(row)\n",
    "            add = pd.concat([add,row])\n",
    "    add = add[add[\"Year\"] != 1]\n",
    "    return pd.concat([add,dataframeB]).reset_index(drop=True)"
   ]
  },
  {
   "cell_type": "markdown",
   "metadata": {
    "id": "nm7cEkOInsJF"
   },
   "source": [
    "# Punto 1: Corregido ✅ ✅\n",
    "#### Las dos siguientes celdas muestran los datos separados por región"
   ]
  },
  {
   "cell_type": "code",
   "execution_count": null,
   "metadata": {
    "executionInfo": {
     "elapsed": 7,
     "status": "aborted",
     "timestamp": 1633491136167,
     "user": {
      "displayName": "Franco Andrés Álvarez Alvarado",
      "photoUrl": "https://lh3.googleusercontent.com/a-/AOh14GjYRV5Bb1DybMN5Fx2C3bv01t9C3p-Fw3UGNeLM0Q=s64",
      "userId": "15818866616587697807"
     },
     "user_tz": 180
    },
    "id": "uFF5Qn80nkrB"
   },
   "outputs": [],
   "source": [
    "# First we need split df_macrozone and df_macrozone2\n",
    "zone_list = ['Bío Bío','Maule','Ñuble',  \"Libertador B. O'Higgins\"]\n",
    "\n",
    "def transform(aux):\n",
    "    if (aux == 'Registers'):\n",
    "        return 'Registro'\n",
    "    return 'Solicitud'\n",
    "\n",
    "def get_zone(zone_name, inst):\n",
    "    # Obtain subset from zone_name\n",
    "    zone_applications = df_macrozone[df_macrozone[\"ApplicantRegion\"] == zone_name]\n",
    "    zone_applications = zone_applications[zone_applications[\"Applicants\"].str.contains(inst, regex=True, na=False)]\n",
    "    zone_applications = zone_applications.groupby([\"Year\"]).agg({\"ApplicationNumber\": \"nunique\"}).reset_index()\n",
    "    zone_applications = zone_applications.sort_values('Year', ascending=True)\n",
    "    \n",
    "    zone_registers = df_macrozone2[df_macrozone2[\"ApplicantRegion\"] == zone_name]\n",
    "    zone_registers = zone_registers[zone_registers[\"Applicants\"].str.contains(inst, regex=True, na=False)]\n",
    "    zone_registers = zone_registers.groupby([\"Year\"]).agg({\"ApplicationNumber\": \"nunique\"}).reset_index()\n",
    "    zone_registers = zone_registers.sort_values('Year', ascending=True)\n",
    "    \n",
    "    # Create data with 0 if it doesn't exist in one or another dataframe\n",
    "    #zone_applications = AddYears0(zone_registers ,zone_applications )\n",
    "    #zone_registers = AddYears0(zone_applications , zone_registers)\n",
    "    \n",
    "    # Merge Dataframes \n",
    "    merged = pd.merge(zone_applications, zone_registers ,  on=['Year'])\n",
    "    merged = merged.rename(columns={'ApplicationNumber_x':'Applicants',\n",
    "                                   'ApplicationNumber_y':'Registers'})\n",
    "    merged.insert(1, 'Applicant', inst, allow_duplicates=False)\n",
    "    \n",
    "    # Do tidy to deploy correctly\n",
    "    tidy = pd.melt(frame=merged, id_vars=['Applicant','Year'],\n",
    "                   value_vars=['Applicants','Registers'],\n",
    "                  var_name='Type', value_name='ApplicationNumber')\n",
    "    tidy['Type'] = tidy['Type'].apply(transform)\n",
    "    \n",
    "    if (len(tidy['Applicant'].tolist()) == 0):\n",
    "        #print (\"no hay data para region de \"+ zone_name)\n",
    "        return None\n",
    "    \n",
    "    # now we are available to deploy data on chart\n",
    "    \n",
    "    grafico = alt.Chart(tidy).mark_bar().encode(\n",
    "    x=alt.X('Type:O', title=None, axis=None),\n",
    "    y=alt.Y('ApplicationNumber:Q', title=None),\n",
    "    color=alt.Color('Type:N', legend=alt.Legend(title=\"Tipo\"), scale=alt.Scale(scheme='set1')),\n",
    "    column=alt.Column('Year:N', header=alt.Header(title=None))\n",
    "    ).properties(\n",
    "        title=[zone_name,\"\"]\n",
    "    )\n",
    "    \n",
    "    return grafico\n",
    "\n",
    "def getZonesChartsByInstitution(institucion):\n",
    "    charts= []\n",
    "    for aux in zone_list:\n",
    "        p_chart = get_zone(aux,institucion)\n",
    "        if (p_chart):\n",
    "            charts.append(p_chart)\n",
    "\n",
    "    # solución parche para mostrar los datos dependiendo de como vengan\n",
    "    if (len(charts)== 1):\n",
    "        deploy = alt.hconcat(charts[0]\n",
    "                            ).resolve_scale(y='shared') \n",
    "    elif (len(charts)== 2):\n",
    "        deploy = alt.hconcat(charts[0],charts[1]\n",
    "                            ).resolve_scale(y='shared')\n",
    "    elif (len(charts)== 3):\n",
    "        deploy = alt.hconcat(charts[0],charts[1]\n",
    "                            ).resolve_scale(y='shared') & alt.hconcat(charts[2]\n",
    "                                                                     ).resolve_scale(y='shared')\n",
    "    elif (len(charts)== 4):\n",
    "        deploy = alt.hconcat(charts[0],charts[1]\n",
    "                            ).resolve_scale(y='shared') & alt.hconcat(charts[2],charts[3]\n",
    "                                                                     ).resolve_scale(y='shared')    \n",
    "    return deploy.configure_legend(\n",
    "        titleFontSize=18,\n",
    "        labelFontSize=14\n",
    "    ).configure_title(\n",
    "        fontSize=20,\n",
    "        font='Courier',\n",
    "        anchor='middle',\n",
    "        color='gray'\n",
    "    ).properties(\n",
    "        title=([\"Registros vs Solicitudes de Patentes\", institucion, \"   \"])\n",
    "    )"
   ]
  },
  {
   "cell_type": "code",
   "execution_count": null,
   "metadata": {
    "executionInfo": {
     "elapsed": 7,
     "status": "aborted",
     "timestamp": 1633491136167,
     "user": {
      "displayName": "Franco Andrés Álvarez Alvarado",
      "photoUrl": "https://lh3.googleusercontent.com/a-/AOh14GjYRV5Bb1DybMN5Fx2C3bv01t9C3p-Fw3UGNeLM0Q=s64",
      "userId": "15818866616587697807"
     },
     "user_tz": 180
    },
    "id": "DVL6vhNSn0HX"
   },
   "outputs": [],
   "source": [
    "# YOU CAN ADD MANUALY OR CONSULT toConcatenate DATAFRAME WITH COLABORATORS\n",
    "\n",
    "lista_instituciones = ['UNIVERSIDAD DE CONCEPCION', 'UNIVERSIDAD DEL BIO BIO', \n",
    "                       'UNIVERSIDAD DE TALCA','UNIVERSIDAD DE LA SERENA',\n",
    "                       'UNIVERSIDAD CATOLICA DE TEMUCO']\n",
    "\n",
    "interact(getZonesChartsByInstitution, institucion= lista_instituciones)"
   ]
  },
  {
   "cell_type": "markdown",
   "metadata": {
    "id": "adI9nJ8on_uZ"
   },
   "source": [
    "# Punto 2 a corregir\n",
    "## Corregido ✅\n",
    "#### Gráficos de conteo por Región\n",
    "#### Conteo para Applicants "
   ]
  },
  {
   "cell_type": "code",
   "execution_count": null,
   "metadata": {},
   "outputs": [],
   "source": [
    "chart = alt.Chart(df_macrozone[[\"ApplicantRegion\",\"Year\"]]).mark_bar().encode(\n",
    "    x=alt.X('Year:O', title=None),\n",
    "    y=alt.Y('count()', title='Solicitudes'),\n",
    "    color = alt.Color('ApplicantRegion:N', legend=alt.Legend(title=\"Región\"), scale=alt.Scale(scheme='dark2')),\n",
    "    tooltip = [alt.Tooltip ('Year'),alt.Tooltip('ApplicantRegion', title='Región'),\n",
    "               alt.Tooltip('count()',title = 'N° de Applicants')]\n",
    ").configure_legend(\n",
    "    titleFontSize=18,\n",
    "    labelFontSize=14\n",
    ").configure_axis(\n",
    "    labelFontSize=14,\n",
    "    titleFontSize=16\n",
    ").configure_title(\n",
    "    fontSize=20,\n",
    "    font='Courier',\n",
    "    anchor='middle',\n",
    "    color='gray'\n",
    ").properties(\n",
    "    title=([\"Solicitudes por Región\" , \"   \"])\n",
    ")\n",
    "\n",
    "chart"
   ]
  }
 ],
 "metadata": {
  "colab": {
   "authorship_tag": "ABX9TyNqv3DDt2fd5E8F9fZ46k9/",
   "name": "INAPI.ipynb",
   "provenance": []
  },
  "kernelspec": {
   "display_name": "Python 3",
   "language": "python",
   "name": "python3"
  },
  "language_info": {
   "codemirror_mode": {
    "name": "ipython",
    "version": 3
   },
   "file_extension": ".py",
   "mimetype": "text/x-python",
   "name": "python",
   "nbconvert_exporter": "python",
   "pygments_lexer": "ipython3",
   "version": "3.9.4"
  }
 },
 "nbformat": 4,
 "nbformat_minor": 1
}
