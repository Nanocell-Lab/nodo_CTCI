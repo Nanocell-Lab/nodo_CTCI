{
 "cells": [
  {
   "cell_type": "markdown",
   "metadata": {
    "id": "veyGL7-QBvob"
   },
   "source": [
    "# Contenido\n",
    "\n",
    "1. Desglose general de montos\n",
    "2. Conteos por región\n",
    "3. Montos por tipo de instrumento\n",
    "4. Conteo por región + % de sector"
   ]
  },
  {
   "cell_type": "code",
   "execution_count": null,
   "metadata": {
    "colab": {
     "base_uri": "https://localhost:8080/"
    },
    "executionInfo": {
     "elapsed": 807,
     "status": "ok",
     "timestamp": 1634255340484,
     "user": {
      "displayName": "Franco Andrés Álvarez Alvarado",
      "photoUrl": "https://lh3.googleusercontent.com/a-/AOh14GjYRV5Bb1DybMN5Fx2C3bv01t9C3p-Fw3UGNeLM0Q=s64",
      "userId": "15818866616587697807"
     },
     "user_tz": 180
    },
    "id": "6nOx6-HaqobT",
    "outputId": "4860ecc7-4777-492a-f700-c3dd07dbe13d"
   },
   "outputs": [],
   "source": [
    "import pandas as pd \n",
    "import altair as alt\n",
    "#from thefuzz import fuzz\n",
    "# el archivo está descargado y actualizado al 15/11/2021\n",
    "df = pd.read_excel(\"../../data/portafolio_innova.xlsx\")"
   ]
  },
  {
   "cell_type": "code",
   "execution_count": null,
   "metadata": {},
   "outputs": [],
   "source": [
    "df.columns"
   ]
  },
  {
   "cell_type": "code",
   "execution_count": null,
   "metadata": {},
   "outputs": [],
   "source": [
    "# Filtro por regiones y foco_apoyo\n",
    "zona = [\"Región del Biobío\", \"Región del Libertador General Bernardo O'Higgins\",\"Región del Maule\", \"Región de Ñuble\"]\n",
    "df = df.query(\"foco_apoyo == 'Desarrolla innovación con I+D' and regionejecucion in @zona\")\n",
    "# para mas adelante\n",
    "df['area_ocde'] = df['sector_equivalente']\n",
    "df['area_anid'] = df['sector_equivalente']"
   ]
  },
  {
   "cell_type": "code",
   "execution_count": null,
   "metadata": {
    "executionInfo": {
     "elapsed": 39,
     "status": "ok",
     "timestamp": 1634255340485,
     "user": {
      "displayName": "Franco Andrés Álvarez Alvarado",
      "photoUrl": "https://lh3.googleusercontent.com/a-/AOh14GjYRV5Bb1DybMN5Fx2C3bv01t9C3p-Fw3UGNeLM0Q=s64",
      "userId": "15818866616587697807"
     },
     "user_tz": 180
    },
    "id": "Rde0RCc9rXdr"
   },
   "outputs": [],
   "source": [
    "pd_1 = df.groupby(['anio_adjudicacion', 'tipo_intervencion','sostenible'])\\\n",
    "      .agg({'codigo': 'count','aprobado_corfo':'sum', 'monto_consolidado_ley':'sum'})\\\n",
    "      .reset_index().copy()\n",
    "pd_1['monto'] = pd_1['monto_consolidado_ley']+pd_1['aprobado_corfo']\n",
    "pd_1 = pd_1.drop(['monto_consolidado_ley','aprobado_corfo'], 1)\n",
    "# Convertimos a monto en miles de millones\n",
    "pd_1['monto'] = pd_1['monto']/1000000000 #solo para visualización\n",
    "# subset con todos los proyectos\n",
    "pd_1a = pd_1.groupby(['anio_adjudicacion', 'tipo_intervencion'])\\\n",
    "      .agg({'codigo': 'sum','monto':'sum'})\\\n",
    "      .reset_index().copy()\n",
    "#Gráfico estándar\n",
    "chart =  alt.Chart().mark_bar().encode(\n",
    "            x = alt.X('tipo_intervencion:O',title=None,axis=alt.Axis(labels=False)),\n",
    "            y = alt.Y('monto:Q', title='Miles de millones'),\n",
    "            color = alt.Color('tipo_intervencion', title='Intervención') # as third parameter use {,scale=alt.Scale(scheme='accent')}\n",
    "          )\n",
    "text = chart.mark_text(align='center', baseline='middle', dy=-10).\\\n",
    "                encode(text = alt.Text(\"monto\", format=\".2\"))"
   ]
  },
  {
   "cell_type": "code",
   "execution_count": null,
   "metadata": {
    "colab": {
     "base_uri": "https://localhost:8080/",
     "height": 440
    },
    "executionInfo": {
     "elapsed": 38,
     "status": "ok",
     "timestamp": 1634255340485,
     "user": {
      "displayName": "Franco Andrés Álvarez Alvarado",
      "photoUrl": "https://lh3.googleusercontent.com/a-/AOh14GjYRV5Bb1DybMN5Fx2C3bv01t9C3p-Fw3UGNeLM0Q=s64",
      "userId": "15818866616587697807"
     },
     "user_tz": 180
    },
    "id": "zMFKEQRnrkbJ",
    "outputId": "9f12edb2-7d84-4559-ef00-09ffce0f9f98"
   },
   "outputs": [],
   "source": [
    "# misma tabla de montos segmentados en subsidio y ley\n",
    "# se puede extrapolar a otros tipos de segmentaciones, como área o región por ejemplo\n",
    "alt.layer(chart, text, data=pd_1a).facet(column=alt.Column('anio_adjudicacion', title=None), spacing=2).properties(\n",
    "    title=['Portafolio desarrollo innovación con I+D','Subsidio y Ley de I+D','']\n",
    ").configure_legend(titleFontSize=14,labelFontSize=10).configure_title(\n",
    "    fontSize=20, font='Arial', anchor='middle',color='black'\n",
    "  )"
   ]
  },
  {
   "cell_type": "code",
   "execution_count": null,
   "metadata": {
    "colab": {
     "base_uri": "https://localhost:8080/",
     "height": 452
    },
    "executionInfo": {
     "elapsed": 37,
     "status": "ok",
     "timestamp": 1634255340485,
     "user": {
      "displayName": "Franco Andrés Álvarez Alvarado",
      "photoUrl": "https://lh3.googleusercontent.com/a-/AOh14GjYRV5Bb1DybMN5Fx2C3bv01t9C3p-Fw3UGNeLM0Q=s64",
      "userId": "15818866616587697807"
     },
     "user_tz": 180
    },
    "id": "o6u7I-BmLaPB",
    "outputId": "adf2811d-791a-4b81-b272-7ccceff8821a"
   },
   "outputs": [],
   "source": [
    "# utilizamos solo proyectos sostenibles\n",
    "alt.layer(chart, text, data=pd_1[pd_1['sostenible']=='Sí']).facet(column=alt.Column('anio_adjudicacion', title=None), spacing=2).properties(\n",
    "    title=['Portafolio desarrollo innovación con I+D','Proyectos Sostenibles','Subsidio y Ley de I+D','']\n",
    ").configure_legend(titleFontSize=14,labelFontSize=10).configure_title(\n",
    "    fontSize=20, font='Arial', anchor='middle',color='black'\n",
    "  )"
   ]
  },
  {
   "cell_type": "code",
   "execution_count": null,
   "metadata": {
    "colab": {
     "base_uri": "https://localhost:8080/",
     "height": 204
    },
    "executionInfo": {
     "elapsed": 36,
     "status": "ok",
     "timestamp": 1634255340486,
     "user": {
      "displayName": "Franco Andrés Álvarez Alvarado",
      "photoUrl": "https://lh3.googleusercontent.com/a-/AOh14GjYRV5Bb1DybMN5Fx2C3bv01t9C3p-Fw3UGNeLM0Q=s64",
      "userId": "15818866616587697807"
     },
     "user_tz": 180
    },
    "id": "bqK_0wEF2dGM",
    "outputId": "410a492d-0102-40b9-d54c-8048420033a5"
   },
   "outputs": [],
   "source": [
    "# Obtener valores por región\n",
    "pd_2 = df.groupby(['regionejecucion'])\\\n",
    "      .agg({'codigo': 'count'})\\\n",
    "      .copy()\n",
    "pd_2['tasa'] = pd_2['codigo'] / pd_2['codigo'].sum() *100\n",
    "pd_2"
   ]
  },
  {
   "cell_type": "code",
   "execution_count": null,
   "metadata": {
    "colab": {
     "base_uri": "https://localhost:8080/",
     "height": 272
    },
    "executionInfo": {
     "elapsed": 616,
     "status": "ok",
     "timestamp": 1634256041890,
     "user": {
      "displayName": "Franco Andrés Álvarez Alvarado",
      "photoUrl": "https://lh3.googleusercontent.com/a-/AOh14GjYRV5Bb1DybMN5Fx2C3bv01t9C3p-Fw3UGNeLM0Q=s64",
      "userId": "15818866616587697807"
     },
     "user_tz": 180
    },
    "id": "gne7zb_9rtta",
    "outputId": "a2418efb-aa04-47be-921e-0017ee513ef3"
   },
   "outputs": [],
   "source": [
    "# calculo de montos por instrumentos y total\n",
    "pd_3 = df.groupby(['regionejecucion'])\\\n",
    "        .agg({'monto_consolidado_ley':'sum','aprobado_corfo':'sum','aprobado_privado_pecuniario':'sum'}).copy()\n",
    "# Convertimos a monto\n",
    "conversion = 1000000000\n",
    "pd_3['monto_consolidado_ley'] = pd_3['monto_consolidado_ley']/conversion\n",
    "pd_3['aprobado_corfo'] = pd_3['aprobado_corfo']/conversion\n",
    "pd_3['aprobado_privado_pecuniario'] = (pd_3['aprobado_privado_pecuniario']/conversion)\n",
    "\n",
    "print('Montos x subsidio: $',pd_3['aprobado_corfo'].sum()*conversion)\n",
    "print('Montos x ley de I+D: $',pd_3['monto_consolidado_ley'].sum()*conversion)\n",
    "print('Montos x privados: $',int(pd_3['aprobado_privado_pecuniario'].sum())*conversion)\n",
    "\n",
    "pd_3['tasa_corfo'] = pd_3['aprobado_corfo'] / pd_3['aprobado_corfo'].sum() *100\n",
    "pd_3['tasa_ley'] = pd_3['monto_consolidado_ley'] / pd_3['monto_consolidado_ley'].sum() *100\n",
    "pd_3['tasa_privado'] = pd_3['aprobado_privado_pecuniario'] / pd_3['aprobado_privado_pecuniario'].sum() *100\n",
    "\n",
    "pd_3"
   ]
  },
  {
   "cell_type": "code",
   "execution_count": null,
   "metadata": {
    "colab": {
     "base_uri": "https://localhost:8080/",
     "height": 204
    },
    "executionInfo": {
     "elapsed": 26,
     "status": "ok",
     "timestamp": 1634255340486,
     "user": {
      "displayName": "Franco Andrés Álvarez Alvarado",
      "photoUrl": "https://lh3.googleusercontent.com/a-/AOh14GjYRV5Bb1DybMN5Fx2C3bv01t9C3p-Fw3UGNeLM0Q=s64",
      "userId": "15818866616587697807"
     },
     "user_tz": 180
    },
    "id": "y-LKViKLNqNT",
    "outputId": "72fdbcf3-f43f-430d-c19c-50d9866c72b7"
   },
   "outputs": [],
   "source": [
    "pd_4 = df.groupby(['regionejecucion', 'sector_equivalente'])\\\n",
    "      .agg({'codigo': 'count'})\\\n",
    "      .copy()\n",
    "pd_4['TASA'] = pd_4.groupby(level=0).apply(lambda x: x/x.sum())\n",
    "pd_4 = pd_4.reset_index().sort_values('codigo',ascending=False)\n",
    "pd_4.head()"
   ]
  },
  {
   "cell_type": "code",
   "execution_count": null,
   "metadata": {
    "colab": {
     "base_uri": "https://localhost:8080/",
     "height": 576
    },
    "executionInfo": {
     "elapsed": 24,
     "status": "ok",
     "timestamp": 1634255340486,
     "user": {
      "displayName": "Franco Andrés Álvarez Alvarado",
      "photoUrl": "https://lh3.googleusercontent.com/a-/AOh14GjYRV5Bb1DybMN5Fx2C3bv01t9C3p-Fw3UGNeLM0Q=s64",
      "userId": "15818866616587697807"
     },
     "user_tz": 180
    },
    "id": "TF1A5AM9PRKV",
    "outputId": "6ad6e6a5-0ebd-4891-d59f-f493f8fa1038"
   },
   "outputs": [],
   "source": [
    "chart4 =  alt.Chart(pd_4).mark_bar().encode(\n",
    "            x = alt.X('codigo',title=None),\n",
    "            y = alt.Y('sector_equivalente',title=None,sort=None),\n",
    "            color = alt.Color('regionejecucion',\n",
    "                      title='Región',scale=alt.Scale(scheme='dark2')),\n",
    "          )\n",
    "chart4.properties(\n",
    "    title=['Portafolio desarrollo innovación con I+D','Sectores de Desarrollo','']\n",
    ").configure_legend(titleFontSize=14,labelFontSize=10).configure_title(\n",
    "    fontSize=20, font='Arial', anchor='middle',color='black'\n",
    "  )"
   ]
  },
  {
   "cell_type": "code",
   "execution_count": null,
   "metadata": {
    "colab": {
     "base_uri": "https://localhost:8080/",
     "height": 793
    },
    "executionInfo": {
     "elapsed": 24,
     "status": "ok",
     "timestamp": 1634255340487,
     "user": {
      "displayName": "Franco Andrés Álvarez Alvarado",
      "photoUrl": "https://lh3.googleusercontent.com/a-/AOh14GjYRV5Bb1DybMN5Fx2C3bv01t9C3p-Fw3UGNeLM0Q=s64",
      "userId": "15818866616587697807"
     },
     "user_tz": 180
    },
    "id": "80IgNjJ7toK6",
    "outputId": "35c371ab-46b4-445d-d4bd-185140fdb21b"
   },
   "outputs": [],
   "source": [
    "pd_4.groupby(['sector_equivalente']).agg({'codigo':'sum'}).sort_values('codigo', ascending=False)"
   ]
  },
  {
   "cell_type": "code",
   "execution_count": null,
   "metadata": {
    "colab": {
     "base_uri": "https://localhost:8080/",
     "height": 793
    },
    "executionInfo": {
     "elapsed": 23,
     "status": "ok",
     "timestamp": 1634255340487,
     "user": {
      "displayName": "Franco Andrés Álvarez Alvarado",
      "photoUrl": "https://lh3.googleusercontent.com/a-/AOh14GjYRV5Bb1DybMN5Fx2C3bv01t9C3p-Fw3UGNeLM0Q=s64",
      "userId": "15818866616587697807"
     },
     "user_tz": 180
    },
    "id": "pVuFbu5hI5qK",
    "outputId": "ab7bb874-4034-4b83-dc2f-cf369154c4cc"
   },
   "outputs": [],
   "source": [
    "df_aux2 = df.groupby(['sector_equivalente'])\\\n",
    "          .agg({'codigo':'count','monto_consolidado_ley':'sum','aprobado_corfo':'sum'})\\\n",
    "          .sort_values('aprobado_corfo', ascending=False)\n",
    "#a miles de millones\n",
    "df_aux2['monto_consolidado_ley'] = df_aux2['monto_consolidado_ley'] /1000000000\n",
    "df_aux2['aprobado_corfo'] = df_aux2['aprobado_corfo'] /1000000000\n",
    "df_aux2"
   ]
  },
  {
   "cell_type": "code",
   "execution_count": null,
   "metadata": {
    "colab": {
     "base_uri": "https://localhost:8080/"
    },
    "executionInfo": {
     "elapsed": 22,
     "status": "ok",
     "timestamp": 1634255340487,
     "user": {
      "displayName": "Franco Andrés Álvarez Alvarado",
      "photoUrl": "https://lh3.googleusercontent.com/a-/AOh14GjYRV5Bb1DybMN5Fx2C3bv01t9C3p-Fw3UGNeLM0Q=s64",
      "userId": "15818866616587697807"
     },
     "user_tz": 180
    },
    "id": "e9gtbpKgwuYR",
    "outputId": "e071e319-8a02-4877-9f90-544077a50b4f"
   },
   "outputs": [],
   "source": [
    "df['sector_equivalente'].unique()"
   ]
  },
  {
   "cell_type": "code",
   "execution_count": null,
   "metadata": {
    "colab": {
     "base_uri": "https://localhost:8080/",
     "height": 204
    },
    "executionInfo": {
     "elapsed": 16,
     "status": "ok",
     "timestamp": 1634255340487,
     "user": {
      "displayName": "Franco Andrés Álvarez Alvarado",
      "photoUrl": "https://lh3.googleusercontent.com/a-/AOh14GjYRV5Bb1DybMN5Fx2C3bv01t9C3p-Fw3UGNeLM0Q=s64",
      "userId": "15818866616587697807"
     },
     "user_tz": 180
    },
    "id": "vrwEIdhUuJhN",
    "outputId": "63751f69-24ed-44c3-aacb-2a3dc8d080c2"
   },
   "outputs": [],
   "source": [
    "# no se que pueden significar estos datos\n",
    "# son los otros 2 tipos de montos asociados a cada postulación\n",
    "aux = df.groupby(['regionejecucion'])\\\n",
    "        .agg({'aprobado_privado_pecuniario':'sum','aprobado_privado':'sum'}).copy()\n",
    "aux"
   ]
  },
  {
   "cell_type": "code",
   "execution_count": null,
   "metadata": {
    "colab": {
     "base_uri": "https://localhost:8080/",
     "height": 675
    },
    "executionInfo": {
     "elapsed": 935,
     "status": "ok",
     "timestamp": 1634255341407,
     "user": {
      "displayName": "Franco Andrés Álvarez Alvarado",
      "photoUrl": "https://lh3.googleusercontent.com/a-/AOh14GjYRV5Bb1DybMN5Fx2C3bv01t9C3p-Fw3UGNeLM0Q=s64",
      "userId": "15818866616587697807"
     },
     "user_tz": 180
    },
    "id": "RdNKfhJFOnbD",
    "outputId": "c19c38e9-e52b-4f42-d367-081c0dec6e1e"
   },
   "outputs": [],
   "source": [
    "source = df\n",
    "base = alt.Chart(source).transform_aggregate(\n",
    "    count='count()',\n",
    "    groupby=['regionejecucion', 'sector_equivalente']\n",
    ").encode(\n",
    "    alt.X('regionejecucion:O',title=None, scale=alt.Scale(paddingInner=0)),\n",
    "    alt.Y('sector_equivalente:O',title=None, scale=alt.Scale(paddingInner=0)),\n",
    ")\n",
    "heatmap = base.mark_rect().encode(\n",
    "    color=alt.Color('count:Q',\n",
    "        scale=alt.Scale(scheme='goldorange'),\n",
    "        legend=alt.Legend(direction='horizontal')\n",
    "    )\n",
    ")\n",
    "text = base.mark_text(baseline='middle').encode(\n",
    "    text='count:Q',\n",
    "    color=alt.condition(\n",
    "        alt.datum.count < 0.5,\n",
    "        alt.value('black'),\n",
    "        alt.value('white')\n",
    "    )\n",
    ")\n",
    "heatmap + text"
   ]
  },
  {
   "cell_type": "markdown",
   "metadata": {
    "id": "QOPdGk1WtNje"
   },
   "source": [
    "# PReguntas Alexis"
   ]
  },
  {
   "cell_type": "code",
   "execution_count": null,
   "metadata": {
    "colab": {
     "base_uri": "https://localhost:8080/",
     "height": 570
    },
    "executionInfo": {
     "elapsed": 5,
     "status": "ok",
     "timestamp": 1634255341408,
     "user": {
      "displayName": "Franco Andrés Álvarez Alvarado",
      "photoUrl": "https://lh3.googleusercontent.com/a-/AOh14GjYRV5Bb1DybMN5Fx2C3bv01t9C3p-Fw3UGNeLM0Q=s64",
      "userId": "15818866616587697807"
     },
     "user_tz": 180
    },
    "id": "GTgFQG2jR0k3",
    "outputId": "a67d3a71-f453-43a3-81d1-cdfb6398738b"
   },
   "outputs": [],
   "source": [
    "#5. ¿En qué áreas se está invirtiendo más en la región los últimos 3 años?\n",
    "\n",
    "df_pg5 = df[df['anio_adjudicacion'].isin([2019,2020,2021])].copy() #se puede modificar años\n",
    "df_pg5 = df_pg5.groupby(['sector_equivalente','area_ocde','area_anid','anio_adjudicacion'])\\\n",
    "          .agg({'codigo':'count','monto_consolidado_ley':'sum'}).reset_index()\n",
    "df_pg5 = df_pg5\n",
    "alt.Chart(df_pg5).mark_bar().encode(\n",
    "  x = alt.X('area_ocde:O',title=None),\n",
    "  y = alt.Y('monto_consolidado_ley:Q', title='Miles de millones'),\n",
    "  color = alt.Color('area_ocde', title='Área OCDE'), # as third parameter use {,scale=alt.Scale(scheme='accent')}\n",
    "  column = 'anio_adjudicacion'\n",
    ")"
   ]
  },
  {
   "cell_type": "code",
   "execution_count": null,
   "metadata": {
    "executionInfo": {
     "elapsed": 4,
     "status": "ok",
     "timestamp": 1634255341408,
     "user": {
      "displayName": "Franco Andrés Álvarez Alvarado",
      "photoUrl": "https://lh3.googleusercontent.com/a-/AOh14GjYRV5Bb1DybMN5Fx2C3bv01t9C3p-Fw3UGNeLM0Q=s64",
      "userId": "15818866616587697807"
     },
     "user_tz": 180
    },
    "id": "IMOYshwoxeTX"
   },
   "outputs": [],
   "source": [
    "def SetAreaOCDE(sector):\n",
    "    if sector == 'Agrícola (excepto vitivinicola)':\n",
    "        return 'Ciencias Agrícolas'\n",
    "    elif sector == 'Alimentos (excepto vitivinicola)':\n",
    "        return 'Ingeniería, Tecnología ...'\n",
    "    elif sector == 'Servicios de ingeniería o de conocimiento':\n",
    "        return 'Ingeniería, Tecnología ...'\n",
    "    elif sector == 'Manufactura de metales básicos':\n",
    "        return 'Ingeniería, Tecnología ...'\n",
    "    elif sector == 'Química, caucho y plásticos (excepto industria farmaceutica)':\n",
    "        return 'Ingeniería, Tecnología ...'\n",
    "    elif sector == 'Minería y metalurgia extractiva':\n",
    "        return 'Ingeniería, Tecnología ...'\n",
    "    elif sector == 'Construcción':\n",
    "        return 'Ingeniería, Tecnología ...'\n",
    "    elif sector == 'Farmaceutica':\n",
    "        return 'Ciencias médicas, Ciencias de la salud'\n",
    "    elif sector == 'Comercio y retail':\n",
    "        return 'Ciencias Sociales'\n",
    "    elif sector == 'Pesca y acuicultura':\n",
    "        return 'Ciencias Agrícolas'\n",
    "    elif sector == 'Servicios empresariales administrativos y de apoyo':\n",
    "        return 'Ciencias Sociales'\n",
    "    elif sector == 'Forestal':\n",
    "        return 'Ciencias Agrícolas'\n",
    "    elif sector == 'Gestión de desechos':   #NO SÉ COMO CLASIFICARLO MEJOR\n",
    "        return 'Gestión de desechos'\n",
    "    elif sector == 'Educación':\n",
    "        return 'Ciencias Sociales'\n",
    "    elif sector == 'Ganadero':\n",
    "        return 'Ciencias Agrícolas'\n",
    "    elif sector == 'Manufactura de maquinaria y equipos (Metalmecánico)':\n",
    "        return 'Ingeniería, Tecnología ...'\n",
    "    elif sector ==  'Tecnologías de la información':\n",
    "        return 'Ingeniería, Tecnología ...'       #PODRIA QUEDAR COMO CIENCIAS NATURALES\n",
    "                                                  # según: https://vrid.udec.cl/sites/default/files/Areas%20de%20Investigación%20OCDE_0.pdf#overlay-context=formularioseinstructivos\n",
    "    elif sector == 'Salud y asistencia social':\n",
    "        return 'Ciencias médicas, Ciencias de la salud'        \n",
    "    elif sector == 'Logística y Transporte':\n",
    "        return 'Ingeniería, Tecnología ...' \n",
    "    elif sector == 'Recursos Hídricos':\n",
    "        return 'Ciencias Naturales'\n",
    "    elif sector == 'Manufactura de no metálicos':\n",
    "        return 'Ingeniería, Tecnología ...'\n",
    "    elif sector == 'Energético':\n",
    "        return 'Ciencias Naturales'\n",
    "    return sector\n",
    "\n",
    "def SetAreaANID(sector):\n",
    "    if sector == 'Agrícola (excepto vitivinicola)':\n",
    "        return 'Tecnología, Agrícola y Productividad'\n",
    "    elif sector == 'Alimentos (excepto vitivinicola)':\n",
    "        return 'Tecnología y ciencias Silvoagropecuarias'\n",
    "    elif sector == 'Servicios de ingeniería o de conocimiento':\n",
    "        return 'Tecnología y ciencias de la Ingeniería'\n",
    "    elif sector == 'Manufactura de metales básicos':\n",
    "        return 'Tecnología y ciencias de la Ingeniería'\n",
    "    elif sector == 'Química, caucho y plásticos (excepto industria farmaceutica)':\n",
    "        return 'Ciencias exactas y naturales'\n",
    "    elif sector == 'Minería y metalurgia extractiva':\n",
    "        return 'Ciencias exactas y naturales'\n",
    "    elif sector == 'Construcción':\n",
    "        return 'Tecnología y ciencias de la Ingeniería'\n",
    "    elif sector == 'Farmaceutica':\n",
    "        return 'Ciencias exactas y naturales'\n",
    "    elif sector == 'Comercio y retail':\n",
    "        return 'Ciencias jurídicas, económicas y administrativas'\n",
    "    elif sector == 'Pesca y acuicultura':\n",
    "        return 'Tecnología y ciencias Silvoagropecuarias'\n",
    "    elif sector == 'Servicios empresariales administrativos y de apoyo':\n",
    "        return 'Ciencias jurídicas, económicas y administrativas'\n",
    "    elif sector == 'Forestal':\n",
    "        return 'Tecnología y ciencias Silvoagropecuarias'\n",
    "    elif sector == 'Gestión de desechos':  \n",
    "        return 'Ciencias sociales'\n",
    "    elif sector == 'Educación':\n",
    "        return 'Ciencias sociales'\n",
    "    elif sector == 'Ganadero':\n",
    "        return 'Tecnología y ciencias Silvoagropecuarias'\n",
    "    elif sector == 'Manufactura de maquinaria y equipos (Metalmecánico)':\n",
    "        return 'Tecnología y ciencias de la Ingeniería'\n",
    "    elif sector ==  'Tecnologías de la información':\n",
    "        return  'Tecnología y ciencias de la Ingeniería'\n",
    "    elif sector == 'Salud y asistencia social':\n",
    "        return  'Tecnología y ciencias médicas'\n",
    "    elif sector == 'Logística y Transporte':\n",
    "        return 'Tecnología y ciencias de la Ingeniería'\n",
    "    elif sector == 'Recursos Hídricos':\n",
    "        return 'Ciencias exactas y naturales'\n",
    "    elif sector == 'Manufactura de no metálicos':\n",
    "        return 'Tecnología y ciencias de la Ingeniería'\n",
    "    elif sector == 'Energético':\n",
    "        return 'Ciencias jurídicas, económicas y administrativas'\n",
    "    return sector\n",
    "\n",
    "\n",
    "\n",
    "\n",
    "\n",
    "\n",
    "df['area_ocde'] = df['area_ocde'].apply(SetAreaOCDE)\n",
    "df['area_anid'] = df['area_anid'].apply(SetAreaANID)"
   ]
  },
  {
   "cell_type": "code",
   "execution_count": null,
   "metadata": {
    "executionInfo": {
     "elapsed": 4,
     "status": "ok",
     "timestamp": 1634255341408,
     "user": {
      "displayName": "Franco Andrés Álvarez Alvarado",
      "photoUrl": "https://lh3.googleusercontent.com/a-/AOh14GjYRV5Bb1DybMN5Fx2C3bv01t9C3p-Fw3UGNeLM0Q=s64",
      "userId": "15818866616587697807"
     },
     "user_tz": 180
    },
    "id": "K1T_pytq4USf"
   },
   "outputs": [],
   "source": [
    "df_pg5.to_excel(\"output.xlsx\")  "
   ]
  },
  {
   "cell_type": "code",
   "execution_count": null,
   "metadata": {
    "colab": {
     "base_uri": "https://localhost:8080/"
    },
    "executionInfo": {
     "elapsed": 520,
     "status": "ok",
     "timestamp": 1634255408496,
     "user": {
      "displayName": "Franco Andrés Álvarez Alvarado",
      "photoUrl": "https://lh3.googleusercontent.com/a-/AOh14GjYRV5Bb1DybMN5Fx2C3bv01t9C3p-Fw3UGNeLM0Q=s64",
      "userId": "15818866616587697807"
     },
     "user_tz": 180
    },
    "id": "uS8MYmt6Nnmw",
    "outputId": "3875d98d-8cba-4330-b877-9c9814a8eeab"
   },
   "outputs": [],
   "source": [
    "df.columns"
   ]
  }
 ],
 "metadata": {
  "colab": {
   "authorship_tag": "ABX9TyN9I2s4ak1FSZjxVLwIeacQ",
   "mount_file_id": "1Okkaav2ChOyPPKWeHYq0LPL07WL0rQ5_",
   "name": "DataInnovación.ipynb",
   "provenance": []
  },
  "kernelspec": {
   "display_name": "Python 3",
   "language": "python",
   "name": "python3"
  },
  "language_info": {
   "codemirror_mode": {
    "name": "ipython",
    "version": 3
   },
   "file_extension": ".py",
   "mimetype": "text/x-python",
   "name": "python",
   "nbconvert_exporter": "python",
   "pygments_lexer": "ipython3",
   "version": "3.9.4"
  }
 },
 "nbformat": 4,
 "nbformat_minor": 1
}
