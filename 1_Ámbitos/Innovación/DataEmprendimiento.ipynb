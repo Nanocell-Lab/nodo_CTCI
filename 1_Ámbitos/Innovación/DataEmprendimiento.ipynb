{
 "cells": [
  {
   "cell_type": "code",
   "execution_count": null,
   "metadata": {
    "colab": {
     "base_uri": "https://localhost:8080/",
     "height": 204
    },
    "executionInfo": {
     "elapsed": 914,
     "status": "ok",
     "timestamp": 1634233887225,
     "user": {
      "displayName": "Franco Andrés Álvarez Alvarado",
      "photoUrl": "https://lh3.googleusercontent.com/a-/AOh14GjYRV5Bb1DybMN5Fx2C3bv01t9C3p-Fw3UGNeLM0Q=s64",
      "userId": "15818866616587697807"
     },
     "user_tz": 180
    },
    "id": "bb1-gMMe0uGs",
    "outputId": "f5610a33-2910-461f-fb3e-5e32ed04edb4"
   },
   "outputs": [],
   "source": [
    "import pandas as pd\n",
    "import altair as alt\n",
    "\n",
    "df_emp = pd.read_excel('../../data/portafolio_empren.xlsx')\n",
    "df_emp.head()"
   ]
  },
  {
   "cell_type": "code",
   "execution_count": null,
   "metadata": {
    "colab": {
     "base_uri": "https://localhost:8080/",
     "height": 283
    },
    "executionInfo": {
     "elapsed": 712,
     "status": "ok",
     "timestamp": 1634252904024,
     "user": {
      "displayName": "Franco Andrés Álvarez Alvarado",
      "photoUrl": "https://lh3.googleusercontent.com/a-/AOh14GjYRV5Bb1DybMN5Fx2C3bv01t9C3p-Fw3UGNeLM0Q=s64",
      "userId": "15818866616587697807"
     },
     "user_tz": 180
    },
    "id": "Gv4N7JIy7LiE",
    "outputId": "77b59fe8-76f9-4e6c-a4a9-ace6123a3d10"
   },
   "outputs": [],
   "source": [
    "alt.Chart(df_emp).mark_bar().encode(\n",
    "    y = alt.Y('count:Q',title=None),\n",
    "    x = alt.X('sector_economico:N',title=None, axis = alt.Axis(labels=False)),\n",
    "    column = alt.Column('anio',title=None), color = alt.Color('sector_economico',title='Sector Económico')\n",
    ").properties(\n",
    "     width=200,\n",
    "    height=150,\n",
    "    title=['Proyectos de emprendiemiento','Start-Up Chile','Macrozona Centro Sur','']\n",
    ").configure_title(anchor='middle', fontSize=16)\n"
   ]
  }
 ],
 "metadata": {
  "colab": {
   "authorship_tag": "ABX9TyOhVy2hxx6HyCgDMaVnzgP3",
   "mount_file_id": "148yT0xBU1_8ihC8jcrqDxDPgfAIwfZuY",
   "name": "DataEmprendimiento.ipynb",
   "provenance": []
  },
  "kernelspec": {
   "display_name": "Python 3",
   "language": "python",
   "name": "python3"
  },
  "language_info": {
   "codemirror_mode": {
    "name": "ipython",
    "version": 3
   },
   "file_extension": ".py",
   "mimetype": "text/x-python",
   "name": "python",
   "nbconvert_exporter": "python",
   "pygments_lexer": "ipython3",
   "version": "3.9.4"
  }
 },
 "nbformat": 4,
 "nbformat_minor": 1
}
