{
 "cells": [
  {
   "cell_type": "code",
   "execution_count": null,
   "id": "25787862",
   "metadata": {},
   "outputs": [],
   "source": [
    "# importando bibliotecas requerido en python\n",
    "import pandas as pd\n",
    "import altair as alt\n",
    "import seaborn as sns"
   ]
  },
  {
   "cell_type": "code",
   "execution_count": null,
   "id": "1e1e8d0d",
   "metadata": {},
   "outputs": [],
   "source": [
    "# infraestructura , datos CNED- total chile\n",
    "df_infra = pd.read_csv(\"../../data/5_HT1_Infraestructura_data.csv\")\n",
    "\n",
    "## matriculas macrozona\n",
    "df_matriculas = pd.read_excel(\"../../data/matriculas universidades.xlsx\")\n"
   ]
  },
  {
   "cell_type": "code",
   "execution_count": null,
   "id": "57e620dc",
   "metadata": {},
   "outputs": [],
   "source": [
    "df_matriculas.head()"
   ]
  },
  {
   "cell_type": "code",
   "execution_count": null,
   "id": "73ada9d9",
   "metadata": {},
   "outputs": [],
   "source": [
    "# lista de instituciones macrozona\n",
    "inst_zona = df_matriculas[\"Nombre Institución\"].unique()\n"
   ]
  },
  {
   "cell_type": "code",
   "execution_count": null,
   "id": "bdb7e15e",
   "metadata": {},
   "outputs": [],
   "source": [
    "# Filtrar df de infraestructura por instituciones macrozona\n",
    "df_infra_zona = df_infra.loc[df_infra[\"Nombre de Institución\"].isin(inst_zona)]"
   ]
  },
  {
   "cell_type": "code",
   "execution_count": null,
   "id": "96f810e9",
   "metadata": {},
   "outputs": [],
   "source": [
    "df_infra_zona_mts2 = df_infra_zona.loc[df_infra_zona['Measure Names']=='Matrícula Total / Mts2 Laboratorios']\n",
    "df_infra_zona_nlabs = df_infra_zona.loc[df_infra_zona['Measure Names']=='Matrícula Total/N° de Laboratorios']\n"
   ]
  },
  {
   "cell_type": "markdown",
   "id": "7f60f867",
   "metadata": {},
   "source": [
    "## Plot de Estudiantes x Mts2 de Laboratorio"
   ]
  },
  {
   "cell_type": "code",
   "execution_count": null,
   "id": "08beaf55",
   "metadata": {},
   "outputs": [],
   "source": [
    "## PLOT por regiones\n",
    "bars = alt.Chart(df_infra_zona_mts2).mark_bar(\n",
    "    cornerRadiusTopLeft=3,\n",
    "    cornerRadiusTopRight=3\n",
    ").encode(\n",
    "    y = alt.Y('Measure Values:Q',title=\"Matrícula Total / Mts2 Laboratorios\"),\n",
    "    x=alt.X('Nombre de Institución:O',title=\"Instituciones\",axis={\"labelAngle\":-90}),\n",
    "    color='Clasificación_D:N',\n",
    "    #column='Clasificación_D:N'\n",
    "\n",
    ").properties( width=700).resolve_scale(\n",
    "    #y='independent',\n",
    "    x='independent'\n",
    ").properties(\n",
    "    title=\"Estudiantes x Mts2 de Laboratorio en Instituciones Chilenas (Macrozona Centro Sur)\",\n",
    "    \n",
    ").configure_title(fontSize=16,anchor=\"middle\")\n",
    "\n",
    "#bars.save(\"inst_estu_labs_macrozona.png\",scale_factor=2.0)\n",
    "bars"
   ]
  },
  {
   "cell_type": "markdown",
   "id": "a4258339",
   "metadata": {},
   "source": [
    "## Plot Estudiantes x N de Laboratorios"
   ]
  },
  {
   "cell_type": "code",
   "execution_count": null,
   "id": "c664a6fd",
   "metadata": {},
   "outputs": [],
   "source": [
    "## PLOT por regiones\n",
    "bars = alt.Chart(df_infra_zona_nlabs).mark_bar(\n",
    "    cornerRadiusTopLeft=3,\n",
    "    cornerRadiusTopRight=3\n",
    ").encode(\n",
    "    y = alt.Y('Measure Values:Q',title=\"Matrícula Total/N° de Laboratorios\"),\n",
    "    x=alt.X('Nombre de Institución:O',title=\"Instituciones\",axis={\"labelAngle\":-90}),\n",
    "    color='Clasificación_D:N',\n",
    "    #column='Clasificación_D:N'\n",
    "\n",
    ").properties( width=700).resolve_scale(\n",
    "    #y='independent',\n",
    "    x='independent'\n",
    ").properties(\n",
    "    title=\"Estudiantes x Laboratorio en Instituciones Chilenas (Macrozona Centro Sur)\",\n",
    "    \n",
    ").configure_title(fontSize=16,anchor=\"middle\")\n",
    "\n",
    "#bars.save(\"inst_estu_labs_macrozona.png\",scale_factor=2.0)\n",
    "bars"
   ]
  },
  {
   "cell_type": "markdown",
   "id": "ca26c375",
   "metadata": {},
   "source": [
    "## Opcional\n",
    "### Plot el inverso y obtener  Mts2 Laboratorios/Matrícula Total"
   ]
  },
  {
   "cell_type": "code",
   "execution_count": null,
   "id": "99e652b8",
   "metadata": {},
   "outputs": [],
   "source": [
    "# Calcular el inverso y obtener Mts2 Laboratorios/Matrícula Total\n",
    "df_infra_zona_mts2.loc[:,\"Measure Values 2\"] = 1/df_infra_zona_mts2[\"Measure Values\"]"
   ]
  },
  {
   "cell_type": "code",
   "execution_count": null,
   "id": "55e51377",
   "metadata": {},
   "outputs": [],
   "source": [
    "\n",
    "\n",
    "\n",
    "## PLOT por regiones\n",
    "bars = alt.Chart(df_infra_zona_mts2).mark_bar(\n",
    "    cornerRadiusTopLeft=3,\n",
    "    cornerRadiusTopRight=3\n",
    ").encode(\n",
    "    y = alt.Y('Measure Values 2:Q',title=\"Mts2 Laboratorios/Matrícula Total\"),\n",
    "    x=alt.X('Nombre de Institución:O',title=\"Instituciones\",axis={\"labelAngle\":-90}),\n",
    "    color='Clasificación_D:N',\n",
    "    #column='Clasificación_D:N'\n",
    "\n",
    ").properties( width=700).resolve_scale(\n",
    "    #y='independent',\n",
    "    x='independent'\n",
    ").properties(\n",
    "    title=\"Mts2 de Laboratorio x Estudiante en Instituciones Chilenas (Macrozona Centro Sur)\",\n",
    "    \n",
    ").configure_title(fontSize=16,anchor=\"middle\")\n",
    "\n",
    "#bars.save(\"inst_estu_labs_macrozona.png\",scale_factor=2.0)\n",
    "bars"
   ]
  },
  {
   "cell_type": "code",
   "execution_count": null,
   "id": "60155892",
   "metadata": {},
   "outputs": [],
   "source": []
  }
 ],
 "metadata": {
  "kernelspec": {
   "display_name": "Python 3",
   "language": "python",
   "name": "python3"
  },
  "language_info": {
   "codemirror_mode": {
    "name": "ipython",
    "version": 3
   },
   "file_extension": ".py",
   "mimetype": "text/x-python",
   "name": "python",
   "nbconvert_exporter": "python",
   "pygments_lexer": "ipython3",
   "version": "3.9.4"
  }
 },
 "nbformat": 4,
 "nbformat_minor": 5
}
