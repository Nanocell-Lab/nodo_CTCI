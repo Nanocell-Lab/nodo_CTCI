{
 "cells": [
  {
   "cell_type": "markdown",
   "metadata": {},
   "source": [
    "# Análisis de Infraestructura\n",
    "## Datos desde CNED Chile\n",
    "* Ejecutado en mi entorno conda Stats\n",
    "* Autor: Alexis Salas Burgos \n",
    "* Fecha: Septiembre 2020"
   ]
  },
  {
   "cell_type": "code",
   "execution_count": null,
   "metadata": {},
   "outputs": [],
   "source": [
    "# importando bibliotecas requerido en python\n",
    "import pandas as pd\n",
    "import altair as alt\n",
    "import seaborn as sns"
   ]
  },
  {
   "cell_type": "code",
   "execution_count": null,
   "metadata": {},
   "outputs": [],
   "source": [
    "# infraestructura , datos CNED\n",
    "df_infra = pd.read_csv(\"../data/5_HT1_Infraestructura_data.csv\")\n",
    "\n",
    "## matriculas \n",
    "df_matriculas = pd.read_excel(\"../data/matriculas universidades.xlsx\")\n"
   ]
  },
  {
   "cell_type": "code",
   "execution_count": null,
   "metadata": {
    "scrolled": true
   },
   "outputs": [],
   "source": [
    "df_matriculas[\"Nombre Región\"].unique(),df_infra[\"Nombre de Institución\"].unique()"
   ]
  },
  {
   "cell_type": "code",
   "execution_count": null,
   "metadata": {},
   "outputs": [],
   "source": [
    "macrozona_centrosur = {\"Región del Biobío\":\"CENTRO SUR\", \"Región del Libertador General Bernardo O'Higgins\":\"CENTRO SUR\",\n",
    "                       \"Región del Maule\":\"CENTRO SUR\", \"Región de Ñuble\":\"CENTRO SUR\",\n",
    "                       \"Región Metropolitana de Santiago\": \"RM\"} "
   ]
  },
  {
   "cell_type": "code",
   "execution_count": null,
   "metadata": {
    "scrolled": true
   },
   "outputs": [],
   "source": [
    "df_infra.head()"
   ]
  },
  {
   "cell_type": "code",
   "execution_count": null,
   "metadata": {},
   "outputs": [],
   "source": [
    "df_matriculas.head()"
   ]
  },
  {
   "cell_type": "code",
   "execution_count": null,
   "metadata": {},
   "outputs": [],
   "source": [
    "inst_zona = df_matriculas[\"Nombre Institución\"].unique()"
   ]
  },
  {
   "cell_type": "code",
   "execution_count": null,
   "metadata": {},
   "outputs": [],
   "source": [
    "df_infra_zona = df_infra.loc[df_infra[\"Nombre de Institución\"].isin(inst_zona)]"
   ]
  },
  {
   "cell_type": "code",
   "execution_count": null,
   "metadata": {},
   "outputs": [],
   "source": [
    "BioBio = ['U. DEL BÍO-BÍO', 'U. DE CONCEPCIÓN','U. CATÓLICA DE LA SANTÍSIMA CONCEPCIÓN']\n",
    "BioBio_sedes = ['U. SAN SEBASTIÁN', 'U. DEL DESARROLLO','U. DE LAS AMÉRICAS', 'U. AUTÓNOMA DE CHILE', 'U. ANDRÉS BELLO']\n",
    "Ñuble = ['U. ADVENTISTA DE CHILE','U. DEL BÍO-BÍO','U. DE CONCEPCIÓN']\n",
    "Maule = ['U. CATÓLICA DEL MAULE','U. DE TALCA']\n",
    "OHiggins = ['U. DE O HIGGINS']\n"
   ]
  },
  {
   "cell_type": "code",
   "execution_count": null,
   "metadata": {},
   "outputs": [],
   "source": [
    "map_inst2zona = {'U. DEL BÍO-BÍO':'CENTRO SUR', 'U. DE CONCEPCIÓN':'CENTRO SUR',\n",
    "                 'U. CATÓLICA DE LA SANTÍSIMA CONCEPCIÓN':'CENTRO SUR'}"
   ]
  },
  {
   "cell_type": "code",
   "execution_count": null,
   "metadata": {},
   "outputs": [],
   "source": [
    "df_infra_zona['Measure Names'].unique()"
   ]
  },
  {
   "cell_type": "code",
   "execution_count": null,
   "metadata": {},
   "outputs": [],
   "source": [
    "df_infra_zona_mts2 = df_infra_zona.loc[df_infra_zona['Measure Names']=='Matrícula Total / Mts2 Laboratorios']\n",
    "df_infra_zona_nlabs = df_infra_zona.loc[df_infra_zona['Measure Names']=='Matrícula Total/N° de Laboratorios']\n"
   ]
  },
  {
   "cell_type": "code",
   "execution_count": null,
   "metadata": {},
   "outputs": [],
   "source": [
    "df_infra_zona_mts2.loc[:,\"Measure Values 2\"] = 1/df_infra_zona_mts2[\"Measure Values\"]"
   ]
  },
  {
   "cell_type": "code",
   "execution_count": null,
   "metadata": {
    "scrolled": true
   },
   "outputs": [],
   "source": [
    "df_infra_zona.loc[:,\"Mts2 Laboratorio/Matrícula Total\"] = 1/df_infra_zona.loc[df_infra_zona['Measure Names']=='Matrícula Total / Mts2 Laboratorios'][\"Measure Values\"]"
   ]
  },
  {
   "cell_type": "code",
   "execution_count": null,
   "metadata": {
    "scrolled": true
   },
   "outputs": [],
   "source": [
    "df_infra_zona.loc[df_infra_zona['Measure Names']=='Matrícula Total / Mts2 Laboratorios']"
   ]
  },
  {
   "cell_type": "code",
   "execution_count": null,
   "metadata": {},
   "outputs": [],
   "source": [
    "df_infra_zona.loc[df_infra_zona[\"Measure Names\"]==\"Matrícula Total/N° de Laboratorios\"]"
   ]
  },
  {
   "cell_type": "code",
   "execution_count": null,
   "metadata": {},
   "outputs": [],
   "source": [
    "## PLOT por regiones\n",
    "bars = alt.Chart(df_infra_zona_mts2).mark_bar(\n",
    "    cornerRadiusTopLeft=3,\n",
    "    cornerRadiusTopRight=3\n",
    ").encode(\n",
    "    y = alt.Y('Measure Values 2:Q',title=\"Mts2 Laboratorios/Matrícula Total\"),\n",
    "    x=alt.X('Nombre de Institución:O',title=\"Instituciones\",axis={\"labelAngle\":-90}),\n",
    "    color='Clasificación_D:N',\n",
    "    #column='Clasificación_D:N'\n",
    "\n",
    ").properties( width=700).resolve_scale(\n",
    "    #y='independent',\n",
    "    x='independent'\n",
    ").properties(\n",
    "    title=\"Mts2 de Laboratorio x Estudiante en Instituciones Chilenas (Macrozona Centro Sur)\",\n",
    "    \n",
    ").configure_title(fontSize=16,anchor=\"middle\")\n",
    "\n",
    "#bars.save(\"inst_estu_labs_macrozona.png\",scale_factor=2.0)\n",
    "bars"
   ]
  },
  {
   "cell_type": "code",
   "execution_count": null,
   "metadata": {
    "scrolled": false
   },
   "outputs": [],
   "source": [
    "## PLOT por regiones\n",
    "bars = alt.Chart(df_infra_zona.loc[df_infra_zona[\"Measure Names\"]==\"Matrícula Total/N° de Laboratorios\"]).mark_bar(\n",
    "    cornerRadiusTopLeft=3,\n",
    "    cornerRadiusTopRight=3\n",
    ").encode(\n",
    "    y = alt.Y('Measure Values:Q',title=\"Matrícula Total/N° de Laboratorios\"),\n",
    "    x=alt.X('Nombre de Institución:O',title=\"Institución\",axis={\"labelAngle\":-90}),\n",
    "    color='Clasificación_D:N',\n",
    "    #column='Clasificación_D:N'\n",
    "\n",
    ").properties( width=450).facet(\n",
    "    alt.Facet('Clasificación_D:O',title=None),\n",
    "    columns=2, center=True\n",
    ").resolve_scale(\n",
    "    #y='independent',\n",
    "    x='independent'\n",
    ").properties(\n",
    "    title=\"Estudiantes por Laboratorio de Universidades Chilenas\",\n",
    "    \n",
    ").configure_title(fontSize=16,anchor=\"middle\")\n",
    "\n",
    "#bars.save(\"ues_matricula_labs.png\",scale_factor=2.0)\n",
    "bars"
   ]
  },
  {
   "cell_type": "code",
   "execution_count": null,
   "metadata": {},
   "outputs": [],
   "source": [
    "df_matriculas"
   ]
  },
  {
   "cell_type": "code",
   "execution_count": null,
   "metadata": {},
   "outputs": [],
   "source": [
    "UDEC = df_infra.loc[df_infra['Nombre de Institución'] == 'U. DE CONCEPCIÓN']\n",
    "UBB  = df_infra.loc[df_infra['Nombre de Institución'] == 'U. DEL BÍO-BÍO']\n",
    "UCSC = df_infra.loc[df_infra['Nombre de Institución'] == 'U. CATÓLICA DE LA SANTÍSIMA CONCEPCIÓN']\n",
    "USS = df_infra.loc[df_infra['Nombre de Institución'] == 'U. SAN SEBASTIÁN']\n",
    "USS = df_infra.loc[df_infra['Nombre de Institución'] == 'U. DEL DESARROLLO']\n",
    "UNAB = df_infra.loc[df_infra['Nombre de Institución'] == 'U. ANDRÉS BELLO']\n",
    "INACAP = df_infra.loc[df_infra['Nombre de Institución'] == 'U. TECNOLÓGICA DE CHILE INACAP']\n",
    "\n",
    "UADV = df_infra.loc[df_infra['Nombre de Institución'] == 'U. ADVENTISTA DE CHILE']\n",
    "\n",
    "UCM  = df_infra.loc[df_infra['Nombre de Institución'] == 'U. CATÓLICA DEL MAULE']\n",
    "UTAL = df_infra.loc[df_infra['Nombre de Institución'] == 'U. DE TALCA']\n",
    "\n",
    "UOH  = df_infra.loc[df_infra['Nombre de Institución'] == 'U. DE O HIGGINS']\n",
    "\n",
    "UBB"
   ]
  },
  {
   "cell_type": "code",
   "execution_count": null,
   "metadata": {},
   "outputs": [],
   "source": [
    "df1_ues = df_infra.loc[df_infra[\"Clasificación_D\"].isin(df_infra[\"Clasificación_D\"].unique()[:-3])]\n",
    "df1_ues.head()"
   ]
  },
  {
   "cell_type": "code",
   "execution_count": null,
   "metadata": {},
   "outputs": [],
   "source": [
    "df1_ues[\"Nombre de Institución\"].unique()"
   ]
  },
  {
   "cell_type": "code",
   "execution_count": null,
   "metadata": {},
   "outputs": [],
   "source": [
    "## PLOT por regiones\n",
    "bars = alt.Chart(df1_ues.loc[df1_ues[\"Measure Names\"]==\"Matrícula Total/N° de Laboratorios\"]).mark_bar(\n",
    "    cornerRadiusTopLeft=3,\n",
    "    cornerRadiusTopRight=3\n",
    ").encode(\n",
    "    y = alt.Y('Measure Values:Q',title=\"Matrícula Total/N° de Laboratorios\"),\n",
    "    x=alt.X('Nombre de Institución:O',title=\"Institución\",axis={\"labelAngle\":-90}),\n",
    "    color='Clasificación_D:N',\n",
    "    #column='Clasificación_D:N'\n",
    "\n",
    ").properties( width=450).facet(\n",
    "    alt.Facet('Clasificación_D:O',title=None),\n",
    "    columns=2, center=True\n",
    ").resolve_scale(\n",
    "    #y='independent',\n",
    "    x='independent'\n",
    ").properties(\n",
    "    title=\"Matrículados por N°Laboratorios en Universidades Chilenas\",\n",
    "    \n",
    ").configure_title(fontSize=16,anchor=\"middle\")\n",
    "\n",
    "#bars.save(\"ues_matricula_labs.png\",scale_factor=2.0)\n",
    "bars"
   ]
  },
  {
   "cell_type": "markdown",
   "metadata": {},
   "source": [
    "# Matrículas"
   ]
  },
  {
   "cell_type": "code",
   "execution_count": null,
   "metadata": {},
   "outputs": [],
   "source": [
    "df_matriculas[\"Nombre Región\"].unique()"
   ]
  },
  {
   "cell_type": "code",
   "execution_count": null,
   "metadata": {},
   "outputs": [],
   "source": [
    "df_matriculas[\"Nombre Institución\"].unique()"
   ]
  },
  {
   "cell_type": "code",
   "execution_count": null,
   "metadata": {},
   "outputs": [],
   "source": [
    "df2 = pd.concat([df_matriculas.iloc[:, 0:17], df_matriculas['Matrícula total hombres']], axis=1, sort=False)\n",
    "df2['Género']='Masculino'\n",
    "df2.rename(columns={'Matrícula total hombres':'Matrícula total'}, inplace=True)\n",
    "df2.head()\n",
    "\n",
    "df3 = pd.concat([df_matriculas.iloc[:, 0:17], df_matriculas['Matrícula total mujeres']], axis=1, sort=False)\n",
    "df3['Género']='Femenino'\n",
    "df3.rename(columns={'Matrícula total mujeres':'Matrícula total'}, inplace=True)\n",
    "df4 = pd.concat([df2,df3])\n",
    "df5 = df4.loc[(df4['Tipo Institución'] == 'Univ.') & (df4['Año de Año'] == 2019)]\n",
    "df5.head()"
   ]
  },
  {
   "cell_type": "code",
   "execution_count": null,
   "metadata": {},
   "outputs": [],
   "source": [
    "import altair as alt\n",
    "alt.data_transformers.disable_max_rows()\n",
    "\n",
    "alt.Chart(df5).mark_bar(\n",
    "    cornerRadiusTopLeft=3,\n",
    "    cornerRadiusTopRight=3\n",
    ").encode(\n",
    "    y = alt.Y('sum(Matrícula total):Q'),\n",
    "    x='Nombre Institución:O',\n",
    "    color='Género:N',\n",
    "    #column='Nombre Región:N'\n",
    "    \n",
    ").facet(\n",
    "    facet=alt.Facet('Nombre Región:N', sort=['Región del BioBío', 'Región de Ñuble', 'Región del Maule','Región del Gral. B. O`Higgins'])\n",
    ").resolve_scale(\n",
    "  x='independent'\n",
    ")"
   ]
  },
  {
   "cell_type": "code",
   "execution_count": null,
   "metadata": {},
   "outputs": [],
   "source": [
    "# Normalizar por cada 100,000 habitantes y promediar 2017-2018-2019"
   ]
  },
  {
   "cell_type": "code",
   "execution_count": null,
   "metadata": {},
   "outputs": [],
   "source": [
    "# df_full = pd.read_csv(\"data/5_HT1_Infraestructura_Full_Data_data.csv\")\n",
    "# df_full_long = df_full.melt(value_name=\"Measure Values\",var_name=\"Measure Names\",\n",
    "#         id_vars=[\"Clasificación_D\",\"Nombre de Institución\",\"Regional Metropolitana\",\"Tipo IES\",\"Acreditacion\"])\n"
   ]
  },
  {
   "cell_type": "markdown",
   "metadata": {},
   "source": [
    "## "
   ]
  }
 ],
 "metadata": {
  "kernelspec": {
   "display_name": "Python 3",
   "language": "python",
   "name": "python3"
  },
  "language_info": {
   "codemirror_mode": {
    "name": "ipython",
    "version": 3
   },
   "file_extension": ".py",
   "mimetype": "text/x-python",
   "name": "python",
   "nbconvert_exporter": "python",
   "pygments_lexer": "ipython3",
   "version": "3.9.4"
  }
 },
 "nbformat": 4,
 "nbformat_minor": 4
}
